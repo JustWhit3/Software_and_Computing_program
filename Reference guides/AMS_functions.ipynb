{
 "cells": [
  {
   "cell_type": "markdown",
   "metadata": {},
   "source": [
    "# AMS Score"
   ]
  },
  {
   "cell_type": "markdown",
   "metadata": {},
   "source": [
    "## Definition\n",
    "AMS metric is used for the evaluation of my model. It is defined as:\n",
    "\n",
    "$AMS = \\sqrt{2 \\left( (s + b + b_{reg}) ln\\left(1 + \\dfrac{s}{b + b_{reg}} \\right) -s \\right)}$\n",
    "\n",
    "where:\n",
    "+ $s = \\sum_{i} w^{s}_{i}$ that is the unormalized sum of signal weights.\n",
    "+ $b = \\sum_{i} w^{b}_{i}$ that is the unormalized sum of background weights.\n",
    "+ $b_{reg} = 10$ is a regularization therm that reduces the variance of the AMS."
   ]
  },
  {
   "cell_type": "markdown",
   "metadata": {},
   "source": [
    "## Description of the functions\n",
    "For this have been defined two functions:\n",
    "\n",
    "1) `NN_output_to_AMS`: this function takes 4 arguments:\n",
    "+ \"x_cut\" is the cut parameter of the AMS. It ranges from 0.5 to 1 in steps of 0.1.\n",
    "+ \"predictions\" is a binary array, defined from the set of data that we're considering (for ex: validation set).\n",
    "+ \"label_vectors\" is a binary array constructed from the dataset, used for each model, that distinguishes an event between signal and background.\n",
    "+ \"weights\" this takes the weights associated to each data of my dataset (in my case the \"KaggleWeight\").\n",
    "\n",
    "2) `plot_AMS`: this function takes similar arguments of the previous one. It uses the previous one to plot the final result of the AMS."
   ]
  },
  {
   "cell_type": "code",
   "execution_count": null,
   "metadata": {},
   "outputs": [],
   "source": [
    "def NN_output_to_AMS(x_cut, predictions, label_vectors, weights):\n",
    "    \n",
    "    b_reg = 10\n",
    "    \n",
    "    s = sum(weights[(predictions[:,1] > x_cut)  & (label_vectors[:,1] ==1)])\n",
    "    b = sum(weights[(predictions[:,1] > x_cut)  & (label_vectors[:,1] ==0)])\n",
    "\n",
    "    AMS = np.sqrt(  2 *( (s + b + b_reg) * np.log(1 + s/(b + b_reg)) -s )  )\n",
    "    \n",
    "    return AMS\n",
    "\n",
    "\n",
    "def plot_AMS(predictions, label_vectors, weights):\n",
    "    x = np.arange(0.5,1,1e-2)\n",
    "    y = np.array(  [ NN_output_to_AMS(x_values, predictions, label_vectors, weights) for x_values in x ]  )\n",
    "    \n",
    "    plt.plot(x, y)\n",
    "    plt.xlabel('Cut Parameter')\n",
    "    plt.ylabel('AMS Score')\n",
    "    plt.grid()\n",
    "    \n",
    "    print('The best AMS Score is {:.3f} at a Cut Parameter of {:.2f}'.format(max(y), x[np.argmax(y)]))"
   ]
  }
 ],
 "metadata": {
  "kernelspec": {
   "display_name": "Python 3",
   "language": "python",
   "name": "python3"
  },
  "language_info": {
   "codemirror_mode": {
    "name": "ipython",
    "version": 3
   },
   "file_extension": ".py",
   "mimetype": "text/x-python",
   "name": "python",
   "nbconvert_exporter": "python",
   "pygments_lexer": "ipython3",
   "version": "3.6.9"
  }
 },
 "nbformat": 4,
 "nbformat_minor": 2
}
