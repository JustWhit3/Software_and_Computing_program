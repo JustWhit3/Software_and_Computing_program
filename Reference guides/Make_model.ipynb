{
 "cells": [
  {
   "cell_type": "markdown",
   "metadata": {},
   "source": [
    "# Make_model function\n",
    "At a certain point, in the code, has been defined a function, called `make_model`, in a way to avoid to repeat, everytime you define a new DNN moden, the same code.\n",
    "\n",
    "This function takes 7 arguments:\n",
    "+ \"layer_sizes\" is related to the size of the layers of the network. It takes a list of integers.\n",
    "+ \"activation\" is related to the activation function that you use. It takes a string with the name of the activation function.\n",
    "+ \"dropout rate\" this is the rate of the dropout, if 0, there will be no dropout.\n",
    "+ \"optimizer\" this takes a string with the name of the optimizer you want to use.\n",
    "+ \"regularization\" this takes a string with the name of the regularizer you want to use.\n",
    "+ \"input_dimension\" this takes the shape of the input data."
   ]
  },
  {
   "cell_type": "code",
   "execution_count": null,
   "metadata": {},
   "outputs": [],
   "source": [
    "def make_model(layer_sizes, activation, dropout_rate, optimizer, regularization, lambda_reg, input_dimension):\n",
    "    '''Creates model comprised of dense layers'''\n",
    "    model = Sequential()\n",
    "    \n",
    "    if regularization == 'L1':\n",
    "        regularizer = l1(lambda_reg)\n",
    "    elif regularization == 'L2':\n",
    "        regularizer = l2(lambda_reg)\n",
    "    \n",
    "    model.add(Dense(units=layer_sizes[0], activation=activation, kernel_regularizer=regularizer , input_dim= input_dimension))\n",
    "    \n",
    "    for layer_size in layer_sizes[1:]:\n",
    "        model.add(Dense(layer_size, activation=activation, kernel_regularizer=regularizer ))\n",
    "        model.add(Dropout(dropout_rate))\n",
    "    model.add(Dense(2))\n",
    "    model.add(Activation('softmax'))\n",
    "\n",
    "    model.compile(loss='binary_crossentropy', optimizer=optimizer, metrics=['accuracy'])\n",
    "\n",
    "    return model"
   ]
  },
  {
   "cell_type": "markdown",
   "metadata": {},
   "source": [
    "To works correctly in your code, you need to import this libraries:"
   ]
  },
  {
   "cell_type": "code",
   "execution_count": 3,
   "metadata": {},
   "outputs": [],
   "source": [
    "from keras.models import Sequential\n",
    "from keras.layers import Dense, Activation, Dropout\n",
    "from keras.regularizers import l1, l2\n",
    "from keras.callbacks.callbacks import EarlyStopping"
   ]
  }
 ],
 "metadata": {
  "kernelspec": {
   "display_name": "Python 3",
   "language": "python",
   "name": "python3"
  },
  "language_info": {
   "codemirror_mode": {
    "name": "ipython",
    "version": 3
   },
   "file_extension": ".py",
   "mimetype": "text/x-python",
   "name": "python",
   "nbconvert_exporter": "python",
   "pygments_lexer": "ipython3",
   "version": "3.6.9"
  }
 },
 "nbformat": 4,
 "nbformat_minor": 2
}
