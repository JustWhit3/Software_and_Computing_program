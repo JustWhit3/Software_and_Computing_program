{
 "cells": [
  {
   "cell_type": "markdown",
   "metadata": {},
   "source": [
    "# Plot Distributions\n",
    "There are two functions defined in my program: `plot_distributions` and `plot_distributions_final`.This functions are useful for the plotting of the distributions of each model. I'll define only the second one, because it's more complete and extended in respect to the first one.\n",
    "\n",
    "So, this one takes 7 arguments:\n",
    "+ \"prediction_val\" that are prediction data for the validation set. It's a 2-dim array.\n",
    "+ \"prediction_test\" that are prediction data for the test set. It's a 2-dim array.\n",
    "+ \"true_val\" that are the output data of the model (for the validation set). It's a 2-dim array.\n",
    "+ \"n_bins\" that are the number of bins (usually set to 50). It's an integer.\n",
    "+ \"weighted\" is a boolean variable set to be True if the histogram is weighted, otherwise if it's unweighted.\n",
    "+ \"weights_val\" in case in which my histogram is weighted this are the weights of the validation data.\n",
    "+ \"weights_test\" and this are the weights of the test data."
   ]
  },
  {
   "cell_type": "code",
   "execution_count": null,
   "metadata": {},
   "outputs": [],
   "source": [
    "def plot_distributions_final(prediction_val, prediction_test, true_val, n_bins, weighted, weights_val, weights_test):\n",
    "    \n",
    "    # Get histograms from our model\n",
    "    if weighted:\n",
    "        hist_b = np.histogram(prediction_val[:,1][true_val[:,0]==1], bins=n_bins, range=(0,1), \n",
    "                              weights=weights_val[true_val[:,0]==1])\n",
    "        hist_s = np.histogram(prediction_val[:,1][true_val[:,1]==1], bins=n_bins, range=(0,1), \n",
    "                              weights=weights_val[true_val[:,1]==1])      \n",
    "        hist_test = np.histogram(prediction_test[:,1], bins=n_bins,range=(0,1), weights=weights_test)\n",
    "        errorbar_test = np.sqrt(hist_test[0])\n",
    "    else:\n",
    "        hist_b = np.histogram(prediction_val[:,1][true_val[:,0]==1], bins=n_bins, range=(0,1))\n",
    "        hist_s = np.histogram(prediction_val[:,1][true_val[:,1]==1], bins=n_bins, range=(0,1))\n",
    "        hist_test = np.histogram(prediction_test[:,1], bins=n_bins, range=(0,1))\n",
    "        errorbar_test = np.sqrt(hist_test[0]/4.5)\n",
    "        \n",
    "\n",
    "    bin_edges = hist_b[1]\n",
    "    bin_centers = ( bin_edges[:-1] + bin_edges[1:]  ) /2\n",
    "    bin_widths = (bin_edges[1:] - bin_edges[:-1])\n",
    "\n",
    "    # Draw objects\n",
    "    ax = plt.subplot(111)\n",
    "    ax.bar(bin_centers, hist_b[0], bottom=hist_s[0], width=bin_widths, alpha=.9)\n",
    "    ax.bar(bin_centers, hist_s[0], width=bin_widths, alpha=.9)\n",
    "    if weighted:\n",
    "        plt.errorbar(bin_centers, hist_test[0], yerr = 5*errorbar_test, fmt = 'k.')\n",
    "    else:\n",
    "        plt.errorbar(bin_centers, hist_test[0]/4.5, yerr = 5*errorbar_test, fmt = 'k.')\n",
    "    plt.xlim(+.04,.96)\n",
    "\n",
    "    if weighted:\n",
    "        plt.title(\"Weighted\")\n",
    "        plt.legend(['Val. Background','Val. Signal',r'Test Set ($5 \\times$Errorbars)'])\n",
    "    else:\n",
    "        plt.title(\"Unweighted\")\n",
    "        plt.legend(['Val. Background','Val. Signal',r'Test Set ($5 \\times$Errorbars)'])\n",
    "    plt.xlabel(\"Model Output\")\n",
    "    plt.ylabel(\"Counts\")\n",
    "    plt.yscale('log')"
   ]
  }
 ],
 "metadata": {
  "kernelspec": {
   "display_name": "Python 3",
   "language": "python",
   "name": "python3"
  },
  "language_info": {
   "codemirror_mode": {
    "name": "ipython",
    "version": 3
   },
   "file_extension": ".py",
   "mimetype": "text/x-python",
   "name": "python",
   "nbconvert_exporter": "python",
   "pygments_lexer": "ipython3",
   "version": "3.6.9"
  }
 },
 "nbformat": 4,
 "nbformat_minor": 2
}
