{
 "cells": [
  {
   "cell_type": "markdown",
   "metadata": {},
   "source": [
    "# Higgs Boson Machine Learning Challenge"
   ]
  },
  {
   "cell_type": "code",
   "execution_count": 1,
   "metadata": {},
   "outputs": [],
   "source": [
    "import pandas as pd\n",
    "import matplotlib.pyplot as plt\n",
    "import numpy as np"
   ]
  },
  {
   "cell_type": "markdown",
   "metadata": {},
   "source": [
    "Loading the full Set:"
   ]
  },
  {
   "cell_type": "code",
   "execution_count": 2,
   "metadata": {},
   "outputs": [
    {
     "data": {
      "text/html": [
       "<div>\n",
       "<style scoped>\n",{
 "cells": [
  {
   "cell_type": "markdown",
   "metadata": {},
   "source": [
    "# Higgs Boson Machine Learning Classification"
   ]
  },
  {
   "cell_type": "markdown",
   "metadata": {},
   "source": [
    "## First let's have all the useful libraries:"
   ]
  },
  {
   "cell_type": "code",
   "execution_count": 32,
   "metadata": {},
   "outputs": [],
   "source": [
    "import pandas as pd\n",
    "from pandas.plotting import scatter_matrix\n",
    "\n",
    "import numpy as np\n",
    "\n",
    "import matplotlib as mpl\n",
    "from matplotlib import pyplot as plt\n",
    "from matplotlib import cm"
   ]
  },
  {
   "cell_type": "markdown",
   "metadata": {},
   "source": [
    "## Now let's have a look to the dataset"
   ]
  },
  {
   "cell_type": "code",
   "execution_count": 33,
   "metadata": {},
   "outputs": [
    {
     "data": {
      "text/html": [
       "<div>\n",
       "<style scoped>\n",
       "    .dataframe tbody tr th:only-of-type {\n",
       "        vertical-align: middle;\n",
       "    }\n",
       "\n",
       "    .dataframe tbody tr th {\n",
       "        vertical-align: top;\n",
       "    }\n",
       "\n",
       "    .dataframe thead th {\n",
       "        text-align: right;\n",
       "    }\n",
       "</style>\n",
       "<table border=\"1\" class=\"dataframe\">\n",
       "  <thead>\n",
       "    <tr style=\"text-align: right;\">\n",
       "      <th></th>\n",
       "      <th>EventId</th>\n",
       "      <th>DER_mass_MMC</th>\n",
       "      <th>DER_mass_transverse_met_lep</th>\n",
       "      <th>DER_mass_vis</th>\n",
       "      <th>DER_pt_h</th>\n",
       "      <th>DER_deltaeta_jet_jet</th>\n",
       "      <th>DER_mass_jet_jet</th>\n",
       "      <th>DER_prodeta_jet_jet</th>\n",
       "      <th>DER_deltar_tau_lep</th>\n",
       "      <th>DER_pt_tot</th>\n",
       "      <th>...</th>\n",
       "      <th>PRI_jet_leading_eta</th>\n",
       "      <th>PRI_jet_leading_phi</th>\n",
       "      <th>PRI_jet_subleading_pt</th>\n",
       "      <th>PRI_jet_subleading_eta</th>\n",
       "      <th>PRI_jet_subleading_phi</th>\n",
       "      <th>PRI_jet_all_pt</th>\n",
       "      <th>Weight</th>\n",
       "      <th>Label</th>\n",
       "      <th>KaggleSet</th>\n",
       "      <th>KaggleWeight</th>\n",
       "    </tr>\n",
       "  </thead>\n",
       "  <tbody>\n",
       "    <tr>\n",
       "      <th>0</th>\n",
       "      <td>100000</td>\n",
       "      <td>138.470</td>\n",
       "      <td>51.655</td>\n",
       "      <td>97.827</td>\n",
       "      <td>27.980</td>\n",
       "      <td>0.910</td>\n",
       "      <td>124.711</td>\n",
       "      <td>2.666</td>\n",
       "      <td>3.064</td>\n",
       "      <td>41.928</td>\n",
       "      <td>...</td>\n",
       "      <td>2.150</td>\n",
       "      <td>0.444</td>\n",
       "      <td>46.062</td>\n",
       "      <td>1.240</td>\n",
       "      <td>-2.475</td>\n",
       "      <td>113.497</td>\n",
       "      <td>0.000814</td>\n",
       "      <td>s</td>\n",
       "      <td>t</td>\n",
       "      <td>0.002653</td>\n",
       "    </tr>\n",
       "    <tr>\n",
       "      <th>1</th>\n",
       "      <td>100001</td>\n",
       "      <td>160.937</td>\n",
       "      <td>68.768</td>\n",
       "      <td>103.235</td>\n",
       "      <td>48.146</td>\n",
       "      <td>-999.000</td>\n",
       "      <td>-999.000</td>\n",
       "      <td>-999.000</td>\n",
       "      <td>3.473</td>\n",
       "      <td>2.078</td>\n",
       "      <td>...</td>\n",
       "      <td>0.725</td>\n",
       "      <td>1.158</td>\n",
       "      <td>-999.000</td>\n",
       "      <td>-999.000</td>\n",
       "      <td>-999.000</td>\n",
       "      <td>46.226</td>\n",
       "      <td>0.681042</td>\n",
       "      <td>b</td>\n",
       "      <td>t</td>\n",
       "      <td>2.233584</td>\n",
       "    </tr>\n",
       "    <tr>\n",
       "      <th>2</th>\n",
       "      <td>100002</td>\n",
       "      <td>-999.000</td>\n",
       "      <td>162.172</td>\n",
       "      <td>125.953</td>\n",
       "      <td>35.635</td>\n",
       "      <td>-999.000</td>\n",
       "      <td>-999.000</td>\n",
       "      <td>-999.000</td>\n",
       "      <td>3.148</td>\n",
       "      <td>9.336</td>\n",
       "      <td>...</td>\n",
       "      <td>2.053</td>\n",
       "      <td>-2.028</td>\n",
       "      <td>-999.000</td>\n",
       "      <td>-999.000</td>\n",
       "      <td>-999.000</td>\n",
       "      <td>44.251</td>\n",
       "      <td>0.715742</td>\n",
       "      <td>b</td>\n",
       "      <td>t</td>\n",
       "      <td>2.347389</td>\n",
       "    </tr>\n",
       "    <tr>\n",
       "      <th>3</th>\n",
       "      <td>100003</td>\n",
       "      <td>143.905</td>\n",
       "      <td>81.417</td>\n",
       "      <td>80.943</td>\n",
       "      <td>0.414</td>\n",
       "      <td>-999.000</td>\n",
       "      <td>-999.000</td>\n",
       "      <td>-999.000</td>\n",
       "      <td>3.310</td>\n",
       "      <td>0.414</td>\n",
       "      <td>...</td>\n",
       "      <td>-999.000</td>\n",
       "      <td>-999.000</td>\n",
       "      <td>-999.000</td>\n",
       "      <td>-999.000</td>\n",
       "      <td>-999.000</td>\n",
       "      <td>-0.000</td>\n",
       "      <td>1.660654</td>\n",
       "      <td>b</td>\n",
       "      <td>t</td>\n",
       "      <td>5.446378</td>\n",
       "    </tr>\n",
       "    <tr>\n",
       "      <th>4</th>\n",
       "      <td>100004</td>\n",
       "      <td>175.864</td>\n",
       "      <td>16.915</td>\n",
       "      <td>134.805</td>\n",
       "      <td>16.405</td>\n",
       "      <td>-999.000</td>\n",
       "      <td>-999.000</td>\n",
       "      <td>-999.000</td>\n",
       "      <td>3.891</td>\n",
       "      <td>16.405</td>\n",
       "      <td>...</td>\n",
       "      <td>-999.000</td>\n",
       "      <td>-999.000</td>\n",
       "      <td>-999.000</td>\n",
       "      <td>-999.000</td>\n",
       "      <td>-999.000</td>\n",
       "      <td>0.000</td>\n",
       "      <td>1.904263</td>\n",
       "      <td>b</td>\n",
       "      <td>t</td>\n",
       "      <td>6.245333</td>\n",
       "    </tr>\n",
       "    <tr>\n",
       "      <th>5</th>\n",
       "      <td>100005</td>\n",
       "      <td>89.744</td>\n",
       "      <td>13.550</td>\n",
       "      <td>59.149</td>\n",
       "      <td>116.344</td>\n",
       "      <td>2.636</td>\n",
       "      <td>284.584</td>\n",
       "      <td>-0.540</td>\n",
       "      <td>1.362</td>\n",
       "      <td>61.619</td>\n",
       "      <td>...</td>\n",
       "      <td>-2.412</td>\n",
       "      <td>-0.653</td>\n",
       "      <td>56.165</td>\n",
       "      <td>0.224</td>\n",
       "      <td>3.106</td>\n",
       "      <td>193.660</td>\n",
       "      <td>0.025434</td>\n",
       "      <td>b</td>\n",
       "      <td>t</td>\n",
       "      <td>0.083414</td>\n",
       "    </tr>\n",
       "    <tr>\n",
       "      <th>6</th>\n",
       "      <td>100006</td>\n",
       "      <td>148.754</td>\n",
       "      <td>28.862</td>\n",
       "      <td>107.782</td>\n",
       "      <td>106.130</td>\n",
       "      <td>0.733</td>\n",
       "      <td>158.359</td>\n",
       "      <td>0.113</td>\n",
       "      <td>2.941</td>\n",
       "      <td>2.545</td>\n",
       "      <td>...</td>\n",
       "      <td>0.864</td>\n",
       "      <td>1.450</td>\n",
       "      <td>56.867</td>\n",
       "      <td>0.131</td>\n",
       "      <td>-2.767</td>\n",
       "      <td>179.877</td>\n",
       "      <td>0.000814</td>\n",
       "      <td>s</td>\n",
       "      <td>t</td>\n",
       "      <td>0.002653</td>\n",
       "    </tr>\n",
       "    <tr>\n",
       "      <th>7</th>\n",
       "      <td>100007</td>\n",
       "      <td>154.916</td>\n",
       "      <td>10.418</td>\n",
       "      <td>94.714</td>\n",
       "      <td>29.169</td>\n",
       "      <td>-999.000</td>\n",
       "      <td>-999.000</td>\n",
       "      <td>-999.000</td>\n",
       "      <td>2.897</td>\n",
       "      <td>1.526</td>\n",
       "      <td>...</td>\n",
       "      <td>-0.715</td>\n",
       "      <td>-1.724</td>\n",
       "      <td>-999.000</td>\n",
       "      <td>-999.000</td>\n",
       "      <td>-999.000</td>\n",
       "      <td>30.638</td>\n",
       "      <td>0.005721</td>\n",
       "      <td>s</td>\n",
       "      <td>t</td>\n",
       "      <td>0.018636</td>\n",
       "    </tr>\n",
       "    <tr>\n",
       "      <th>8</th>\n",
       "      <td>100008</td>\n",
       "      <td>105.594</td>\n",
       "      <td>50.559</td>\n",
       "      <td>100.989</td>\n",
       "      <td>4.288</td>\n",
       "      <td>-999.000</td>\n",
       "      <td>-999.000</td>\n",
       "      <td>-999.000</td>\n",
       "      <td>2.904</td>\n",
       "      <td>4.288</td>\n",
       "      <td>...</td>\n",
       "      <td>-999.000</td>\n",
       "      <td>-999.000</td>\n",
       "      <td>-999.000</td>\n",
       "      <td>-999.000</td>\n",
       "      <td>-999.000</td>\n",
       "      <td>0.000</td>\n",
       "      <td>1.614803</td>\n",
       "      <td>b</td>\n",
       "      <td>t</td>\n",
       "      <td>5.296003</td>\n",
       "    </tr>\n",
       "    <tr>\n",
       "      <th>9</th>\n",
       "      <td>100009</td>\n",
       "      <td>128.053</td>\n",
       "      <td>88.941</td>\n",
       "      <td>69.272</td>\n",
       "      <td>193.392</td>\n",
       "      <td>-999.000</td>\n",
       "      <td>-999.000</td>\n",
       "      <td>-999.000</td>\n",
       "      <td>1.609</td>\n",
       "      <td>28.859</td>\n",
       "      <td>...</td>\n",
       "      <td>-2.767</td>\n",
       "      <td>-2.514</td>\n",
       "      <td>-999.000</td>\n",
       "      <td>-999.000</td>\n",
       "      <td>-999.000</td>\n",
       "      <td>167.735</td>\n",
       "      <td>0.000461</td>\n",
       "      <td>s</td>\n",
       "      <td>t</td>\n",
       "      <td>0.001502</td>\n",
       "    </tr>\n",
       "  </tbody>\n",
       "</table>\n",
       "<p>10 rows × 35 columns</p>\n",
       "</div>"
      ],
      "text/plain": [
       "   EventId  DER_mass_MMC  DER_mass_transverse_met_lep  DER_mass_vis  DER_pt_h  \\\n",
       "0   100000       138.470                       51.655        97.827    27.980   \n",
       "1   100001       160.937                       68.768       103.235    48.146   \n",
       "2   100002      -999.000                      162.172       125.953    35.635   \n",
       "3   100003       143.905                       81.417        80.943     0.414   \n",
       "4   100004       175.864                       16.915       134.805    16.405   \n",
       "5   100005        89.744                       13.550        59.149   116.344   \n",
       "6   100006       148.754                       28.862       107.782   106.130   \n",
       "7   100007       154.916                       10.418        94.714    29.169   \n",
       "8   100008       105.594                       50.559       100.989     4.288   \n",
       "9   100009       128.053                       88.941        69.272   193.392   \n",
       "\n",
       "   DER_deltaeta_jet_jet  DER_mass_jet_jet  DER_prodeta_jet_jet  \\\n",
       "0                 0.910           124.711                2.666   \n",
       "1              -999.000          -999.000             -999.000   \n",
       "2              -999.000          -999.000             -999.000   \n",
       "3              -999.000          -999.000             -999.000   \n",
       "4              -999.000          -999.000             -999.000   \n",
       "5                 2.636           284.584               -0.540   \n",
       "6                 0.733           158.359                0.113   \n",
       "7              -999.000          -999.000             -999.000   \n",
       "8              -999.000          -999.000             -999.000   \n",
       "9              -999.000          -999.000             -999.000   \n",
       "\n",
       "   DER_deltar_tau_lep  DER_pt_tot  ...  PRI_jet_leading_eta  \\\n",
       "0               3.064      41.928  ...                2.150   \n",
       "1               3.473       2.078  ...                0.725   \n",
       "2               3.148       9.336  ...                2.053   \n",
       "3               3.310       0.414  ...             -999.000   \n",
       "4               3.891      16.405  ...             -999.000   \n",
       "5               1.362      61.619  ...               -2.412   \n",
       "6               2.941       2.545  ...                0.864   \n",
       "7               2.897       1.526  ...               -0.715   \n",
       "8               2.904       4.288  ...             -999.000   \n",
       "9               1.609      28.859  ...               -2.767   \n",
       "\n",
       "   PRI_jet_leading_phi  PRI_jet_subleading_pt  PRI_jet_subleading_eta  \\\n",
       "0                0.444                 46.062                   1.240   \n",
       "1                1.158               -999.000                -999.000   \n",
       "2               -2.028               -999.000                -999.000   \n",
       "3             -999.000               -999.000                -999.000   \n",
       "4             -999.000               -999.000                -999.000   \n",
       "5               -0.653                 56.165                   0.224   \n",
       "6                1.450                 56.867                   0.131   \n",
       "7               -1.724               -999.000                -999.000   \n",
       "8             -999.000               -999.000                -999.000   \n",
       "9               -2.514               -999.000                -999.000   \n",
       "\n",
       "   PRI_jet_subleading_phi  PRI_jet_all_pt    Weight  Label  KaggleSet  \\\n",
       "0                  -2.475         113.497  0.000814      s          t   \n",
       "1                -999.000          46.226  0.681042      b          t   \n",
       "2                -999.000          44.251  0.715742      b          t   \n",
       "3                -999.000          -0.000  1.660654      b          t   \n",
       "4                -999.000           0.000  1.904263      b          t   \n",
       "5                   3.106         193.660  0.025434      b          t   \n",
       "6                  -2.767         179.877  0.000814      s          t   \n",
       "7                -999.000          30.638  0.005721      s          t   \n",
       "8                -999.000           0.000  1.614803      b          t   \n",
       "9                -999.000         167.735  0.000461      s          t   \n",
       "\n",
       "   KaggleWeight  \n",
       "0      0.002653  \n",
       "1      2.233584  \n",
       "2      2.347389  \n",
       "3      5.446378  \n",
       "4      6.245333  \n",
       "5      0.083414  \n",
       "6      0.002653  \n",
       "7      0.018636  \n",
       "8      5.296003  \n",
       "9      0.001502  \n",
       "\n",
       "[10 rows x 35 columns]"
      ]
     },
     "execution_count": 33,
     "metadata": {},
     "output_type": "execute_result"
    }
   ],
   "source": [
    "data_full = pd.read_csv('dataset_higgs_challenge.csv')\n",
    "data_full.head(10)"
   ]
  },
  {
   "cell_type": "code",
   "execution_count": 34,
   "metadata": {},
   "outputs": [
    {
     "name": "stdout",
     "output_type": "stream",
     "text": [
      "Total number of events:  818238 \n",
      "\n",
      "Number of events in the t KaggleSet: 250000\n",
      "Number of events in the b KaggleSet: 100000\n",
      "Number of events in the v KaggleSet: 450000\n",
      "Number of events in the u KaggleSet: 18238\n"
     ]
    }
   ],
   "source": [
    "print('Total number of events: ', len(data_full), '\\n')\n",
    "for KaggleSetID in ['t', 'b', 'v', 'u']:\n",
    "    print('Number of events in the {} KaggleSet: {}'\n",
    "          .format(KaggleSetID, len(data_full['KaggleSet'][data_full['KaggleSet']==KaggleSetID])))"
   ]
  },
  {
   "cell_type": "markdown",
   "metadata": {},
   "source": [
    "## Now let's split the data into training and validation set"
   ]
  },
  {
   "cell_type": "code",
   "execution_count": 35,
   "metadata": {},
   "outputs": [
    {
     "data": {
      "text/plain": [
       "(250000, 100000)"
      ]
     },
     "execution_count": 35,
     "metadata": {},
     "output_type": "execute_result"
    }
   ],
   "source": [
    "train_data = data_full[data_full['KaggleSet']=='t']\n",
    "validation_data = data_full[data_full['KaggleSet']=='b']\n",
    "\n",
    "y_train = pd.get_dummies(train_data['Label']).values.astype(float) #signal = [0,1], background = [1,0]\n",
    "y_val = pd.get_dummies(validation_data['Label']).values.astype(float)\n",
    "\n",
    "len(train_data), len(validation_data)"
   ]
  },
  {
   "cell_type": "markdown",
   "metadata": {},
   "source": [
    "## Ok first let's try to perform cuts on unuseful variables"
   ]
  },
  {
   "cell_type": "markdown",
   "metadata": {},
   "source": [
    "First I cut off all the data that have:\n",
    "\n",
    "1) Meaningless values (-999) on the jets.\n",
    "\n",
    "2) Number of jets < 2.\n",
    "\n",
    "And of course i put all the VBF cuts (for now i classify just using VBF data)."
   ]
  },
  {
   "cell_type": "code",
   "execution_count": 36,
   "metadata": {},
   "outputs": [],
   "source": [
    "X = train_data.iloc[:,1:-4]\n",
    "X_val = validation_data.iloc[:,1:-4]\n",
    "\n",
    "X_2jets = X[ X['PRI_jet_num']==0 ].drop(['DER_deltaeta_jet_jet', 'DER_mass_jet_jet', 'DER_prodeta_jet_jet', \n",
    "                                         'DER_lep_eta_centrality', 'PRI_jet_num', 'PRI_jet_leading_pt', \n",
    "                                         'PRI_jet_leading_eta', 'PRI_jet_leading_phi', 'PRI_jet_subleading_pt', \n",
    "                                         'PRI_jet_subleading_eta', 'PRI_jet_subleading_phi', 'PRI_jet_all_pt'], \n",
    "                                        axis =1)\n",
    "\n",
    "X_2jets = X[ X['PRI_jet_num']>=2 ]\n",
    "X_val_2jets = X_val[ X_val['PRI_jet_num']>=2 ]\n",
    "X_VBF = X_2jets [ (X_2jets['PRI_jet_leading_pt'] >= 50) & (X_2jets['PRI_jet_subleading_pt'] >= 30) & \n",
    "                 (X_2jets['DER_deltaeta_jet_jet'] >= 3) & (X_2jets['DER_mass_vis']>=40) ]\n",
    "X_val_VBF = X_val_2jets [ (X_val_2jets['PRI_jet_leading_pt'] >= 50) & (X_val_2jets['PRI_jet_subleading_pt'] >= 30)\n",
    "                         & (X_val_2jets['DER_deltaeta_jet_jet'] >= 3) & (X_val_2jets['DER_mass_vis']>=40) ]\n",
    "\n",
    "\n",
    "y_train_2jets = y_train[ X['PRI_jet_num']>=2 ]\n",
    "y_val_2jets = y_val[ X_val['PRI_jet_num']>=2 ]\n",
    "y_train_VBF = y_train_2jets [ (X_2jets['PRI_jet_leading_pt'] >= 50) & (X_2jets['PRI_jet_subleading_pt'] >= 30) &\n",
    "                             (X_2jets['DER_deltaeta_jet_jet'] >= 3) & (X_2jets['DER_mass_vis']>=40) ]\n",
    "y_val_VBF = y_val_2jets [ (X_val_2jets['PRI_jet_leading_pt'] >= 50) & (X_val_2jets['PRI_jet_subleading_pt'] >= 30) \n",
    "                         & (X_val_2jets['DER_deltaeta_jet_jet'] >= 3) & (X_val_2jets['DER_mass_vis']>=40) ]"
   ]
  },
  {
   "cell_type": "code",
   "execution_count": 37,
   "metadata": {
    "scrolled": true
   },
   "outputs": [
    {
     "data": {
      "text/plain": [
       "21257"
      ]
     },
     "execution_count": 37,
     "metadata": {},
     "output_type": "execute_result"
    }
   ],
   "source": [
    "len (X_VBF)"
   ]
  },
  {
   "cell_type": "code",
   "execution_count": 38,
   "metadata": {},
   "outputs": [
    {
     "data": {
      "text/plain": [
       "8489"
      ]
     },
     "execution_count": 38,
     "metadata": {},
     "output_type": "execute_result"
    }
   ],
   "source": [
    "len (X_val_VBF)"
   ]
  },
  {
   "cell_type": "code",
   "execution_count": 39,
   "metadata": {},
   "outputs": [
    {
     "data": {
      "text/plain": [
       "21257"
      ]
     },
     "execution_count": 39,
     "metadata": {},
     "output_type": "execute_result"
    }
   ],
   "source": [
    "len(y_train_VBF)"
   ]
  },
  {
   "cell_type": "code",
   "execution_count": 40,
   "metadata": {},
   "outputs": [
    {
     "data": {
      "text/plain": [
       "8489"
      ]
     },
     "execution_count": 40,
     "metadata": {},
     "output_type": "execute_result"
    }
   ],
   "source": [
    "len(y_val_VBF)"
   ]
  },
  {
   "cell_type": "markdown",
   "metadata": {},
   "source": [
    "## Let's perform a scaling of input variables\n"
   ]
  },
  {
   "cell_type": "code",
   "execution_count": 42,
   "metadata": {},
   "outputs": [],
   "source": [
    "from sklearn.preprocessing import StandardScaler #This is the best one (I tried also other of course)\n",
    "minmax_VBF = StandardScaler()\n",
    "minmax_VBF.fit(X_VBF)\n",
    "X_VBF_minmax = minmax_VBF.transform(X_VBF)\n",
    "X_val_VBF_minmax = minmax_VBF.transform(X_val_VBF)\n",
    "\n",
    "#validation set needs to be scaled right?"
   ]
  },
  {
   "cell_type": "markdown",
   "metadata": {},
   "source": [
    "## Now let's use a DNN"
   ]
  },
  {
   "cell_type": "code",
   "execution_count": 43,
   "metadata": {},
   "outputs": [
    {
     "name": "stdout",
     "output_type": "stream",
     "text": [
      "Model: \"sequential_6\"\n",
      "_________________________________________________________________\n",
      "Layer (type)                 Output Shape              Param #   \n",
      "=================================================================\n",
      "dense_36 (Dense)             (None, 128)               3968      \n",
      "_________________________________________________________________\n",
      "dropout_31 (Dropout)         (None, 128)               0         \n",
      "_________________________________________________________________\n",
      "dense_37 (Dense)             (None, 64)                8256      \n",
      "_________________________________________________________________\n",
      "dropout_32 (Dropout)         (None, 64)                0         \n",
      "_________________________________________________________________\n",
      "dense_38 (Dense)             (None, 32)                2080      \n",
      "_________________________________________________________________\n",
      "dropout_33 (Dropout)         (None, 32)                0         \n",
      "_________________________________________________________________\n",
      "dense_39 (Dense)             (None, 16)                528       \n",
      "_________________________________________________________________\n",
      "dropout_34 (Dropout)         (None, 16)                0         \n",
      "_________________________________________________________________\n",
      "dense_40 (Dense)             (None, 8)                 136       \n",
      "_________________________________________________________________\n",
      "dropout_35 (Dropout)         (None, 8)                 0         \n",
      "_________________________________________________________________\n",
      "dense_41 (Dense)             (None, 4)                 36        \n",
      "_________________________________________________________________\n",
      "dropout_36 (Dropout)         (None, 4)                 0         \n",
      "_________________________________________________________________\n",
      "dense_42 (Dense)             (None, 2)                 10        \n",
      "=================================================================\n",
      "Total params: 15,014\n",
      "Trainable params: 15,014\n",
      "Non-trainable params: 0\n",
      "_________________________________________________________________\n"
     ]
    }
   ],
   "source": [
    "from keras.models import Sequential\n",
    "from keras.layers import Dense, Activation\n",
    "from keras import regularizers\n",
    "from keras.regularizers import l1\n",
    "from keras.layers import Dropout\n",
    "#Too much higher validation loss in data. So i added a regularizer.\n",
    "#I added also dropout to have better shape. \n",
    "\n",
    "model_1 = Sequential()\n",
    "l1_lambda = 0.0001\n",
    "dropout=0.2\n",
    "model_1.add(Dense(units=128, activation='relu', kernel_regularizer=l1(l1_lambda), input_dim=30))\n",
    "model_1.add(Dropout(dropout))\n",
    "model_1.add(Dense(units=64, activation='relu', kernel_regularizer=l1(l1_lambda)))\n",
    "model_1.add(Dropout(dropout))\n",
    "model_1.add(Dense(units=32, activation='relu', kernel_regularizer=l1(l1_lambda)))\n",
    "model_1.add(Dropout(dropout))\n",
    "model_1.add(Dense(units=16, activation='relu', kernel_regularizer=l1(l1_lambda)))\n",
    "model_1.add(Dropout(dropout))\n",
    "model_1.add(Dense(units=8, activation='relu', kernel_regularizer=l1(l1_lambda)))\n",
    "model_1.add(Dropout(dropout))\n",
    "model_1.add(Dense(units=4, activation='relu', kernel_regularizer=l1(l1_lambda)))\n",
    "model_1.add(Dropout(dropout))\n",
    "model_1.add(Dense(units=2, activation='softmax'))\n",
    "\n",
    "model_1.summary()"
   ]
  },
  {
   "cell_type": "code",
   "execution_count": 44,
   "metadata": {},
   "outputs": [],
   "source": [
    "model_1.compile(optimizer='adagrad', #adagrad is the best one for this classification.\n",
    "              loss='categorical_crossentropy', #This seems one of the best loss function.\n",
    "              metrics=['accuracy'])"
   ]
  },
  {
   "cell_type": "code",
   "execution_count": 45,
   "metadata": {},
   "outputs": [
    {
     "name": "stdout",
     "output_type": "stream",
     "text": [
      "Train on 21257 samples, validate on 8489 samples\n",
      "Epoch 1/130\n",
      "21257/21257 [==============================] - 1s 25us/step - loss: 0.6739 - accuracy: 0.7341 - val_loss: 0.5423 - val_accuracy: 0.8278\n",
      "Epoch 2/130\n",
      "21257/21257 [==============================] - 0s 13us/step - loss: 0.5765 - accuracy: 0.7993 - val_loss: 0.4805 - val_accuracy: 0.8497\n",
      "Epoch 3/130\n",
      "21257/21257 [==============================] - 0s 13us/step - loss: 0.5283 - accuracy: 0.8240 - val_loss: 0.4557 - val_accuracy: 0.8588\n",
      "Epoch 4/130\n",
      "21257/21257 [==============================] - 0s 13us/step - loss: 0.5079 - accuracy: 0.8345 - val_loss: 0.4418 - val_accuracy: 0.8618\n",
      "Epoch 5/130\n",
      "21257/21257 [==============================] - 0s 13us/step - loss: 0.4935 - accuracy: 0.8396 - val_loss: 0.4345 - val_accuracy: 0.8637\n",
      "Epoch 6/130\n",
      "21257/21257 [==============================] - 0s 13us/step - loss: 0.4849 - accuracy: 0.8430 - val_loss: 0.4266 - val_accuracy: 0.8652\n",
      "Epoch 7/130\n",
      "21257/21257 [==============================] - 0s 12us/step - loss: 0.4738 - accuracy: 0.8454 - val_loss: 0.4209 - val_accuracy: 0.8656\n",
      "Epoch 8/130\n",
      "21257/21257 [==============================] - 0s 11us/step - loss: 0.4625 - accuracy: 0.8499 - val_loss: 0.4147 - val_accuracy: 0.8675\n",
      "Epoch 9/130\n",
      "21257/21257 [==============================] - 0s 13us/step - loss: 0.4570 - accuracy: 0.8531 - val_loss: 0.4135 - val_accuracy: 0.8705\n",
      "Epoch 10/130\n",
      "21257/21257 [==============================] - 0s 13us/step - loss: 0.4592 - accuracy: 0.8522 - val_loss: 0.4099 - val_accuracy: 0.8667\n",
      "Epoch 11/130\n",
      "21257/21257 [==============================] - 0s 13us/step - loss: 0.4519 - accuracy: 0.8547 - val_loss: 0.4048 - val_accuracy: 0.8677\n",
      "Epoch 12/130\n",
      "21257/21257 [==============================] - 0s 13us/step - loss: 0.4492 - accuracy: 0.8545 - val_loss: 0.4040 - val_accuracy: 0.8715\n",
      "Epoch 13/130\n",
      "21257/21257 [==============================] - 0s 13us/step - loss: 0.4459 - accuracy: 0.8544 - val_loss: 0.4028 - val_accuracy: 0.8727\n",
      "Epoch 14/130\n",
      "21257/21257 [==============================] - 0s 13us/step - loss: 0.4389 - accuracy: 0.8568 - val_loss: 0.3977 - val_accuracy: 0.8715\n",
      "Epoch 15/130\n",
      "21257/21257 [==============================] - 0s 13us/step - loss: 0.4347 - accuracy: 0.8615 - val_loss: 0.3945 - val_accuracy: 0.8721\n",
      "Epoch 16/130\n",
      "21257/21257 [==============================] - 0s 12us/step - loss: 0.4350 - accuracy: 0.8616 - val_loss: 0.3947 - val_accuracy: 0.8717\n",
      "Epoch 17/130\n",
      "21257/21257 [==============================] - 0s 12us/step - loss: 0.4280 - accuracy: 0.8657 - val_loss: 0.3926 - val_accuracy: 0.8729\n",
      "Epoch 18/130\n",
      "21257/21257 [==============================] - 0s 13us/step - loss: 0.4289 - accuracy: 0.8629 - val_loss: 0.3899 - val_accuracy: 0.8736\n",
      "Epoch 19/130\n",
      "21257/21257 [==============================] - 0s 13us/step - loss: 0.4261 - accuracy: 0.8632 - val_loss: 0.3891 - val_accuracy: 0.8735\n",
      "Epoch 20/130\n",
      "21257/21257 [==============================] - 0s 12us/step - loss: 0.4268 - accuracy: 0.8630 - val_loss: 0.3880 - val_accuracy: 0.8745\n",
      "Epoch 21/130\n",
      "21257/21257 [==============================] - 0s 13us/step - loss: 0.4255 - accuracy: 0.8629 - val_loss: 0.3870 - val_accuracy: 0.8732\n",
      "Epoch 22/130\n",
      "21257/21257 [==============================] - 0s 13us/step - loss: 0.4224 - accuracy: 0.8628 - val_loss: 0.3867 - val_accuracy: 0.8748\n",
      "Epoch 23/130\n",
      "21257/21257 [==============================] - 0s 13us/step - loss: 0.4151 - accuracy: 0.8630 - val_loss: 0.3855 - val_accuracy: 0.8751\n",
      "Epoch 24/130\n",
      "21257/21257 [==============================] - 0s 13us/step - loss: 0.4166 - accuracy: 0.8663 - val_loss: 0.3835 - val_accuracy: 0.8757\n",
      "Epoch 25/130\n",
      "21257/21257 [==============================] - 0s 13us/step - loss: 0.4140 - accuracy: 0.8656 - val_loss: 0.3811 - val_accuracy: 0.8754\n",
      "Epoch 26/130\n",
      "21257/21257 [==============================] - 0s 12us/step - loss: 0.4128 - accuracy: 0.8679 - val_loss: 0.3801 - val_accuracy: 0.8756\n",
      "Epoch 27/130\n",
      "21257/21257 [==============================] - 0s 13us/step - loss: 0.4112 - accuracy: 0.8668 - val_loss: 0.3787 - val_accuracy: 0.8762\n",
      "Epoch 28/130\n",
      "21257/21257 [==============================] - 0s 13us/step - loss: 0.4133 - accuracy: 0.8658 - val_loss: 0.3787 - val_accuracy: 0.8767\n",
      "Epoch 29/130\n",
      "21257/21257 [==============================] - 0s 12us/step - loss: 0.4096 - accuracy: 0.8658 - val_loss: 0.3777 - val_accuracy: 0.8749\n",
      "Epoch 30/130\n",
      "21257/21257 [==============================] - 0s 12us/step - loss: 0.4056 - accuracy: 0.8679 - val_loss: 0.3761 - val_accuracy: 0.8767\n",
      "Epoch 31/130\n",
      "21257/21257 [==============================] - 0s 12us/step - loss: 0.4081 - accuracy: 0.8664 - val_loss: 0.3750 - val_accuracy: 0.8754\n",
      "Epoch 32/130\n",
      "21257/21257 [==============================] - 0s 13us/step - loss: 0.4077 - accuracy: 0.8673 - val_loss: 0.3741 - val_accuracy: 0.8750\n",
      "Epoch 33/130\n",
      "21257/21257 [==============================] - 0s 13us/step - loss: 0.4054 - accuracy: 0.8667 - val_loss: 0.3741 - val_accuracy: 0.8755\n",
      "Epoch 34/130\n",
      "21257/21257 [==============================] - 0s 13us/step - loss: 0.4035 - accuracy: 0.8681 - val_loss: 0.3731 - val_accuracy: 0.8757\n",
      "Epoch 35/130\n",
      "21257/21257 [==============================] - 0s 12us/step - loss: 0.3997 - accuracy: 0.8707 - val_loss: 0.3717 - val_accuracy: 0.8742\n",
      "Epoch 36/130\n",
      "21257/21257 [==============================] - 0s 12us/step - loss: 0.4015 - accuracy: 0.8662 - val_loss: 0.3704 - val_accuracy: 0.8756\n",
      "Epoch 37/130\n",
      "21257/21257 [==============================] - 0s 13us/step - loss: 0.3956 - accuracy: 0.8696 - val_loss: 0.3699 - val_accuracy: 0.8756\n",
      "Epoch 38/130\n",
      "21257/21257 [==============================] - 0s 13us/step - loss: 0.4016 - accuracy: 0.8686 - val_loss: 0.3700 - val_accuracy: 0.8762\n",
      "Epoch 39/130\n",
      "21257/21257 [==============================] - 0s 12us/step - loss: 0.3970 - accuracy: 0.8700 - val_loss: 0.3685 - val_accuracy: 0.8763\n",
      "Epoch 40/130\n",
      "21257/21257 [==============================] - 0s 12us/step - loss: 0.3966 - accuracy: 0.8692 - val_loss: 0.3674 - val_accuracy: 0.8754\n",
      "Epoch 41/130\n",
      "21257/21257 [==============================] - 0s 13us/step - loss: 0.3938 - accuracy: 0.8711 - val_loss: 0.3673 - val_accuracy: 0.8756\n",
      "Epoch 42/130\n",
      "21257/21257 [==============================] - 0s 13us/step - loss: 0.3961 - accuracy: 0.8709 - val_loss: 0.3680 - val_accuracy: 0.8756\n",
      "Epoch 43/130\n",
      "21257/21257 [==============================] - 0s 12us/step - loss: 0.3929 - accuracy: 0.8729 - val_loss: 0.3670 - val_accuracy: 0.8763\n",
      "Epoch 44/130\n",
      "21257/21257 [==============================] - 0s 13us/step - loss: 0.3941 - accuracy: 0.8722 - val_loss: 0.3671 - val_accuracy: 0.8773\n",
      "Epoch 45/130\n",
      "21257/21257 [==============================] - 0s 13us/step - loss: 0.3857 - accuracy: 0.8738 - val_loss: 0.3641 - val_accuracy: 0.8747\n",
      "Epoch 46/130\n",
      "21257/21257 [==============================] - 0s 12us/step - loss: 0.3917 - accuracy: 0.8703 - val_loss: 0.3653 - val_accuracy: 0.8768\n",
      "Epoch 47/130\n",
      "21257/21257 [==============================] - 0s 13us/step - loss: 0.3915 - accuracy: 0.8716 - val_loss: 0.3640 - val_accuracy: 0.8770\n",
      "Epoch 48/130\n",
      "21257/21257 [==============================] - 0s 13us/step - loss: 0.3860 - accuracy: 0.8731 - val_loss: 0.3628 - val_accuracy: 0.8755\n",
      "Epoch 49/130\n",
      "21257/21257 [==============================] - 0s 13us/step - loss: 0.3897 - accuracy: 0.8710 - val_loss: 0.3633 - val_accuracy: 0.8768\n",
      "Epoch 50/130\n",
      "21257/21257 [==============================] - 0s 13us/step - loss: 0.3896 - accuracy: 0.8728 - val_loss: 0.3650 - val_accuracy: 0.8784\n",
      "Epoch 51/130\n",
      "21257/21257 [==============================] - 0s 13us/step - loss: 0.3877 - accuracy: 0.8720 - val_loss: 0.3649 - val_accuracy: 0.8787\n",
      "Epoch 52/130\n",
      "21257/21257 [==============================] - 0s 12us/step - loss: 0.3877 - accuracy: 0.8745 - val_loss: 0.3640 - val_accuracy: 0.8785\n",
      "Epoch 53/130\n",
      "21257/21257 [==============================] - 0s 11us/step - loss: 0.3879 - accuracy: 0.8737 - val_loss: 0.3606 - val_accuracy: 0.8774\n",
      "Epoch 54/130\n",
      "21257/21257 [==============================] - 0s 12us/step - loss: 0.3798 - accuracy: 0.8731 - val_loss: 0.3605 - val_accuracy: 0.8773\n",
      "Epoch 55/130\n",
      "21257/21257 [==============================] - 0s 13us/step - loss: 0.3871 - accuracy: 0.8713 - val_loss: 0.3606 - val_accuracy: 0.8784\n"
     ]
    },
    {
     "name": "stdout",
     "output_type": "stream",
     "text": [
      "Epoch 56/130\n",
      "21257/21257 [==============================] - 0s 12us/step - loss: 0.3849 - accuracy: 0.8731 - val_loss: 0.3601 - val_accuracy: 0.8764\n",
      "Epoch 57/130\n",
      "21257/21257 [==============================] - 0s 13us/step - loss: 0.3858 - accuracy: 0.8706 - val_loss: 0.3599 - val_accuracy: 0.8776\n",
      "Epoch 58/130\n",
      "21257/21257 [==============================] - 0s 13us/step - loss: 0.3807 - accuracy: 0.8753 - val_loss: 0.3591 - val_accuracy: 0.8782\n",
      "Epoch 59/130\n",
      "21257/21257 [==============================] - 0s 13us/step - loss: 0.3814 - accuracy: 0.8761 - val_loss: 0.3580 - val_accuracy: 0.8767\n",
      "Epoch 60/130\n",
      "21257/21257 [==============================] - 0s 13us/step - loss: 0.3816 - accuracy: 0.8735 - val_loss: 0.3571 - val_accuracy: 0.8769\n",
      "Epoch 61/130\n",
      "21257/21257 [==============================] - 0s 13us/step - loss: 0.3796 - accuracy: 0.8753 - val_loss: 0.3595 - val_accuracy: 0.8775\n",
      "Epoch 62/130\n",
      "21257/21257 [==============================] - 0s 13us/step - loss: 0.3764 - accuracy: 0.8742 - val_loss: 0.3571 - val_accuracy: 0.8762\n",
      "Epoch 63/130\n",
      "21257/21257 [==============================] - 0s 14us/step - loss: 0.3776 - accuracy: 0.8766 - val_loss: 0.3576 - val_accuracy: 0.8764\n",
      "Epoch 64/130\n",
      "21257/21257 [==============================] - 0s 14us/step - loss: 0.3782 - accuracy: 0.8725 - val_loss: 0.3571 - val_accuracy: 0.8765\n",
      "Epoch 65/130\n",
      "21257/21257 [==============================] - 0s 14us/step - loss: 0.3789 - accuracy: 0.8752 - val_loss: 0.3567 - val_accuracy: 0.8768\n",
      "Epoch 66/130\n",
      "21257/21257 [==============================] - 0s 12us/step - loss: 0.3756 - accuracy: 0.8739 - val_loss: 0.3573 - val_accuracy: 0.8769\n",
      "Epoch 67/130\n",
      "21257/21257 [==============================] - 0s 13us/step - loss: 0.3784 - accuracy: 0.8743 - val_loss: 0.3567 - val_accuracy: 0.8780\n",
      "Epoch 68/130\n",
      "21257/21257 [==============================] - 0s 12us/step - loss: 0.3736 - accuracy: 0.8744 - val_loss: 0.3551 - val_accuracy: 0.8768\n",
      "Epoch 69/130\n",
      "21257/21257 [==============================] - 0s 14us/step - loss: 0.3762 - accuracy: 0.8730 - val_loss: 0.3561 - val_accuracy: 0.8764\n",
      "Epoch 70/130\n",
      "21257/21257 [==============================] - 0s 12us/step - loss: 0.3753 - accuracy: 0.8757 - val_loss: 0.3550 - val_accuracy: 0.8782\n",
      "Epoch 71/130\n",
      "21257/21257 [==============================] - 0s 13us/step - loss: 0.3753 - accuracy: 0.8760 - val_loss: 0.3551 - val_accuracy: 0.8765\n",
      "Epoch 72/130\n",
      "21257/21257 [==============================] - 0s 13us/step - loss: 0.3732 - accuracy: 0.8757 - val_loss: 0.3547 - val_accuracy: 0.8767\n",
      "Epoch 73/130\n",
      "21257/21257 [==============================] - 0s 13us/step - loss: 0.3729 - accuracy: 0.8767 - val_loss: 0.3531 - val_accuracy: 0.8765\n",
      "Epoch 74/130\n",
      "21257/21257 [==============================] - 0s 13us/step - loss: 0.3714 - accuracy: 0.8742 - val_loss: 0.3546 - val_accuracy: 0.8773\n",
      "Epoch 75/130\n",
      "21257/21257 [==============================] - 0s 13us/step - loss: 0.3738 - accuracy: 0.8762 - val_loss: 0.3528 - val_accuracy: 0.8767\n",
      "Epoch 76/130\n",
      "21257/21257 [==============================] - 0s 12us/step - loss: 0.3712 - accuracy: 0.8751 - val_loss: 0.3536 - val_accuracy: 0.8769\n",
      "Epoch 77/130\n",
      "21257/21257 [==============================] - 0s 13us/step - loss: 0.3686 - accuracy: 0.8756 - val_loss: 0.3542 - val_accuracy: 0.8761\n",
      "Epoch 78/130\n",
      "21257/21257 [==============================] - 0s 13us/step - loss: 0.3700 - accuracy: 0.8751 - val_loss: 0.3546 - val_accuracy: 0.8757\n",
      "Epoch 79/130\n",
      "21257/21257 [==============================] - 0s 14us/step - loss: 0.3727 - accuracy: 0.8758 - val_loss: 0.3536 - val_accuracy: 0.8764\n",
      "Epoch 80/130\n",
      "21257/21257 [==============================] - 0s 12us/step - loss: 0.3736 - accuracy: 0.8754 - val_loss: 0.3523 - val_accuracy: 0.8767\n",
      "Epoch 81/130\n",
      "21257/21257 [==============================] - 0s 13us/step - loss: 0.3738 - accuracy: 0.8736 - val_loss: 0.3531 - val_accuracy: 0.8767\n",
      "Epoch 82/130\n",
      "21257/21257 [==============================] - 0s 12us/step - loss: 0.3708 - accuracy: 0.8759 - val_loss: 0.3530 - val_accuracy: 0.8775\n",
      "Epoch 83/130\n",
      "21257/21257 [==============================] - 0s 13us/step - loss: 0.3668 - accuracy: 0.8753 - val_loss: 0.3527 - val_accuracy: 0.8773\n",
      "Epoch 84/130\n",
      "21257/21257 [==============================] - 0s 12us/step - loss: 0.3671 - accuracy: 0.8767 - val_loss: 0.3523 - val_accuracy: 0.8770\n",
      "Epoch 85/130\n",
      "21257/21257 [==============================] - 0s 13us/step - loss: 0.3669 - accuracy: 0.8767 - val_loss: 0.3530 - val_accuracy: 0.8764\n",
      "Epoch 86/130\n",
      "21257/21257 [==============================] - 0s 13us/step - loss: 0.3651 - accuracy: 0.8779 - val_loss: 0.3525 - val_accuracy: 0.8774\n",
      "Epoch 87/130\n",
      "21257/21257 [==============================] - 0s 12us/step - loss: 0.3658 - accuracy: 0.8767 - val_loss: 0.3522 - val_accuracy: 0.8750\n",
      "Epoch 88/130\n",
      "21257/21257 [==============================] - 0s 12us/step - loss: 0.3639 - accuracy: 0.8769 - val_loss: 0.3512 - val_accuracy: 0.8768\n",
      "Epoch 89/130\n",
      "21257/21257 [==============================] - 0s 13us/step - loss: 0.3686 - accuracy: 0.8774 - val_loss: 0.3503 - val_accuracy: 0.8763\n",
      "Epoch 90/130\n",
      "21257/21257 [==============================] - 0s 12us/step - loss: 0.3650 - accuracy: 0.8769 - val_loss: 0.3510 - val_accuracy: 0.8780\n",
      "Epoch 91/130\n",
      "21257/21257 [==============================] - 0s 13us/step - loss: 0.3659 - accuracy: 0.8775 - val_loss: 0.3501 - val_accuracy: 0.8770\n",
      "Epoch 92/130\n",
      "21257/21257 [==============================] - 0s 13us/step - loss: 0.3664 - accuracy: 0.8764 - val_loss: 0.3492 - val_accuracy: 0.8774\n",
      "Epoch 93/130\n",
      "21257/21257 [==============================] - 0s 13us/step - loss: 0.3694 - accuracy: 0.8761 - val_loss: 0.3490 - val_accuracy: 0.8771\n",
      "Epoch 94/130\n",
      "21257/21257 [==============================] - 0s 13us/step - loss: 0.3657 - accuracy: 0.8767 - val_loss: 0.3487 - val_accuracy: 0.8770\n",
      "Epoch 95/130\n",
      "21257/21257 [==============================] - 0s 13us/step - loss: 0.3673 - accuracy: 0.8752 - val_loss: 0.3488 - val_accuracy: 0.8770\n",
      "Epoch 96/130\n",
      "21257/21257 [==============================] - 0s 12us/step - loss: 0.3582 - accuracy: 0.8793 - val_loss: 0.3495 - val_accuracy: 0.8756\n",
      "Epoch 97/130\n",
      "21257/21257 [==============================] - 0s 14us/step - loss: 0.3591 - accuracy: 0.8782 - val_loss: 0.3489 - val_accuracy: 0.8762\n",
      "Epoch 98/130\n",
      "21257/21257 [==============================] - 0s 11us/step - loss: 0.3655 - accuracy: 0.8788 - val_loss: 0.3486 - val_accuracy: 0.8769\n",
      "Epoch 99/130\n",
      "21257/21257 [==============================] - 0s 14us/step - loss: 0.3633 - accuracy: 0.8768 - val_loss: 0.3490 - val_accuracy: 0.8773\n",
      "Epoch 100/130\n",
      "21257/21257 [==============================] - 0s 13us/step - loss: 0.3662 - accuracy: 0.8782 - val_loss: 0.3483 - val_accuracy: 0.8776\n",
      "Epoch 101/130\n",
      "21257/21257 [==============================] - 0s 13us/step - loss: 0.3636 - accuracy: 0.8777 - val_loss: 0.3490 - val_accuracy: 0.8760\n",
      "Epoch 102/130\n",
      "21257/21257 [==============================] - 0s 13us/step - loss: 0.3607 - accuracy: 0.8809 - val_loss: 0.3498 - val_accuracy: 0.8770\n",
      "Epoch 103/130\n",
      "21257/21257 [==============================] - 0s 13us/step - loss: 0.3578 - accuracy: 0.8797 - val_loss: 0.3487 - val_accuracy: 0.8764\n",
      "Epoch 104/130\n",
      "21257/21257 [==============================] - 0s 13us/step - loss: 0.3609 - accuracy: 0.8777 - val_loss: 0.3505 - val_accuracy: 0.8777\n",
      "Epoch 105/130\n",
      "21257/21257 [==============================] - 0s 13us/step - loss: 0.3613 - accuracy: 0.8784 - val_loss: 0.3510 - val_accuracy: 0.8791\n",
      "Epoch 106/130\n",
      "21257/21257 [==============================] - 0s 13us/step - loss: 0.3606 - accuracy: 0.8799 - val_loss: 0.3489 - val_accuracy: 0.8762\n",
      "Epoch 107/130\n",
      "21257/21257 [==============================] - 0s 12us/step - loss: 0.3623 - accuracy: 0.8823 - val_loss: 0.3472 - val_accuracy: 0.8763\n",
      "Epoch 108/130\n",
      "21257/21257 [==============================] - 0s 13us/step - loss: 0.3589 - accuracy: 0.8807 - val_loss: 0.3475 - val_accuracy: 0.8770\n",
      "Epoch 109/130\n",
      "21257/21257 [==============================] - 0s 13us/step - loss: 0.3588 - accuracy: 0.8801 - val_loss: 0.3482 - val_accuracy: 0.8774\n",
      "Epoch 110/130\n",
      "21257/21257 [==============================] - 0s 13us/step - loss: 0.3587 - accuracy: 0.8807 - val_loss: 0.3474 - val_accuracy: 0.8777\n"
     ]
    },
    {
     "name": "stdout",
     "output_type": "stream",
     "text": [
      "Epoch 111/130\n",
      "21257/21257 [==============================] - 0s 14us/step - loss: 0.3618 - accuracy: 0.8777 - val_loss: 0.3474 - val_accuracy: 0.8781\n",
      "Epoch 112/130\n",
      "21257/21257 [==============================] - 0s 14us/step - loss: 0.3601 - accuracy: 0.8780 - val_loss: 0.3478 - val_accuracy: 0.8764\n",
      "Epoch 113/130\n",
      "21257/21257 [==============================] - 0s 13us/step - loss: 0.3558 - accuracy: 0.8823 - val_loss: 0.3485 - val_accuracy: 0.8773\n",
      "Epoch 114/130\n",
      "21257/21257 [==============================] - 0s 13us/step - loss: 0.3559 - accuracy: 0.8819 - val_loss: 0.3478 - val_accuracy: 0.8780\n",
      "Epoch 115/130\n",
      "21257/21257 [==============================] - 0s 13us/step - loss: 0.3594 - accuracy: 0.8807 - val_loss: 0.3460 - val_accuracy: 0.8780\n",
      "Epoch 116/130\n",
      "21257/21257 [==============================] - 0s 13us/step - loss: 0.3582 - accuracy: 0.8799 - val_loss: 0.3472 - val_accuracy: 0.8781\n",
      "Epoch 117/130\n",
      "21257/21257 [==============================] - 0s 13us/step - loss: 0.3560 - accuracy: 0.8810 - val_loss: 0.3464 - val_accuracy: 0.8770\n",
      "Epoch 118/130\n",
      "21257/21257 [==============================] - 0s 14us/step - loss: 0.3573 - accuracy: 0.8771 - val_loss: 0.3471 - val_accuracy: 0.8774\n",
      "Epoch 119/130\n",
      "21257/21257 [==============================] - 0s 13us/step - loss: 0.3559 - accuracy: 0.8788 - val_loss: 0.3462 - val_accuracy: 0.8758\n",
      "Epoch 120/130\n",
      "21257/21257 [==============================] - 0s 12us/step - loss: 0.3615 - accuracy: 0.8810 - val_loss: 0.3474 - val_accuracy: 0.8776\n",
      "Epoch 121/130\n",
      "21257/21257 [==============================] - 0s 12us/step - loss: 0.3575 - accuracy: 0.8813 - val_loss: 0.3498 - val_accuracy: 0.8774\n",
      "Epoch 122/130\n",
      "21257/21257 [==============================] - 0s 13us/step - loss: 0.3579 - accuracy: 0.8816 - val_loss: 0.3463 - val_accuracy: 0.8768\n",
      "Epoch 123/130\n",
      "21257/21257 [==============================] - 0s 13us/step - loss: 0.3546 - accuracy: 0.8823 - val_loss: 0.3471 - val_accuracy: 0.8769\n",
      "Epoch 124/130\n",
      "21257/21257 [==============================] - 0s 13us/step - loss: 0.3551 - accuracy: 0.8766 - val_loss: 0.3452 - val_accuracy: 0.8764\n",
      "Epoch 125/130\n",
      "21257/21257 [==============================] - 0s 13us/step - loss: 0.3568 - accuracy: 0.8800 - val_loss: 0.3468 - val_accuracy: 0.8780\n",
      "Epoch 126/130\n",
      "21257/21257 [==============================] - 0s 13us/step - loss: 0.3571 - accuracy: 0.8787 - val_loss: 0.3446 - val_accuracy: 0.8773\n",
      "Epoch 127/130\n",
      "21257/21257 [==============================] - 0s 13us/step - loss: 0.3538 - accuracy: 0.8804 - val_loss: 0.3465 - val_accuracy: 0.8771\n",
      "Epoch 128/130\n",
      "21257/21257 [==============================] - 0s 13us/step - loss: 0.3560 - accuracy: 0.8812 - val_loss: 0.3441 - val_accuracy: 0.8764\n",
      "Epoch 129/130\n",
      "21257/21257 [==============================] - 0s 13us/step - loss: 0.3556 - accuracy: 0.8795 - val_loss: 0.3454 - val_accuracy: 0.8770\n",
      "Epoch 130/130\n",
      "21257/21257 [==============================] - 0s 13us/step - loss: 0.3523 - accuracy: 0.8820 - val_loss: 0.3452 - val_accuracy: 0.8769\n"
     ]
    }
   ],
   "source": [
    "#I added the part of the validation set.\n",
    "\n",
    "history = model_1.fit(X_VBF_minmax, y_train_VBF, batch_size=512, epochs=130, verbose=1, \n",
    "                  validation_data=(X_val_VBF_minmax, y_val_VBF))"
   ]
  },
  {
   "cell_type": "markdown",
   "metadata": {},
   "source": [
    "I can now plot the loss evolution over the training epochs for the training and validation dataset:"
   ]
  },
  {
   "cell_type": "code",
   "execution_count": 46,
   "metadata": {},
   "outputs": [
    {
     "data": {
      "image/png": "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\n",
      "text/plain": [
       "<Figure size 432x288 with 1 Axes>"
      ]
     },
     "metadata": {},
     "output_type": "display_data"
    }
   ],
   "source": [
    "plt.plot(history.history['loss'])\n",
    "plt.plot(history.history['val_loss'])\n",
    "plt.title('model loss')\n",
    "plt.ylabel('loss')\n",
    "plt.xlabel('epoch')\n",
    "plt.legend(['training', 'validation'], loc='upper right')\n",
    "plt.show()"
   ]
  },
  {
   "cell_type": "markdown",
   "metadata": {},
   "source": [
    "I can plot also the accuracy:"
   ]
  },
  {
   "cell_type": "code",
   "execution_count": 47,
   "metadata": {},
   "outputs": [
    {
     "data": {
      "image/png": "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\n",
      "text/plain": [
       "<Figure size 432x288 with 1 Axes>"
      ]
     },
     "metadata": {},
     "output_type": "display_data"
    }
   ],
   "source": [
    "plt.plot(history.history['accuracy'])\n",
    "plt.plot(history.history['val_accuracy'])\n",
    "plt.title('model accuracy')\n",
    "plt.ylabel('accuracy')\n",
    "plt.xlabel('epoch')\n",
    "plt.legend(['training', 'validation'], loc='lower right')\n",
    "plt.show()"
   ]
  },
  {
   "cell_type": "markdown",
   "metadata": {},
   "source": [
    "## Let's see how has gone the classification"
   ]
  },
  {
   "cell_type": "code",
   "execution_count": 48,
   "metadata": {},
   "outputs": [
    {
     "data": {
      "text/plain": [
       "array([[5.9009243e-02, 9.4099075e-01],\n",
       "       [5.9818476e-01, 4.0181527e-01],\n",
       "       [1.7099355e-04, 9.9982893e-01],\n",
       "       ...,\n",
       "       [5.6183253e-05, 9.9994385e-01],\n",
       "       [3.3732694e-01, 6.6267300e-01],\n",
       "       [4.9982700e-02, 9.5001727e-01]], dtype=float32)"
      ]
     },
     "execution_count": 48,
     "metadata": {},
     "output_type": "execute_result"
    }
   ],
   "source": [
    "y_pred = model_1.predict(X_val_VBF_minmax)\n",
    "y_pred"
   ]
  },
  {
   "cell_type": "code",
   "execution_count": 49,
   "metadata": {
    "scrolled": true
   },
   "outputs": [
    {
     "data": {
      "text/plain": [
       "(array([ 445.,    0., 7444.,    0.,  600.]),\n",
       " array([-1. , -0.6, -0.2,  0.2,  0.6,  1. ]),\n",
       " <a list of 5 Patch objects>)"
      ]
     },
     "execution_count": 49,
     "metadata": {},
     "output_type": "execute_result"
    },
    {
     "data": {
      "image/png": "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\n",
      "text/plain": [
       "<Figure size 432x288 with 1 Axes>"
      ]
     },
     "metadata": {},
     "output_type": "display_data"
    }
   ],
   "source": [
    "plt.hist(np.argmax(y_pred, axis=1)-np.argmax(y_val_VBF, axis=1), bins=5)"
   ]
  },
  {
   "cell_type": "markdown",
   "metadata": {},
   "source": [
    "## Evaluation of the model with different tools"
   ]
  },
  {
   "cell_type": "code",
   "execution_count": 53,
   "metadata": {},
   "outputs": [
    {
     "name": "stdout",
     "output_type": "stream",
     "text": [
      "Coefficient of determination: 0.58\n",
      "Mean squared error: 0.09\n",
      "Mean absolute error: 0.17\n"
     ]
    }
   ],
   "source": [
    "from sklearn.metrics import r2_score, mean_squared_error, mean_absolute_error\n",
    "\n",
    "# Explained variance score: 1 is perfect prediction\n",
    "print('Coefficient of determination: %.2f' % r2_score(y_val_VBF, y_pred))\n",
    "# The mean squared error\n",
    "print(\"Mean squared error: %.2f\" % mean_squared_error(y_val_VBF, y_pred))\n",
    "# The mean squared error\n",
    "print(\"Mean absolute error: %.2f\" % mean_absolute_error(y_val_VBF, y_pred))"
   ]
  }
 ],
 "metadata": {
  "kernelspec": {
   "display_name": "Python 3",
   "language": "python",
   "name": "python3"
  },
  "language_info": {
   "codemirror_mode": {
    "name": "ipython",
    "version": 3
   },
   "file_extension": ".py",
   "mimetype": "text/x-python",
   "name": "python",
   "nbconvert_exporter": "python",
   "pygments_lexer": "ipython3",
   "version": "3.6.9"
  }
 },
 "nbformat": 4,
 "nbformat_minor": 2
}
       "    .dataframe tbody tr th:only-of-type {\n",
       "        vertical-align: middle;\n",
       "    }\n",
       "\n",
       "    .dataframe tbody tr th {\n",
       "        vertical-align: top;\n",
       "    }\n",
       "\n",
       "    .dataframe thead th {\n",
       "        text-align: right;\n",
       "    }\n",
       "</style>\n",
       "<table border=\"1\" class=\"dataframe\">\n",
       "  <thead>\n",
       "    <tr style=\"text-align: right;\">\n",
       "      <th></th>\n",
       "      <th>EventId</th>\n",
       "      <th>DER_mass_MMC</th>\n",
       "      <th>DER_mass_transverse_met_lep</th>\n",
       "      <th>DER_mass_vis</th>\n",
       "      <th>DER_pt_h</th>\n",
       "      <th>DER_deltaeta_jet_jet</th>\n",
       "      <th>DER_mass_jet_jet</th>\n",
       "      <th>DER_prodeta_jet_jet</th>\n",
       "      <th>DER_deltar_tau_lep</th>\n",
       "      <th>DER_pt_tot</th>\n",
       "      <th>...</th>\n",
       "      <th>PRI_jet_leading_eta</th>\n",
       "      <th>PRI_jet_leading_phi</th>\n",
       "      <th>PRI_jet_subleading_pt</th>\n",
       "      <th>PRI_jet_subleading_eta</th>\n",
       "      <th>PRI_jet_subleading_phi</th>\n",
       "      <th>PRI_jet_all_pt</th>\n",
       "      <th>Weight</th>\n",
       "      <th>Label</th>\n",
       "      <th>KaggleSet</th>\n",
       "      <th>KaggleWeight</th>\n",
       "    </tr>\n",
       "  </thead>\n",
       "  <tbody>\n",
       "    <tr>\n",
       "      <th>0</th>\n",
       "      <td>100000</td>\n",
       "      <td>138.470</td>\n",
       "      <td>51.655</td>\n",
       "      <td>97.827</td>\n",
       "      <td>27.980</td>\n",
       "      <td>0.910</td>\n",
       "      <td>124.711</td>\n",
       "      <td>2.666</td>\n",
       "      <td>3.064</td>\n",
       "      <td>41.928</td>\n",
       "      <td>...</td>\n",
       "      <td>2.150</td>\n",
       "      <td>0.444</td>\n",
       "      <td>46.062</td>\n",
       "      <td>1.240</td>\n",
       "      <td>-2.475</td>\n",
       "      <td>113.497</td>\n",
       "      <td>0.000814</td>\n",
       "      <td>s</td>\n",
       "      <td>t</td>\n",
       "      <td>0.002653</td>\n",
       "    </tr>\n",
       "    <tr>\n",
       "      <th>1</th>\n",
       "      <td>100001</td>\n",
       "      <td>160.937</td>\n",
       "      <td>68.768</td>\n",
       "      <td>103.235</td>\n",
       "      <td>48.146</td>\n",
       "      <td>-999.000</td>\n",
       "      <td>-999.000</td>\n",
       "      <td>-999.000</td>\n",
       "      <td>3.473</td>\n",
       "      <td>2.078</td>\n",
       "      <td>...</td>\n",
       "      <td>0.725</td>\n",
       "      <td>1.158</td>\n",
       "      <td>-999.000</td>\n",
       "      <td>-999.000</td>\n",
       "      <td>-999.000</td>\n",
       "      <td>46.226</td>\n",
       "      <td>0.681042</td>\n",
       "      <td>b</td>\n",
       "      <td>t</td>\n",
       "      <td>2.233584</td>\n",
       "    </tr>\n",
       "    <tr>\n",
       "      <th>2</th>\n",
       "      <td>100002</td>\n",
       "      <td>-999.000</td>\n",
       "      <td>162.172</td>\n",
       "      <td>125.953</td>\n",
       "      <td>35.635</td>\n",
       "      <td>-999.000</td>\n",
       "      <td>-999.000</td>\n",
       "      <td>-999.000</td>\n",
       "      <td>3.148</td>\n",
       "      <td>9.336</td>\n",
       "      <td>...</td>\n",
       "      <td>2.053</td>\n",
       "      <td>-2.028</td>\n",
       "      <td>-999.000</td>\n",
       "      <td>-999.000</td>\n",
       "      <td>-999.000</td>\n",
       "      <td>44.251</td>\n",
       "      <td>0.715742</td>\n",
       "      <td>b</td>\n",
       "      <td>t</td>\n",
       "      <td>2.347389</td>\n",
       "    </tr>\n",
       "    <tr>\n",
       "      <th>3</th>\n",
       "      <td>100003</td>\n",
       "      <td>143.905</td>\n",
       "      <td>81.417</td>\n",
       "      <td>80.943</td>\n",
       "      <td>0.414</td>\n",
       "      <td>-999.000</td>\n",
       "      <td>-999.000</td>\n",
       "      <td>-999.000</td>\n",
       "      <td>3.310</td>\n",
       "      <td>0.414</td>\n",
       "      <td>...</td>\n",
       "      <td>-999.000</td>\n",
       "      <td>-999.000</td>\n",
       "      <td>-999.000</td>\n",
       "      <td>-999.000</td>\n",
       "      <td>-999.000</td>\n",
       "      <td>-0.000</td>\n",
       "      <td>1.660654</td>\n",
       "      <td>b</td>\n",
       "      <td>t</td>\n",
       "      <td>5.446378</td>\n",
       "    </tr>\n",
       "    <tr>\n",
       "      <th>4</th>\n",
       "      <td>100004</td>\n",
       "      <td>175.864</td>\n",
       "      <td>16.915</td>\n",
       "      <td>134.805</td>\n",
       "      <td>16.405</td>\n",
       "      <td>-999.000</td>\n",
       "      <td>-999.000</td>\n",
       "      <td>-999.000</td>\n",
       "      <td>3.891</td>\n",
       "      <td>16.405</td>\n",
       "      <td>...</td>\n",
       "      <td>-999.000</td>\n",
       "      <td>-999.000</td>\n",
       "      <td>-999.000</td>\n",
       "      <td>-999.000</td>\n",
       "      <td>-999.000</td>\n",
       "      <td>0.000</td>\n",
       "      <td>1.904263</td>\n",
       "      <td>b</td>\n",
       "      <td>t</td>\n",
       "      <td>6.245333</td>\n",
       "    </tr>\n",
       "    <tr>\n",
       "      <th>5</th>\n",
       "      <td>100005</td>\n",
       "      <td>89.744</td>\n",
       "      <td>13.550</td>\n",
       "      <td>59.149</td>\n",
       "      <td>116.344</td>\n",
       "      <td>2.636</td>\n",
       "      <td>284.584</td>\n",
       "      <td>-0.540</td>\n",
       "      <td>1.362</td>\n",
       "      <td>61.619</td>\n",
       "      <td>...</td>\n",
       "      <td>-2.412</td>\n",
       "      <td>-0.653</td>\n",
       "      <td>56.165</td>\n",
       "      <td>0.224</td>\n",
       "      <td>3.106</td>\n",
       "      <td>193.660</td>\n",
       "      <td>0.025434</td>\n",
       "      <td>b</td>\n",
       "      <td>t</td>\n",
       "      <td>0.083414</td>\n",
       "    </tr>\n",
       "    <tr>\n",
       "      <th>6</th>\n",
       "      <td>100006</td>\n",
       "      <td>148.754</td>\n",
       "      <td>28.862</td>\n",
       "      <td>107.782</td>\n",
       "      <td>106.130</td>\n",
       "      <td>0.733</td>\n",
       "      <td>158.359</td>\n",
       "      <td>0.113</td>\n",
       "      <td>2.941</td>\n",
       "      <td>2.545</td>\n",
       "      <td>...</td>\n",
       "      <td>0.864</td>\n",
       "      <td>1.450</td>\n",
       "      <td>56.867</td>\n",
       "      <td>0.131</td>\n",
       "      <td>-2.767</td>\n",
       "      <td>179.877</td>\n",
       "      <td>0.000814</td>\n",
       "      <td>s</td>\n",
       "      <td>t</td>\n",
       "      <td>0.002653</td>\n",
       "    </tr>\n",
       "    <tr>\n",
       "      <th>7</th>\n",
       "      <td>100007</td>\n",
       "      <td>154.916</td>\n",
       "      <td>10.418</td>\n",
       "      <td>94.714</td>\n",
       "      <td>29.169</td>\n",
       "      <td>-999.000</td>\n",
       "      <td>-999.000</td>\n",
       "      <td>-999.000</td>\n",
       "      <td>2.897</td>\n",
       "      <td>1.526</td>\n",
       "      <td>...</td>\n",
       "      <td>-0.715</td>\n",
       "      <td>-1.724</td>\n",
       "      <td>-999.000</td>\n",
       "      <td>-999.000</td>\n",
       "      <td>-999.000</td>\n",
       "      <td>30.638</td>\n",
       "      <td>0.005721</td>\n",
       "      <td>s</td>\n",
       "      <td>t</td>\n",
       "      <td>0.018636</td>\n",
       "    </tr>\n",
       "    <tr>\n",
       "      <th>8</th>\n",
       "      <td>100008</td>\n",
       "      <td>105.594</td>\n",
       "      <td>50.559</td>\n",
       "      <td>100.989</td>\n",
       "      <td>4.288</td>\n",
       "      <td>-999.000</td>\n",
       "      <td>-999.000</td>\n",
       "      <td>-999.000</td>\n",
       "      <td>2.904</td>\n",
       "      <td>4.288</td>\n",
       "      <td>...</td>\n",
       "      <td>-999.000</td>\n",
       "      <td>-999.000</td>\n",
       "      <td>-999.000</td>\n",
       "      <td>-999.000</td>\n",
       "      <td>-999.000</td>\n",
       "      <td>0.000</td>\n",
       "      <td>1.614803</td>\n",
       "      <td>b</td>\n",
       "      <td>t</td>\n",
       "      <td>5.296003</td>\n",
       "    </tr>\n",
       "    <tr>\n",
       "      <th>9</th>\n",
       "      <td>100009</td>\n",
       "      <td>128.053</td>\n",
       "      <td>88.941</td>\n",
       "      <td>69.272</td>\n",
       "      <td>193.392</td>\n",
       "      <td>-999.000</td>\n",
       "      <td>-999.000</td>\n",
       "      <td>-999.000</td>\n",
       "      <td>1.609</td>\n",
       "      <td>28.859</td>\n",
       "      <td>...</td>\n",
       "      <td>-2.767</td>\n",
       "      <td>-2.514</td>\n",
       "      <td>-999.000</td>\n",
       "      <td>-999.000</td>\n",
       "      <td>-999.000</td>\n",
       "      <td>167.735</td>\n",
       "      <td>0.000461</td>\n",
       "      <td>s</td>\n",
       "      <td>t</td>\n",
       "      <td>0.001502</td>\n",
       "    </tr>\n",
       "  </tbody>\n",
       "</table>\n",
       "<p>10 rows × 35 columns</p>\n",
       "</div>"
      ],
      "text/plain": [
       "   EventId  DER_mass_MMC  DER_mass_transverse_met_lep  DER_mass_vis  DER_pt_h  \\\n",
       "0   100000       138.470                       51.655        97.827    27.980   \n",
       "1   100001       160.937                       68.768       103.235    48.146   \n",
       "2   100002      -999.000                      162.172       125.953    35.635   \n",
       "3   100003       143.905                       81.417        80.943     0.414   \n",
       "4   100004       175.864                       16.915       134.805    16.405   \n",
       "5   100005        89.744                       13.550        59.149   116.344   \n",
       "6   100006       148.754                       28.862       107.782   106.130   \n",
       "7   100007       154.916                       10.418        94.714    29.169   \n",
       "8   100008       105.594                       50.559       100.989     4.288   \n",
       "9   100009       128.053                       88.941        69.272   193.392   \n",
       "\n",
       "   DER_deltaeta_jet_jet  DER_mass_jet_jet  DER_prodeta_jet_jet  \\\n",
       "0                 0.910           124.711                2.666   \n",
       "1              -999.000          -999.000             -999.000   \n",
       "2              -999.000          -999.000             -999.000   \n",
       "3              -999.000          -999.000             -999.000   \n",
       "4              -999.000          -999.000             -999.000   \n",
       "5                 2.636           284.584               -0.540   \n",
       "6                 0.733           158.359                0.113   \n",
       "7              -999.000          -999.000             -999.000   \n",
       "8              -999.000          -999.000             -999.000   \n",
       "9              -999.000          -999.000             -999.000   \n",
       "\n",
       "   DER_deltar_tau_lep  DER_pt_tot  ...  PRI_jet_leading_eta  \\\n",
       "0               3.064      41.928  ...                2.150   \n",
       "1               3.473       2.078  ...                0.725   \n",
       "2               3.148       9.336  ...                2.053   \n",
       "3               3.310       0.414  ...             -999.000   \n",
       "4               3.891      16.405  ...             -999.000   \n",
       "5               1.362      61.619  ...               -2.412   \n",
       "6               2.941       2.545  ...                0.864   \n",
       "7               2.897       1.526  ...               -0.715   \n",
       "8               2.904       4.288  ...             -999.000   \n",
       "9               1.609      28.859  ...               -2.767   \n",
       "\n",
       "   PRI_jet_leading_phi  PRI_jet_subleading_pt  PRI_jet_subleading_eta  \\\n",
       "0                0.444                 46.062                   1.240   \n",
       "1                1.158               -999.000                -999.000   \n",
       "2               -2.028               -999.000                -999.000   \n",
       "3             -999.000               -999.000                -999.000   \n",
       "4             -999.000               -999.000                -999.000   \n",
       "5               -0.653                 56.165                   0.224   \n",
       "6                1.450                 56.867                   0.131   \n",
       "7               -1.724               -999.000                -999.000   \n",
       "8             -999.000               -999.000                -999.000   \n",
       "9               -2.514               -999.000                -999.000   \n",
       "\n",
       "   PRI_jet_subleading_phi  PRI_jet_all_pt    Weight  Label  KaggleSet  \\\n",
       "0                  -2.475         113.497  0.000814      s          t   \n",
       "1                -999.000          46.226  0.681042      b          t   \n",
       "2                -999.000          44.251  0.715742      b          t   \n",
       "3                -999.000          -0.000  1.660654      b          t   \n",
       "4                -999.000           0.000  1.904263      b          t   \n",
       "5                   3.106         193.660  0.025434      b          t   \n",
       "6                  -2.767         179.877  0.000814      s          t   \n",
       "7                -999.000          30.638  0.005721      s          t   \n",
       "8                -999.000           0.000  1.614803      b          t   \n",
       "9                -999.000         167.735  0.000461      s          t   \n",
       "\n",
       "   KaggleWeight  \n",
       "0      0.002653  \n",
       "1      2.233584  \n",
       "2      2.347389  \n",
       "3      5.446378  \n",
       "4      6.245333  \n",
       "5      0.083414  \n",
       "6      0.002653  \n",
       "7      0.018636  \n",
       "8      5.296003  \n",
       "9      0.001502  \n",
       "\n",
       "[10 rows x 35 columns]"
      ]
     },
     "execution_count": 2,
     "metadata": {},
     "output_type": "execute_result"
    }
   ],
   "source": [
    "data_full = pd.read_csv('atlas-higgs-challenge-2014-v2.csv')\n",
    "data_full.head(10)"
   ]
  },
  {
   "cell_type": "markdown",
   "metadata": {},
   "source": [
    "### Split the data\n",
    "This Set contains the following subsets, indexed by the `KaggleSet`variable:  \n",
    "+ `t`: Training,\n",
    "+ `b`: Public Leaderboard,\n",
    "+ `v`: Privateleaderboard,\n",
    "+ `u`: Unused."
   ]
  },
  {
   "cell_type": "code",
   "execution_count": 4,
   "metadata": {},
   "outputs": [
    {
     "name": "stdout",
     "output_type": "stream",
     "text": [
      "Total number of events:  818238 \n",
      "\n",
      "Number of events in the t KaggleSet: 250000\n",
      "Number of events in the b KaggleSet: 100000\n",
      "Number of events in the v KaggleSet: 450000\n",
      "Number of events in the u KaggleSet: 18238\n"
     ]
    }
   ],
   "source": [
    "print('Total number of events: ', len(data_full), '\\n')\n",
    "for KaggleSetID in ['t', 'b', 'v', 'u']:\n",
    "    print('Number of events in the {} KaggleSet: {}'\n",
    "          .format(KaggleSetID, len(data_full['KaggleSet'][data_full['KaggleSet']==KaggleSetID])))"
   ]
  },
  {
   "cell_type": "markdown",
   "metadata": {},
   "source": [
    "### I should here probably only use the `t` set for the training and the `b` set for validation. At the very end, I can get our score from the private leaderboard `v` set  (?!?!)"
   ]
  },
  {
   "cell_type": "code",
   "execution_count": 6,
   "metadata": {},
   "outputs": [],
   "source": [
    "train_data = data_full[data_full['KaggleSet']=='t']\n",
    "validation_data = data_full[data_full['KaggleSet']=='b']"
   ]
  },
  {
   "cell_type": "code",
   "execution_count": 84,
   "metadata": {},
   "outputs": [],
   "source": [
    "y_train = pd.get_dummies(train_data['Label']).values.astype(float) #signal = [0,1], background = [1,0]\n",
    "y_val = pd.get_dummies(validation_data['Label']).values.astype(float)"
   ]
  },
  {
   "cell_type": "code",
   "execution_count": 9,
   "metadata": {},
   "outputs": [
    {
     "data": {
      "text/plain": [
       "(250000, 100000)"
      ]
     },
     "execution_count": 9,
     "metadata": {},
     "output_type": "execute_result"
    }
   ],
   "source": [
    "len(train_data), len(validation_data)"
   ]
  },
  {
   "cell_type": "markdown",
   "metadata": {},
   "source": [
    "Of course, there will be strong correlations between the derived variables `DER`and the primitive variables`PRI`, which is shown in the following:"
   ]
  },
  {
   "cell_type": "code",
   "execution_count": 5,
   "metadata": {},
   "outputs": [],
   "source": [
    "correlations = train_data.corr()"
   ]
  },
  {
   "cell_type": "code",
   "execution_count": 35,
   "metadata": {
    "scrolled": true
   },
   "outputs": [
    {
     "data": {
      "text/plain": [
       "<matplotlib.axes._subplots.AxesSubplot at 0x1a2016fb518>"
      ]
     },
     "execution_count": 35,
     "metadata": {},
     "output_type": "execute_result"
    },
    {
     "data": {
      "image/png": "iVBORw0KGgoAAAANSUhEUgAABLoAAATzCAYAAAB1z1vEAAAABHNCSVQICAgIfAhkiAAAAAlwSFlzAAALEgAACxIB0t1+/AAAADl0RVh0U29mdHdhcmUAbWF0cGxvdGxpYiB2ZXJzaW9uIDMuMC4zLCBodHRwOi8vbWF0cGxvdGxpYi5vcmcvnQurowAAIABJREFUeJzs3XucnVV5//3PNyGQCAgVwSJWEDwggkaMIGoQitrqI7YqFRQP6M/GKkitTzz81AfRasXDz1bFivFQlXrAYwVPiAcEEZRgEgJYRA6tgs+Dio2gISaZ6/lj36PbzczsmUzmnnDP5/167Rd7r7Xuda17zylcc601qSokSZIkSZKkO7t5s70ASZIkSZIkaWsw0SVJkiRJkqROMNElSZIkSZKkTjDRJUmSJEmSpE4w0SVJkiRJkqROMNElSZIkSZKkTjDRJUmSJEmSpE4w0SVJkiRJkqROMNElSZIkSZKkTthuthcgDbPxF9dVW7HedfApbYVic1oLxbzW3kFo8bZo8bakbUZXv8a6el/StsCvL0nbuuX//e9tfqtqXZv/T9umBXffd5v8uFnRJUmSJEmSpE4w0SVJkiRJkqROMNElSZIkSZKkTjDRJUmSJEmSpE7wMHpJkiRJkqSZMrJ5tlcwp1jRJUmSJEmSpE4w0SVJkiRJkqROMNElSZIkSZKkTvCMLkmSJEmSpJlSI7O9gjnFii5JkiRJkiR1gokuSZIkSZIkdYKJLkmSJEmSJHWCia45KsnmJKv7Hq/ayvMfkeSRfa9PTbJ8jHH7JLlia8aWJEmSJElzk4fRz13rq2rxDM5/BHAb8N0ZjCFJkiRJ0rZtxMPo22RFl34vyROSfKrv9RFJzmmePz7JxUl+kOTTSXZq2m9I8vqmfW2S/ZPsA/wd8A9NtdjSgTgPS7ImycXAia3doCRJkiRJ6jQTXXPXooGti8cC5wGPSLJjM+ZY4KwkdwdeCzy2qg4GVgIv65vrF037e4HlVXUDcAbwz1W1uKouHIj9b8DJVXXYzN2eJEmSJEmaa0x0zV3rmyTU6OOsqtoEfBU4Osl2wP8FfAF4BHAAcFGS1cBzgb375vpc89/LgH0mCppkF2DXqvp203TmOOOWJVmZZOUHPvqJLbxFSZIkSZI0l3hGlwadRW874S3ApVV1a5IA51XVM8a5ZkPz380M/5wKUMMWUVUrgBUAG39x3dDxkiRJkiRti6o8o6tNVnRp0PnAwcDf0kt6AVwCPCrJfQGS3CXJ/YfMcyuw82BjVf0PsC7Jo5um47fGoiVJkiRJkkx0zV2DZ3SdBlBVm4EvAk9o/ktV/Rw4AfhEksvpJb72HzL/OcBTxjqMHnge8J7mMPr1W+2OJEmSJEnSnJYqd4Vp29bm1sV3HXxKW6HYnNZCMa/FL/MWb2v4Hlipg7r6NdbV+5K2BX59SdrWLf/vf2/zW1XrfnfTlZ389rj9PR+0TX7cPKNLkiRJkiRppox4Rleb3LooSZIkSZKkTjDRJUmSJEmSpE4w0SVJkiRJkqRO8IwuSZIkSZKkmVKe0dUmK7okSZIkSZLUCSa6JEmSJEmS1AkmuiRJkiRJktQJJrokSZIkSZLUCR5GL0mSJEmSNFNGNs/2CuYUK7okSZIkSZLUCVZ0aZv3roNPaS3WyT94Q2ux7rnfE1qL9fGFi1uLtTDt/bZiffktbLr+ZLsNrcX6QXZsLRbAgZtuby3WBTssbC3Wc+55U2uxrrxuj9ZirU97v3v78fbtxdqc1kKx9++qtVg3LWjvxtr8Hfj5/Kq1WEfyJ63FevSm37YWq007LNjUWqyqFr+YW/TzDYtmewmdsH2L36lePv//ay1Wm5bP9gLUKVZ0SZI6p80klyRJkqRth+UQkiRJkiRJM6VGZnsFc4oVXZIkSZIkSeoEE12SJEmSJEnqBBNdkiRJkiRJ6gTP6JIkSZIkSZopI57R1SYruiRJkiRJktQJJrokSZIkSZLUCSa6JEmSJEmS1Ame0SVJkiRJkjRDqjyjq01WdEmSJEmSJKkTTHRJkiRJkiSpE0x0SZIkSZIkqRNMdG0lSTYnWZ3kyiRrkrwsybym74gk65r+0cdjB667Isk5SXad3TsZX5Ibklw40LY6yRXN8yOSVJL/1df/0KZteV/b8iT/2dzzmiTPae8uJEmSJElSV3kY/dazvqoWAyTZA/g4sAvwuqb/wqp60pDrPgKcCLyphfVuqZ2T/FlV/STJA8foXwscC3yweX0csGa0M8nfAY8DDqmqXyfZBfjrmV60JEmSJEmzYsTD6NtkRdcMqKqbgWXASUkyhUsvBvYar7OpmPp2kk8l+VGS05Icn+T7SdYm2a8Zd3SS7yVZleTrSe7RtD+mr6JsVZKdk+yZ5IK+qrKlQ9b4KXqJLIBnAJ8Y6P9vYGGSezT3/pfAV/r6Xw28uKp+DVBV66rqI5N8fyRJkiRJksZlomuGVNV19N7fPZqmpQNbF/frH59kPnAUcPaQqR8C/D1wEPBs4P5VdQjwAeAlzZjvAI+oqocCnwRe0bQvB05sKsiWAuuBZwLnNm0PAVYPif8Z4KnN86OBc8YZ8zfAI4EfABuae9wZ2Lmqrh0SgyTLkqxMsvKS264ZNlySJEmSJMmtizOsv5prvK2Li5KsBvYBLgPOGzLnpVX1M4Ak1wJfa9rXAkc2z+8FnJVkT2B74Pqm/SLgHUk+Bnyuqn6a5FLgQ0kWAP9RVcMSXbcAv0pyHPBD4LdjjPkUcBawP72Kr0c27QFqyPwAVNUKYAXA/7n3syZ1jSRJkiRJmtus6JohSfYFNgM3Dxk6ekbX3vSSUicOGb+h7/lI3+sR/pC4fDdwelUdBLwQWAhQVacBLwAWAZck2b+qLgAOB24EzpzkwfBnAe/hjtsWaeL8v8BGemdxfaOv/dfAb5r3RpIkSZKk7quRbj62USa6ZkCS3YEz6CWbJlvBtA44GVjeVFdNxy70ElcAz+1b135Vtbaq3gKsBPZPsjdwc1W9n94B8gdPYv7PA28Fzp1gzCnAK6tq80D7m4H3JLlrs6a7Jlk2mZuSJEmSJEmaiFsXt57RLYgLgE3AmcA7+vqXNv2j3lhVn+mfoKpWJVlD7y8VnjmNtZwKfDrJjcAlwH2a9pcmOZJepdlV9A6JPw54eZKNwG3A0IquqroVeAvAeGftV9V3x7n8vcBOwKVNzI3A/5nUXUmSJEmSJE3ARNdWUlXzJ+g7n16V1Vh9Ow28PnrIPOf3vT5irL6q+gLwhTGuf8lgG/CR5jFUVe0zRtsNwIFjra9vzKl9z4teNdhbJxNTkiRJkiRpskx0SZIkSZIkzZSRwRN9NJNMdG2DkhzEHbcubqiqQ1uK/z1gh4HmZ1fV2jbiS5IkSZIkbQkTXdugJqG0eBbjt5JQkyRJkiRJ2pr8q4uSJEmSJEnqBCu6JEmSJEmSZkqNzPYK5hQruiRJkiRJktQJJrokSZIkSZLUCSa6JEmSJEmS1AkmuiRJkiRJktQJHkYvSZIkSZI0U0Y8jL5NJrq0zduc9mLdc78ntBbrpmu/0lqsiw98ZWux/mnBb1qLtdu8Ra3F2kx7P5zmt1hs++iRHVuLtaHFr+WV2y9k7bzbW4v3ut1/1lqsw67+eWuxDt9519ZiLUx7n/f7jyxsLda8ai0US3b7RWuxPnvr7q3FavM9XL7hLq3FuqS9T0NOX9BerN+wqbVYG1v8K2bb0eIPsRbtuPB3s72ETvhti5/3Xz2wm5+L0tbk1kVJUue0meSSJEmSNLYkf5nk6iQ/TvKqMfr3TvKNJJcnOT/JvaYb00SXJEmSJEmStqok84H3AE8ADgCekeSAgWFvBz5aVQ8G3gC8ebpx3booSZIkSZI0U1rcar2NOQT4cVVdB5Dkk8BfAVf1jTkA+Ifm+beA/5huUCu6JEmSJEmStLXtBfyk7/VPm7Z+a4CnNc+fAuycZLfpBDXRJUmSJEmSpClJsizJyr7HssEhY1w2+GdmlgOPSbIKeAxwI0zvLzy4dVGSJEmSJElTUlUrgBUTDPkp8Gd9r+8F3DQwx03AUwGS7AQ8rarWTWddJrokSZIkSZJmysicPaPrUuB+Se5Dr1LrOOCZ/QOS3B24papGgP8NfGi6Qd26KEmSJEmSpK2qqjYBJwHnAj8EPlVVVyZ5Q5InN8OOAK5O8iPgHsCbphvXii5JkiRJkiRtdVX1ZeDLA22n9D3/DPCZrRnTii5JkiRJkiR1ghVdkiRJkiRJM6Rq82wvYU6xokuSJEmSJEmdYKJLkiRJkiRJnTA00ZVkc5LVSa5MsibJy5LMa/qOSLKu6R99PHbguiuSnJNk15m+mS2V5NWzvYY7g8m8T0lua2MtkiRJkiRJgyZT0bW+qhZX1YOAxwFPBF7X139h0z/6+PrAdQcCtwAnbt2lb1VjJnDSM+tVb0nmz/YaGiYEJUmSJEnSNmtKSZyquhlYBpyUJFO49GJgr/E6m8qwbyf5VJIfJTktyfFJvp9kbZL9mnFHJ/leklVJvp7kHk37Y/oqylYl2TnJnkku6KsqWzpO7NOARc24jyXZJ8kPk/wr8APgz5K8N8nKpqrt9X3X3pDk9Ul+0Kxz/wnWc1aSJ/Zd++EkT0syP8nbklya5PIkL+x7T76V5OPA2iQ7JvlSU1V3RZJjm3EPa967y5Kcm2TPCd7n85P8c/O+/DDJw5N8Lsk1Sd7YN+5ZzXu/Osn7mjX+0fs0/EMOSV7ed1+vb9r2SfKfST7StH8myV0mM58kSZIkSXc6NdLNxzZqytVKVXVdc90eTdPSga2L+/WPb6qRjgLOHjL1Q4C/Bw4Cng3cv6oOAT4AvKQZ8x3gEVX1UOCTwCua9uXAiVW1GFgKrAeeCZzbtD0EWD3O/byKP1SfHd80PwD4aFU9tKr+C3hNVS0BHgw8JsmD+6b4RVUdDLy3Wcd46/kkMJqc2r55T74M/C9gXVU9HHg48LdJ7tPMc0gT+wDgL4GbquohTZXcV5MsAN4NHFNVDwM+BLxpyPv8u6o6HDgD+AK9SrsDgROS7Jbkgc06H9WsfzNw/Djv07iSPB64X3MPi4GHJTm87/1dUVUPBn4NvHiM65c1ycWV37vtmmHhJEmSJEmStvgw+v5qrsGti9c27YuSrAZ+CdwNOG/InJdW1c+qagNwLfC1pn0tsE/z/F7AuUnWAi8HHtS0XwS8I8nJwK5VtQm4FHheklOBg6rq1inc339V1SV9r5+e5AfAqibmAX19n2v+e1nfOsdaz1eAP0+yA/AE4IKqWg88HnhO8159D9iNXoII4PtVdX3f+/DYJG9JsrSq1tFLGB0InNdc/9rmPZrIaMJxLXBl33t+HfBn9BJwDwMubeY8Cth3yJxjeXzzWEWvMm7/vvv6SVVd1Dz/d+DRgxdX1YqqWlJVSw7d6X6D3ZIkSZIkSXcw5URXkn3pVfncPGTo+qYiaG9ge4af0bWh7/lI3+sRYLvm+buB06vqIOCFwEKAqjoNeAGwCLgkyf5VdQFwOHAjcGaS50zi9kb9ZvRJU121HDiqqUD60mjcgXVvHl3nOOu5HTgf+At6FVOfHA0BvKQvUXifqhpN8v1+HVX1I3oJqLXAm5Oc0lx7Zd+1B1XV44fcW//7Ovieb9fM+ZG+OR9QVacOmXMsAd7cN899q+qDo7czMHbwtSRJkiRJ0pRNKdGVZHd6W95Or6pJJSeayqOTgeXNVrvp2IVe4grguX3r2q+q1lbVW4CVwP5J9gZurqr3Ax8EDp5g3o0TrO2u9BJO65ozwZ4wbJFjrafp+iTwPHrbGc9t2s4FXjQaP8n9k+w4xpz3BH5bVf8OvL25n6uB3ZMc1oxZkORBg9dO0TeAY5Ls0cx5t+a9hInfp0HnAs9PslMzz16jcwL3Hl0z8Ax6W1IlSZIkSeqekZFuPrZR2w0f8vstiAuATcCZwDv6+pc2/aPeWFWf6Z+gqlYlWQMc11y/pU4FPp3kRuASYPQsq5cmOZJeVdVV9LYJHge8PMlG4DZgooquFcDlzfbE1wysfU2SVcCV9Lb3XTTG9YPGWg/0tmN+FDi7qn7XtH2A3pbHHyQJ8HPgr8eY8yDgbUlGgI3Ai6rqd0mOAd6VZBd6H89/ada6RarqqiSvBb6W3l+c3EivGu+/6Hufhp3TVVVfa877urh3W9wGPIvee/JD4LlJ3gdcQ+98M0mSJEmSpGnJJAuzpK0iyT7AF5sD9SflrXs/q7VP0rf9z6VtheKma78yfNBWcvGBr2wt1psX3NZarN3mLWot1mba+43F/C0+PnHqHj3S3h893TCVv9U7TWvn3d5eMOB1u/+qtViPunbYyQFbz+E7t3dG4sK093m//8jC4YPuhJ5y15+3Fuuzt+7eWqx5Lf5TdcmGDcMHbSWXLNyhtVhX8tvWYv2GTa3F2tjiX/zajhZ/iLVox2lvuBHAb1v8vH//getai9Wm3b707W5+kTVu/8HZnUy8LDz4ydvkx629f1VKkiRJkiRJM2gyWxe3miQHccetixuq6tCW4n8PGPz12bOram0b8duS5D3Aowaa31lV/7aV5t+N3lleg46qql9OdG1V3UDvL0VKkiRJktR9LVagquVEV5NQWtxmzIH4rSTUZltVDfsLl9Od/5fM4sdRkiRJkiRpLG5dlCRJkiRJUieY6JIkSZIkSVIntLp1UZIkSZIkaU4Z2TzbK5hTrOiSJEmSJElSJ5jokiRJkiRJUieY6JIkSZIkSVInmOiSJEmSJElSJ3gYvbZ586q9WB9fuLi1WBcf+MrWYh12xVtai3Xwkte2FmthpbVYbR4fOb/FWM9+3qbWYr33w+39yNl/ZCF7tndrfOfGP20t1jF33b21WH9S7X02/s32v2ot1pduX9harBZ/hLHLXre3Fmv+D1sL1ep7+MVF7X2f+tOR1kJx+MhdWot18/z2PmLz0t6/A9qL1K6NrX6FddeGtPc+fv0HO7cWq03HzvYCZlq1+E1fVnRJkrqnzSSXJEmSpG2HiS5JkiRJkiR1gokuSZIkSZIkdYJndEmSJEmSJM2UEc/oapMVXZIkSZIkSeoEE12SJEmSJEnqBBNdkiRJkiRJ6gTP6JIkSZIkSZop5RldbbKiS5IkSZIkSZ1gokuSJEmSJEmdYKJLkiRJkiRJneAZXZIkSZIkSTNlxDO62mRFlyRJkiRJkjrBRFfLkmxOsjrJlUnWJHlZknlN3xFJ1jX9o4/HDlx3RZJzkuw6u3cydUm+O9trkCRJkiRJ3eXWxfatr6rFAEn2AD4O7AK8rum/sKqeNOS6jwAnAm9qYb1bTVU9crbXIEmSJEmSusuKrllUVTcDy4CTkmQKl14M7DVeZ1MZ9u0kn0ryoySnJTk+yfeTrE2yXzPu6CTfS7IqydeT3KNpf0xfRdmqJDsn2TPJBX1VZUvHif2iJG/te31Cknc3z29r/jupuSRJkiRJkqbCRNcsq6rr6H0c9mialg5sXdyvf3yS+cBRwNlDpn4I8PfAQcCzgftX1SHAB4CXNGO+Azyiqh4KfBJ4RdO+HDixqSBbCqwHngmc27Q9BFg9TtzPAE/te30scNbAmKFzJVmWZGWSlZfcds2QW5UkSZIkaRs1MtLNxzbKrYvbhv5qrvG2Li5KshrYB7gMOG/InJdW1c8AklwLfK1pXwsc2Ty/F3BWkj2B7YHrm/aLgHck+Rjwuar6aZJLgQ8lWQD8R1WNmeiqqp8nuS7JI4BrgAc08/3R2obNVVUrgBUAb7/3s2rIvUqSJEmSJFnRNduS7AtsBm4eMnT0jK696SWlThwyfkPf85G+1yP8IcH5buD0qjoIeCGwEKCqTgNeACwCLkmyf1VdABwO3AicmeQ5E8Q+C3g68DTg81X1R4mqKc4lSZIkSZI0KSa6ZlGS3YEz6CWbJlW1VFXrgJOB5U1F1HTsQi/ZBPDcvnXtV1Vrq+otwEpg/yR7AzdX1fuBDwIHTzDv54C/Bp7BHbctMsW5JEmSJEmSJsWti+0b3YK4ANgEnAm8o69/adM/6o1V9Zn+CapqVZI1wHHN9VvqVODTSW4ELgHu07S/NMmR9CrNrgK+0sR6eZKNwG3AuFVYVfWrJFcBB1TV98cYcsRk55IkSZIk6c6savNsL2FOMdHVsqqaP0Hf+fSqrMbq22ng9dFD5jm/7/URY/VV1ReAL4xx/UsG24CPNI9JGeucsdF7qKopzSVJkiRJkjQZbl2UJEmSJElSJ1jRdSeW5CDuuHVxQ1Ud2lL87wE7DDQ/u6rWthFfkiRJkiSpn4muO7EmobR4FuO3klCTJEmSJOlOa2Rktlcwp7h1UZIkSZIkSZ1gokuSJEmSJEmdYKJLkiRJkiRJneAZXZIkSZIkSTOlPKOrTVZ0SZIkSZIkqRNMdEmSJEmSJKkTTHRJkiRJkiSpEzyjS9u8tBhrYTa3FuufFvymtVgHL3lta7FOXfnG1mLdfupJrcViu/ntxdrU3ufhLqetaS3W1fc/sLVYAHu991mtxfrssee2FusNT/1ta7Hqd5tai7Xhmva+J9YP79ZarDZ/hm34dXvfp9r8TWl73xHhDa/+09Zive+NP28t1rPet6S1WHXV5a3FatPILetmewkzotb/rr1gLf77pm3bPeWvW4u1/9NPby1Wm46d7QWoU0x0SZI6p80klyRJkjShEQ+jb5NbFyVJkiRJktQJJrokSZIkSZLUCSa6JEmSJEmS1Ame0SVJkiRJkjRTyjO62mRFlyRJkiRJkjrBRJckSZIkSZI6wUSXJEmSJEmSOsEzuiRJkiRJkmbKiGd0tcmKLkmSJEmSJHWCiS5JkiRJkiR1gokuSZIkSZIkdYJndEmSJEmSJM2U8oyuNlnR1TFJNidZneTKJGuSvCzJvKbviCTrmv7Rx2MHrrsiyTlJdt3C+K8e0r9Pkiu2ZG5JkiRJkqSJmOjqnvVVtbiqHgQ8Dngi8Lq+/gub/tHH1weuOxC4BThxC+NPmOiSJEmSJEmaKSa6OqyqbgaWASclyRQuvRjYa7zOpjLsgiSfT3JVkjOSzEtyGrCoqQz72ATzz0/y/qbq7GtJFk1hbZIkSZIkSWMy0dVxVXUdvY/zHk3T0oGti/v1j08yHzgKOHvI1IcA/zdwELAf8NSqehV/qAw7foJr7we8p6k6+x/gaYMDkixLsjLJyktuu2YSdypJkiRJ0jZoZKSbj22Uia65ob+aa3Dr4rVN+6Ikq4FfAncDzhsy5/er6rqq2gx8Anj0FNZzfVWtbp5fBuwzOKCqVlTVkqpa8oid7jeFqSVJkiRJ0lxloqvjkuwLbAZuHjJ0fVUtBvYGtmf4GV015PVENvQ934x//VOSJEmSJG0FJro6LMnuwBnA6VU1qURUVa0DTgaWJ1kwwdBDktyn+YuOxwLfado3DrlOkiRJkiRpRpjo6p7Rw+CvBL4OfA14fV//4BldxwxOUFWrgDXAcRPEuRg4DbgCuB74fNO+Arh8yGH0kiRJkiRJW51bxjqmquZP0Hc+sMs4fTsNvD56SKjfVtWxY8zzSuCVE6zhBuDAvtdvHxJHkiRJkqQ7r2344PYusqJLkiRJkiRJnWBFl8aV5CDgzIHmDVV1KHD+kGt3A74xRtdRVfXLrbNCSZIkSZKkPzDRpXFV1Vpg8RZe+8stvVaSJEmSJGlLmOiSJEmSJEmaKeUZXW3yjC5JkiRJkiR1gokuSZIkSZIkdYKJLkmSJEmSJHWCZ3RJkiRJkiTNlBHP6GqTFV2SJEmSJEnqBBNdkiRJkiRJ6gS3LmqbVy3GWl/tfUnsNm9Ra7EWVlqLdfupJ7UWa+Gpp7cWq267pbVY2elurcU69PMvaC3W+t8uaC3Wj597Fvu+Yr/W4t06v7VQ/PqSW1uLtfvZH2wt1mUPemVrsbJDa6FaddV1u7cXrKPv4U3/clVrsUZo7+NVV6xpLda8P39Sa7E2nfXR1mLV7Rtbi9WmNv8t1WWbvtrez8vt4v/CS8P4VSJJ6pw2k1ySJEnShMozutrk1kVJkiRJkiR1gokuSZIkSZIkdYKJLkmSJEmSJHWCiS5JkiRJkiR1gofRS5IkSZIkzZQRD6NvkxVdkiRJkiRJ6gQTXZIkSZIkSeoEE12SJEmSJEnqBM/okiRJkiRJminlGV1tsqJLkiRJkiRJnWCiS5IkSZIkSZ1gokuSJEmSJEmdMOcSXUk2J1md5Moka5K8LMm8pu+IJOua/tHHYweuuyLJOUl2nULMDyc5ZrJjkrw0yV2mcY8nJLnnFl77htF7ns78ST6Q5IAhY6Z1n5IkSZIkbfNGRrr52EbNuUQXsL6qFlfVg4DHAU8EXtfXf2HTP/r4+sB1BwK3ACfO4BpfCkwnAXQCsEWJrqo6pe+et3j+qnpBVV01ZJ7p3qckSZIkSdLvzcVE1+9V1c3AMuCkJJnCpRcDe43XmZ7Tk1yV5EvAHn19D0vy7SSXJTk3yZ4D155ML4n0rSTfatrem2RlU4X2+onmaqrClgAfayrQFiU5JcmlTTXaionudaCybFLzjzPP+UmWNM8fn+TiJD9I8ukkO411n5IkSZIkSdMxpxNdAFV1Hb33YTQZtXRg6+J+/eOTzAeOAs6eYNqnAA8ADgL+Fnhkc+0C4N3AMVX1MOBDwJsG1vMu4CbgyKo6sml+TVUtAR4MPCbJg8ebq6o+A6wEjm8q0NYDp1fVw5tqtEXAk4a9L1Ocf6J57g68FnhsVR3cXPuyce6z/7plTXJv5SW3XTNsuZIkSZIkSWw32wvYRvRXOF1YVWMlghYlWQ3sA1wGnDfBfIcDn6iqzcBNSb7ZtD8AOBA4rymqmg/8bBLre3qSZfQ+XnsCBwAjU5jryCSvoLdN8G7AlcA5Q2Ju6VoHPaJZ70XNPNvTq4ibUFWtAFYAvP3ez6otiCtJkiRJ0uzbhs+z6qI5n+hKsi+wGbgZeOAEQ9dX1eIkuwBfpHdG17smGD9WcibAlVV12BTWdx9gOfDwqvpVkg8DCyc7V5KFwL8CS6rqJ0lOba4fGnqqa51gnvOq6hnTnEeSJEmSJGlCc3rrYpLdgTPobe2bVNVQVa0DTgaWN9v7xnIBcFyS+c0ZXKNb864Gdk9yWBN/QZIHjXH9rcDOzfO7Ar8B1iW5B/CESczVf/1oUusXSXYCJvxXABTrAAAgAElEQVTrj30mO/8wlwCPSnLfZp67JLn/FswjSZIkSZI0oblY0TW6BXEBsAk4E3hHX//Spn/UG5tzqX6vqlYlWQMc11w/6PPAnwNrgR8B326u+11zmPu7msqw7YB/obeVsN8K4CtJflZVRyZZ1Yy5DrhoEnN9GDgjyXrgMOD9zVpuAC6dxHtUU5l/gnO6qqp+nuQE4BNJdmjaX9u8L390n5NYlyRJkiRJ0rjmXKKrquZP0Hc+sMs4fTsNvD56gnkKOGmcvtX0zvAabD+h7/m76R0Ef4e+Sc71WeCzfU2vbR6TsRtwyxTnHzbPN4GHjzHPH92nJEmSJEnSdMy5RJfGl+RD9A6s/8405zkPWFtV12+VhUmSJEmSdGc1uZOStJWY6JqGJAdxx62LG6rq0NlYz1QkeQ/wqIHmd1bV86c4z+eB+ww0v7Kqzp3O+iRJkiRJkqbKRNc0VNVaYPFsr2NLVNWJW2mep2yNeSRJkiRJkqZrTv/VRUmSJEmSJHWHFV2SJEmSJEkzZWRktlcwp1jRJUmSJEmSpE4w0SVJkiRJkqROMNElSZIkSZKkTvCMLkmSJEmSpJniGV2tsqJLkiRJkiRJnWBFlzRLNtNeVn9za5GA7ea3Fqpuu6W1WNnpbq3Fql//orVYbdq4qb3Pjav/6QYe8Np9W4u3qbVIkBZ/RdXm5+KCVGuxuqpIa7G6+nvpefP9PJyuuu1X7cW6fWN7sda3F6tNbf5bqtMVLS3+cJ6X9r7XS3dWVnRJkjqnzSSXJEmSpG2HFV2SJEmSJEkzpTpc0bgNsqJLkiRJkiRJnWCiS5IkSZIkSZ1gokuSJEmSJEmdYKJLkiRJkiRJneBh9JIkSZIkSTNlxMPo22RFlyRJkiRJkjrBRJckSZIkSZI6wUSXJEmSJEmSOsEzuiRJkiRJkmZK1WyvYE6xokuSJEmSJEmdYKJLkiRJkiRJnWCia4qSbE6yOsmVSdYkeVmSeU3fEUnWNf2jj8cOXHdFknOS7Dq7dzK+JF8etr4kr57EPN8d0r9rkhdPdX2SJEmSJElj8YyuqVtfVYsBkuwBfBzYBXhd039hVT1pyHUfAU4E3tTCeqesqp44iWGvBv5pyDyPHDLHrsCLgX+d5NIkSZIkSbpzGRmZ7RXMKVZ0TUNV3QwsA05KkilcejGw13idTWXYt5N8KsmPkpyW5Pgk30+yNsl+zbijk3wvyaokX09yj6b9MX0VZauS7JxkzyQX9FWVLZ0g/g1J7t48f1YTd3WS9yWZn+Q0YFHT9rEJ5rmt7/nLk1ya5PIkr2+aTwP2a+Z528C1y5KsTLLyktuuGf6OSpIkSZKkOc9E1zRV1XX03sc9mqalA1sX9+sfn2Q+cBRw9pCpHwL8PXAQ8Gzg/lV1CPAB4CXNmO8Aj6iqhwKfBF7RtC8HTmwqyJYC64FnAuc2bQ8BVg+7tyQPBI4FHtVctxk4vqpeRVOhVlXHT2KexwP3Aw4BFgMPS3I48Crg2mael/dfU1UrqmpJVS15xE73GxZCkiRJkiTJrYtbSX8113hbFxclWQ3sA1wGnDdkzkur6mcASa4Fvta0rwWObJ7fCzgryZ7A9sD1TftFwDuaaqvPVdVPk1wKfCjJAuA/qmpoooteQu5hwKVNwdoi4OZJXDfo8c1jVfN6J3qJr//egrkkSZIkSZLGZEXXNCXZl16l07AE0OgZXXvTS0qdOGT8hr7nI32vR/hDgvLdwOlVdRDwQmAhQFWdBryAXmLqkiT7V9UFwOHAjcCZSZ4zmdsDPtJUXC2uqgdU1amTuG6sed7cN899q+qDWzCPJEmSJEl3LiMj3Xxso0x0TUOS3YEz6CWbajLXVNU64GRgeVNdNR270EtcATy3b137VdXaqnoLsBLYP8newM1V9X7gg8DBk5j/G8AxzaH7JLlbMw/Axims/1zg+Ul2aubZq5nzVmDnSc4hSZIkSZI0IRNdUzd6CPuVwNfpbSl8fV//4BldxwxOUFWrgDXAcdNcy6nAp5NcCPyir/2lzYHza+idz/UV4AhgdZJVwNOAdw6Zu6rqKuC1wNeSXE5vu+WeTf8K4PKJDqMHqpnoa/T+OuXFSdYCnwF2rqpfAhc1a33bBPNIkiRJkiQN5RldU1RV8yfoO59eldVYfTsNvD56yDzn970+Yqy+qvoC8IUxrn/JYBvwkeYxoeaw/J2BXzdznQWcNUaMVwKvnGCe3YBb+sa/kzGSa1X1zGFrkiRJkiRJmgwrujToSuADVbVxSydIck/gYuDtW21VkiRJkiRJQ1jRNYuSHAScOdC8oaoObSn+94AdBpr/pqrWTmGO3eid5TXosGZroiRJkiRJc1dtuwe3d5GJrlnUJJQWz2L8aSfUmmTWrN2DJEmSJEnSKLcuSpIkSZIkqRNMdEmSJEmSJKkT3LooSZIkSZI0Q2qkZnsJc4oVXZIkSZIkSeoEE12SJEmSJEnqBBNdkiRJkiRJ6gTP6JJmyfwW88zzW4sEbNrcWqjsdLfWYtWvf9FarNz17q3FOn/NBzjiIS9oJdZJm2/lfTvcpZVY1512Dfu+Yr9WYkG7P0xrpL1YbX4ubqy0FqurQnvnf7T5m9L2fqrAyGY/D6erze8bWbigtVhdteHtp7Dw1NNnexl3fm3+cNad04ifI22yokuS5rC2klxAa0kuoNUklyRJd1YmuSR1kYkuSZIkSZIkdYKJLkmSJEmSJHWCZ3RJkiRJkiTNFM9xa5UVXZIkSZIkSeoEE12SJEmSJEnqBBNdkiRJkiRJ6gQTXZIkSZIkSeoED6OXJEmSJEmaKSM12yuYU6zokiRJkiRJUieY6JIkSZIkSVInmOiSJEmSJElSJ3hGlyRJkiRJ0kwZGZntFcwpVnRJkiRJkiSpE+Z0oivJ5iSrk1yZZE2SlyWZ1/QdkWRd0z/6eOzAdVckOSfJri2u+YgkXxwyZnGSJ27h/EuSvGu68yd5cpJXDRlzRJJHbsk6JUmSJEmSBs31rYvrq2oxQJI9gI8DuwCva/ovrKonDbnuI8CJwJums5Ak86tq83Tm6LMYWAJ8eaoXVtVKYOV056+qs4Gzh8xzBHAb8N0pLFGSJEmSJGlMc7qiq19V3QwsA05KkilcejGw13idTdXSBUk+n+SqJGf0VY3dluQNSb4HHJbkqCSrkqxN8qEkOzTj/jLJfyb5DvDUvrl3bMZd2lz3V0m2B94AHNtUnR2b5JAk323GfDfJA4as94tTmX+ceU5IcnrzfPckn23muTTJo5LsA/wd8A/NPEsHrl+WZGWSlZfcds3QD4IkSZIkSdukkZFuPrZRc72i649U1XVNEmqPpmlpktV9Q55WVdeOvkgyHzgK+OCQqQ8BDgD+C/gqvWTVZ4AdgSuq6pQkC4FrgKOq6kdJPgq8KMkZwPuBPwd+DJzVN+9rgG9W1fOb7ZPfB74OnAIsqaqTmnXeFTi8qjY12y//CXjaJN6SSc0/Ce8E/rmqvpPk3sC5VfXA5t5uq6q3D15QVSuAFQBvv/ezapJxJEmSJEnSHGai6476q7nG27q4qEmA7QNcBpw3ZM7vV9V1AEk+ATyaXqJrM/DZZswDgOur6kfN69Etkec37dc01/87vcozgMcDT06yvHm9ELj3GPF3AT6S5H5AAQuGrHfUZOcf5rHAAX2FcndNsvMWzCNJkiRJkjQuE119kuxLL/l0M/DACYaur6rFSXYBvkgvITXRAe6DFUmjr2/vO5drou2S41U0hV6V2dV/1JgcOjDuH4FvVdVTmi2D508Qa0vmH2YecFhVrR+YZ4rTSJIkSZIkjc8zuhpJdgfOAE6vqkltlauqdcDJwPIkE1VJHZLkPs22yGOB74wx5j+BfZLct3n9bODbTft9kuzXtD+j75pzgZeMnimW5KFN+61Af8XULsCNzfMTJnNvU5x/mK8Bv9/mmGTxFs4jSZIkSdKdS1U3H9uouZ7oWtQchH4lvbOnvga8vq9/adM/+jhmcIKqWgWsAY6bIM7FwGnAFcD1wOfHmOd24HnAp5OsBUaAM5r2ZcCXmsPo/6vvsn+ktw3x8iRXNK8BvkVvq+DoYfFvBd6c5CJg/pD3BP5QQTbZ+YfNczKwJMnlSa6idwg9wDnAU8Y6jF6SJEmSJGmq5vTWxaoaN+lTVefTq4Qaq2+ngddHDwn126q6Q0JojHm+ATx0jHFfBfYfo3098MIx2m8BHj7QfP++5//PBGvdDbhlC+afaJ5f0KtkG5znR8CDh8wjSZIkSZI0KXM60aU/luTJwJuA509znr+jt0XyqVthWZIkSZIkSZNiomsrSXIQcOZA84aqOpTJH/7emiR/AbxloPn6qrpD5diQeZ4H/P1A80VVddB01idJkiRJkjRVJrq2kqpaCyweOnAbUVXn0jtsfrrz/Bvwb9NfkSRJkiRJHTQyMtsrmFPm+mH0kiRJkiRJ6ggTXZIkSZIkSeoEE12SJEmSJEnqBM/okiRJkiRJmikjNdsrmFOs6JIkSZIkSVInmOiSJEmSJElSJ7h1UerzJ9ttaC3Wo0d2bC3Ws5+3qbVYu5y2prVYh37+Ba3F6qrz13ygtVgvWvKK1mJx2o18Zd0PWwt3yo4PbS3WyTfu3Fqsnz2kva+xey5s774eUTu0FmtjWgvFNxfNby3Wbh39K+mPv/nm1mK9+C67txbrwLetbi3Wzv98dWux5qe939kvmrd9a7Fa5b+ltoprf/Oz1mJ9euGDWosl3VmZ6JIkdU6bSS5JkiRpQtXR3xBto9y6KEmSJEmSpE4w0SVJkiRJkqROMNElSZIkSZKkTvCMLkmSJEmSpJkyUrO9gjnFii5JkiRJkiR1gokuSZIkSZIkdYKJLkmSJEmSJHWCiS5JkiRJkiR1gofRS5IkSZIkzZAaGZntJcwpVnRJkiRJkiSpE0x0SZIkSZIkqRNMdEmSJEmSJKkTPKNLkiRJkiRppozUbK9gTrGiq5Fkc5LVSa5MsibJy5LMa/qOSLKu6R99PHbguiuSnJNk1ynE/HCSYyY7JslLk9xlOvfZN+8JSe65Nebqm/OIJF/cmnNKkiRJkiRNlomuP1hfVYur6kHA44AnAq/r67+w6R99fH3gugOBW4ATZ3CNLwWmlOhKMn+crhOArZrokiRJkiRJGpXkL5NcneTHSV41zpinJ7mqKTz6+HRjmugaQ1XdDCwDTkqSKVx6MbDXeJ3pOb35AH4J2KOv72FJvp3ksiTnJtlz4NqT6SWmvpXkW03be5OsbD4ZXt839oYkpyT5DvA3Y6zjGGAJ8LGmGm1RM/7SpjJtxeh9Jzk/yZLm+d2T3DCZNyLJjkk+1My5KslfNe0nJPlCkq82n+yvG+f6Zc29rbzktmsmE1KSJEmSJG0jmsKb9wBPAA4AnpHkgIEx9wP+N/CopvDopdONa6JrHFV1Hb33ZzQZtXRg6+J+/eObD+BRwNkTTPsU4AHAQcDfAo9srl0AvBs4pqoeBnwIeNPAet4F3AQcWVVHNs2vqaolwIOBxyR5cN8lt1fVo6vqk2Pc22eAlcDxTTXaeuD0qnp4U5m2CHjShG/QcK8BvllVDweOBN6WZMem7xDgeGAx8DejibSBNa6oqiVVteQRO91vmkuRJEmSJGmW1Eg3H8MdAvy4qq6rqt8BnwT+amDM3wLvqapfwe8Lj6bFw+gn1l/NdWFVjZX8WZRkNbAPcBlw3gTzHQ58oqo2Azcl+WbT/gDgQOC8ppBqPvCzSazv6UmW0fs47kkvQ3p503fWJK7vd2SSV9DbGnk34ErgnCnO0e/xwJOTLG9eLwTu3Tw/r6p+CZDkc8Cj6SXeJEmSJElSN+wF/KTv9U+BQwfG3B8gyUX0ciGnVtVXpxPURNc4kuwLbAZuBh44wdD1VbU4yS7AF+md0fWuCcaP9ecWAlxZVYdNYX33AZYDD6+qXyX5ML1k0qjfTGGuhcC/Akuq6idJTu2baxN/qPxbOMbl404LPK2qrh6IdSh3fA/8ExSSJEmSJN2JNIU3y/qaVlTViv4hY1w2+P//2wH3A44A7gVcmOTAqvqfLV2XWxfHkGR34Ax62/kmlYSpqnXAycDyZiviWC4AjksyvzmDa3QL4tXA7kkOa+IvSPKgMa6/Fdi5eX5XesmsdUnuQW/P61T0zzWawPpFkp2A/r8EeQPwsOb5hH8hcsC5wEv6zvp6aF/f45LcLcki4K+Bi6a4dkmSJEmSNIv6jxxqHisGhvwU+LO+1/eidyTT4JgvVNXGqrqeXn5kWucXWdH1B6NbEBfQq2I6E3hHX//Spn/UG5uzrn6vqlYlWQMc11w/6PPAnwNrgR8B326u+11zQPy7msqw7YB/obd9sN8K4CtJflZVRyZZ1Yy5jqkniz4MnJFkPXAY8P5mXTcAl/aNezvwqSTPBr7J5P1jcw+XN8muG/jDuV/foff+3Bf4eFW5bVGSJEmS1E0jc3YT06XA/ZodaTfSy5U8c2DMfwDPAD6c5O70tjJeN52gJroaVTV/gr7zgV3G6dtp4PXRE8xTwEnj9K2md4bXYPsJfc/fTe/Q+jv0DVyzz3hr6BvzWeCzfU2vbR6D4/6T3mH3/ePGm/N84Pzm+XrgheMMvbmqxnwfJEmSJEnSnV9VbUpyEr0dX/OBD1XVlUneAKysqrObvscnuYre8VEvHz3Te0uZ6JIkSZIkSdJWV1VfBr480HZK3/MCXtY8tgoTXTMgyUHccevihqoa/OsCbazlPcCjBprfWVX/No05/wJ4y0Dz9VX1lGHXVtWH6W2blCRJkiRJ2qpMdM2AqloLLJ7tdQBU1YkzMOe59MoLJUmSJEmSthkmuiRJkiRJkmbKyMhsr2BOmTfbC5AkSZIkSZK2BhNdkiRJkiRJ6gQTXZIkSZIkSeoEz+iSJEmSJEmaKSM12yuYU6zokiRJkiRJUidY0SX1+UF2bC3WhrQWivd+uL0v9avvf2Brsdb/dkFrsTZumt9arAXbbW4t1ouWvKK1WO9d+dbWYgHccszzW4v1+WtbC8WLb1/YWqw9dmzvLwStvX2n1mLd1OK/frZr8Re4B/+uvR8sP23v2y8bW/x5efZd92ot1rmbWgvFZUfu0lqs3/60vd+j33D93VqLtXFTi5+ILbrHXX/TarzNm7tZZ3GPA/ZoLdayqze0FqtNS2d7AeqUbn6nkSTNaW0muSRJ0nBdTXJJ2vZY0SVJkiRJkjRTqr0qeVnRJUmSJEmSpI4w0SVJkiRJkqROMNElSZIkSZKkTvCMLkmSJEmSpJky0uKfYZYVXZIkSZIkSeoGE12SJEmSJEnqBBNdkiRJkiRJ6gQTXZIkSZIkSeoED6OXJEmSJEmaITUyMttLmFOs6JIkSZIkSVInmOiS/n/27j5cr6q+8//7kxAgEARBsJURo4hWiBowPDiKDYJa/UkrFQuKtpm2QxlBRIcWFNEKbdVq7eXDFCYjFqvWMqC2wFQRlShQUEISSPCJKaBWHdGgwWjkIef7++Psgzc35zk5+5yzz/t1XfeVfa+11/p+93lK+LLWOpIkSZIkqRMsdEmSJEmSJKkTLHTNQkm2JlmX5LYktyR5Y5J5Td/yJJua/qHXMX3jNiS5Iskek4z/5jH690jy2nHMszjJqyaTgyRJkiRJs8JAdfM1Q1nomp22VNXSqjoIeAHwEuBtPf3XNv1Dr8/3jVsC3AOcOsn4oxa6gD2AMQtdwGLAQpckSZIkSdouLHTNclV1N3AycFqSTGDoDcC+I3U2K8O+nOTTSb6W5MIk85K8E1jYrAz7+AjD3wns39zz7gx6d7OSbH2SE3ruO7K57w198U9OsjrJ6hs33z6Bx5IkSZIkSXPVDtOdgLZdVd3RbF3cp2k6Msm6nlteXlX/PvQmyXzgaOCiMaY+DDgQ+DbwWeB3q+rsJKdV1dJRxp0NLBm6J8nLgaXAM4HHADcl+XJz35lV9dJhnmklsBLgPfu9euauiZQkSZIkSTOGha7u6F3Nde1wxSOalVgMbhm8Gbh6jDm/WlV3ACT5BPBc4LJJ5PZc4BNVtRX4YZIvAYcC905iLkmSJEmSZo8ZfJ5VF7l1sQOSPAnYCtw9xq1bmlVWTwB2ZOwzuvq/Gyf73TmRLZWSJEmSJEmTYqFrlkuyN3Ah8MGqGlchqqo2AacDZyZZMMqthyV5YrMt8gTguqb9gTHG/QzYref9l4ETksxv8n0e8NVh7pMkSZIkSZo0C12z09Bh8LcBnwc+B7y9p3/ogPeh1/H9E1TVWuAW4MRR4tzA4IHxG4A7gU837SuBW0c6jL6qNgLXN4fPv7sZd2sT74vAn1XV/2vaHkxyS/9h9JIkSZIkSRPlGV2zUFXNH6VvFbD7CH2L+t4fO0aoX1TVCf2NVXUWcNYYOb6qr+lPm1fvPQ8weCi+JEmSJEndVAPTncGc4oouSZIkSZIkdYIruua4JE8HPtrXfF9VHQ6sGmPsXsAXhuk6utm+KEmSJEmS1BoLXXNcVa0Hlk5y7MbJjpUkSZIkSdre3LooSZIkSZKkTnBFlyRJkiRJ0lQZqOnOYE5xRZckSZIkSZI6wUKXJEmSJEmSOsFClyRJkiRJkjrBM7okSZIkSZKmSHlGV6ssdEk9ljz4y9Zi/f3OrYXiqPvbC7bvBa9uLdbAbatbi8W8FhfADgy0Fuozb/p8a7HuOf4PW4sFsOdlH24t1l5PP7e1WM9c9sPWYi08dmlrsR7/ldtai/WhL/xaa7HSWiR4wfLvtxbr76/ft7VY81r8b4MnvKS9n79c3l6oXf68vZ9RO3/rptZiPfrOf28tVv1kU2ux2jRv8YGtxaoHHmgtVtt2eOkftxZrzTNPai2WNFu5dVGS1DltFrkkSZIkzRwWuiRJkiRJktQJbl2UJEmSJEmaKp7R1SpXdEmSJEmSJKkTLHRJkiRJkiSpEyx0SZIkSZIkqRM8o0uSJEmSJGmqDAxMdwZziiu6JEmSJEmS1AkWuiRJkiRJktQJFrokSZIkSZLUCRa6JEmSJEmS1AkeRi9JkiRJkjRVBmq6M5hTXNElSZIkSZKkTrDQJUmSJEmSpE6w0DUDJdmaZF2S25LckuSNSeY1fcuTbGr6h17H9I3bkOSKJHtM75OMLsmKJI+b7jwkSZIkSVI3eEbXzLSlqpYCJNkH+Edgd+BtTf+1VfXSMcZ9BDgV+MsW8p2sFcAG4PvTnIckSZIkSVPDM7pa5YquGa6q7gZOBk5LkgkMvQHYd6TOJL+e5Ms9K8CObNo399xzfJKLm+uLk1yQ5JokdyT5zSQfTvL1oXtGibU5yd8kWZPkC0n2TnI8sAz4eJPDwr4xJydZnWT1jZtvn8BjS5IkSZKkucpC1yxQVXcw+Lnap2k6sm/r4v699yeZDxwNXD7KtK8CrmpWgD0TWDeOVB4NPB94A3AF8LfAQcDTkywdZdyuwJqqOgT4EvC2qroMWA2cVFVLq2pL3zOvrKplVbXsiEUHjCM1SZIkSZI017l1cfboXc010tbFhUnWAYuBm4GrR5nvJuDDSRYA/1xV4yl0XVFVlWQ98MOqWg+Q5LYm5khzDACXNNcfAz41jliSJEmSJEkT4oquWSDJk4CtwN1j3Dp0RtcTgB0ZPKNrWFX1ZeB5wPeAjyb5/aGuntt27ht2X/PnQM/10PuJFE3doCxJkiRJmhOqqpOvmcpC1wyXZG/gQuCDNc6vpKraBJwOnNms2Bpu3icAd1fV/wIuAg5pun6Y5GnNb3k8bpsfYNA84Pjm+lXAdc31z4DdtlMMSZIkSZI0x7l1cWYa2oK4AHgQ+Cjw3p7+I5v+IX/RnHn1kKpam+QW4MRmfL/lwJ8meQDYDAyt6DobuBL4LoO/EXHRtj8OPwcOSnIzsAk4oWm/GLgwyRbg2f3ndEmSJEmSJE2Eha4ZqKrmj9K3Cth9hL5Ffe+PHWWejwAfGab9MuCyYdpX9FzfBSwZrm+UeOcC5/a1fRL45FhjJUmSJEmSxsNClyRJkiRJ0lQZmLnnWXWRha6OS/J0Hrl18b6qOnwKYn0F2Kmv+TX9K80kSZIkSZKmgoWujquq9cDSlmJt9+KZJEmSJEnSePlbFyVJkiRJktQJFrokSZIkSZLUCW5dlCRJkiRJmioeRt8qV3RJkiRJkiSpEyx0SZIkSZIkqRMsdEmSJEmSJKkTUuVeUc1s79nv1a19kT6QtiLBq/f5QWuxrvver7UWa4D2Pog/m99aKB5sL1Srhyemxb8CqsXvL4C9Hmzv4V62/vzWYr3jWee2FmufgfY+aW/6yY2txTpnzyNai9WmU8//T63F+rtz/6O1WFtb/Nnx6K3txdrU4v9u3m2gvVht/h3W5t/Nbf8dptlllxa/xxZvva+9YC163v+7tNPfZZv+yzGdLLzs/vefn5GfN1d0SZI6p80ilyRJkqSZw0KXJEmSJEmSOsFClyRJkiRJkjqhzW30kiRJkiRJc8uAx2q0yRVdkiRJkiRJ6gQLXZIkSZIkSeoEC12SJEmSJEnqBM/okiRJkiRJmioD053A3OKKLkmSJEmSJHWChS5JkiRJkiR1goUuSZIkSZIkdYKFLkmSJEmSJHWCh9FLkiRJkiRNkRqo6U5hTpkzK7qSbE2yLsltSW5J8sYk85q+5Uk2Nf1Dr2P6xm1IckWSPSYZ/83b8VnOSLJLz/t/nUxeSTZvr5yGy0uSJEmSJKlNc6bQBWypqqVVdRDwAuAlwNt6+q9t+oden+8btwS4Bzh1kvHHXejKoNE+N2cADxWUquolVfXTSea1PT0sL0mSJEmSpDbNpULXQ6rqbuBk4LQkmcDQG4B9R+psVoZ9Ocmnk3wtyYVJ5iV5J7CwWRn28RHGLk7y9SR/B6wBHp/kgiSrm1Vob2/uOx14HHBNkmuatruSPKa5fmOz+mxDkjPG+2BJ/jTJTUlu7Ym1OMk3knykab9spBVbI+T1iPyHyXdZklXjzVOSJEmSJGkkc7LQBVBVdzD4/Ps0TUf2bV3cv9CUP5AAACAASURBVPf+JPOBo4HLx5j6MOC/A08H9gd+t6rO5lcrw04aZexTgX+oqoOr6tvAOVW1DHgG8JtJnlFV7we+DxxVVUf15fgs4L8AhwNHAP81ycFjfSySvBA4oMl9KfCsJM/ryWllVT0DuBd47XBzjJDXI/IfK5eenE5uimSrb9x8+3iHSZIkSZI0swxUN18z1JwtdDV6V3P1b13896Z9YZJ1wEZgT+DqMeb8alXdUVVbgU8Az51APt+uqht73v9ekjXAWuAg4MAxxj8X+HRV/byqNgOfAo4cR9wXNq+1DK4m+w0GC18A362q65vrjzGx55lo/g+pqpVVtayqlh2x6ICxB0iSJEmSpDlvzha6kjwJ2ArcPcatW6pqKfAEYEfGPqOrv6w5kTLnz3vyeyJwJnB0s5rq/wA7jzF+Itsw+8e9o6fI9+Squqjpm9TzjJH/g/zqa2+sZ5IkSZIkSRqXOVnoSrI3cCHwwaoaV+GmqjYBpwNnJlkwyq2HJXlic5j8CcB1TfsDY4zr9ygGC1+bkjwWeHFP38+A3YYZ82XgZUl2SbIrcBxw7ThiXQX8YZJFAEn2TTK0pXO/JM9url/Z8zzD6c1rtPzvAp7VXL98HPlJkiRJkiSNaYfpTqBFQ1sQFzC4ouijwHt7+o9s+of8RVVd1jtBVa1NcgtwYjN+ODcA72TwjK4vA59u2lcCtyZZM8Y5XUOxbkmyFrgNuAO4vqd7JfCZJD/oPaerqtYkuRj4atP0oapaO45Yn0vyNOCG5mz+zcCrGVzx9nXgD5L8T+B24IJRpnpYXqPk/3bgoiRvBr4yVn6SJEmSJM1aA9OdwNwyZwpdVTV/lL5VwO4j9C3qe3/sGKF+UVUnDDPPWcBZo+RwF7Ckr23FCPd+APhAz/vFPdfv5eEFvBH1PltVvQ94X29/ksXAQFWdMs75+vNaMcJ91wJPGc+ckiRJkiRJ4zUnty5KkiRJkiSpe+bMiq7tKcnTeeTWxfuq6nBg1Rhj9wK+MEzX0VW1cftkuH3iDbfKrJnz08AT+5rPqqqrJpunJEmSJEnStrLQNQlVtR5YOsmxGyc7dqbEq6rjtud8kiRJkiR1VQ2M63fgaTtx66IkSZIkSZI6wUKXJEmSJEmSOsFClyRJkiRJkjrBQpckSZIkSZI6wcPoJUmSJEmSpsrAdCcwt7iiS5IkSZIkSZ1goUuSJEmSJEmd4NZFzXhpMdbvP+77rcV69jd/1Fqs4x+1d2uxzvvdX7QW694bf9ZarLT4vwWqxaXNp39vt9ZivfaXO7cWC+CZy37YWqx3POvc1mK96ebzW4v1o9/+o9ZiPf7+Q1uL9Y3WIkG1GOtj5/xHa7HmtfkzscUP4v4P3N9arFt22rG1WMcf/N3WYi3Yp73nmvfoXVqLVQ92c9/R5tWbW4vV5r9v2rZw3/Z+UO3/2e+1FqtN90x3AuoUC12SpM5ps8glSZIkjaYG2vxfX3LroiRJkiRJkjrBQpckSZIkSZI6wUKXJEmSJEmSOsEzuiRJkiRJkqZKh38Zw0zkii5JkiRJkiR1goUuSZIkSZIkdYKFLkmSJEmSJHWCZ3RJkiRJkiRNkfKMrla5okuSJEmSJEmdYKFLkiRJkiRJnWChS5IkSZIkSZ1goUuSJEmSJEmdMCsLXUm2JlmX5LYktyR5Y5J5Td/yJJua/qHXMX3jNiS5IskeU5jj8iT/eZJjVyT54Ah9/zqVeTcx9kjy2kmOvSvJY5rrf2v+XJzkVdszR0mSJEmSZoWBjr5mqFlZ6AK2VNXSqjoIeAHwEuBtPf3XNv1Dr8/3jVsC3AOcOoU5LgcmVegaTVW9pKp+ur3n7bMHMGyhK8n88U5SVUPPvxiw0CVJkiRJkqbUbC10PaSq7gZOBk5LkgkMvQHYd6TOZkXWl5L87yTfSvLOJCcl+WqS9Un2b+7bO8knk9zUvJ6TZDFwCvCGZgXZkSPEuDjJhUmubWK8tKf7cUk+m+T2JH/dM+ahFVMjzPn7SW5tVrp9dKQcm/Y/T/LhJKuS3JHk9GaadwL7N7m/u/lYXJPkH4H1zdh/TnJzs6ru5BFy2dwz35HNfG9onndpz33XJ3nGSM8kSZIkSZI0HjtMdwLbQ1Xd0Wxd3KdpOjLJup5bXl5V/z70plmVdDRw0RhTPxN4GoOrv+4APlRVhyV5PfA64AzgfcDfVtV1SfYDrqqqpyW5ENhcVe8ZI8Zi4DeB/YFrkjy5aV8KHAzcB3wzyQeq6rujTZTkIOAc4DlV9eMkezZdj8ixeS6A3wCOAnZr4lwAnA0sqaqlzbzLgcOatjubcX9YVfckWQjclOSTVbVxhNTOBs6sqpc2890DrADOSPIUYKequrXvWU5msIDJ8Y8+jCMWHTDao0uSJEmSJHWj0NXoXc117VBRpc/CpgC2GLgZuHqMOW+qqh8AJPl34HNN+3oGi0MAxwAH9iwme1SS3SaQ9/+uqgHg9iR3MFh4AvhCVW1qYn8NeAIwaqELeD5wWVX9GKCq7hlHjv+nqu4D7ktyN/DYEeb+ak+RC+D0JMc1148HDgBGKnT1uxQ4N8mfAn8IXNx/Q1WtBFYC/M1+r65xzitJkiRJ0oxSM/g8qy7qRKEryZOArcDd/Gql0nC2VNXSJLsDVzJ4Rtf7R7n/vp7rgZ73A/zqYzcPeHZVbenLabzp9xdxht73xt7K+D5XGWa+sXIcb5yf94xbzmDx7NlV9Yskq4Cdx5EfAM2Yq4HfAX4PWDbesZIkSZIkSSOZ9Wd0JdkbuBD4YFWNa+VPs1LqdODMJAu2MYXPAaf15DN09tTPGNwOOJZXJJnXnPn1JOCb25DLF4DfS7JXk8vQ1sWRchzJWLnvDvykKVj9BnDEJOb7EINFxpt6Vp5JkiRJkiRN2mwtdC1sDja/Dfg8g4Wct/f0Dx18PvQ6vn+CqloL3AKcuI25nA4saw6A/xqDh9ADXAEcN9ph9I1vAl8CPgOcUlW/nGwiVXUb8JfAl5LcArx3jBxHmmcjcH2SDUnePcwtnwV2SHIrcD5w4xip3Qo82ByQ/4Ymxs3AvcDfj/PxJEmSJEmSRjUrty5W1fxR+lYxuOJouL5Ffe+PHWOeVT3vlw/X15yHdcIw478FjOc3CV5fVW/oG3sxPedW9Z43VlWLR5usqj4CfKSvbaQc/7zv/ZKe61f13b6qp+8+4MUjxF/cc72o+fMBBg//f0iSxzFYaP0ckiRJkiR1lWd0tWq2rujSLJbk94GvAOc0B/FLkiRJkiRts1m5omt7SvJ04KN9zfdV1eHbMcY5wCv6mi+tqhWTnG8vBs/j6nd0s+1wRquqfwD+YbrzkCRJkiRJ3TLnC11VtR4Y63D2bY3xlwyenbW95tvIFOcsSZIkSZI028z5QpckSZIkSdJU8cCednlGlyRJkiRJkjrBQpckSZIkSZI6wUKXJEmSJEmSOsFClyRJkiRJkjrBw+glSZIkSZKmiIfRt8sVXZIkSZIkSeoEV3RpxqsWY912xz6txXrebnu0FuvRNb+1WHX/g63F2vvyi1qLVff+uLVYedRjWov1g2f+cWux9tm1vf+V9YOv78aT/mz/1uLtc+vG1mL96Lf/qLVYbX6P7XrQWa3FgvZ+Jqa1SLD4gQdai7VhpwWtxWrTfnttai3W2s17txZr4XOf1Fqsec9/aWuxHrzkH1qLxYNb24vVosf8c3s/57vswc+293F89DWfaS2WNFu5okuS1DltFrkkSZIkzRyu6JIkSZIkSZointHVLld0SZIkSZIkqRMsdEmSJEmSJKkTLHRJkiRJkiSpEzyjS5IkSZIkaapUm7+HWa7okiRJkiRJUidY6JIkSZIkSVInWOiSJEmSJElSJ3hGlyRJkiRJ0hSpgenOYG5xRZckSZIkSZI6wUKXJEmSJEmSOsFClyRJkiRJkjqhE4WuJFuTrEtyW5Jbkrwxybymb3mSTU3/0OuYvnEbklyRZI9RYixOsqGl5zkjyS5txNreOSS5OMnxzfWHkhzYXL95e+coSZIkSZLUqxOFLmBLVS2tqoOAFwAvAd7W039t0z/0+nzfuCXAPcCpLec9kjOAaS10jZZDkvnjmaCq/riqvta8tdAlSZIkSZpzaiCdfM1UXSl0PaSq7gZOBk5LMpGP/A3AvuO5Mcn8JO9OclOSW5P8SdO+PMmXk3w6ydeSXDi0smyEeV6Y5IYka5JcmmRRktOBxwHXJLmmue+CJKubFWtvHyO3Q5P8W7Oy7atJdhsj31VJLkvyjSQfz6Dhctic5LwkXwGeneStzXwbkqwc7mPdzL0syTuBhc3quY8nOT/J63vu+8smpiRJkiRJ0qR1rtAFUFV3MPhs+zRNR/ZtXdy/9/5mhdLRwOXjDPFHwKaqOhQ4FPivSZ7Y9B0G/Hfg6cD+wO8ON0GSxwBvAY6pqkOA1cAbq+r9wPeBo6rqqOb2c6pqGfAM4DeTPGOEOXcELgFeX1XPBI4BtoyR78EMrt46EHgS8JwRctgV2FBVh1fVdcAHq+rQZjXcQuClI32wqupsfrV67iTgIuAPmpznAScCH+97lpOb4t7qGzffPtLUkiRJkiRJD9lhuhOYQr0rjK6tquEKMQuTrAMWAzcDV49z7hcCzxg6iwrYHTgAuB/4alNoI8kngOcClw0zxxEMFpeubxZD7cjgqrLh/F6Skxn8fP16M+7WYe57KvCDqroJoKrubfIYK9//aO4b+lhcN8zcW4FP9rw/KsmfMbi9cU/gNuCKEfJ/mKq6K8nGJAcDjwXWVtXGvntWAisB3rPfq2s880qSJEmSpLmtk4WuJE9isDBzN/C0UW7dUlVLk+wOXMngGV3vH08I4HVVdVVf3OVAf1FmpCJNgKur6pWjBhpceXUmcGhV/STJxcDOo8w5XLzR8r2vp2krI39N/LKqtjbjdgb+DlhWVd9N8uej5DSSDwErgF8DPjzBsZIkSZIkzQo1MN0ZzC2d27qYZG/gQga31o1rJVBVbQJOB85MsmAcQ64C/tvQvUmekmTXpu+wJE9stuSdwPCrowBuBJ6T5MnNHLskeUrT9zNgt+b6UcDPgU1JHgu8eJS8vgE8LsmhzZy7JdlhjHxH0ptDv6Gi1o+TLAKOH+G+Xg/0fWw/DfwWg1sprxp+iCRJkiRJ0vh1ZUXX0BbEBcCDwEeB9/b0H9n0D/mLqnrYdsKqWpvkFgbPi/roGPE+xOAWvzXNIew/Al7W9N0AvJPBM7q+zGBB5xGq6kdJVgCfSLJT0/wW4FsMbtn7TJIfVNVRSdYyuDXwDuD6kZKqqvuTnAB8IMlCBs/nOmaMfEfysBz64vw0yf8C1gN3ATeNMdfQfLcmWVNVJzW5XgP8dGilmCRJkiRJ0rboRKGrquaP0reKwTOphutb1Pf+2FHmuQtY0lwPAG9uXg9pztr6RVWdMM68v8jgiqb+9g8AH+h5v2I88zX33sTg+V/9HpEvsKp5DY09bZQc+j9Wb2GwMNcff0XP9fKe67OAs4beNyvejgBeMdrzSJIkSZIkjVcnCl2aXZIcyOCZaJ+uKn+loiRJkiSps6oy9k3abix09UnydB65dfG+qjp8rLHN6rFVw8z5FWCnvubXVNX6SaZJkk8DT+xrPqv/wPmZqKq+BjxpuvOQJEmSJEndYqGrT1N8Wrqd5xyzSDaJOY/b3nNKkiRJkiTNZp37rYuSJEmSJEmam1zRJUmSJEmSNEVqYLozmFtc0SVJkiRJkqROsNAlSZIkSZKkTrDQJUmSJEmSpE6w0CVJkiRJkqRO8DB6SZIkSZKkKVIDme4U5hQLXZrx2vyRsCXtLXLcucVYr9jxJ63Fuu/2n7cW6+aDzmot1oJUa7EeqPa+6h+3826txVr/y0XtxTrvx7zkRT9sLd6bfnJXa7Eef/+hrcXatcXvsefc9q7WYq0+5K2txWrTT+e198+6ra1FavffAd/ZuHt7wXZqL9R9q+9sLdbX/vYTrcUaYEFrse6vnVuL1aYFl7X3c36gvX9Kte4Jv/bT1mI9fuc9W4slzVZuXZQkdU6bRS5JkiRJM4eFLkmSJEmSJHWCWxclSZIkSZKmSHV46+5M5IouSZIkSZIkdYKFLkmSJEmSJHWChS5JkiRJkiR1gmd0SZIkSZIkTZEayHSnMKe4okuSJEmSJEmdYKFLkiRJkiRJnWChS5IkSZIkSZ3gGV2SJEmSJElTxDO62uWKLkmSJEmSJHWChS5JkiRJkiR1goWuWSzJ1iTrkmxIcmmSXYZpvyLJHk374iQbRplvaZKXtJj/iiSPayueJEmSJEnqNgtds9uWqlpaVUuA+4FThmm/Bzh1nPMtBVordAErAAtdkiRJkqTOqurma6ay0NUd1wJPHqb9BmDfsQYn2RE4DzihWQ12QpLDkvxbkrXNn09t7l2R5IM9Y69MsnyUuTcn+Zska5J8IcneSY4HlgEfb+ItnNjjSpIkSZIkPZyFrg5IsgPwYmB9X/t84Gjg8rHmqKr7gbcClzSrwS4BvgE8r6oObvr+apIp7gqsqapDgC8Bb6uqy4DVwElNvC19uZ+cZHWS1Tduvn2SYSVJkiRJ0lxioWt2W5hkHYMFo+8AF/W1bwT2BK6e5Py7A5c253r9LXDQJOcZAC5prj8GPHesAVW1sqqWVdWyIxYdMMmwkiRJkiRpLrHQNbsNncW1tKpe16zKeqgdeAKwI+M/o6vf+cA1zVlfxwI7N+0P8vCvnZ37B45hBu/mlSRJkiRJs9UO052Apk5VbUpyOvAvSS4Yx5CfAbv1vN8d+F5zvaKn/S7gtUnmMXj+12FjzDsPOB74J+BVwHUjxJMkSZIkqVNqINOdwpziiq6Oq6q1wC3AieO4/RrgwKHD6IG/Bt6R5Hpgfs991wN3Mngm2HuANWPM+3PgoCQ3A89n8NB7gIuBCz2MXpIkSZIkbQ+u6JrFqmrReNqr6tiet0tGme8e4NC+5qf0XJ/b3FfASRPM9dyh8T1tnwQ+OZF5JEmSJEmSRuKKLkmSJEmSJHWCK7rmoCQvAt7V13xnVR23jfN+Bdipr/k1I608kyRJkiSp66o8o6tNFrrmoKq6CrhqCuY9fHvPKUmSJEmSNF5uXZQkSZIkSVInWOiSJEmSJElSJ7h1UZIkSZIkaYrUwHRnMLe4okuSJEmSJEmdYKFLkiRJkiRJ212S30ryzST/N8nZw/SfkmR9knVJrkty4LbGtNAlSZIkSZKk7SrJfOB/AC8GDgReOUwh6x+r6ulVtRT4a+C92xrXM7okSZIkSZKmyEBlulOYLocB/7eq7gBI8k/A7wBfG7qhqu7tuX9XoLY1aKq2eQ5pSr1nv1e39kXa5o+fNr/zfC5pavl1v+3a/Bi+fs15rcV63yFvbS1Wm0555S9ai3XhJ3ZpLVZXdfXnhltTtp3nY88+Wzv6Df1n3/5YR59s0Lee9ludLLw85eufHfXzluR44Leq6o+b968BDq+q0/ruOxV4I7Aj8Pyqun1b8vLvB0mSJEmSJE1IkpOTrO55ndx/yzDDHlH0q6r/UVX7A2cBb9nWvNy6KEmSJEmSpAmpqpXAylFu+Q/g8T3v/xPw/VHu/yfggm3NyxVdkiRJkiRJ2t5uAg5I8sQkOwInApf33pDkgJ63/x+wTdsWwRVdkiRJkiRJU6bm6GH0VfVgktOAq4D5wIer6rYk5wGrq+py4LQkxwAPAD8B/mBb41rokiRJkiRJ0nZXVf8K/Gtf21t7rl+/vWO6dVGSJEmSJEmdYKFLkiRJkiRJneDWRUmSJEmSpClSA3PzjK7p4oouSZIkSZIkdYKFLkmSJEmSJHWChS5JkiRJkiR1gmd0SZIkSZIkTZGq6c5gbnFFlyRJkiRJkjrBQtcskGRrknVJNiS5NMkuw7RfkWSPpn1xkg2jzLc0yUtazP+MoZwlSZIkSZKmioWu2WFLVS2tqiXA/cApw7TfA5w6zvmWAq0VuoAzAAtdkiRJkiRpSlnomn2uBZ48TPsNwL5jDU6yI3AecEKzGuyEJIcl+bcka5s/n9rcuyLJB3vGXplk+ShzvzDJDUnWNCvPFiU5HXgccE2Sa5r7LkiyOsltSd4+kYeXJEmSJGk2qYF08jVTWeiaRZLsALwYWN/XPh84Grh8rDmq6n7grcAlzWqwS4BvAM+rqoObvr+aRG6PAd4CHFNVhwCrgTdW1fuB7wNHVdVRze3nVNUy4BnAbyZ5xjDzndwUw1bfuPn2iaYjSZIkSZLmIH/r4uywMMm65vpa4KK+9sXAzcDVk5x/d+AjSQ4AClgwiTmOAA4Erk8CsCODq8yG83tJTmbw6+/Xm3G39t5QVSuBlQDv2e/V/o4KSZIkSZI0Jgtds8OWqlo6UnuS3YErGTyj6/2TmP984JqqOi7JYmBV0/4gD1/1t/MocwS4uqpeOVqgJE8EzgQOraqfJLl4jHklSZIkSZLGxa2LHVBVm4DTgTOTjGc11s+A3Xre7w58r7le0dN+F7A0ybwkjwcOG2XOG4HnJHkyQJJdkjxlmHiPAn4ObEryWAa3YkqSJEmSJG0zV3R1RFWtTXILcCKD2xtHcw1wdrPt8R3AXzO4dfGNwBd77rseuJPBM8E2AGtGif+jJCuATyTZqWl+C/AtBrcgfibJD6rqqCRrgduAO5oYkiRJkiR10kDN3IPbu8hC1yxQVYvG015Vx/a8XTLKfPcAh/Y1P6Xn+tzmvgJOmkCeXxxmXqrqA8AHet6vGO+ckiRJkiRJ4+XWRUmSJEmSJHWCK7o6LMmLgHf1Nd9ZVcdt47xfAXbqa35NVa3flnklSZIkSZK2hYWuDquqq4CrpmDew7f3nJIkSZIkdVF5Rler3LooSZIkSZKkTrDQJUmSJEmSpE6w0CVJkiRJkqRO8IwuSZIkSZKkKVI13RnMLa7okiRJkiRJUidY6JIkSZIkSVInWOiSJEmSJElSJ3hGl9Rja9qLNa/Ffdptbglv8UOo7eCBFj9hO7R8NkFXvxb9ft527zvkra3Fev2a81qL1eZzXfiJXVqLdWPubS3Ws+tRrcVa2OI385aOfjMPTHcC0jSY71lPs9JAdfQH8Qzlii5JUuf4TwlJkiRpbrLQJUmSJEmSpE6w0CVJkiRJkqROsNAlSZIkSZKkTvAwekmSJEmSpClSHkbfKld0SZIkSZIkqRMsdEmSJEmSJKkTLHRJkiRJkiSpEzyjS5IkSZIkaYpUTXcGc4sruiRJkiRJktQJFrokSZIkSZLUCRa6JEmSJEmS1Ame0SVJkiRJkjRFBirTncKc4oquWSLJ1iTrkmxIcmmSXYZpvyLJHk374iQbRplvaZKXtJj/qiTLhmlfluT9beUhSZIkSZK6y0LX7LGlqpZW1RLgfuCUYdrvAU4d53xLgdYKXSOpqtVVdfp05yFJkiRJkmY/C12z07XAk4dpvwHYd6zBSXYEzgNOaFaDnZDksCT/lmRt8+dTm3tXJPlgz9grkywfZe7NSf4myZokX0iyd0/3K5J8Ncm3khzZ3L88yZXjempJkiRJkqRRWOiaZZLsALwYWN/XPh84Grh8rDmq6n7grcAlzWqwS4BvAM+rqoObvr+aZIq7Amuq6hDgS8Dbevp2qKrDgDP62h8hyclJVidZfePm2yeZiiRJkiRJ06sqnXzNVBa6Zo+FSdYBq4HvABf1tW8E9gSunuT8uwOXNud6/S1w0CTnGQAuaa4/Bjy3p+9TzZ83A4tHm6SqVlbVsqpadsSiAyaZiiRJkiRJmkssdM0eQ2dxLa2q1zWrsh5qB54A7Mj4z+jqdz5wTXPW17HAzk37gzz862Tn/oFjqJ7r+5o/t+Jv/JQkSZIkSduZha6OqKpNwOnAmUkWjGPIz4Ddet7vDnyvuV7R034XsDTJvCSPBw4bY955wPHN9auA68aRiyRJkiRJ0jaz0NUhVbUWuAU4cRy3XwMcOHQYPfDXwDuSXA/M77nveuBOBs8Eew+wZox5fw4clORm4PkMHnovSZIkSZI05dw+NktU1aLxtFfVsT1vl4wy3z3AoX3NT+m5Pre5r4CTJpjruUPje9qW91z/mOaMrqpaBayayPySJEmSJM0WAzP44PYuckWXJEmSJEmSOsEVXR2X5EXAu/qa76yq47Zx3q8AO/U1v2aklWeSJEmSJElTzUJXx1XVVcBVUzDv4dt7TkmSJEmSpG1hoUuSJEmSJGmK1HQnMMd4RpckSZIkSZI6wUKXJEmSJEmSOsFClyRJkiRJkjrBM7okSZIkSZKmyEBlulOYU1zRJUmSJEmSpE6w0CVJkiRJkqROcOui1OMJ97f3i1+X7fXj1mLtvu8vW4t1373zW4v1tTv2bi1W0d5y47T4C4i/uLC9z9ch97e7ZPsFy7/fWqydfuvw1mJ97Jz/aC3W4gceaC3WT+e190+Sby9o72vxfYe8tbVYr19zXmux2nyuI+pRrcVael97X/Nrd1rQWqxX7tvez8M77tyztVhbW9wKdD/t/X3Zpvkt/ptjoLVI7dvv0fe2FutTW/ZqLZY0W1nokiR1TptFLkmSJGk05RldrXLroiRJkiRJkjrBQpckSZIkSZI6wUKXJEmSJEmSOsFClyRJkiRJkjrBw+glSZIkSZKmSJd/6+hM5IouSZIkSZIkdYKFLkmSJEmSJHWChS5JkiRJkiR1gmd0SZIkSZIkTZEi053CnOKKLkmSJEmSJHWChS5JkiRJkiR1goUuSZIkSZIkdYKFrlkuydYk65JsSHJpkl2Gab8iyR5N++IkG0aZb3mSK1vK/YyhfCVJkiRJ6qKB6uZrprLQNfttqaqlVbUEuB84ZZj2e4BTpy3DkZ0BWOiSJEmSJEnbhYWubrkWePIw7TcA+050siS7JvlwkpuSrE3yO037iiT/kuSzSb6Z5G2jzLE4yTeSfCTJrUkuS7JLktOBxwHXJLlmorlJkiRJkiT1s9DVEUl2AF4MrO9rnw8cDVw+iWnPAb5YVYcCRwHvTrJr03cYA+xU2gAAIABJREFUcBKwFHhFkmWjzPNUYGVVPQO4F3htVb0f+D5wVFUdNczznJxkdZLVN26+fRKpS5IkSZKkucZC1+y3MMk6YDXwHeCivvaNwJ7A1ZOY+4XA2c08q4Cdgf2avquramNVbQE+BTx3lHm+W1XXN9cfG+NeAKpqZVUtq6plRyw6YBKpS5IkSZI0/QZIJ18z1Q7TnYC22ZaqWjpSe5LdgSsZPKPr/ROcO8DLq+qbD2tMDgf6j54b7Si6idwrSZIkSZI0Ka7o6riq2gScDpyZZMEEh18FvC5JAJIc3NP3giR7JlkIvAy4frgJGvsleXZz/Urguub6Z8BuE8xJkiRJkiRpWBa65oCqWgvcApw4waHnAwuAW5NsaN4PuQ74KLAO+GRVrR5lnq8Df5DkVga3UV7QtK8EPuNh9JIkSZIkaXtw6+IsV1WLxtNeVcf2vF0yynyrGDyPi+b8rT8Z4da7q+q0caY5UFWnDBPrA8AHxjmHJEmSJEnSqCx0SZIkSZIkTZGawQe3d5GFrjkqyYuAd/U131lVx401tqouBi7um28v4AvD3H50VY24gkySJEmSJGl7sdA1R1XVVQweNr+95tsIDPfbHyVJkiRJklrhYfSSJEmSJEnqBFd0SZIkSZIkTZGB6U5gjnFFlyRJkiRJkjrBQpckSZIkSZI6wUKXJEmSJEmSOsEzuiRJkiRJkqZIkelOYU5xRZckSZIkSZI6IVU13TlIo3rPfq9u7Yt0fluBgAdaLOrPb/HbvKvV8zZ/U0qbH8OtLcZq8/urbV39+mhTm1+Lp7zyF63FuvATu7QWq02vX3Nea7Hed8hbW4vVVW3+/G3zZ9Q8/zNmmz3oIpNZ55cd/Zy96dsf6+iTDfrcY0/s5E+sF/7wn2bk562r/16WJEmSJEnSHOMZXZIkSZIkSVOkzdX/ckWXJEmSJEmSOsJClyRJkiRJkjrBQpckSZIkSZI6wUKXJEmSJEmSOsHD6CVJkiRJkqaIh9G3yxVdkiRJkiRJ6gQLXZIkSZIkSeoEC12SJEmSJEnqBM/okiRJkiRJmiJFpjuFOcUVXZIkSZIkSeoEC12SJEmSJEnqBAtds0SSrUnWJdmQ5NIkuwzTfkWSPZr2xUk2jDLf8iRXtpT7m9uII0mSJEmS5jYLXbPHlqpaWlVLgPuBU4Zpvwc4ddoyHJmFLkmSJEnSnDSQbr5mKgtds9O1wJOHab8B2HeikyXZNcmHk9yUZG2S32naVyT5lySfTfLNJG8bY55XJ/lqs8LsfyaZn+SdwMKm7ePNff+c5OYktyU5eaL5SpIkSZIkDcdC1yyTZAfgxcD6vvb5wNHA5ZOY9hzgi1V1KHAU8O4kuzZ9hwEnAUuBVyRZNkJeTwNOAJ5TVUuBrcBJVXU2v1p1dlJz+x9W1bOAZcDpSfYaZr6Tk6xOsvrGzbdP4pEkSZIkSdJcY6Fr9liYZB2wGvgOcFFf+0ZgT+DqScz9QuDsZp5VwM7Afk3f1VW1saq2AJ8CnjvCHEcDzwJuauY5GnjSCPeenuQW4Ebg8cAB/TdU1cqqWlZVy45Y9IhuSZIkSZKkR9hhuhPQuG1pVkoN255kd+BKBs/oev8E5w7w8qr65sMak8OB6ru3/33vHB+pqjeNGihZDhwDPLuqfpFkFYOFNUmSJEmSOmeAGXygVQe5oqsjqmoTcDpwZpIFExx+FfC6JAFIcnBP3wuS7JlkIfAy4PoR5vgCcHySfZo59kzyhKbvgZ6cdgd+0hS5fgM4YoK5SpIkSZIkDctCV4dU1VrgFuDECQ49H1gA3JpkQ/N+yHXAR4F1wCeravUIsb8GvAX4XJJbGdxC+etN98pm7o8DnwV2aO45n8Hti5IkSZIkSdvMrYuzRFUtGk97VR3b83bJKPOtYvA8Lprzt/5khFvvrqrTxpnjJcAlw7SfBZzV0/Ti8cwnSZIkSZI0Ea7okiRJkiRJUie4oqvjkrwIeFdf851VddxYY6vqYuDivvn2YvA8rn5HV9XGSaYpSZIkSVInjfQb3TQ1LHR1XFVdxeBh89trvo3AcL/9UZIkSZIkaVq5dVGSJEmSJEmdYKFLkiRJkiRJneDWRUmSJEmSpCkyMN0JzDGu6JIkSZIkSVInWOiSJEmSJElSJ1jokiRJkiRJUid4RpckSZIkSdIUGUimO4U5xUKX1GNri7HmVXuxWgzV6sewq7r6MXyg5b/f2/weG2jx2arNb+gWtfnlceEndmkt1o25t7VYR9SjWov1vkPe2lqs1685r7VYbT7XTi1+L29pcQ9Hmz97W/3BIc0QCzr67wBpe3LroiSpc1r9Dy1JkiRJM4aFLkmSJEmSJHWCWxclSZIkSZKmiJsN2uWKLkmSJEmSJHWChS5JkiRJkiR1goUuSZIkSZIkdYKFLkmSJEmSJHWCh9FLkiRJkiRNkYHpTmCOcUWXJEmSJEmSOsFClyRJkiRJkjrBQpckSZIkSZI6wTO6JEmSJEmSpshApjuDucUVXZIkSZIkSeoEC12zSJKtSdYl2ZDk0iS7DNN+RZI9mvbFSTaMMt/yJFe2lPtdSR4zTPtvJzm7jRwkSZIkSVK3WeiaXbZU1dKqWgLcD5wyTPs9wKnTluEEVdXlVfXO6c5DkiRJkiTNfha6Zq9rgScP034DsO9EJ0uya5IPJ7kpydokv9O0r0jyL0k+m+SbSd42yhyLk3wjyUeS3JrksqFVZ43XJVmTZH2S3+iZ/4MTzVeSJEmSpNlggHTyNVNZ6JqFkuwAvBhY39c+HzgauHwS054DfLGqDgWOAt6dZNem7zDgJGAp8Ioky0aZ56nAyqp6BnAv8Nqevh9X1SHABcCZoyWT5OQkq5OsvnHz7ZN4HEmSJEmSNNdY6JpdFiZZB6wGvgNc1Ne+EdgTuHoSc78QOLuZZxWwM7Bf03d1VW2sqi3Ap4DnjjLPd6vq+ub6Y333fqr582Zg8WjJVNXKqlpWVcuOWHTAhB5EkiRJkiTNTTtMdwKakC1VtXSk9iS7A1cyeEbX+yc4d4CXV9U3H9aYHA5U373970fr631/X/PnVvzakyRJkiRJ25krujqkqjYBpwNnJlkwweFXMXiGVgCSHNzT94IkeyZZCLwMuH64CRr7JXl2c/1K4LoJ5iFJkiRJUmdUR18zlYWujqmqtcAtwIkTHHo+sAC4NcmG5v2Q64CPAuuAT1bV6lHm+TrwB0luZXAb5QUTzEOSJEmSJGlS3D42i1TVovG0V9WxPW+XjDLfKgbP46I5f+tPRrj17qo6bZxpDlTVKcPEWtxzvRpY3lxfDFw8zrklSZIkSZJG5IouSZIkSZIkdYIruuaAJC8C3tXXfGdVHTfW2OFWXCXZC/jCMLcfXVUjriCTJEmSJEmaSha65oCquorBw+a313wbgeF++6MkSZL0/7N3/3F21fW9719vQvhlEApa649yUoGWQ3MxaEBEpVgsCBbQUi8etRVLRSyC9T4iF+sRKVxaKVYqoq2pCt4eKylqFdAj0gLX8EsIEiCoHKrBn60ejSCUGEzmc//YK7oz7JnZk8ysmax5PXnMI2t/9lqfz3ftTPjx4bs+I0nqM5KZXsHc4qOLkiRJkiRJ6gQbXZIkSZIkSeoEG12SJEmSJEnqBGd0SZIkSZIkTZORmV7AHOOOLkmSJEmSJHWCjS5JkiRJkiR1go0uSZIkSZIkdYIzuqQ+N/Dj1motXb9La7Wu3rm9P+rn/tmvtFbre3/zldZqbTevWqs1sjGt1TryBz9ordaVT3x6a7UA/ssx7U1DuPzTe7RWa++fPdZarb32fKi1Wt/60W6t1fryjju0Vut59cTWai1e/7PWat254/zWar332We3VuvNXz63tVpt3tcbfvs/Wqv14F2tlWL9uvb+/ebRR9v7+0abdt11fWu1qsNDip5yZHvfH2/7dHv/DaGp095/SQjc0SVJ6qA2m1ySJEmSZg8bXZIkSZIkSeoEG12SJEmSJEnqBGd0SZIkSZIkTZOR9kbwCnd0SZIkSZIkqSNsdEmSJEmSJKkTbHRJkiRJkiSpE2x0SZIkSZIkqRMcRi9JkiRJkjRNRmZ6AXOMO7okSZIkSZLUCTa6JEmSJEmS1Ak2uiRJkiRJktQJzuiSJEmSJEmaJs7oapc7uuaQJBuTrEqyOskVSXYZEL8qye5NfGGS1dO4npcl2X+68kuSJEmSpLnFRtfcsq6qFlfVIuAx4NQB8bXAaS2t52WAjS5JkiRJkjQlfHRx7loBHDAgfssY8cdJchK9ZtU8YBHw18AOwB8A64Fjqmptkr2B9wNPBh4FXg/sARwH/FaS/w6cUFVf35obkiRJkiRJc5s7uuagJNsDRwP3jIrPA44ArpxEukXAq4CDgfOBR6vqQHoNsz9szlkGnF5VzwGWAh+oqpubOm9tdpNt1uRKckqSlUlW3vrI/ZO+R0mSJEmSZoNKN79mK3d0zS07J1nVHK8APjwqvhC4A7h2Ejmvr6qHgYeTPARc1cTvAQ5IsgA4FLgi+fmfhB0nSlpVy+g1yHj3Xq+pSaxHkiRJkiTNUTa65pZ1VbV4rHiS3YCr6c3ounjInOv7jkf6Xo/Q+/7aDnhwjLqSJEmSJElTxkcX9XNV9RBwBrA0yfwpyvkTYE2SVwCk51nN2w8Du05FHUmSJEmSJBtd2kxV3QncBbxyCtO+Gjg5yV3AvcDxTfxy4K1J7mwG1kuSJEmS1CkjHf2arXx0cQ6pqgXDxKvq2L6Xi8bJdxlwWd/rhYPeq6o1wEsGXH8TsP/EK5ckSZIkSZqYO7okSZIkSZLUCe7o0oSSHAVcMCq8pqpePhPrkSRJkiRJGsRGlyZUVdcA18z0OiRJkiRJksZjo0uSJEmSJGmazObB7V3kjC5JkiRJkiR1go0uSZIkSZIkdYKNLkmSJEmSJHWCM7okSZIkSZKmSc30AuYYd3RJkiRJkiSpE2x0SZIkSZIkqRNS5SY6zW7v3us1rX2Tpq1CwM9aLLZ9i3/M57VXyh/TOwXa/CdAm3++2tbm5+ifsa3X5u/XLi0We7Sjf8h2bPEzXN/iZ/jmL5/bWq2Ln312a7UkTa+NHf17/Znf/B8dvbOe9/1qe/9N26bTvz07f9+c0SVJkiRJkjRNRmZlO6i7fHRRkiRJkiRJnWCjS5IkSZIkSZ1go0uSJEmSJEmd4IwuSZIkSZKkadLVH/AzW7mjS5IkSZIkSZ1go0uSJEmSJEmdYKNLkiRJkiRJnWCjS5IkSZIkSZ3gMHpJkiRJkqRp4jD6drmjS5IkSZIkSVMuyUuS3Jfk35KcNeD9HZMsb97/UpKFW1vTRpckSZIkSZKmVJJ5wPuBo4H9gf+WZP9Rp50M/Liq9gEuAi7Y2ro2uiRJkiRJkjTVDgb+raq+UVWPAZcDx48653jgo83xJ4AjkmRritromsWSbEyyKsnqJFck2WVA/KokuzfxhUlWT+N6Xjag+zrsteckWTrGezdv3cokSZIkSZqdqqNfQ3g68O2+199pYgPPqaoNwEPAnsOlH8xG1+y2rqoWV9Ui4DHg1AHxtcBpLa3nZfS2G06pqjp0qnNKkiRJkqTpk+SUJCv7vk4ZfcqAy0b3yIY5Z1L8qYvbjhXAAQPit4wRf5wkJ9FrVs0DFgF/DewA/AGwHjimqtYm2Zvec7RPBh4FXg/sARwH/FaS/w6cUFVfH1DjBmAVvS2KTwT+qKpua97ev3l/L+Bvquri5ppHqmrBMPcgSZIkSZJmXlUtA5aNc8p3gF/te/0M4HtjnPOdJNsDu9Hb0LPF3NG1DWh+s48G7hkVnwccAVw5iXSLgFfRa0SdDzxaVQfSa5j9YXPOMuD0qnoOsBT4QFXd3NR5a7Ob7HFNrj5PaHZp/Qnwkb74fsBRTe13Jpk/VoL+zvCtj9w/iduTJEmSJEmzwO3Avkl+LckOwCt5fP/iSuC1zfHvA9dVlTu6OmznJKua4xXAh0fFFwJ3ANdOIuf1VfUw8HCSh4Crmvg9wAFJFgCHAlf0zX/bcZLr/jhAVX0xyRM3zRADPltV64H1SX4APIVe9/Zx+jvD797rNVv1TS5JkiRJ0kwZ2arR6tuuqtqQ5E3ANfSeLPtIVd2b5FxgZVVdSa/P8Q9J/o3eTq5Xbm1dG12z27qqWjxWPMluwNX0ZnRdPGTO9X3HI32vR+h9P2wHPDhG3WGNbkxtet1feyN+/0mSJEmS1FlV9Tngc6NiZ/cd/xR4xVTW9NHFbVhVPQScASwd7zHASeb8CbAmySsA0vOs5u2HgV2HSHNic+0LgIeadUqSJEmSJE0rG13buKq6E7iLKdje1+fVwMlJ7gLuBY5v4pcDb01yZzOwfiw/TnIz8HfAyVO4LkmSJEmSpDH56NgsNtZPIhwdr6pj+14uGiffZcBlfa8XDnqvqtYALxlw/U3A/hOvnE9W1dtGXXvOqNeL+o79iYuSJEmSpE4amekFzDHu6JIkSZIkSVInuKOrg5IcBVwwKrymql4+hTXeDzx/VPi9VXX4VNWQJEmSJEmaDBtdHVRV19D78Z3TWeO06cwvSZIkSZI0WT66KEmSJEmSpE5wR5ckSZIkSdI0qZlewBzjji5JkiRJkiR1go0uSZIkSZIkdYKNLkmSJEmSJHWCM7okSZIkSZKmyYhTulrlji5JkiRJkiR1gju6NOulxVov2PBoa7Uumd9aKQ4b2aW1Wq/54JLWatXqu1qr1VWLLlzVWq07XrRba7UAdjnnHa3VuuyoS1ur9fsHfru1Wju/4Jmt1Vq/ck1rtT7ypWe0Vmtdi/8Q+29P/15rtf7pu09rrda6Fv+37Bt++z9aq3Xxs89urdYZXz63tVobPvf3rdUaeeBbrdWqBx9urVabtnvaL7dXbOPG9mq1bLujTmit1j6/fVZrtdp05kwvQJ3iji5JUue02eSSJEmSNHu4o0uSJEmSJGmajMz0AuYYd3RJkiRJkiSpE2x0SZIkSZIkqRNsdEmSJEmSJKkTnNElSZIkSZI0TWqmFzDHuKNLkiRJkiRJnWCjS5IkSZIkSZ1go0uSJEmSJEmdYKNLkiRJkiRJneAwekmSJEmSpGkyMtMLmGPc0SVJkiRJkqROsNElSZIkSZKkTrDRNY2SbEyyKsnqJFck2WVA/KokuzfxhUlWT+N6XpZk/+nKP1lJFic5ZqbXIUmSJEmSusFG1/RaV1WLq2oR8Bhw6oD4WuC0ltbzMmDWNLqAxYCNLkmSJElSZ42km1+zlY2u9qwA9hkQvwV4+jAJkpyU5NPNLrA1Sd6U5P9KcmeSW5Ps0Zy3d5LPJ7kjyYok+yU5FDgOuLDZTbb3GDXOSPKVJHcnubyJnZNkad85q5vdZwuTfC3Jh5rYx5K8OMlNSe5PcnBz/hOSfCTJ7c1aj0+yA3AucGKznhMn8VlKkiRJkiQ9jo2uFiTZHjgauGdUfB5wBHDlJNItAl4FHAycDzxaVQfSa5j9YXPOMuD0qnoOsBT4QFXd3NR5a7Ob7Otj5D8LOLCqDuAXO9DGsw/wXuAAYL9mbS9o6v5Zc87bgeuq6iDgRcCFwHzgbGB5s57l/UmTnJJkZZKVtz5y/xDLkCRJkiRJc52Nrum1c5JVwErgW8CHR8V/BOwBXDuJnNdX1cNV9b+Bh4Crmvg9wMIkC4BDgSuaGh8EnjqJ/HcDH0vyGmDDEOevqap7qmoEuBf416qqTetpzjkSOKtZzw3ATsBe4yWtqmVVtaSqlhyyYN9JLF+SJEmSJM1V28/0AjpuXVUtHiueZDfganozui4eMuf6vuORvtcj9H4/twMeHKPuMF4KHEbvMcd3JPlNeg2v/qboTpNYD0CAE6rqvv5CSZ67hWuUJEmSJGmbMELN9BLmFHd0zaCqegg4A1iaZP4U5fwJsCbJKwDS86zm7YeBXce6Nsl2wK9W1fXAmcDuwALgAeDZzTnPBn5tksu6Bjg9SZocBw6zHkmSJEmSpMmw0TXDqupO4C7glVOY9tXAyUnuovc44fFN/HLgrc1A+EHD6OcB/yPJPcCdwEVV9SDwSWCP5tHDNwL/a5LrOY/eTK67k6xuXgNcD+zvMHpJkiRJkjQVfHRxGlXVgmHiVXVs38tF4+S7DLis7/XCQe9V1RrgJQOuvwnYf5z8P6M3SH50fB29OVuDLOo776S+4wc2vddc/4YBedcCB421HkmSJEmSpMmw0SVJkiRJkjRNnNDVLhtds1CSo4ALRoXXVNXLp7DG+4Hnjwq/t6ounaoakiRJkiRJbbLRNQtV1TX0BrhPZ43TpjO/JEmSJElS2xxGL0mSJEmSpE6w0SVJkiRJkqRO8NFFSZIkSZKkaTIy0wuYY9zRJUmSJEmSpE6w0SVJkiRJkqROsNElSZIkSZKkTnBGlyRJkiRJ0jQZoWZ6CXOKjS7Nel39W8J/sqG1Wj+Y196nWF+5u7Va2/3277ZWqx75cWu18sQntVZr14vua63Wo99pbxPxo398PnuceWRr9dr8h+n8X96htVpt/hn7ykUfb60W7X2ErfrGmj1aq7Vdi5/hdi3+i8CDd7VXq00bPvf3rdXa/pjXt1Zr41dvaq1WbVjfWq02tfnvHIxsbK9Wy+qH32mt1oM//c/WaknbKh9dlCR1TptNLkmSJEmzh40uSZIkSZIkdYKPLkqSJEmSJE2Tro7jma3c0SVJkiRJkqROsNElSZIkSZKkTrDRJUmSJEmSpE5wRpckSZIkSdI0GZnpBcwx7uiSJEmSJElSJ9jokiRJkiRJUifY6JIkSZIkSVIn2OiSJEmSJElSJziMXpIkSZIkaZqMUDO9hDnFHV2SJEmSJEnqBBtds1SSjUlWJVmd5IokuwyIX5Vk9ya+MMnqcfItSXLxBDUXJzlmau9EkiRJkiSpHTa6Zq91VbW4qhYBjwGnDoivBU4bJllVrayqMyY4bTFgo0uSJEmSJG2TbHRtG1YA+wyI3wI8fZgESQ5PcnVz/IQkH0lye5I7kxyfZAfgXODEZsfYiWPkOae59oYk30hyRhPfbEdZkqVJzmmOb0hyUZIvJvlqkoOSfCrJ/Un+n8l8EJIkSZIkbUuqo1+zlY2uWS7J9sDRwD2j4vOAI4ArtyDt24Hrquog4EXAhcB84GxgebNjbPk41+8HHAUcDLwzyfwhaj5WVYcBfwd8ht5OtEXASUn2HH1yklOSrEyy8tZH7p/MvUmSJEmSpDnKRtfstXOSVcBK4FvAh0fFfwTsAVy7BbmPBM5q8twA7ATsNYnrP1tV66vqh8APgKcMcc2mhtw9wL1V9e9VtR74BvCro0+uqmVVtaSqlhyyYN9JLE2SJEmSJM1V28/0AjSmdVW1eKx4kt2Aq+ntjBp3yPwAAU6oqvs2CybPHfL69X3HG+l9H21g88bpTmNcMzLq+hH8PpQkSZIkSVPAHV3bqKp6CDgDWDrko4P9rgFOTxKAJAc28YeBXbdwSd8HfjnJnkl2BH53C/NIkiRJktQZIx39mq1sdG3DqupO4C7glcNe0vx6Hr2ZXHc3A+TPa+LXA/uPN4x+nLX8jN4w+y/R22n2tclcL0mSJEmStLV8ZGyWqqoFw8Sr6ti+l4vGSbknsLa5Zh3whgG51wIHTbCuc0a9XtR3fDEDHqOsqsP7jm+gNxfsce9JkiRJkiRtDRtdc0CS44DzgT+a6bVIkiRJkiRNFxtdHZPkKOCCUeE1VbXfJPO8DnjzqPBNVXXa1qxPkiRJkqS5pH4+RUhtsNHVMVV1Db1h81ub51Lg0q1fkSRJkiRJUjscRi9JkiRJkqROsNElSZIkSZKkTrDRJUmSJEmSpE5wRpckSZIkSdI0GZnpBcwx7uiSJEmSJElSJ9jokiRJkiRJUifY6JIkSZIkSVInOKNL6rPj/A2t1fpZtfek9nZJa7XatGH5/9tarfrpz1qrlZ3mt1ZrXtr7/x0PrNmjvVpvXMmBZ/5Sa/Xa+zsHbPdLu7RWq80/YyO0933f5v/la3Mmx8Zq7+/121VrpaDFf4StX9fNfzUeeeBbrdXa+NWbWqs1778+v7VaXbX+XW+Z6SV0wnZ779VarQ0jG1urpakzQpv/4JQ7uiRJndNmk0uSJEnS7GGjS5IkSZIkSZ1go0uSJEmSJEmd0M1BBJIkSZIkSbOAE7ra5Y4uSZIkSZIkdYKNLkmSJEmSJHWCjS5JkiRJkiR1gjO6JEmSJEmSpsmIU7pa5Y4uSZIkSZIkdYKNLkmSJEmSJHWCjS5JkiRJkiR1go0uSZIkSZIkdYLD6CVJkiRJkqbJyEwvYI5xR9cQkmxMsirJ6iRXJNllQPyqJLs38YVJVo+Tb0mSiyeouTjJMROcc1KSS7bkngbkuiHJkub4c5vuZTol2T3Jn0x3HUmSJEmSNDfY6BrOuqpaXFWLgMeAUwfE1wKnDZOsqlZW1RkTnLYYGLfRNV2q6piqerCFUrsDNrokSZIkSdKUsNE1eSuAfQbEbwGePkyCJIcnubo5fkKSjyS5PcmdSY5PsgNwLnBis2PsxCFyPjnJJ5s8tyd5fhM/OMnNTe6bk/xGE985yeVJ7k6yHNi5L9cDSZ7U7Ez7apK/T3Jvki8k2bk556Dm2luSXDjBDraTknwmyeeT3Jfknc1b7wL2bu7xwmE+O0mSJEmSpLHY6JqEJNsDRwP3jIrPA44ArtyCtG8Hrquqg4AXARcC84GzgeXNjrHlQ+R5L3BRk+cE4ENN/GvAYVV1YJPzL5r4G4FHq+oA4HzgOWPk3Rd4f1X9JvBgkxvgUuDUqnoesHGI9R0MvJreTrVXNI9JngV8vbnHt/afnOSUJCuTrLz1kfuHSC9JkiRJ0uxTHf1rtnIY/XB2TrKqOV4BfHhUfCFwB3DtFuQ+EjguydLm9U7AXluQ58XA/kk2vX5ikl2B3YCPJtkXKHpNNIDDgIsBquruJHePkXdNVW269zuAhc38rl2r6uYm/o/A706wvmur6kcAST4FvAD49FgnV9UyYBnAu/d6zez9EyRdV0bGAAAgAElEQVRJkiRJkmYNG13DWVdVi8eKJ9kNuJrejK5xh8wPEOCEqrpvs2Dy3Enm2Q54XlWtG5XnfcD1VfXyJAuBG/reHqaBtL7veCO9RxwzxrnjGV3L5pUkSZIkSZpSPro4BarqIeAMYGmS+ROdP8o1wOlptmIlObCJPwzsOok8XwDetOlFkk2Nud2A7zbHJ/Wd/0V6jxKSZBFwwLCFqurHwMNJDmlCrxzist9Jskcz4+tlwE1M/h4lSZIkSZLGZKNrilTVncBdDNf0gV/saDqP3uOEdzcD3c9r4tfTexRxqGH09BptS5oB8V/hFz8Z8q+Av0xyEzCv7/y/BRY0jyyeCdw25Lo3ORlYluQWeju8Hprg/BuBfwBWAZ9sfvLkj4Cbkqx2GL0kSZIkqYtGOvo1W/no4hCqasEw8ao6tu/lonFS7gmsba5ZB7xhQO61wEETrOsy4LLm+IfA4xpiVXUL8Ot9oXf01R3YlKuqhc3hD/vvo6re3Xfavc0ge5KcBawcb63AD6rqTaODVfWqCa6TJEmSJEkaio2uliU5jt5POfyjmV7LVnppkrfR+x76Jps/FilJkiRJktQ6G13TKMlRwAWjwmuqar9J5nkd8OZR4Zuq6rStWd/WqKrlwPL+2Dj3+3KanWeSJEmSJEnTxUbXNKqqa+gNm9/aPJcCl279iqbXVN2vJEmSJEldUT8f0a02OIxekiRJkiRJnWCjS5IkSZIkSZ1go0uSJEmSJEmd4IwuSZIkSZKkaTIy0wuYY9zRJUmSJEmSpE6w0SVJkiRJkqRO8NFFqU9VWqu1Pe3Vaq8SXHzJY7zpVevaKTZ/e+rhlmoBte5nrdXJzvNbqfX/nfBEXvLPP22l1pms5fwNe7ZS67YLHuSgU9r7zq/s0F6tDS1uft+wsbVSj9VOrdXqqseYN9NL2OY9+mh7f5bbVA8+3FqtDf98BfOOPa6dWvdcx/b/x2+3UqurdjzrIn56zptmehnbvFr7UGu15m3nXhVpIv4pkTSlWmtyQSebXEBrTS6gtSYX0FqTC2i1ySVJ+oW2mlyATa4pYJNLUhe5o0uSJEmSJGmajFTN9BLmFHd0SZIkSZIkqRNsdEmSJEmSJKkTbHRJkiRJkiSpE5zRJUmSJEmSNE2c0NUud3RJkiRJkiSpE2x0SZIkSZIkqRNsdEmSJEmSJKkTnNElSZIkSZI0TUac0tUqd3RJkiRJkiSpE2x0SZIkSZIkqRNsdEmSJEmSJKkTnNElSZIkSZI0TcoZXa1yR1efJBuTrEqyOskVSXYZEL8qye5NfGGS1ePkW5Lk4glqLk5yzATnnJTkki25pwG5bkiypDn+3KZ7mU7N5/Sq6a4jSZIkSZLmNhtdm1tXVYurahHwGHDqgPha4LRhklXVyqo6Y4LTFgPjNrqmS1UdU1UPtlBqIWCjS5IkSZIkTSsbXWNbAewzIH4L8PRhEiQ5PMnVzfETknwkye1J7kxyfJIdgHOBE5sdYycOkfPJST7Z5Lk9yfOb+MFJbm5y35zkN5r4zkkuT3J3kuXAzn25HkjypGbH1VeT/H2Se5N8IcnOzTkHNdfekuTCCXawzWvOub255g3NW+8CXtjc41uaeiuSfLn5OnRArlOSrEyy8tZH7h/m45YkSZIkSXOcja4BkmwPHA3cMyo+DzgCuHIL0r4duK6qDgJeBFwIzAfOBpY3O8aWD5HnvcBFTZ4TgA818a8Bh1XVgU3Ov2jibwQeraoDgPOB54yRd1/g/VX1m8CDTW6AS4FTq+p5wMYJ1nYy8FCztoOA1yf5NeAsYEVzjxcBPwB+p6qeDZwIPO7xzqpaVlVLqmrJIQv2naCsJEmSJEmSw+hH2znJquZ4BfDhUfGFwB3AtVuQ+0jguCRLm9c7AXttQZ4XA/sn2fT6iUl2BXYDPppkX6DoNdEADqNpJFXV3UnuHiPvmqradO93AAub+V27VtXNTfwfgd8dZ21HAgck+f3m9W70GmiPjTpvPnBJksX0mme/Pt4NS5IkSZK0rRqZ6QXMMTa6NreuqhaPFU+yG3A1vRld4w6ZHyDACVV132bB5LmTzLMd8LyqWjcqz/uA66vq5UkWAjf0vT3Mj3hY33e8kd4jjhnj3LEEOL2qrhm1tsNHnfcW4PvAs+jdz08nWUeSJEmSJOlxfHRxEqrqIeAMYGmS+ROdP8o1wOlptmIlObCJPwzsOok8XwDetOlFsysKerunvtscn9R3/heBVzfnLgIOGLZQVf0YeDjJIU3olRNccg3wxk2fTZJfT/IEHn+PuwH/XlUjwB8A84ZdkyRJkiRJ0lhsdE1SVd0J3MXETZ+fX9L8eh69R/bubga6n9fEr6f3KOJQw+jpNdqWNMPev8IvfjLkXwF/meQmNm8c/S2woHlk8UzgtiHXvcnJwLIkt9DbsfXQOOd+CPgK8OXmHj9Ib9fg3cCGJHcleQvwAeC1SW6l99jif05yTZIkSZIkSY/jo4t9qmrBMPGqOrbv5aJxUu4JrG2uWQe8YfQJVbWW3uD28dZ1GXBZc/xDegPcR59zC5vPunpHX92BTbmqWtgc/rD/Pqrq3X2n3dsMsifJWcDKcdY5AvxZ8zXaEaNe9+8se9tYOSVJkiRJ2paNDDVNSFPFRtc0SXIcvZ9y+EczvZat9NIkb6P3vfJNNn8sUpIkSZIkadaw0TUFkhwFXDAqvKaq9ptkntcBbx4VvqmqTtua9W2NqloOLO+PjXO/L29tYZIkSZIkSaPY6JoCzU8ZvGbCEyfOcylw6davaHpN1f1KkiRJkiRNJRtdkiRJkiRJ06Sc0dUqf+qiJEmSJEmSOsFGlyRJkiRJkjrBRpckSZIkSZI6wRldkiRJkiRJ02Rkphcwx7ijS5IkSZIkSZ1go0uS1Iq3b/+j1mrdvsyfbCNJkiTNRTa6JEmtOH/Dnq3VOuiUtFZLkiRJ0uxho0uSJEmSJEmd4DB6SZIkSZKkaVLlWI02uaNLkiRJkiRJnWCjS5IkSZIkSZ1go0uSJEmSJEmd4IwuSZIkSZKkaTKCM7ra5I4uSZIkSZIkdYKNLkmSJEmSJHWCjS5JkiRJkiR1gjO6JEmSJEmSpsnITC9gjnFHlyRJkiRJkjrBRpckSZIkSZI6wUaXJEmSJEmSOsFGV58kG5OsSrI6yRVJdhkQvyrJ7k18YZLV4+RbkuTiCWouTnLMBOeclOSSLbmnAbluSLKkOf7cpnuZTuN9TknOTfLi6V6DJEmSJEkzoTr612xlo2tz66pqcVUtAh4DTh0QXwucNkyyqlpZVWdMcNpiYNxG13SpqmOq6sGZqN23hrOr6l9mcg2SJEmSJKkbbHSNbQWwz4D4LcDTh0mQ5PAkVzfHT0jykSS3J7kzyfFJdgDOBU5sdoydOETOJyf5ZJPn9iTPb+IHJ7m5yX1zkt9o4jsnuTzJ3UmWAzv35XogyZOaHVdfTfL3Se5N8oUkOzfnHNRce0uSCyfYwXZSks8k+XyS+5K8s+/teWPkvyzJ7w/IdUqSlUlW3vrI/cN83JIkSZIkaY6z0TVAku2Bo4F7RsXnAUcAV25B2rcD11XVQcCLgAuB+cDZwPJmx9jyIfK8F7ioyXMC8KEm/jXgsKo6sMn5F038jcCjVXUAcD7wnDHy7gu8v6p+E3iwyQ1wKXBqVT0P2DjE+g4GXk1vp9orNj0mOU7+gapqWVUtqaolhyzYd4iykiRJkiRprtt+phcwy+ycZFVzvAL48Kj4QuAO4NotyH0kcFySpc3rnYC9tiDPi4H9k2x6/cQkuwK7AR9Nsi9Q9JpoAIcBFwNU1d1J7h4j75qq2nTvdwALm/ldu1bVzU38H4HfnWB911bVjwCSfAp4AfDpQfmHuVlJkiRJkqRh2eja3LqqWjxWPMluwNX0ZnSNO2R+gAAnVNV9mwWT504yz3bA86pq3ag87wOur6qXJ1kI3ND39jBT4tb3HW+k94hjxjh3PKNrbXo9KL8kSZIkSZ02MosHt3eRjy5OQlU9BJwBLE0yf6LzR7kGOD3NVqwkBzbxh4FdJ5HnC8CbNr1Isqkxtxvw3eb4pL7zv0jvUUKSLAIOGLZQVf0YeDjJIU3olUNc9jtJ9mhmcL0MuGnYepIkSZIkSVvDRtckVdWdwF0M1/SBX+xoOo/e44R3NwPdz2vi19N7FHGoYfT0Gm1LmgHxX+EXPxnyr4C/THITMK/v/L8FFjSPLJ4J3Dbkujc5GViW5BZ6O7wemuD8G4F/AFYBn6yqlZOsJ0mSJEmStEV8dLFPVS0YJl5Vx/a9XDROyj2Btc0164A3DMi9FjhognVdBlzWHP8QeFxDrKpuAX69L/SOvroDm3JVtbA5/GH/fVTVu/tOu7cZZE+Ss4CJGlc/qKo39Qeq6oGx8lfVSRPkkyRJkiRJGoqNrmmS5Dh6P+Xwj2Z6LVvppUneRu975Zts/likJEmSJEkaR5Uzutpko2sKJDkKuGBUeE1V7TfJPK8D3jwqfFNVnbY169saVbUcWN4fG+d+X06z80ySJEmSJKltNrqmQFVdQ2/Y/NbmuRS4dOtXNL2m6n4lSZIkSZKmksPoJUmSJEmS1Anu6JIkSZIkSZomIzO9gDnGHV2SJEmSJEnqBBtdkiRJkiRJ6gQbXZIkSZIkSeoEZ3RJkiRJkiRNk6Jmeglzio0uqc//Xr9za7WesNNjrdX6WYt/Y6117d3XTudc0lqtemRta7WyYI/WavHPf9xaqac88T9bq/Wty2HhWfu3Vg/+o7VKj6x8pLVaT/r0h1urNf8T/3drtbo6EHZei3+v35DWSrVq113Xt1fsJ+2V2u5pv9xarTzxSa3VWv+ut7RWq376s9ZqtanNf5fqsg3XfrS1Wr+yy+rWaknbKh9dlCR1TrtNLkmSJEmzhY0uSZIkSZIkdYKNLkmSJEmSJHWCM7okSZIkSZKmyYjD6Fvlji5JkiRJkiR1go0uSZIkSZIkdYKNLkmSJEmSJHWCM7okSZIkSZKmSZUzutrkji5JkiRJkiR1go0uSZIkSZIkdYKNLkmSJEmSJHWCM7okSZIkSZKmyQjO6GqTO7okSZIkSZLUCTa6JEmSJEmS1AmdbnQl2ZhkVZLVSa5IssuA+FVJdm/iC5OsHiffkiQXT1BzcZJjpvg+HkjypAHxc5IsneoaSW6eipxD1FyY5FVt1JIkSZIkSd3X6UYXsK6qFlfVIuAx4NQB8bXAacMkq6qVVXXGBKctBqa00dW2qjq0pVILARtdkiRJkqTOqo7+NVt1vdHVbwWwz4D4LcDTh0mQ5PAkVzfHT0jykSS3J7kzyfFJdgDOBU5sdoydOEae32reX9Vcu2t/7uacS5Kc1HfZW5Pc1nw97j6S7J3k80nuSLIiyX5N/NgkX2rq/EuSpzTxPZN8oYl/EEhfrkf67veGJJ9I8rUkH0uS5r1jmtiNSS7uX/uAtZ2T5B+SXJfk/iSvb956F/DC5nN4y6hrTkmyMsnKWx+5f8zfE0mSJEmSpE3mRKMryfbA0cA9o+LzgCOAK7cg7duB66rqIOBFwIXAfOBsYHmzY2z5GNcuBU6rqsXAC4F1Q9T7SVUdDFwC/M2A95cBp1fVc5r8H2jiNwKHVNWBwOXAmU38ncCNTfxKYK8x6h4I/CmwP/BM4PlJdgI+CBxdVS8AnjzE+g8AXgo8Dzg7ydOAs4AVzWd1Uf/JVbWsqpZU1ZJDFuw7RHpJkiRJkjTXbT/TC5hmOydZ1RyvAD48Kr4QuAO4dgtyHwkc1zcjayfGbhaNdhPwniQfAz5VVd9pNkqN5+N9v27WFEqyADgUuKIvz47Nr88Alid5KrADsKaJHwb8HkBVfTbJj8eoe1tVfaeps+kzewT4RlVtyvVx4JQJ1v+ZqloHrEtyPXAw8OAE10iSJEmSJA2t642udc2uqYHxJLsBV9Ob0TXukPkBApxQVfdtFkyeO9GFVfWuJJ+lN8vr1iQvBjaw+Q67nUZfNsYxzXUPjnGv7wPeU1VXJjkcOGecPIOs7zveSO97ZsKu3ACja83eB3olSZIkSdI2aU48ujiWqnoIOANYmmT+JC+/Bji9b2bVgU38YWDX8S5MsndV3VNVFwArgf2AbwL7J9mxacAdMeqyE/t+vWXUffwEWJPkFU3+JHlW8/ZuwHeb49f2XfZF4NXN+UcDvzTxLf/c14BnJlk4am3jOT7JTkn2BA4HbmeIz0qSJEmSpG3ZSFUnv2arOd3oAqiqO4G7gFcOe0nz63n0ZnLdnWR18xrgenoNqzGH0QN/mmR1krvozef6n1X1beCfgLuBjwF3jrpmxyRfAt4MvIXHezVwcpPzXuD4Jn4OvUcaVwA/7Dv/z4HDknyZ3mOY35r41nuaRxD/BPh8khuB7wMPTXDZbcBngVuB86rqe/TudUOSu0YPo5ckSZIkSZqsTj+6WFULholX1bF9LxeNk3JPYG1zzTrgDQNyrwUOmmBdp48RP5NfDIvvjy9sDv98VPycvuM1wEsGXPsZ4DMD4j+i1+Da5C197y1ofr0BuKEv/qa+86+vqv2aHW3vp7czbTz/q6o2m+NVVT/j8TvXJEmSJEmStsic39E1rCTHAefT+2mDgtc3w+nvpfd4pJ+LJEmSJEmaUZ3e0bWlkhwFXDAqvKaq9ptkntfRe9Sw301VddrWrG82qKqLePxPf+zs/UqSJEmStCVm7zSrbrLRNUBVXUNv2PzW5rkUuHTrV7RtmGv3K0mSJEmStkySPYDlwELgAeD/rKofjzrnvwCfAubRm5P+vqr6u/Hy+uiiJEmSJEmS2nYW8K9VtS/wr83r0f4dOLSqFgPPBc5K8rTxktrokiRJkiRJUtuOBz7aHH8UeNnoE6rqsapa37zckSH6WD66KEmSJEmSNE1GOjqlK8kpwCl9oWVVtWwSKZ5SVf8OUFX/nuSXx6jzq8BngX2At1bV98ZLaqNLkiRJkiRJk9I0tcZtbCX5F+BXBrz19knU+TZwQPPI4qeTfKKqvj/W+Ta6JEmSJEmSNOWq6sVjvZfk+0me2uzmeirwgwlyfS/JvcALgU+MdZ4zuiRJkiRJktS2K4HXNsevBT4z+oQkz0iyc3P8S8DzgfvGS+qOLklTa8PGmV7B9BgZmekVbPM2bmzv/618/fyv8cwz926tXpuqo9+KI90cXdGqjn5rtKqrf77Y2OI/m0c6+u8B0ng2bpjpFWiW6+qMrinwLuCfkpwMfAt4BUCSJcCpVfXHwH8F/jpJAQHeXVX3jJfURpckqXO62uSSJEmSuqKqfgQcMSC+Evjj5vha4IDJ5PXRRUmSJEmSJHWCjS5JkiRJkiR1go0uSZIkSZIkdYIzuiRJkiRJkqZJlcPo2+SOLkmSJEmSJHWCjS5JkiRJkiR1go0uSZIkSZIkdYIzuiRJkiRJkqbJCM7oapM7uiRJkiRJktQJNrokSZIkSZLUCTa6JEmSJEmS1AnO6JIkSZIkSZom5YyuVrmjS5IkSZIkSZ3QiUZXko1JViVZneSKJLsMiF+VZPcmvjDJ6nHyLUly8QQ1Fyc5Zorv44EkTxoQPyfJ0qmukeTmqcg5RM0p/6wkSZIkSZJG60SjC1hXVYurahHwGHDqgPha4LRhklXVyqo6Y4LTFgPbdPOmqg5tqdQ2/1lJkiRJkqTZryuNrn4rgH0GxG8Bnj5MgiSHJ7m6OX5Cko8kuT3JnUmOT7IDcC5wYrNj7MQx8vxW8/6q5tpd+3M351yS5KS+y96a5Lbm63H3kWTvJJ9PckeSFUn2a+LHJvlSU+dfkjylie+Z5AtN/INA+nI90ne/NyT5RJKvJflYkjTvHdPEbkxycf/aB6xtqM8qycFJbm7OuTnJbwzIdUqSlUlW3vrI/WP+XkmSJEmSNJtVVSe/ZqtONbqSbA8cDdwzKj4POAK4cgvSvh24rqoOAl4EXAjMB84Gljc7xpaPce1S4LSqWgy8EFg3RL2fVNXBwCXA3wx4fxlwelU9p8n/gSZ+I3BIVR0IXA6c2cTfCdzYxK8E9hqj7oHAnwL7A88Enp9kJ+CDwNFV9QLgyROsfdjP6mvAYc2azgb+YnSiqlpWVUuqaskhC/adoKwkSZIkSVJ3furizklWNccrgA+Pii8E7gCu3YLcRwLH9c3I2omxm0Wj3QS8J8nHgE9V1XeajVLj+Xjfrxf1v5FkAXAocEVfnh2bX58BLE/yVGAHYE0TPwz4PYCq+mySH49R97aq+k5TZ9Nn9gjwjaralOvjwCnjrH3Yz2o34KNJ9gWKXjNMkiRJkiRpq3Sl0bWu2TU1MJ5kN+BqejO6xh0yP0CAE6rqvs2CyXMnurCq3pXks/TmU92a5MXABjbfSbfT6MvGOKa57sEx7vV9wHuq6sokhwPnjJNnkPV9xxvpfW9M2JUbZdjP6jzg+qp6eZKFwA2TrCNJkiRJkvQ4nXp0cSxV9RBwBrA0yWR3D10DnN43s+rAJv4wsOt4FybZu6ruqaoLgJXAfsA3gf2T7Ng04I4YddmJfb/eMuo+fgKsSfKKJn+SPKt5ezfgu83xa/su+yLw6ub8o4FfmviWf+5rwDObZlT/2sYy7GfVv9aTJrEeSZIkSZKkMc2JRhdAVd0J3AW8cthLml/Po/do3d1JVjevAa6n17Aacxg98KdJVie5i958rv9ZVd8G/gm4G/gYcOeoa3ZM8iXgzcBbBuR8NXByk/Ne4Pgmfg69RxpXAD/sO//PgcOSfJneo4XfmvjWe6pqHfAnwOeT3Ah8H3honEuG/az+CvjLJDcB84ZdjyRJkiRJ25oRqpNfs1UnHl2sqgXDxKvq2L6Xi8ZJuSewtrlmHfCGAbnXAgdNsK7Tx4ifyS+GxffHFzaHfz4qfk7f8RrgJQOu/QzwmQHxH9FrcG3ylr73FjS/3kDf44NV9aa+86+vqv2aXVrvp7czbaBJfla/3nf8jrFySpIkSZIkDWvO7OgaVpLjgPPp/bRBweub4fT30nvk0M9FkiRJkiTNSp3Y0bWlkhwFXDAqvKaq9ptkntfRe9Sw301VddrWrG82qKqLePxPf+zs/UqSJEmSpG3XnG50VdU19Aaob22eS4FLt35F24a5dr+SJEmSJG2pqtk7z6qLfHRRkiRJkiRJnWCjS5IkSZIkSZ1go0uSJEmSJEmdMKdndEmSJEmSJE2nEZzR1SZ3dEmSJEmSJKkTbHRJkiRJkiSpE2x0SZI65xt/9fWZXoIkSZKkGeCMLklS5zzzzL1negmSJEkSAOWMrla5o0uSJEmSJEmdYKNLkiRJkiRJnWCjS5IkSZIkSZ1go0uSJEmSJEmd4DB6SZIkSZKkaTJSDqNvkzu6JEmSJEmS1Ak2uiRJkiRJktQJNrokSZIkSZLUCc7okiRJkiRJmiaFM7ra5I4uSZIkSZIkdYKNLkmSJEmSJHWCjS5JkiRJkiR1QicaXUk2JlmVZHWSK5LsMiB+VZLdm/jCJKvHybckycUT1Fyc5Jgpvo8HkjxpQPycJEunukaSm6ci5xA1D09y9RjvfSjJ/m2sQ5IkSZKkto1UdfJrtupEowtYV1WLq2oR8Bhw6oD4WuC0YZJV1cqqOmOC0xYDU9roaltVHToL1vDHVfWVmV6HJEmSJEna9nWl0dVvBbDPgPgtwNOHSdC/AynJE5J8JMntSe5McnySHYBzgRObHWMnjpHnt5r3VzXX7jp6d1OSS5Kc1HfZW5Pc1nw97j6S7J3k80nuSLIiyX5N/NgkX2rq/EuSpzTxPZN8oYl/EEhfrkf67veGJJ9I8rUkH0uS5r1jmtiNSS4ea2dWc+45Sf4hyXVJ7k/y+r63F4yR/4YkS8b/HZEkSZIkSZpYpxpdSbYHjgbuGRWfBxwBXLkFad8OXFdVBwEvAi4E5gNnA8ubHWPLx7h2KXBaVS0GXgisG6LeT6rqYOAS4G8GvL8MOL2qntPk/0ATvxE4pKoOBC4Hzmzi7wRubOJXAnuNUfdA4E+B/YFnAs9PshPwQeDoqnoB8OQh1n8A8FLgecDZSZ42Vv7xkiQ5JcnKJCtvfeT+IcpKkiRJkqS5bvuZXsAU2TnJquZ4BfDhUfGFwB3AtVuQ+0jguL4ZWTsxdrNotJuA9yT5GPCpqvpOs5FpPB/v+/Wi/jeSLAAOBa7oy7Nj8+szgOVJngrsAKxp4ocBvwdQVZ9N8uMx6t5WVd9p6mz6zB4BvlFVm3J9HDhlgvV/pqrWAeuSXA8cDDw4Rv4bx0pSVcvoNfV4916vmb0P/0qSJEmSNI7C/6RtU1caXeuaXVMD40l2A66mN6Nr3CHzAwQ4oaru2yyYPHeiC6vqXUk+S2+W161JXgxsYPOddDuNvmyMY5rrHhzjXt8HvKeqrkxyOHDOOHkGWd93vJHe98aEXbkBRtfa9HpQfkmSJEmSpCnTqUcXx1JVDwFnAEuTzJ/k5dcAp/fNlDqwiT8M7Drehcn/z959h0tWVekf/77k0DQgIIxo04AIkkGQIIIYUFREBQYxASKoIMnAjOEnICoDYkB0BBTQQXFA0SEYEJHYNKmbBlpBHYIB0xCkG5DY6/fHPtV9bnXd0H333vd29ft5nvvUrVO3zjpVt8I56+y9ltaPiDsi4iTgFmAj4PfAxpKWbRJwr+q6276ty6ldj2MWcK+kfZr1S9IWzc0rA/c3v+/futs1wDuav98dWHX4hzzXXcB6kiZ3bdtQ9pS0nKTVgFcANy9APDMzMzMzMzOzhbZYJLoAIuJW4DbgbSO9S3N5Aqkm1+2SZjbXAa4kJawGLUYPHCVppqTbSPW5fhoRfwQuAG4Hvgvc2nWfZSXdCBwJHN1jne8ADmrW+Stgz2b5caQpjdcCD7T+/nhgZ0nTSdMw/zD8Q0+aKYiHAj+TdB3wN+CRYe52E/Bj4AbghIj480jjmZmZmZmZmZmNRl9MH4uICSNZHhF7tK5uOsQqVwMeau7zT+B9Pdb9ELDtMNt1+CDLj2Fesfj28snNr8d3LT+u9fu9wOt63Pq4MhMAACAASURBVPci4KIeyx8kJbg6jm7dNqG5vAq4qrX8g62/vzIiNmpGtH2NNDJtKL+NiAF1vIZaf0S8Ypj1mZmZmZmZmZmNSF8kunKS9Cbgs8B7xnpbxomDJe1PKnB/K6kLo5mZmZmZmZmNwJxwMfqaFutEl6TXAid1Lb43IjZawPUcSJpq2DYlIg4bzfaNBxHxJebv/ti3j9fMzMzMzMzMFl2LdaIrIi4jFZsf7XrOAc4Z/RYtGha3x2tmZmZmZmZmi4bFphi9mZmZmZmZmZn1t8V6RJeZmZmZmZmZWUmBa3TV5BFdZmZmZmZmZmbWF5zoMjMzMzMzMzOzvuBEl5mZmZmZmZmZ9QXX6DIzMzMzMzMzK2ROuEZXTR7RZWZmZmZmZmZmfcEjusxaluHZarEe55lqsZ5UvTMIS73lzdViPfOzs6rFQhXPC8ScaqHufuwv1WKtufFzq8V67MIZrHzOV6vFW+GEk6rFWn7teu/nmu+xddb6R7VY0x5es1qsmiatOqtarJmPr1YtVk1r7rZMvWA/rBdqidfuVS1WPPCnarGWWH9StVjx0CPVYtX0zOXfrhfs2Xr7vrUt9bqDqsV6es7F1WKZLao8osvMzPpOzSSXmZmZmZmNHx7RZWZmZmZmZmZWSOAaXTV5RJeZmZmZmZmZmfUFJ7rMzMzMzMzMzKwvONFlZmZmZmZmZmZ9wYkuMzMzMzMzMzPrCy5Gb2ZmZmZmZmZWSMScsd6ExYpHdJmZmZmZmZmZWV9wosvMzMzMzMzMzPqCE11mZmZmZmZmZtYXXKPLzMzMzMzMzKyQOcRYb8JixSO6zMzMzMzMzMysLzjRZWZmZmZmZmZmfcGJrnFC0rOSZkiaKen7klbosfwSSas0yydLmjnE+raR9JVhYm4p6fULub2vkHRp8/sBkr66EOtY6PhmZmZmZmZmZt2c6Bo//hkRW0bEpsBTwPt7LH8IOGwkK4uIWyLiiGH+bEtgLBNNYx3fzMzMzMzMrKiI6Muf8cqJrvHpWuCFPZZPBdYeyQq6RlytKOlsSTdLulXSnpKWAT4N7NuMGNt3kPW8VNL1zf2ul7Thgj4YSd+SdLqkayX9VtIbRxrfzMzMzMzMzGyknOgaZyQtBewO3NG1fEngVcDFC7HaTwC/jIhtgV2BzwNLA58Czm9GjJ0/yH3vAnaOiK2av//cQsQHmAzsArwBOJ302hs0vqRDJN0i6ZYbHv3dQoY0MzMzMzMzs8XJUmO9ATbX8pJmNL9fC5zVtXwyMA24fCHWvRvwJkkfaa4vB0wa4X1XBr4taQMgSAmyhXFBRMwBfifpHmCjof44Is4EzgQ4ZdI7x++YSDMzMzMzMzMbN5zoGj/+GRFbDrZc0srApaQaXUMWme9BwF4R8ZsBC6XtRnDfE4ArI+ItkiYDVy1g7I7uZJWTV2ZmZmZmZtb35vjwtypPXVxERMQjwBHARyQt6Kiqy4DDJQlA0lbN8tnASsPcd2Xg/ub3AxYwbts+kpaQtD6wHvCbEcY3MzMzMzMzMxsRJ7oWIRFxK3Ab8LaR3qW5PIE05fB2STOb6wBXAhsPUwz+ZOBESVOAJRduy4GU2Loa+Cnw/oh4YoTxzczMzMzMzMxGxFMXx4mImDCS5RGxR+vqpkOscjXgoeY+/wTe12PdDwHbDrNdU4EXtRb9v2b5VTTTGCPiW8C3hloPMCUijl7Q+GZmZmZmZmZmI+VEVx+S9Cbgs8B7xnpbzMzMzMzMzMxqcaJrESfptcBJXYvvjYghuxr2WM+BwJFdi6dExGELsI5PAPt0Lf5+RBywINtiZmZmZmZm1i8iXIy+Jie6FnERcRmp2Pxo13MOcM4o1/FZ0kgyMzMzMzMzM7PqXIzezMzMzMzMzMz6ghNdZmZmZmZmZmbWFzx10czMzMzMzMyskDmu0VWVR3SZmZmZmZmZmVlfcKLLzMzMzMzMzMz6ghNdZmZmZmZmZmbWF1yjy8zMzMzMzMyskMA1umpSuCiajXOnTHpntRfp+c/8oVYofraVqsX6xfTnV4t1zFN3VIu1lOrl6pdQvf9XTWcvuW61WF9c5slqsQCmP/b7arHOXXrDarHe/NiMarFWXXalarFesNxzqsV6/ZJrVYu1ZMXdrKf682OKpSs+h/ct8XS1WJNi6WqxvjK73ufGP554rFqsZ+Y8Wy3Wkkv050SYtVao99nbz56eU++z4+7fXlQtVk1Lr75en36LJWut8uK+TLz89R93jsv/W39+YpuZ2WKtZpLLzMzMzMzGDye6zMzMzMzMzMysL7hGl5mZmZmZmZlZIS4ZVZdHdJmZmZmZmZmZWV9wosvMzMzMzMzMzPqCE11mZmZmZmZmZtYXnOgyMzMzMzMzM7O+4GL0ZmZmZmZmZmaFzMHF6GvyiC4zMzMzMzMzM+sLTnSZmZmZmZmZmVlfcKLLzMzMzMzMzMz6gmt0mZmZmZmZmZkVEuEaXTV5RNdiTNKXJB3Vun6ZpG+2rn9B0oeGuP/1I4hxn6TVeyx/haQdF2a7zczMzMzMzMx6caJr8XY9sCOApCWA1YFNWrfvCEwZ7M4RMZpE1Ss6sc3MzMzMzMzMcnCia/E2hXnJpk2AmcBsSatKWhZ4MXCrpI9KulnS7ZKO79xZ0qPN5RKS/lPSryRdKuknkvZuxTlc0nRJd0jaSNJk4P3A0ZJmSHp5hcdqZmZmZmZmZn3ONboWYxHxZ0nPSJpESnhNBdYGdgAeAW4njbzaAHgpIOBiSTtHxDWtVb0VmAxsBjwXuBM4u3X7AxGxtaRDgY9ExHslnQ48GhGnlHyMZmZmZmZmZmNpjmt0VeURXdYZ1dVJdE1tXb8e2K35uRWYDmxESny17QR8PyLmRMRfgSu7bv9hczmNlBAblqRDJN0i6ZYbHv3dgj4mMzMzMzMzM1sMOdFlnTpdm5GmLt5AGtHVqc8l4MSI2LL5eWFEnNW1Dg0T48nm8llGOIowIs6MiG0iYpvtJ3Tn1czMzMzMzMzM5udEl00B3gg8FBHPRsRDwCqkZNdU4DLgPZImAEhaW9Jzu9ZxHbBXU6trTdJ0x+HMBlbK9BjMzMzMzMzMzFyjy7iD1G3xvK5lEyLiAeDnkl4MTJUE8CjwTuDvrb+/EHgVaUTYb4EbSTW+hnIJ8ANJewKHR8S1GR6LmZmZmZmZ2bgSrtFVlRNdi7mIeBaY2LXsgK7rpwKn9rjvhOZyjqSPRMSjklYDbiIly4iIya2/v4VmtFdE/BbYPONDMTMzMzMzM7PFnBNdlsulklYBlgFOaIrSm5mZmZmZmZlV40SXZRERrxjrbTAzMzMzMzOzxZuL0ZuZmZmZmZmZWV/wiC4zMzMzMzMzs0Lm4GL0NXlEl5mZmZmZmZmZ9QUnuszMzMzMzMzMrC840WVmZmZmZmZmZn3BNbrMzMzMzMzMzAqJcI2umjyiy8zMzMzMzMzM+oITXWZmZmZmZmZm1hec6DIzMzMzMzMzs77gGl1mZtZ3tl5xHaY/9vux3gwzMzMzM+a4RldVHtFlZmZ9x0kuMzMzM7PFkxNdZmZmZmZmZmbWF5zoMjMzMzMzMzOzvuAaXWZmZmZmZmZmhQSu0VWTR3SZmZmZmZmZmVlfcKLLzMzMzMzMzMz6ghNdZmZmZmZmZmbWF5zoMjMzMzMzMzOzvuBi9GZmZmZmZmZmhcwJF6OvySO6zMzMzMzMzMysLzjRZWZmZmZmZmZmfcGJLjMzMzMzMzMz6wtOdI0RSY+2fn+9pN9JmpQ5xrck7T3E7VtImtG6vp+kxyUt3VzfTNLtw8T4tKRXD/M3x0n6SI/lq0g6dPhHYmZmZmZmZrZoioi+/BmvnOgaY5JeBZwGvC4i/lA5/B3AOpJWaq7vCNwFbNW6PmWoFUTEpyLiFwsZfxXAiS4zMzMzMzMzy8KJrjEk6eXAN4A3RMTdzbI9JN0o6VZJv5C0ZrN8DUmXS5ou6QxJv5e0enPb/5N0V3P79wYZPfUSSVdLmibpMkn/EhFzgJuB7Zo/ewnwNVKCi+by+sHu3yyfO2qsGZl2l6TrJH1F0qWtTdhY0lWS7pF0RLPsP4D1Jc2Q9Plcz6uZmZmZmZmZLZ6c6Bo7ywIXAW+OiLtay68Dto+IrYD/Bo5plh8L/DIitgZ+BEwCkLQNsBdpFNZbgW26AzVTEU8D9o6IlwBnA59tbr4e2FHSisAc4CoGJrqmDHP/TozlgDOA3SNiJ2CNrs3YCHgt8FLg2Gad/w7cHRFbRsRHh33GzMzMzMzMzMyGsNRYb8Bi7GlSkukg4MjW8ucD5zcjppYB7m2W7wS8BSAifibp4dbyiyLinwCSLukRa0NgU+BySQBLAn9pbpsCfBi4Frg5Iu6W9EJJawATIuIeSZsOcf+OjYB7IqKzvd8DDmnd/uOIeBJ4UtLfgTWHenIkHdK5/16rvpTtJ2ww1J+bmZmZmZmZjUvB+K1n1Y88omvszAH+FdhW0sdby08DvhoRmwHvA5ZrlmuQ9Qy2vPtvftWMnNoyIjaLiN2a224AtiUlzKY2y/4EvI1m2uIw9x/pdjzZ+v1ZhkmyRsSZEbFNRGzjJJeZmZmZmZmZjYQTXWMoIh4H3gi8Q9JBzeKVgfub3/dv/fl1pMQYknYDVm0t30PScpImAG/oEeo3wBqSdmjuv7SkTZptmA38ETiAeYmuqcBRzEt0DXr/lruA9SRNbq7vO4KnYDaw0rB/ZWZmZmZmZmY2Ak50jbGIeAh4HfBJSXsCxwHfl3Qt8EDrT48HdpM0HdidNHVwdkTcDFwM3Ab8ELgFeKQrxlPA3sBJkm4DZjCvDhek6YvLRsQfm+tTgfVoEl0juD/N1MlDgZ9Jug74W/d29HjsD5JqgM10MXozMzMzMzMzGy3X6BojETGh9fsfgXVbN1/U4y6PAK+NiGeakVW7NjWvAE6JiOMkrQBcA3yhWe8BrRgzgJ0H2ZbDgMNa16+iayriYPdvxwCujIiNlAp5fY2UdCMijuu6z6at39/ea5vMzMzMzMzM+kGEa3TV5ETXomMScIGkJYCngINbt50paWNSPa9vR8T0sdhA4GBJ+5OK6N9K6sJoZmZmZmZmZlaFE12LiIj4HbDVILeNi1FREfEl4EtjvR1mZmZmZmZmtnhyjS4zMzMzMzMzM+sLTnSZmZmZmZmZmVlf8NRFMzMzMzMzM7NCXIy+Lo/oMjMzMzMzMzOzvuBEl5mZmZmZmZmZ9QUnuszMzMzMzMzMrC+4RpeZmZmZmZmZWSGu0FWXR3SZmZmZmZmZmVlfcKLLzMzMzMzMzMz6ghNdZmbWd7ZecZ2x3gQzMzMzMxsLEeEf//TlD3CIYzmWYznWeI7nWI7lWI7lWI7lWOMrnmMtWrH8459ePx7RZf3sEMdyLMdyrHEez7Ecy7Ecy7Ecy7HGVzzHWrRimc3HiS4zMzMzMzMzM+sLTnSZmZmZmZmZmVlfcKLL+tmZjuVYjuVY4zyeYzmWYzmWYzmWY42veI61aMUym48iYqy3wczMzMzMzMzMbNQ8osvMzMzMzMzMzPqCE11mZmZmZmZmZtYXnOgyM1vESXrZSJbZ4CQtO5JlNj74/2XjhaR1R7LMzKw27x/a4syJLrMFJOmdkt7VY/nBkt5eMO5ykj4k6YeSLpR0tKTlCsV6maQVm9/fKemLktYpFGtZSW+X9HFJn+r8FIp1xUiWZYp10kiWZXLaCJdlIWlrSUdIOlzS1gXjHDmSZZlMHeGyRYqkTSvG+qCkVSuFq/r/krSppH+V9O7OT6lYtdT8PGzWvaqkl0raufOTef3HNJenSfpK90/OWF0u7LHsBwXjVSFpn5EsyxhvVUmbN98vW5f6bqn83VycpFc2l2/t9VMoZs3v5uIkbdRcbt3rp1DMWu+v2vuHffX+skXbUmO9AWY5SLoDGLSzQkRsnjHch4FeO+j/DVwFnJcxVtt/AbOZ9wW1H3AuUOKL8evAFpK2AI4Bzmri71Ig1kXAI8A04MkC66dJCK4ArN4ciKu5aSLwvBIxgdcA/9a1bPceyxaapB2AHYE1JH2oddNEYMlccbpifor0mvths+gcSd+PiM8UCLc/cGrXsgN6LFtoktYC1gaWl7QVA18bK+SK0xXzSnp8XkXEKwuEO13SMsC3gPMi4h8FYnSsBdwsaTpwNnBZZO54M0b/r2OBVwAbAz8hvY+vI30m5orx5Yg4StIl9H5tvCljrOqfh5LeCxwJPB+YAWxPSkzmfM3f2VzeknGdg2oOjjcBVu5KKEwEsp6EknRdROwkaTYDXx8CIiIm5ozX+Bjw/REsGzVJJ5A+2+9m3uML8r4+Oop/N3dI2p60z/ZiYBnS9/Jjmf9fuwC/BPbocVsw77s6p+LfzR2SNgBOJH3+zn1fRcR6GcN8CDgE+EKP20q9Dou+v8Zi/7BR7f1lNhwnuqxfvLG5PKy5PLe5fAfweOZYS0bE7O6FETFb0tKZY7VtGBFbtK5fKem2QrGeiYiQtCdwakScJWn/QrGeHxGvK7TujvcBR5EO4qa3ls8CvpYzkKQPAIcC60m6vXXTSsCUnLFIO84TSJ/lK7WWzwL2zhyrYz9gq4h4AkDSf5Ce02yJLkn7AW8H1pV0ceumlYAHc8VpvJa0g/584Iut5bOBj2eO1fGR1u/LAXsBz5QI1BwcbwC8B7hF0k3AORFxeYFYn5T0/4DdgAOBr0q6ADgrIu7OFGYs/l97A1sAt0bEgZLWBL6ZOUbnO+uUzOvtpdrnYcuRwLbADRGxa5MkOj5ngIi4pLn8ds71DmFD0r7HKgxMMswGDs4ZKCJ2ai5XGu5vR0vS7sDrgbW7RsJNpNDnFPCvwPoR8VSh9df+bu74KvA2UvJiG+DdwAtzBoiIY5vLA3Out5fK380d5wDHAl8CdiV9t2jIeyygiDikudw153p7qfj+qrp/OEbvL7MhKfPJVrMxJWlKRLxsuGWjjHEnsE1EPNa1fCXg5ojYKFesrvV/Czg9Im5orm8H7B8RhxaIdTXwM9IOxc7A/wEzImKzArHOBE6LiDtyr7tHrMMjotiQ7SbGysCqpDOQ/966aXZEPFQo5joR8XtJK3a/LgvE+imwX2dkkKRVgO9ExBuHvucCxVgHWJcezyFwe0RkP9iStFdE9JqCVIWkqyOixIjJzvqXBN4MfIW0oyvg4xGR/Wx/MxL0QOB1wJWk0TuXR8QxGWNU+39JuikiXippGulAazYwMyI2qRG/lBqfh61YN0fEtpJmANtFxJOSZkTElgVivYiUTJ5M64RuoRGTSNohIqpNc27ey2sy8LH9IeP6twC2BD4NtMsIzAaujIiHc8VqxbwQ+EBE/D33ulsxxuK7+ZaI2EbS7Z2ZBZKuj4gdC8RalnTSZDIDXxufzhhjLL6bp0XESyTd0dkHlXRtRLw8d6xm3Tsy/3OYc/Ru1fdXZ/8w5zoHiVP9/WU2HI/osn6zoqSdIuI6mPuFtWLmGGcBP5D0gYi4r4kzmXQm/KzMsdq2A94tqbNDOwm4szNtM/P0zH1JZ+0Oioi/SpoEfD7j+tvTTZcCDpR0D2nqYmcqRs7H03G2pE8CkyLikGaky4YRcWmuABHxCGkq5n6SdgI2iIhzJK0uad2IuDdXrJbnNQmoCcCkZkfqfSWSoKT/0a8kXU76/70GuK5zZjIijhhtgGan7PfADs3omW2bm+4ssSPduKp5DDuRHtd1wKcjIvtZaknPaV1dAngJadpfdpI2JyWd3gBcDuwREdMlPY80dSxbokvSEaQpLQ+QRjx9NCKelrQE8DvSNOhcqv2/SCPhVgG+QZpi/ShwU4E4nSLBxwHrkD4bO5+HOafpdHyzmdLSeQ6vJZ1MeaJArD81z+H/AJdLehj4c4E4kEbPnE56DT5bKEbbg0q1zdaMiE2b99ybSkznlnQ4aXTL34A5zeIAsn1fRsRtwG2SziO9BidFxG9yrX8QJwK3SppJq4RBzim7Xd/NWzPvdT8FKHUg/rjS1PEZkk4G/kL+fdKO4mUgur6b1wJeSnoOf1Pwu/mJzneIpA8C9wPPLRFI0rnA+qTp1Z3PjiDjNPWu95eAjZj3HJYY0bhsc0J5MgUT/13vr3YyfoKkCTmT8WYj5RFd1lckvYRUG2blZtE/gPdExPTB77VQcd5Pmks/oVn0KPAfEfH1nHG6Yg5ZDL7GGZucRvp4JK2a6wyXpPNJO4Hvbg5IlgemFhpVcCxpqsKGEfGiJrHw/ZyjC1uxbiQNRb84IrZqls2MiOyFyDXMFNac04aUCrOeQqp9J+DlpORJ9kLPTeLuGuA7zaJ3AK+IiFcXiHUvacdWpKkK95KSNNcViHUNKUHzg4j4Z9dt74qIc3vfc6FifZo0TXG+zyJJL46IO3vcbWFjVft/dcWdDEyMiNuH+dOFXf9dwNGkz6m5SZpCCdcLSKMIOs/hfsCqEVGs4HgTdxfSd/RPI+LpAuufFhEvyb3eIeJdDXwUOKPC5+//kkbElZom1o61B+nzd5mIWFfSlqTPqWzJp1asXwFnAHcwL4FHRFxdINb/I02V7CT530z6bi6RmFyHlJRchvS+Xhn4WuSbyt2OVeQ1N0isg0gJ11+Svsd2Ib02zi4Qa1tS/b1VgBNIU/xOjogbC8S6E9g4KhwcS3o96TV/N+k5XJd0gvKnmePcRkr8d3+nTMsZpxXvg6STNQOS8YVOXpsNLSL845+++yF9Ea5cIc4EYKWKj2sn4MDm99WBdTOv/7rmcjZpelPnZzYwa4z+l9MzruuW5vLW1rLbCm33DNLOSzvW7YVi3VjrcTXrXp6UwCv9v78NeG7r+hoF/1/TBnu9LMo/wFE9lh1ZKNa5I1m2qP2/gCtGsixTrBsrvjbmey8VfH8Vf20Az2l+jiPVivmX1rLnFHweb24u25+/MwrFuhJYqtLrYxopMVPjO+zqGo+piXUnsFzr+vKk0cIlYs33WVvw8/dMYLNKz+FvgNVa11cjjUgqEWufkSzLFOv7wL9Ueg7vAl7Yur4+cFeBOPN9VxZ+XP/bfm34xz9j+eOpi9YXNLCjSHs5ABHxxV6354rViZM7VleMuSOESMU5lyGdic82QigqFrxdADmLjj7VjOIKAEnrU2iIP/BURISkTqxS0xUA/thM041mmsQRzOtAllX7LD+pIG2xs/zAEjGwZsuDpKl+JVwp6W3ABc31vYEfF4qFpE2Zv4tUtukRLe8Gvty17AAKdMcidaCbq5m+UGpkTfH/lyp2J9S8FvZXSvo8abRJewpX1lHJjVslbR8D6z6WKhpc47UxjXkjJSGNsuoIoMT0T4AHmu+Szmf93qQpatm09jvuIU3b/TEDXx8l9jueiYhH2vs3BU2TdCJwMeVf9/eRPnc7U3SXJY2qKaFG5+CxKAPxJ9IJ0I7ZwB8LxIEK3T81r9vtSsCvlZq2FJlC2/L3iPjf1vV7gGw16lolEi6RdCjwIwY+plLTdf9ImsJoNuac6LJ+MVRiJvcQ5FNIo3V+yrydiRreAmxF0yUrIv6sVAA/O0mnAv8dFQvsDiHn/+9YUpH9F0j6LilJeEDG9bddIOkMYBVJB5O63n2jUKz3k3ac1ybtgP6ceR1IczuOVJfjKoCImCFp3UKxfibpMuB7zfV9Se+7Et5HajHemcq3JPBYc4AZkbEdfJO0fgUp0fUTUuvt68hYB0QVu2NJ+hip4+HykmZ1FgNPkUYZlFDj/1WzO2F3W/ttWr+Xam9fvO5jj9dG5/sy+2sjIkp9Dg3nMNJj2UjS/aSpyO/MHKPzXf+H5meZ5qekmZLeDiypVM/yCOD6QrG2ai63by0r9bovXmdyiM/fieTvTpitEcwCuB+4UdJFpOdwT+CmTkI2R+JVdbt/1uh22+1Xkn5COlkTwD7AzZLeChCjbxRTNfE/Rsl4syG5Rpf1FUkvi4gpwy0bZYwtSe2iX0f6IvkeaRpL0TeT5nX+mh4RWzcjhKaWOFvX1GHaF3gR6SzQ+RFxS+44I9yW6RGx9fB/OeL1rUbamRap1f0DudbdI9ZrgN2aWJdFxOWlYtUi6caI2E7SrTGvHs3thc4a0+z07UR6Dq+JiB+ViDOC7dgkIn6VaV13AFuQpgRtoVRw/5sRsUeO9TcxxqI71okR8bHc610Ymf9f1boT1qRh6iSSpqvnqo9Y7bXRjMQ7lDpF9ttxVySNQp097B+PPtZEUjKyWCxJKwCfoPUdBpxQ+nksTRXqTI7F528Td0CR/UIj4jonawYVEcdniFG9+2cTt11k/+aI+GuhOOcMcXNExHtKxC2lxmvCbEE50WV9pVdSJHeipGvdO5IK+L4a+LeIuHiYu4wm1keADUhnH08kjRA6r+QBWDP0eS9SYm9SRGxQKtYQ2zA3oTKKdWwUEXe1pge1BfBQLGLF/AEkHRMRJ0s6jflHvgWpk9R3ImPhW0lnAVeQdt73Ip3lXzoi3p8rRivWSRHxb8MtqyHn50graT0N2JW04z4zIjYZ5q7j0jDvr1LTj4bbppz/rxVJhaSLdWttxVqNNPK0RjfJ4bYl53O4BM0Il4g4QdILSLVwsnevVOUi+0rdJN/N/F3NRj0yqEesbUilCzojvB4hNdwpUli6Fkmf6rU8Ij49BttyYUTslXF965C6L/9CqXTCUiUSlM1zuA8ViuyPYFtOi4jDM61raSp1/5T0XlJSrXiR/RFsy8ci4sQM63lrj8WPAHd0lYYw6zueumh9QdIOwI7AGhpYQ2siaUpLiZhrkIbbb0aaLlb0CyMiTmlGCM0i1en6VIURQi8ktT6eDPy6RABJ50bEu4ZY9qoMYT4EHML804M6VpN0W/d2LAxJ10XETpJm03va5YPA5yPiP0cbi3l1uAYbbbcaaad3iwyxOg4nneV/kjSa8TJSJ6QSXgN0J7V277GshpxTlG9pDo6/QRoV+iiQ9YB/iNdhp25LtqmYwIeBg+n9/io1/Wg4Of9fZ5P+Tzs21/9Eqg+TPdEF/Depm2TnQPsdVoEMMwAAIABJREFUwPmkkym15XwOv0bqwPVK0ufFo82ybTPG6NgwItqfeVcqdR4r5SfADXR1DCzkbODQiLgWQNJOpMRXiZHd25CmnU5mYAKvxOjdx1q/L0eajlekzuQIZJvS1ZQtOITUEGF94PmkDng59mu67Qds1RlxJ+k/SFOuqye6yFg7ljR7olZd0I+SnsMHYe6Jh+tJ77va9iGd1B6tg4AdSI0sIJVNuAF4kaRPR8bOyzCg3lnbI6T91DMW9RGhtmhxosv6xTKkDohLMbBe1yxSkeJsJB1Imta3HPAD4F9rnRVpElvFp79JOgl4K6lA6/mk6Qr/KBRuyCLFOQpmRsQhzeWug/2NpJ9LenVE/GKUsYYs6N/ZcZJ03mif04i4pLkcdKqFpMdznl2NiMdJia5P5FhfL5I+QJp6tJ6k21s3rUS5YtnDyTb8OSIObX49XdLPgIkRcftQ91mIGNUaS0TEwc3loO+vMZBzuPr6EbFvU3eHiPinVKxC93Miop04/oykNxeKNZycz+F2zZT7WwEi4mGlxhkl1CyyD6mDX8+GOAXM7iS5ACLiuiaZXcJ3SQf+xRN4ETEgSS7pFFJh+rGQ83V/GGka3I0AEfE7Sc/NuP62+6hXZL+m45i/LujkQrFqFtkfTq7vmDnAiyPibwBNqYSvk2o0XsO8Ope53EPqkN2urfo3UimUbwCjPqFsNlJOdFlfiIirgaslfavCFLSzSDt+fwBeC+ymgV0Xs55lGmJkUImRGR33AjsMVr8qR/0bVSxSPBIRsZuk6UCRaa6tOA9K2pU0NL5orCbe6c3jGpVBztK14+R83Z9HKjo/X32TduJT0qql6nSUJOmKiHgVQETc170sU4znDHV7jgRyK1avqRHtWKMtqjvWanZrrdr9s6Knm5MYnedwDcolT4oX2e9ybjNy51LKdzW7SanJyfdIz+W+pMLPWzcxc04T/r+S5RiGsQLlumTW9GREPNXZR5S0FPkbJM2NReEi+2OkZvfP4kX2F0Cu18nkTpKr8XfgRRHxkKSnM8Vo2yoidm5dv0TSNRGxs6QsdTPNRsqJLus3y0o6k/mH2uecOlN11MJIR2TkPOiPiNOH+ZNzGWWSpqk9cKLGUQFrKnXQjNQxs1a3zlyqdSWKiEdIQ933G+ZPr6BCsrDx1GhXoFQkewVgdUmrMu/1NpHU2S+n7o5Lbbk7Lg1VRD+YVzOmplH/v1pqdmut1v1zBHJ+Rn2F1NjkuZI+S0rgfTLj+tteN9SNBRLkTwGfJ41y7RycZu9q1tiyuewu/Lwj+acJHyvpm6TP2XYCL/v7uZOEbK4uSRoRUr0+V2dzMq7rakmdE3qvIY1UviTj+tt+1Px0XFUozkjkfA5rdv+8m4Gj4C5qLouPjO4h13N4raRLSdPtIU2Lv6apPVlipsYakiZFxB8AJE0CVm9uy/m9bDYsF6O3vtLU4TiddJD3bGf5ol6odSRyFg4eQaxRF4hvrUvAW2h1yIqI/8mx7oXYlprPYb/GylrId5hY2V6Hzfo2Z/4kebaDOklHAkeRklr3M29HdhbwjYj4aq5Y/U7Szr2WR8Q1heIN2q01xwjXBdiOrLE0RJc2Sc/JPPJvI1JtIpE6Fd/Zuq3a6Mzcn4eS7iZNzSzWwXcBtmX/oaayL+C6vkOq0fkr5o2+iyjQDU4DO4A+A/wtCnUmHMG27BYRP8+0riVINZLanSu/GWNw8FX5u/mAiPhWpnW1u39Ceg4/Mxa1nnKWgRhBrI9HxOcyrEek5NbLSK/B64ALS70GJb2edBx2dxNvXVKC9yrg4Ij4com4Zr040WV9RdK0iHjJ8H85qhhD1tIpVKh1WLkP+oeJlbMb13+Sit635/PfHRGH5Vj/Am5Lvyafar42FtXX4dmkgs41DuoOjyG6pUp6TWRsNNGMHtuAVL8FKJoQegOp7l47VvaRGc1U2o7lSDVcpmUevTvSbVkkPzc0vrq0LbKfh5IuBt7W1C8cU5lfH3dExGY51jXCeEsCazLwRMMfBr/HQsdpjx7r6BTL/kxU7HC6qJ4YGqSUwZgUHK+cfBr1+0u9u2TPtQhPMZ1L0rKkJLmAu8YiKWkGnrpo/ecSSYeShm+XqpUxh/QldR5pCPo/M657NBbVrPUuwKads0uSvk2qgZadpGUj4skhlt1XIu5gm5NtRdI+EfH9IZadmivWCCyqr8PtI2LjGoGGSnI1TiJT0wmldulHkrp9zSCNSppKgU6Ikk4nTc3cFfgmaXpa1m6SHRExYLqkpBcAJ5eINQI1pyHnjDWeurTVfA5zf0Y9C8yQdCUD9zvG4oA15/N4g6SNI6JIx+U2SYeTpmP+jdaJBgp0kyTVf3yWtA8H8LbmchbwLYaeip1bzTpkOV/346ngeM4OjzUM1iU7K9XtvIykV0bEL3vU7FxPUj/U6rRFkBNd1m/2by4/2lqWtVZGRGzZTMHYj7Sj9Ovm8udjNdR+DOScZ/8bUrHgThOBFwBZO9C1TGX+mk5zl0XEkEW1F4SkcyPiXUMsy9le/GPMq78w37JcUwjGoZwHdVNrHdSNQM7HdSSwLWm63a7NZ9fxGdfftmNEbC7p9og4XtIXqFef60/AppVidauZ3M0Z6z7GT5e2RTVBDvA/zc94kPN53AnYX9K9pARe5wC5RPLpSGDDSqOpXhYR7eTIHZKmRMTLJL2zQvy2RfV174LjCynX1OIRxKnWebmxC6nJUq9E8VjV6rTFnBNd1lciYt1Kce4inX08VtK+wH+RRmF8vkb8QeQcIfQyYEZEPNbs+G0NnBpNR8uI2D5XLGA1UkeszsiPbUlJh4ubWKPu5idpLWBtUkHYrRhYBHyF0a5/EJt0bcOSwNxptTlGGUraHXg9sLaazkqNiaQ6J2Mh5+uwZrLw26TX3V8pf1A3nJwHP09ExBOSOqMX75K0Ycb1D4jVXD4u6XnAg6T6HNl1Tf9YglSk+7YSsfpYv3ZpG07W0WPDHbjWnJ5G3sc2ZFH/zP5ImvpWwwRJ20XEjQCSXgpMaG7r55OVOV8bi2vB8VE/h4NM+5wrxz5vj5g7ARtExDmSVgdWioh7c8aIiGObywNzrtdsNJzosr7SFK38EDApIg5R6tCyYURcmjnO2qTh7m8BHgaOZmC3m+wqH/R/HdhC0hbAMcBZpGTeLhljdHyqwDq7vZbUJe35QLs99Czg4zkDSfpYs87lJc1i3o7RU8CZOWMBfyYNg38TqQFDx2zSa3Is/FvGdRVPFracTZpucQfzps70gz9JWoU04uRySQ+TXjclXNLE+jxpClyQprGU0J7+8QzwvYiYUijWcGoe2OWM1a9d2oYssk/e78qRyDaiXNK63QeoXctyvgdqjja6B7hK0o8ZOP3zi4PfZaG9Fzhb0gTS624W8F6lLnQnFog3lJpTdnN+N3+YlBQfUHC8eQ6rjFhqqfkc5igDUa2DNYCkY4FtgA2Bc4BlgO9QaMqnpDWBzwHPi4jdJW0M7BARZ5WIZzYUF6O3viLpfNIB/7sjYlNJywNTI2LLYe66IDGuJrUavgD4ATDgYDvzwXc77oAimM1B/x0l6gp1YjXFiu+PiLNqFgvu2papEbFDpnXtFREX5ljXCGKdGBEfqxRradKJi0kR8ZvCse6lxwFQROQ8mJubLAQepytZWOJ5lfTLsShk3oukH+acRtta7y7AysDPIiJrckapu9j2EXF9c31ZYLmIqDVKoxhV7PBYM1YTb3kqfG40sap0eBxPRfab7clZIH6+dalQE55W0XaRpriuC/wmIjYZ8o4LF+vYXssjotQ0ayStTDoO+kepGCPYhpwdHqsW2R8vBceVt8PjuCmyn4ukGcBWwPROM4KmvECR0eqSfkpKqH0iIraQtBRwa83GFmYdTnRZX5F0S0Rso1Z3GUm3RcQWGWPcx7wvwl4FHrMWFx2jg/6rgZ8BBwI7A/9HmspY/YtKeTsFrQV8lgpnmpoD/7cD60bECU2x7H+JiOzFuSXtQTpLuExErCtpS+DThYbAr9a6uhzpgPI5EZF9ZF7lZOF/AquQGky0RxRkryshaTlSu+3OQf91wNdz70Q3r8HbI6JK7aqcSekRxNqANPpiYwZ2eMxe3FkVOzxWjlXzc6Na8knSnQwssr886SDvxbljjXB7cnRq24g0wvVkBtYgnQh8tETyqcc2bA28LyLeVzpWj9jZOus1CZq9gMkM7PBYojtsteSTpJMZvMj+TtHVwCNDvB2Z/zn8r5wxmjjVkk+STmX+Ivt/Je1/T+yeVTHKWFW+wyTdFBEvbZ3AXpE0AKBUouvmiNi26zhsRs4BB2Yj5amL1m+eanZqOx381qd10JpDREweyd9J2iQiRl2UMyJOBE6sedBP+nJ/O3BQRPy1qb8wVvXHcmbjz2l+PtFc/y1wPmlqZm5fI02BeyVwAvBos2zbArGOIx0QXwUQETMkTS4Qhx475l+WdB1lpqB+XKmDTychdG1ElCr6vDzps2K31rJSBVT/izS9tNN9cT/gXFIiIJuImCPptnYtlcJ+Lmkv4IdR/izaOaQ6iV8idXk8kEJTWLoPEFWww2PNWPT+3ChV57Jmh8f7GD9F9iHP63JD4I2kZHz7NTIbODjD+ocVEdMllfj+Gomc06wuIiVKppF5/7CHmh0eqxXZl3QusD6pk++zzeIgfbflVrPDY80i+7W+wy6QdAawiqSDgfdQrqQAwGPNCdHOcdj21Ku/ZzaAE13Wb44jjUR6gaTvknaODhijbTmX+Tv8jcYnmp2V4iOESDvPp0bEs5JeRBqe/r1h7rMoWD0iLmhGyRERz0h6drg7LaTtmrNntzaxHpa0TKFYz0TEI1L5UhXNWf2OJUi1H0p19fka8ELmvfbeL+k1EXFY7kBRt4Dqhl2jTK+UVKqQ+r+QCo7fBDzWWVhi1A6pPuKKwDOSnoAybcwby0fEFZIUqUnGcZKuJR04lFazw2PJWL0+N0olKO+jXvJpvBXZH3VtpIi4CLhI0g4RMTXDNg1L0odaV5cg1Uf8vxqxC3t+RNQqtF+zw2PNIvvbABtXOKEBdZNPNYvsF/0Ok3QUqWbfl0mJtFmkhPmnIuLyHDEG8SHgYmB9SVNIScq9C8YzG5QTXdZXIuLnkqYB25MOso6MiAfGaHNyZx1qjhC6Bni5pFWBK0hDxPcF3lEg1nByPo81zzQ9rVRHrRNrDcoVOZ8p6e3Aks1w+COA6wvF+kLr92dIB7D/WijWLsCmnZ1pSd8mFYvPTtI59K499p4C4W6VtH1E3NDE3o68RaTbitW46Rb12pgDPNFMzfydpA8C9wPPLRFIFTs81oxF3c+NmsmnKkX2B5mWBgzs2JqrBlPjQUlXAGtGqkO6OfCmQvXH2u/nZ4BLgSo1Lgu7XtJmEVHku6RLzeRTzSL7M4G1gL9kXm8vNZNPNYvsl/4Oez6peP5GwO2kz/YpDGxclF0z8nMXUlJNpLp+T5eMaTYY1+iyviLpYtLoj4sj4rHh/r7wtmQt3t6aX1+s/liPWIeTzjqdXGuOfZMceltEfLe5vmlEzMy07q1J08U2Je2orQHsHRG351h/V6x3kJKDW5N2kPYGPhkR3y8QawXSdMzdSDsWlwEn5K75VJukHwJHN2c7kbQO8B8RsV+BWHu1ri5H6qj65xKjP5RqCG0IdKYTTgLuJCVC5x4gZ4p1UkT823DLMsW6IiJeNdyyTLG2JT1nq5AS/xOBkzsHlJlj7d+6+gxwXxTq8Fg5VrXPja7HNZ+IyHoQqQpF9pvPo0F1Prcyx7yaVKPrjNZ+wMwoXIevOSCfEBGzSsYZIn7OWp2/Jo0UvpeUgB2QmMyp+Zw6m5Tcmpt8An4FvCEiLigQs3iRfUlXkpLwNzGwpmWJ+n6vB04njQCdm3wiJbAPjogvZ45Xpcj+IN9hn++cAMsYZxnSCLwdgR2an39E5kZWzaj062gSahFxX871my0MJ7qsrzRnEfYF3kD6Aj4fuHQsDvgLJLpuJH1R3dwkodYAfp5r568r1q2kHYkvkep0/UrSHZGxGL2kicBhwNqkYc6XAx8EPkIqfL9nrlhdcZei0pkmpQLCr2piXRERd5aKVZOkN5AKI7cLqJYo5Hs1acRiZ3rutsBUUlOGUtPvOrGXAH4RZYqAVztA7vU5pMwdl5SK668AXAm8gnmjMCcCP40CRcAl7dOdNO61zMaPGsmnJk61IvuDxB9wsibzuqsVepZ0HvB+Ug2maaSOrV+MiOz1Ood7PytvZ72en78lEpOtmDWSTzWL7O/Sa3lEXJ07VhOvWodHVSqyP4LtyNKAoXnt7UAq5bIDKbF2R+5yDZI2JR2jdH5WJCW9rgeuL3ESymw4TnRZX2p2NF9JKtL6ukI1YobbhhsiYvuM66s5QmhnUsJpSkScJGk94Kico1skXQQ8TEpcvApYFViGNN10Rq44TaxXRsQvlQqbdwvgIeC6iBh1vS5JEyNilqTnDBJrVo44TawvR8RR6t2VqPO4zsh5hlDS6aSkxq7AN0mvw5si4qBcMVqxeu5Md5TaqW5ibwj8OCJeWGj9OwEbRMQ5klYHVoqIezOu/wOkZPV6DKyFtBJppzPbNGRJRwJHAc8jTb/oJLpmAd+IiK/mitWK2SuBl/XkQmu9NTs8Fo81yOfFXIVGZdTs8DiN9P1/VSsZlPVETbPO6idrJP20ifH95oTX3qSTUbsXiDUjIrZs9j1eQqo1Nq3QyKfi7+dhvpuJiIdyxWrFrJl8+hnziuzP3ceIiC8MeqdFRK3kkwYpsl9iZPcItmVUr39JZ5JOSM4GbgRuAG6IiIczbeJw8VcnNV84ilRbeMkacc3aXKPL+k5z1ngPBiaFSsR5GWln9jGloqJbkwq4/x4gZ5KrWd93mx34zgihN5caIRQR15DqdHWu30Oq35LTep0DD0nfBB4gne2fnTkOpFpPv2TwDkerAZ8k1Y0ZrfNI3bGmMfBgsnPwP0HSNyLi4xlindtcnjLI7auTpk3kHKK+Y0Rs3owKOl7SFyjTmXDYRJakqRGxQ45YkmYz8P/1VzIUkR4k1rGkqQQbkjovLQN8h7ydxc4jdfw6Efj31vLZuQ/oIuJU4FRJh0fEacPeYRQk7Q68HlhbTX2nxkTy17zpqNbhsVKswT4vSjqOeh0eaxXZP5d5J2veS5pSuAywZ+6TNS2HAWcCG0m6nzT9LndR846lJS0NvBn4akQ8LSnr81j5/dz93dx+gQTppEBuNTs8Fi+yL+m6iNipx/dlscYjgyWfKNPhsWaR/dImkZp+/I50AupPQMkRhUsCW5FGc72M9D+7n3RCtEoDDbNuTnRZX5F0PrAdqfPi10hndEsVAP86sIWkLYBjgLNIX7xDjkIZpb8B15Leu8tL2joipucO0kyLPIb5p6flnMY1d8pgpO6O9xZKchERxzaXgw7VlnSWpP1jlLViIuKNzWXPg7hmZ2CmpO9ExK9HGWtaczloQkjS05IujIi9BvubBfTP5vJxSc8DHiTVzBgLyw3/JyMTdQupv4W0Qzi9if1nSVnjR8QjpAOs/ZrX3Jqkz40JkiZEU9g3c8zTKpx5/zOpOcabGFhUdzZwdMY4bTU7PBaPNdKRkJk/N2p2eKxVZL/myRpg7kmnVysVx16iZCzgDFKzkduAa5opf7lrdFV7Pw/33VxIzQ6PxYvsR8ROzWXN78uayaeaRfaLiojXKX3gbkJKPn0Y2FTSQ8DUzn5xRrNINce+Bvx7zhHqZgvLiS7rN+cAb881NWwYz0RESNqTNJLrLA1TcHc0JJ0AHECahtT5wg/SFI3cvkuqb/ZGUo2O/cnfVnwLSZ2dZpESd7MoeGZwKBFxkKTpFBoB2IrzLPDiJlb2aVY94l0sKWfnvUslrQJ8npSoCdIZu7GQbcd3uBGamT3VfHZ0ukmuWCAGzbo/SBpN8zfmdf0MoMT0o+Jn3iPiNuA2SefFEPX1MidpqnV4rBxrODlHuNTs8Hg4qcj+k6TmNJeRij3nVu1kTUfz2ftummRyJ3FYYmpVRHwFmDvKStIfSKMMO9dznBia+34mHZMUq+Gm1IxmqG3JftKQuh0edwIOkFSsyP5g0z47Skz/pG7yaXXg15KKF9kfgVGP5G2SgzMl/YN04usR0n79S8l/oua9pBpg7wUOlHQzaSTX1Ii4P3MssxFxjS7rC5KOiYiTm98HFDWV9LlM08S6Y15NGjl2ILAzKRE0I3cdkFa83wCbRUTudsq9Yk2LiJeoVbRa0tURUXK02phTxs5O4yxWtlonkpaNiCc7v5NGVT3RWVZT5sd1O7AFKQF0LmmE5ltLvOYlfQTYgDRV9kTgPcB5Jab9SfpfYLuIeDD3unvEupNxMu0j5/tLdTs8Vos1gm3J+f7qu86wkp4FHmPeAenypEYZJadxXU+qtXMH8xLX2btWjnBbcr4+itdwU+oUCOk7axvSSDWRPvNv7IxWykl1OzwWL7LfJNE60z4nkabuivR59YcSo+VUt8NjtSL73ccq3cs0ygYMko5g3jTCp4EppMTTFFIx+lKzXTqf9y9tYh9Ael8P2YTHrASP6LJ+8Tbg5Ob3jwHtL4/XAdkTXaQaYG8nFYL9q6RJpFEupcwk7Uz8vWCMjs6Z6r8oddj7M/D8nAHUFIhvfl+3PcxZ0lsjokjdp2HUPEAf82TAQppKMxKtSW49WWt0Wg85axdVG6EZEadIeg1pqP+GwKci4vISsYA/ks7i1jCepn3kfH9NjoibgUdJJzaQtA+pwG9uNWNVExGPkxJdnygVQ5WL7MfYFFdeLiI+NAZxe8n5+Xsc89dwm5xx/UTErgCS/hs4pDPKSqlb3EdyxmrJ3iSgm5oi+6TpnkV1EllKTWkujoifNNd3B15dKOxxhdY7nxIJrSF0H6sMWDaaJFdjMvAD4OiIqPKd3IxO3455CbZtSfsgU2rEN+vmRJf1Cw3ye6/rucwmHRA/K+lFpNbH3ysUC9LIj1slzaT8kOrPKLUk/jBwGmlUQe76N6cwLzlyIQMTJZ+kUIHzYZR6rYy1UT8uSWuRuostL2mr1jonkrowFtfUmnpbRHy3WfSujKufLeljpMLOOzexls64/gGaxFap5FbbPcBVkn7MwM+NLxaINZ6mfeQ05AHJIhxrODk+N2omn6oW2Ze0HGlq/wuB24GzI6JUQ4SOcyUdDFzKwPdYiSljw8mZTO5Vw62UjdpTCSNiZjOCLJuaySfGpsj+thHx/rlBIn7alNfIrkbySRWL7KtSA4baCXFJt5JG+XWmLH6B1OXx0ZrbYdbmRJf1ixjk917Xc7kGeLmkVYErSAVV9wXeUSjet4GT6JqyUEJEXNr8+gitmhyZjUVycjg1zzoVn4LakqN74GtJQ9CfT9qB6fyPZpF5xKSkiaTuYmsDF5MSQh8knXWfQaohR0TMzBi2+AjNHjvRc2+iXF26PzQ/yzQ/JR1XeP0LIkeSplpHuJqxFkCOz41qyaeRHhBnrN/2bdLo52tJ/7tNgCMzrHcoT5E+lz7BwFqdJZIZw8n5PV2zhtudSs0DvkN67t5Jmi6cU7XkU4xNkf0HJH2Sgc9h1unxNZNPUbfI/lg0VKlhf9KUyEV1toL1Idfosr7QVSujUyeD5vpyEZF9ZEanPoWkw0mdsk6WNCMisp4ZbMWrViNLqe374czfPS1nvYy59T26a33krP3RI+4bmL+b5KcLxKlW3Lw5MDgR2JiBjyv7wY+kvSLiwiFu33+09WIkXUSq/TEVeBWwKilJc2REzBjNukexTVMjYodKsVaNiIczr3PFiHgs5zoHibMOsEFE/KKp07FkFC7QPch27BYRPx/lOrYg1Yb5NPCp1k2zgStz/o8qx7qDoROu2esHDSdj8mkksbLUb5N0R8zrurgUcFOp761WzLtJNfceKBmniTWgpED3MklfjYgPZopVrYZbMxLvA6TaqpBOWn59Ua0XpzEosq9UlP5YBj6Hx4/RyMJR0xgU2Ze0NIUbMIwFSWsCnwOeFxG7S9oY2CEizhrjTbPFkBNdZgupGaZ7KPAl0iiQX7V3fAvE+yJpqsLFDJyyUGIn5jZSMe7ugrfZhpArdYG5hrRT+/Lmd5rrO0XEqrlitWKeTppmtyupU+DepIOTgwrEqlnc/DrSTueXgD1ItX0U+dtHj2RbRp2k7DqAXBJ4gLQzWD1h0tqmRbV5wA6k196EiJjUJFTeFxGH5lh/V6yDgUOA50TE+k0C9vSIeFXGGNWTNJKWjkodHmvEGqxodUeJZPxwFsX3V80TNK0YF5Ombz8+7B+PPtZ8j0dNo5rSsRd1NZNPGoMi+zXUTD5pbIrsF2/AMBYk/RQ4B/hERGzRnAS4tdSxkdlQPHXRbOEdSaqd8qMmybUecOUw9xmNzkHA9q1lAbyyQKwnIrUWL2nP1u/d01tKTXfZMSI2V+omebykL1CuFli14uakEYVXSFJzkHqcpGvJ3z56JHJMZ5l7oB+pBt69Y5nk6mxKxVg5pwR9mTTt9GKAiLhN0s5D32WhHUYqKH1jE+t3kp6bOcYbM69vWEMlnho5pyEVjzVYIqtTAw+onuhi0WzOsYWkWc3vItUvnEXZqcjPAjOa5Eb7hNcRuQJI2og06nllSW9t3TSR1ojhTLG+HBFHDVLLLYCHgDMi4oaMMWuMgP5Cc9kz+QRkSz7FGBTZl7QGcAzzj47PuT/anvY5X/IJyJZ8irErsl+0AcMYWT0iLlCqeUpEPNPMujGrzokus4UUEdcwbxQSEXEPqa5EqXhD1srKMWWs5VRJxwI/p9DosfbosGaniYj4v1zrH8Q/m8vHJT2PVFOiVF2LmsXNn5C0BPA7SR8E7gdyJxhGKscB61gcQI4nWQ/6I+KPGljkudRO55MR8VQnVnMmN/djWdyTNKOOpRHWwOtjWRLJMTZdF/+n+SlpQ1JCeRXSCOGO2cDBmWOd21wOdnJrdeBsUlIql3OYNwJ6V5oR0BnXP1YdHotqgIodAAAgAElEQVQX2W/5LnA+6XXyflJ9pqz7b2OUfKpWZJ+6DRhqekzSajTfVZK2p17nZ7MBnOgyW0iVzmgtiCNJxXFz2IzU0e6VzJu6mHX0mNK3+6dItcAELCHpGeC0KFAzq3GppFVIxXynkx7TNwvFKl7cvOUo0pTMI4ATSDvv7y4Uazij3msbowPI4Syqe6N/lLQjEJKWIb1Gchde7rha0sdJicnXkKZ2X5IzgJM0WZzLvBp47wU+SqqBt+dY1cCj7vsrR5H9MTHcyawcU1sj4iLgIkk7RMTU0axrBLGmNZeDlkWQ9HTmGm41R0DXTD7VKLLfsVozSv3I5n93taRS3RFrJp+KF9lvqdmAoaYPkb6b15c0BViDVCbErDonuswWXvEzWgso54HCW4D1IqJkZ8CjSMP3t20Vt10P+LqkoyPiSwVinhwRTwIXSrqUlKAsVYB2NmnK4rOSXgRsBHyvUKzJEXEz8Cjp7DSS9qGZQpZLM2ps74i4YIg/G3XnSkmvjIhfNr8PKIgs6a0RUWq6aXsbliTVwukkTt5VOmY7fMZ1vR84lZQY+hNplOZhGdff9u/AQaTafu8DfkL+RPLinqTJEWu9Vg28bzIOauCRIfk00vptMcomBeNczul3D0q6AlgzIjaVtDnwpoj4TMYYw4qIiyUdn3GVNUdA10w+HUgqst/p/HkN8PVCsTpTrP+i1ODnz6SOzCXUTD7tR0p4/qi5fk2zrITDSQ0YniTtG15GOlG5SIuI6ZJ2IY0MFfCbEUzJNyvCxejNFlKnKGtT72nzZlm1zog9tidnAevzgcMj4u851jdIjFuB10RX96hmpNzPSxQmHqS4bpECwpKmkYrsrwrcQGon/XhEvKNArJqP65qIKFXjqROjWkfO4UYIRcSeQ9x9NHG3IL0+AK6NiNtatz0nZ6HdWiStSKrv92xzfUlg2ZyFszU+GxWMusNjzVil31Ndsao1D9A4LLJfW+b9gKtJieQzOt/HkmZGxKY51r+A25LzcW1LSjatQkosTAQ+n7MOWCtWX3V47JD0RuBa4AXAaaTn8PiIuLhArL7q8Nivuur5zafGCUqzbh7RZbbwap7RGomcowrWBO6SdDMDa3Tl7AazdHeSq4nxf0ptl7ORtBYpkbG8pK2Y91xNJE35K0ER8bikg0jTMU+WlHXESVOr4vXA2pLazQMmAs/kjNVyuaSPkEYzPtZZmHmnU4P83uv6aFUfISTpSFKtm86O33cknRkRp0H2blLfBo6MiH8011cFvhAR78kVo+UKUu2UR5vry5NGkO2YMUa1RgU1RwhVHo3UqYHXeS+VrIFXrXnAOK3ftihbISJu6qohVOp7pZpm9DNp5mIcWDjWE6RaYCVGqA+gOkX2O+u8tPn1EVKphGKa78Mjh/3DDGqUJNEYNGCoZI8hbgvKNX4yG5QTXWYL7zOSVgY+zLwzWkeP4faMespYS41ufUNNi8w9ZfK1wAGkROQXW8tnAR/PHKtDknYA3kGazgWQu/bUn0kjxd5E6lDUMZtyr8VOgqQ9/S3IO2UmBvm91/XRGotpXAcB20XEY03ck0iJttMKxNq8k+QCiIiHm2RvCctFRCfJRUQ8Kil3IrkvkzQ1Y9WsgVcz+eT6bUDeEwEPSFqfeUWl9wb+knH9CyLb42q+l88CJgCTmtG174uIQ3PFaMWqlnyiQpH9jqYcw9epMK21RvKppUZJkrFowFBc6aSx2cJwostsIdU8owUgaU3gc8DzImJ3SRsDO0TEWc32fDBXrKEKwzbbMjUidhhlmHZnvQGrJ3ML8/j/7d17vG11We/xzxeEQE8kKXnSQjaoGaAohlfMwjDvJF7zmmnpUQnwdCM8atiJV8bJiIo08EbqUcMLmpdtIuAFFbmjQReQU+lJKC8cMHXj9/zxG3PvsRbrutdv/Macc33frxevPceYa41nrM3ca475jN/zPKWB71skPdn22TWPvYJjgROA99r+Ytd/7BM1A3TlbpdLejvl9/m+tq+pGWOJmENNqezbX9I5lNfC5DHddu34zVYI9YiFkw9vZbg+T7tI2tv212F7GchQ7/03SzrU3XRWSQ9gx6TTKuY1SdM4IbQH5UPcPYArgDfaHmSlTuPk0zT2b2utZqP9lwJvAO4t6V+B6yj9kcZQ8+f6Y8rNr3OgvI9KGqocv1nyibZN9v+SrqwVwPYV3XXIEP3bWvbDHbzJvscZwNCMpJcvsfubwMWb6PdwTIkkuiJ2kqQtlGaS+9H7t1S5vK/vzZSLphO77b+nvPmfOVC8lWw4EdXyA2vPpyWdyTLJwppsX0DpJTHZvpYyVWcIj6bcHdwd2KIy1emkoV6LKiPSF9+hfmvFEP2+WIvvei53F3Rn9ROuYtgVQhNvAj4nadLw9hcY7t/x/wI+I+mvKSszngb8z4FiHQe8W9JXuu0fpUwfrWZekzSNE0JvoSR4P0kpfT6I4UqDWiafprHJfhWNS1vpjnUt8HNd771dhvh7HOPn6o73z4tKMm9d7ms3qGXyqWWT/ZZlrS0nPE5FSxLXH8DQ0k91/00mLj8OuAh4saR3237taGcWm04SXRE7732UD6cfAL7fIN6dbb9L0gkAtrdJGuribDWzOsXiTTRKFjZebv9q4IHAeV2MyyTtN0AcJL0K+BlKoutDwGOATwHVEl39O53d3yO2B7mDO0bC1fYfSTqPMnVUwPNtXzpQrLdK+gJwRBfraNtfmjzfX+1VIdZFku7NjmlLV7s3bUnSkbY/tsEw85qkaRnrwF5C6Ezg85WP39cy+TTG6sxWWpbRAiDpjsBz6W7mTZIatmvesGn+cwH/LOmhgCXtTrkBNdQkxJbJp+MoPUd/jdJk/2cpq5+G0LKstWXyaZpakszqdfadgEMnbQy6a8a/pgwTuBhIoiuaSaIrYuf9p+0/Wf3LqrlZ0p3YcWHxYMpy4Fi7lsnClsvtt9n+5qK7q0N5CnAIcKnt53cltWfUDKDyg7ySsmJSlPK7bZSm/idVjnWE7XO7x1tsX9d77mhXnBQkaS/b3+rKB7/c/Td5brBJi11i60vLPP1xoNrEvS6xddUyT/8BZaXSRsxrkmashNC2gX9vtEw+tezf1lTL0taeD1EmBl/JQDfzRvq5XgycSlk9+S+UgRkvXfE7dl6z5JMbNtmnbVlrs+RT65Ykc2pfFvbZ/R5wd9vflvSdZb4nYhBJdEXsvFO7OxVbWTiZ8JKB4r2cUtJygKRPA/tQkg5jaJJRGUDLZGHL5fZXSXomsKtK89tfAz4zUKxv2/6+pG1dudXXqNuIHsqHg8OBwyaJp67H2emSjrddc4LVKexI9JzNwqTPK6g7KejtlMTnxSy8WyvqN/Rfq5b/lmvEmtckzRgJIRi+XLdZ8mmkcvgmGpe2Tuxhe6l+O9WM8XO5THt+Vu3jLhOrWfJJDZvstyhr7cVqlnxSwyb7azmdEWLW8Hbgs5Le320/AXhH91pZ7oZbxCBkz+rKyIhxSToZeA7wT+y42+mBStMmMW/HjrKga/plQUOa3F21/bZu+2Dby63amFqSDqXcETyYsupkH+Aptq8YINZnbT9Y0keBP6Est/9r2wcMEOv2lHLMR1FeGx8FXuMy2rx2rD+nTKp8BuUO6/8DLqt5ES/pUuDI7gNJf/8+wFbb1aYGSrp0crz+46W255GkS2xXW9E1dKxuBebNk01gT+AWBkic9GJtT9LMQ6x51bJ/W2vdh8ZJaesjgb0ppa3HDlDaOol5POX3+wdZeDOv2srTlj+XpNNYoRyscknmJOb25JPtoSc8fo5y8/Oc3nvaVbYPrhhjxcSn7T9a6fmdjNlywuP5dE32h/o7XMe5PMqVe9O1ojKIZtKa4VO2vzDyKcUmlRVdETvvSZRyk++u+pUVSHoq8BGXCX6vAA6V9Hs1V5Ct9e7qLCa5oKy2k/QI2iQLWy63v4WS6Dpxta+tEGtygf4Xkj4C7DVAonC3xUmuLvYNknarHMvLPF5quwpJH7f9yNX2xW21XLUzr7Faapx8atm/rbUxGu1/F/hDyvvK5Hdh7ZWnLX+uMT5st5zw2KLJ/g9WPt5atJzwOHiTfY00gKGVrjXDdd1/k327tboxH9GXRFfEzrscuCOldKuF/2H73ZIOp1w4nUK5y/WgijE2w3j2e7NjYuChkmpPDATaLLeX9AFWvkNdfepiPyFj+8uL91WyUvK4dmJ5f0nnUC4yJ4/ptrfUDNR96L89cGdJe7Nj9c5ewF1rxlrPaTWM9eWGsTasZZJmjlcjtUw+tezf1toYjfZfDtxjqZsOFTX7uWy/ZS1fJ+k028dUjNtqwuPgTfZtjzEJsOWExxZN9scYwNDSJcCPUz5LiPI56auSvgb8iu2Lxzy52FyS6IrYeXcBrpZ0EQuX9VdPLnQmF0ePA063/X5Jr64cY27Hs0ObiYG9WFsozdT3o/e7tvLr45Tuz6OB/wr8Vbf9i1ROKjRO0vR7CC04DXoTLCs5qvf4lEXPLd7eqBdR+o/dldKna/J3+C3gz2oG0sLG97fRKz+quopM0sHsSCRPYr21+/PomrEaaJmkmdfVSC2TTy37t7U2RqP9L1LKZ4c0jQMEHlbxWC0nPDZrst/1zDwVeDAlKXQhcHzXu6u2lhMeB2+y73EGMLT0EeC9tj8KpQQTeDTwLuDPqXtzPmJF6dEVsZO6ErjbcGk8PkS8D1JGU/8c8ADg28DnbR9SMcaCHjot+/e00C0Zn0wMPETdxEDbTxgg1uWU3hwLJlYN8fqQdIHtn15t3wZjHMuOJM1Xek99C/hL239aK9ZYuh5g2B5qOuYkzjG2Txs4xgdtP17SdZQPCP1P/bZdvfH9colk22MNzdgQSVf2kjS3o/y+HeT3YctYLbV8T2nZv20zkPReSsL1Eyy8mVe9l9U0qfkalXRnSkLo5yivw62U/mP/XuP4Y5H0WcrNmXd0u54BHGO7ehKjS6q9AXgoZZXQdcCzJyvKh6ABm+yv1iLE9lErfPvUk/QF2z+11D5Jl9m+31jnFptPEl0RA5F0oe2HVDze7Sl3Ra60/Q+SfhS4T806/nn/oCDp87YfKOliSjnhTcBVtg8aINbnhrjoWybW3wGPm9xN7VaTfcj2Tw4Qa/AkTUsqyz5eSVl9J2AXSlnEabZPGjDusiufZlXLRHILjZM0c3mTYd7fU1oZo7RV0vOW2r/WEsA1xpi6kt1Z+7encZrs3+b6Rt0AntqxescfMvnUrMm+Rhgs0ZKkrcDHgf/d7Xo6cCTl88tFs/RvK2ZfShcjhlOtxErSLpQ7/Nsnv9j+KpWXb89rQ+SeL0i6I6W56cWUiVJDldKc2q1w2crCu+HVhgf0HA+cJ2lSNrAf8Ks1A0ialJ39a+/xdrbfUzNeQ8dRpgMdZvs62H4H+XRJx9t+Xe2ALUtou3h3A+7OwhLaCwYI9W3b35e0rbtr/TXqNq5urV9CK4Ytq2oZq5lN8J7SSvPS1tUSWpLOtv3kDYaZxpLdDde8Nk4+NWuy3yuF/4Sk36YkM0xJZvxN5VhLJp8mJck1k0+0bbI/1y1CgGcCrwLeRzd1sdu3K/C0Ec8rNqEkuiKGU225ZPfh8XJJ+9r+P7WOu5ikI2yf2z3eMvng320fPcPJDKDZxMCJ+wDPAY5gR+miu+2qbH9E0j0pjfYBrrb9nZW+ZyestCrHwKy+Np4LHNlvuGz7WknPpiQpqye6KCPgJyufnj9Z+TRAHCT9AeVDyJfY0efPwBCJrpaJ5MG1TNIkIRSrmMZG+zWS2M1/LklPtf3uFfadWiFMs+TTWlfYqU6T/YtZWAr/ov6pAK/Z4PH7miWf3LbJ/hiDJZrprqWWe539Y8tziUjpYsRAai9/l3QucBjlQnBSClK1uXn/nOexlEZLTAdcal+lWFcD97Vde0rgUrF2A/4bMOnJdR7wemec86okXdVfKbnW5zYYs2UJ7TWU12HtxOdqcfdj2ERyxKYxje/HNc5hjJ9rqRhj/X1WSj6tNdbor5lppwZN9nvl3NsHMDBH5dxdr9PfpKzO7LdmqH6TN2I1WdEVMZzaI59a3HHSMo+X2p4ZajsxcOJyyljlrw10/L7Tgd0oE22grCQ7HXhh7UDd6qPfB+5q+zGSDgQeYvvM2rEaWSkROVSSsuXKp2spr43BE139pPGkUfBQieSITWYuS1tp+HNJegylPPJukv6k99RelL6MY6g54bEZSc9dav8QfSZbJJ963k5psv+kbvsZlIb71fqtboLVu28D3gk8ntJ/73nAoAN+IpaTRFdEJepGA9t+W7frOTWPb/t8SXcH7mn7b7vm9LXfML3M46W2Z8mL2DExsN8j61uUi5oh3AW4WtJFLOzRVW0FXs9hXjh981yVqY9DeDPwJuDEbvvvKRc1s5ro6n/Q6hMV++xtP2hpMHKy7W8wYAltr0fMLcBlkj7OQJPTRkokR2waU/rheMM3vxr/XF+hlBQ+kXKDYeImSp/LWLvDeo/3oDRVv4Rh+kwOnnzqke2zett/JellVQNM4QCGyu5k+0xJx7pMGT9f0iDT6CNWk0RXxDppldHAlLsZ2L6qctxfoTQY/2HggC7+X1AuMGrZX9I5lAvYyWO67S0V4zRl+1RKc/iWEwNf1SgOwK2SDrD9T7D9Duitq3zPzrqz7XdJOgHA9rZuKf5Mav0B0rYlvQ94QLf95YFCTXrEXEz5PTWkMRLJETGu3xr7BNbD9uXA5ZLeTvn8s6/ta0Y+rZaqrcpfXG4p6YeAs5b58o1qkXxq1mSf6RzAUNOkZcZXJT2OkmD+sRHPJzax9OiKWKexRgNLugx4IPA52/fv9l05aeRaKcYjVnq+uzszc5aaEtg3RpN9SRfafkilYz2SssrqWsrF7N2B59v+RI3jL4p1HvBk4GO2D5X0YOAPbK/42okdJP0Z8GbbFzWKtztlUIGBa4bqG9c4kRwRA5B0JUuv4J6UE9638SlVJekJwCnA7ra3SLofcNJAq61XO5dLJ9dzFY61YpN9Sb9k+801Yi0RezfgCts/WfGYk+TTbwLfYGHy6QdsV2t8L+k6FjbZ77PtatOD+9ftkm5Hmag+N73TJD2eksT7ceA0ysruV9v+wKgnFptSEl0R67ToTWpXGo0GlvQ52w+aXBh1b5CXDHXR2TWUxPbM19ZLetMKT9v2Lzc7mU6tC1xJu1B6V1wM/ATlQm2IqYuTeIdSLl4OBq4C9gGekqbjayfpS8C9gOvZ0ZR2kA+Qkh4LvB74J3aszHyR7Q8PEOsOlBKgfW3/ajcJ9Cdsf7B2rIgYRtciYVm2r291LkPohoAcAZzXu2l4xUC/f5sln1o22Zf0AXYkQ3cBDgTeZfu3K8ZolnxqaRoHS9Qg6cds/8syzz0hia4YQxJdEes01puUpNdS7mo9lzK69yXAl2yfuOI3ri+GgFd2xxflAmYbcJrtk2rFibqvm5qrw9YY73bsSKpdk+mO67PcB8nJB0hJe9v+eqVYVwOPt/2P3fYBwN/YvneN4y+K9U5KwvW5tg+WtCdwoe371Y4VEW0t0Yd0Ji2+adjtGyrRNXjyqddk/2mUfpkTewEH2n5grVi9mP0V3NuA65dLcsySFk32tWPqInQDGJiDqYsqE55/fnE7BknPB15h+4BRTiw2tfToili/saYf/TbwAuBKSk+cDwFnVI5xHHA4pbn5dbC939Ppko63/brK8ZrS/E0MnNgq6cnAezzQ3YsVyj/vJWmU8s9ZtYYVER8Han0Q+tokydW5luEmgR5g++mSfhHA9re75HlEzIi19iGdYVdJeiawa7fq9NeAz9QMoLYTHsdosv8F4Nu2vy/pXsChkv5tiJteLZJPPYM32Z/SwRI1HA98TNJjbf8DQNfL9ZlAWlvEKLKiK2JGSHoS8KGhStK6GJcCR9q+cdH+fYCttXpJjEXSh+kmBto+pFuZdGnNPmfrOJeavTluAu5AaUD/bYYZzT4p//wR4KHAud32z1JKQFbsgxZrV/m1cTqlZ9u7KGUgTwWuAT4NdfvTSfoM5YPBp7v+bQcA7xhiRUFEDGOsPqStqEysPhF4FOW98qPAa2z/Z8UYhwD3A06irJKfuAn4RK0Vu4ti7kajJvtd+efDKa+Nz1ISX7fYftYAsfp9H7cnn2w/pXasJWL/EHDWGP3bZlHXL/b1wC8AL6QkDh8/xOs9Yi2S6IpYJ0lH2D63e7xlsvKp2z56qJUtXaLhCOACSlPOj7rySGJJV9k+eL3PzQpJF9k+bFHJwmUtSqsWl31IOtiVJ3O2IOmDwK/Y/mq3/aPAnyXRVU/lstZm/ekkHQm8gtKvZSvwMOCXbJ9XK0ZEDGusPqTzqHHyqVmT/cl7lKRjgD1tv7bmDZpVYjdLPg3RZH/eSToceB9lleTTaiaQI9YrpYsR63cKO8qKzmZhidErgEESXbaf373pPoayFPjPJX3M9gsrhllpGtsgk9oau1nSneiaqKpMDPxmzQBrLfuoneTqSgsPp/xsn7T9vprH79lvkuTq/BulsXpMIdvPX+l5SSfYPrlSrI9JuoQyHEGUFSDbV4dKOsj2F2vEiojBbC8/s32rpOvmIckl6Y9tH7eokfqEgf8AXm/7sxXDPpou+QQMmnwCXk2ZzH0egO3LJO03QBwoLV0fAjyL0lID2n2mvAW45xAHXq7J/hCx5k1XWTAZHvADlJV3X+vaF8xs77GYbUl0Rayflnm81HZVtr/Xld+Z0sDyKMry4Fr6/cf6RFkyPuteTkk+HSDp03QTAyvHOIsdZR8vBH6DcpF71FBlH5L+HLgH8I5u14slHWn7pQOEO0/SR7tYBp4BfGKAOJtZy75WTwWqJLoAbP878DfLPH0W9XqPRcQwJtcBk99DrfqQDu2s7s9Tlnn+zsAbKcmNWl5Nu+TTNtvfbNQW8VjgBOC9tr/Y9XId5DqgcfKp/9qYmyb7Ldj+wbHPIWKxJLoi1s/LPF5quxpJj6YkFX6WctF0BmXKTjVz3CQTANuXdNOChpwYuH+v7OMM2pR9PAI4eNKIXtJbKEMLqrP9sq5f3E93u95g+71DxJpXks6y/ZwV9j2y5enMaayI2Anzeh1g++Luz/OX+xpJ35N0tu0nVwrbMvk0eJP9CdsXUNpoTLav7eIBpa+W7WMqhWuZfGrWZD8ihpdEV8T67S/pHMqHtsljuu0tA8b9JUpvrhcN2ZB+HjWeGDhG2cc1wL7AZJrfjwNXDBWsS2wtmdySdKHthwwVe04c1N/o+uA8YLJt+z8ankvLRp1pChox5STtAbyYskr4CuCNtfuBTivb50j63YqHbJZ8Ao6hNNn/DmXF9UeB1wwUazUPq3islsmnC4CHS9qbMv34C8DTKSWaETFj0ow+Yp26FUHLWulu4Qbj3gH4zy55ci/g3sCHc6dpdS0nBkq6Fbh5skkpMb2FAcs+JJ1PmW7z+W7XYZTSyVsoQZtNDGrVkHYWdaO2f4eFrwko/e/eYPuEEc6p2f+vmk32I2IYkt5JuWHzSUpP0OttHzvuWbVTeRjI4BMep1Hlv8OWEx5Ha7IfEfVlRVfEOvUTWZL26fbd0CB07jTtpElD7m5i4IGLJwZWjjVG2ccrV/+SZnL3ZBld0/eTJZ3cKqkl6WG2P73Cvne3OI/OPAy0iJh3B/bK789kxw2UWCfbt1ASXScOFWOkJvstyfYtkl4AnDZJPg0Va8Qm+xFRWf7xRqxTN0HklZRl4gJ2kbSN8gZ80pChG77Zz6vBJwZKOsL2ud3jLbav6z13dOUySWD1VYQpJ5w6v9NwSuZp3LYB/PZ9tn+/ZrBFP9en+v3bbD+4ZqyIGES//H5bo/5S02TDP3Dj5NMYTfZXU/NF0zL51KzJfkQML4muiPU7jvJB7rBJEqN7Mzxd0vG2XzdQ3Nxp2rgWEwNPYUdi4WwWJhleAVRPdK1By4mZm+5T0U74Mwaektn9rngosI+kl/ee2gsYZNXhEtM/XyTp5waa/hkRw+hPXxbzM3VxrX6rwjGaJZ/GaLIv6am2373CvlNrxOk0Sz41brIfEQNLj66IdepWUR1p+8ZF+/cBtg5Vyy/pp4FfBz5t+w+6N/vjbP/aKt8aPYsmBl5Qe2Jgv5/D4t4OY/V6GLI3UtdI/Rm239ZtH2z7qiFizQtJX2ThlMxdgCttH7Tyd64rxiOAn6E0lf6L3lM3AR+w/Q+1YvViDv5zRUTsDElXsnRp/SSBd9/G5/NE4HkVJzyuFq/a9cdS1xRj9WBsmXxKn8mI2ZLVIBHrt9viJBeUPl2Sdhsq6Gp3mmJtGkwM9DKPl9qeGZL2Al4K3A04B/gY8DJK8vUy4G0ASXKtyeBTMru7++dLerPt6yXdwfbNq37jxjSd/hkRsQ6PH/sE+gaY8LhqyI0eQNJjgMcCd5P0J72n9gLGmsxZc8JjRMyRJLoi1m+lhsqDNVvuJi3+OrAfvX+7to8YKuYmVKPEb39J51DuEk8e021vqXD8nVGjnPAs4OuUaY4vBH4D2B04yvZlFY6/mdwJ+DtJC6ZkTl4rladk3lXSh4H/Auwr6RDgRbZfUjHGRMufKyJizWxfv9T+yapkdiToW5q1m19foQxCeiJwcW//TcDxo5xRRMQykuiKWL9+/4o+MWwvpHdTSpDOAG4dMM5mVuOi86je48X9OZbr11HV4nJC4DkVDrt/bxLXGcCNwL62b6pw7M2m5ZTMPwZ+nrIKD9uXd2XQQ5im6Z8REdutdVXyHNvwDS/blwOXS3o75TPkvrav2fCZzY70II2YIUl0RayT7UEaOa/BNtunjxQ71qjfELbr24btG4aI1bicsD+J61ZJ1yXJtXNaT8m0/c+LJqcNkii3fb6kuwP3tP23kvYEbpfXSURMgWlcldwycVKjyf7Eoyk37nYHtki6H3DSSKt2q/0dNm6yHxEDS6IrYnZ8QNJLKP2lvjPZafs/xjuluVNjrLgoK1uO6Y63i6RtwGm2T9ro8RdpeS1edi0AAA8kSURBVOG+2SdxtVRzZeg/S3ooYEm7U/r6/V3F428n6VeAXwV+GDgA+DHKKtRHDhEvImIdpnFV8oaTT2ttsm9760Zj9bwaeCBwXnfsyyTtV/H42zVOPp1AqZ5Ycp/tN1eMFREDS6IrYnY8r/vzN3r7DOw/wrnMhYFK/I4DDgcOs31dF2d/4HRJx9t+XYUYE80u3EdcybgZ1ezb8mLKB4G7Af8CbKWsAhzCSykffj4HYPsfJP3IQLEiItaj2arkxsmnMZrsb7P9zUUrhYcyePJpSpvsR8QGJdEVMSNsj9XIfOY1LvF7LnBkfzKn7WslPZuSZKiZ6Gp54X6E7XO7x1smSbxu+2jb7xkibmxM9zp8VqNw37H93cmHH0m3Y/aaLUfEfDqktwoZhl2V3Cz5NFKT/askPRPYVdI9KSuFP1MzQOPkU5rsR8wh2bkGjZgVkg4GDqRX2mT7reOd0WyQ9H52lPg9EtibUuJ3bO0SP0lX2T54vc/tZKxbgZsnm8CewC0McOEu6RLbhy5+vNR2bIykS23fv9KxtlDKaPdj4bTW6r1UJL0W+AYl2XsM8BLgS7ZPrB0rImLWLLGKvMYxV7yRZ/uoFb59Z2PeHjgReBTleuOjwGts/2fFGIcA9wNOYuGgk5uAT9j+eq1YvZi7sTmb7EfMpSS6ImaEpFcBP0NJdH0IeAzwKdtPGfO8ZoGkK3slfrsyYInfSkmfWU4I9ZMvixMxNRMzm9HiDz+SDq60uhBJlwNnAlcC35/sX60h/k7G2gV4AQs//JzhXGhExMgk7UEp5b4HcAXwRtuDlKW1TD61vJE3hpbJJ0lPoGuyb3vsJvsRsUFJdEXMiK7nwyHApbYPkXQXyofIJ4x8alOv5QqkRausFjwF7GF7t4qxmpUTZkXXxo105/1zth9U+7gREbNE0jsp5f6fpNwovN72sQPFarmKvOWNvD+2fZykD3DbsnQD/wG83vZnK8ZslnySdDFwBHBe78beFZOeahExW9KjK2J2fNv29yVt6z4wf400ol+rZhMDGzdtPwWYJJjO7j0GeAVQs2/W/pLOofydTR7Tbad/3NqMMd7+1G416FYWTmu9pFaAFRovT2LlQ0JEjO3AXkLoTODzA8ZqOeGxWa9OynsYlGuPpdwZeCOl8qCWV9NowiNtm+xHxMCS6IqYHV+QdEfgLynNMv8fw16ozY05nhioZR4vtb1R/dVGiy9yl7vojYXGGG9/H8o00SPYUbrobruWMaZ+RUSsRz8htG3gZEbL5FOzJvu2L+7+XLb0XdL3JJ1t+8mVwrZMPg3eZD8i2kmiK2IGqLzDn2z7G8BfSPoIsJftK0Y+tZkwxxMDvczjpbY3Fqh3YStpn27fDTVjbAItP/xMPImSYPvuUAGWm/q1mKQLbT9kqPOIiFhBs5XdtE0+TdWNPNvnSPrdiodsmXw6htJk/zvAO+ia7A8UKyIGlh5dETNC0sW2HzD2ecyiee0vJekbwAWUi+eHd4/ptg+3vXfFWKJMPjqmO/4ulBHfp9k+qVacedZySmYv5juBY2x/rfaxd+JcMrQgIqKilk3213FO1a6rWkx4jIj5lBVdEbPjs5IOs33R2Ccyg1qW+LXUspzwOOBw4LDJijhJ+wOnSzre9usqx5s7I915vwtwtaSLWNija4wpUrmzFhFzr3Hy6S3saLL/WOAgYJAm+2OwfQsl0XXiUDHGaLIfEcNLoitidvws8CJJ11NWhUxWgaTR8+qalfi11Lic8LnAkbZv7MW/VtKzKY3Ok+haxUgltK8a4JgREbG8lsmnlk3212rDNxAbJ5/GaLIfEQNLoitidjxm7BOYYXM5MXCpckJJQ5UT7tZPck3YvkHSbpVjzauWUzKBlZsGQ/O+WbO8ejIiYq1aJp9aNtlfq9+qcIxmyaeRmuxHxMCS6IqYHb9n+zn9HZLOokxUi5XN68TAluWEKzUzH6zR+ZyZxhLaPYY6sKRdgWfYflu3K7+rImIzaJl8atZkX9KVLL0KfkGFge2tG401bcmnAZrsR8TAkuiKmB0H9Te6D5FpTr8GczwxsGU5Yf9iuk8MmCyZM9NYQrvhuJL2Al4K3A04B/gY8DLg14HLgLcB2L5qo7EiImZAs+RT496Pj28Ya1UjJJ9mttVFxGaURFfElJN0AvA77LhQgnKx9F3gDaOd2AxpXOLXUrNywmkbYT6j5rKEllJi8nXgQuCFwG8AuwNH2b5szBOLiGhtXt8vbV+/1P7J6l1gyecHluRTRCwpia6IKWf7ZOBkSSfbPmG5r5N0kO0vNjy1WTKvEwNTTjhbprGEtkZNzf69fjRnADcC+9q+qcKxIyJiCqx19e4cm4oGaBGxNrKTCI+YB5IusX3o6l+5+Ui6lEUlft3+fYCttu8/zpltjKRbKRM4b/MUsIftNImfUmOV0C7umyXp4I2WFC7+3ZPfRRER80fS+9mxeveRwN6U1bvHjrV6V9Klra7hJD2qRv+xiGgjia6IOdHyzX7WSLrK9sHrfS6ipqVKaIFBSmhXu/Nu+6gVvn29sfoJVwF7ArcwQD+aiIgYh6Qre6t3d2UKVu/WSD6ttcl+RMyWlC5GzI9krZeXEr+YBi1LaJv1zZrXfjQREbFAf5rkrZKuGyrJ1XLCI1PWZD8i6siKrog5kXKh5aXEL6ZByxLalnfeJR1h+9zu8ZZJEq/bPtr2e2rHjIiItnrXUpNeVYOt3pV095WeX64xfk2LS/0jYrZkRVfE/MjKpGVkxUlMiWZTMml4553SSH+SZD+79xjgFUASXRERM67ltVTLCY9psh8xn5LoipgRkh5G6a1zs6RnUz5Mnjq5GLD94FFPMCJW07KE9hBJ3+oeC9iz2x6ib5aWebzUdkREzCBJewAvBu4BXAG80fa2gWK1TD41K/WPiHZSuhgxIyRdARwC3JfypnwmcLTtR4x6YhGxJvNaQtsvm84ExoiI+STpnZTVwp8EHgNcb/vYgWI1m/A4jU32I2LjsqIrYnZss21JR1FWcp0p6Xljn1RErE3Lso/GfbP2l3QOJWE3eUy3vaVinIiIGM+BvYTQmcDnB4y1fy/WGQybfGpZ6h8RjSTRFTE7bpJ0AvBs4Ke7u04zuQIkIgbXsm/WUYviLj6PiIiYff2E0DZp0Mr0lsmnQ3ql/TBsqX9ENJJEV8TseDrwTOAFtv+vpH2BPxz5nCJiOjXrm2X7/O0HLhMksX1DzRgRETG6lr0fmyWfMrAoYj4l0RUxO26ilCzeKulewL2Bd4x8ThExnbzM46W2N0Tltv4rgWMoH0J2kbQNOM32STVjRUTEOBpPXWxZ6t+syX5EtJNm9BEzQtLFwMMpDTk/C3wBuMX2s0Y9sYiYOpK+AVxASTw9vHtMt3247b0rxjoeeCzwq5NeYJL2B04HPmL7dbViRUTE/Gs84bFZk/2IaCeJrogZMZleJukYYE/br5V0me37jX1uETFdJK04jbVfblgh1qXAkbZvXLR/H2Cr7fvXihUREfOv8YTH/tTF2wGfz7TgiNmX0sWI2SFJDwGeBbyg25e+AhFxG437Zu22OMk1iScpAzMiImK9Wk54bNlkPyIa2WXsE4iINTsWOAF4r+0vdqVBnxj5nCJiCql4laQbgauBv5d0g6RXDhDuuzv5XERExFIWJJ8GjnWIpG91/90E3HfyuNd8PyJmTEoXIyIi5kzLvlmSbgVuXuopYA/bWdUVERFrtuh9RcCewC0MM+ExIuZQEl0RM6IrP/pN4CBgj8l+20eMdlIRMZXSNysiIiIiNquULkbMjrdRSpC2AL8LfBm4aMwTioiptWzfLCArrCIiIiJibiXRFTE77mT7TOB7ts+3/cvAg8c+qYiYSumbFRERERGbUqYuRsyOSWPOr0p6HPAV4MdGPJ+ImF6HLNNEV/RKnyMiIiIi5k0SXRGz4/ck/RDw34HTgL2A48c9pYiYRrZ3HfscIiIiIiLGkGb0ERERERERERExF7KiK2JGSNoCHAPsR+/fru0njnVOEREREREREdMkia6I2fE+4EzgA8D3Rz6XiIiIiIiIiKmT0sWIGSHpc7YfNPZ5REREREREREyrJLoiZoSkZwL3BLYC35nst33JaCcVERERERERMUVSuhgxO+4DPAc4gh2li+62IyIiIiIiIja9rOiKmBGSrgbua/u7Y59LRERERERExDTaZewTiIg1uxy449gnERERERERETGtUroYMTvuAlwt6SIW9uh64ninFBERERERETE9kuiKmB2vGvsEIiIiIiIiIqZZenRFzAlJF9p+yNjnERERERERETGW9OiKmB97jH0CEREREREREWNKoitifmR5ZkRERERERGxqSXRFRERERERERMRcSKIrYn5o7BOIiIiIiIiIGFMSXREzStKukp7V2/Wc0U4mIiIiIiIiYgok0RUx5STtJekESX8q6VEqjgGuBZ42+TrbV413lhERERERERHjk53+1RHTTNL7ga8DFwKPBPYGdgeOtX3ZmOcWERERERERMU2S6IqYcpKutH2f7vGuwI3AvrZvGvfMIiIiIiIiIqZLShcjpt/3Jg9s3wpclyRXRERERERExG1lRVfElJN0K3DzZBPYE7ile2zbe411bhERERERERHTJImuiIiIiIiIiIiYCyldjJhyko7oPd6y6Lmj259RRERERERExHTKiq6IKSfpEtuHLn681HZERERERETEZpYVXRHTT8s8Xmo7IiIiIiIiYtNKoiti+nmZx0ttR0RERERERGxatxv7BCJiVftLOoeyemvymG57y/LfFhEREREREbG5pEdXxJST9IiVnrd9fqtziYiIiIiIiJhmSXRFzBBJ+wDYvmHsc4mIiIiIiIiYNunRFTHlVLxK0o3A1cDfS7pB0ivHPreIiIiIiIiIaZJEV8T0Ow44HDjM9p1s7w08CHiYpOPHPbWIiIiIiIiI6ZHSxYgpJ+lS4EjbNy7avw+w1fb9xzmziIiIiIiIiOmSFV0R02+3xUku2N6na7cRziciIiIiIiJiKiXRFTH9vruTz0VERERERERsKildjJhykm4Fbl7qKWAP21nVFREREREREUESXRERERERERERMSdSuhgREREREREREXMhia6IiIiIiIiIiJgLSXRFRERERERERMRcSKIrIiIiIiIiIiLmQhJdERERERERERExF/4/wU284PejrdQAAAAASUVORK5CYII=\n",
      "text/plain": [
       "<Figure size 1440x1440 with 2 Axes>"
      ]
     },
     "metadata": {
      "needs_background": "light"
     },
     "output_type": "display_data"
    }
   ],
   "source": [
    "import seaborn as sns\n",
    "\n",
    "plt.figure(figsize=(20,20))\n",
    "sns.heatmap(correlations)"
   ]
  },
  {
   "cell_type": "code",
   "execution_count": 10,
   "metadata": {
    "scrolled": true
   },
   "outputs": [
    {
     "data": {
      "image/png": "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\n",
      "text/plain": [
       "<Figure size 432x288 with 1 Axes>"
      ]
     },
     "metadata": {
      "needs_background": "light"
     },
     "output_type": "display_data"
    }
   ],
   "source": [
    "plt.hist(train_data['DER_mass_MMC'][train_data['Label']=='s'], bins=100, alpha=.8)\n",
    "plt.hist(train_data['DER_mass_MMC'][train_data['Label']=='b'], bins=100, alpha=.8)\n",
    "plt.show()"
   ]
  },
  {
   "cell_type": "markdown",
   "metadata": {},
   "source": [
    "### I will now try a simple DNN on the full Set:"
   ]
  },
  {
   "cell_type": "code",
   "execution_count": 81,
   "metadata": {},
   "outputs": [
    {
     "data": {
      "text/html": [
       "<div>\n",
       "<style scoped>\n",
       "    .dataframe tbody tr th:only-of-type {\n",
       "        vertical-align: middle;\n",
       "    }\n",
       "\n",
       "    .dataframe tbody tr th {\n",
       "        vertical-align: top;\n",
       "    }\n",
       "\n",
       "    .dataframe thead th {\n",
       "        text-align: right;\n",
       "    }\n",
       "</style>\n",
       "<table border=\"1\" class=\"dataframe\">\n",
       "  <thead>\n",
       "    <tr style=\"text-align: right;\">\n",
       "      <th></th>\n",
       "      <th>DER_mass_MMC</th>\n",
       "      <th>DER_mass_transverse_met_lep</th>\n",
       "      <th>DER_mass_vis</th>\n",
       "      <th>DER_pt_h</th>\n",
       "      <th>DER_deltaeta_jet_jet</th>\n",
       "      <th>DER_mass_jet_jet</th>\n",
       "      <th>DER_prodeta_jet_jet</th>\n",
       "      <th>DER_deltar_tau_lep</th>\n",
       "      <th>DER_pt_tot</th>\n",
       "      <th>DER_sum_pt</th>\n",
       "      <th>...</th>\n",
       "      <th>PRI_met_phi</th>\n",
       "      <th>PRI_met_sumet</th>\n",
       "      <th>PRI_jet_num</th>\n",
       "      <th>PRI_jet_leading_pt</th>\n",
       "      <th>PRI_jet_leading_eta</th>\n",
       "      <th>PRI_jet_leading_phi</th>\n",
       "      <th>PRI_jet_subleading_pt</th>\n",
       "      <th>PRI_jet_subleading_eta</th>\n",
       "      <th>PRI_jet_subleading_phi</th>\n",
       "      <th>PRI_jet_all_pt</th>\n",
       "    </tr>\n",
       "  </thead>\n",
       "  <tbody>\n",
       "    <tr>\n",
       "      <th>0</th>\n",
       "      <td>138.470</td>\n",
       "      <td>51.655</td>\n",
       "      <td>97.827</td>\n",
       "      <td>27.980</td>\n",
       "      <td>0.91</td>\n",
       "      <td>124.711</td>\n",
       "      <td>2.666</td>\n",
       "      <td>3.064</td>\n",
       "      <td>41.928</td>\n",
       "      <td>197.760</td>\n",
       "      <td>...</td>\n",
       "      <td>-0.277</td>\n",
       "      <td>258.733</td>\n",
       "      <td>2</td>\n",
       "      <td>67.435</td>\n",
       "      <td>2.150</td>\n",
       "      <td>0.444</td>\n",
       "      <td>46.062</td>\n",
       "      <td>1.24</td>\n",
       "      <td>-2.475</td>\n",
       "      <td>113.497</td>\n",
       "    </tr>\n",
       "    <tr>\n",
       "      <th>1</th>\n",
       "      <td>160.937</td>\n",
       "      <td>68.768</td>\n",
       "      <td>103.235</td>\n",
       "      <td>48.146</td>\n",
       "      <td>-999.00</td>\n",
       "      <td>-999.000</td>\n",
       "      <td>-999.000</td>\n",
       "      <td>3.473</td>\n",
       "      <td>2.078</td>\n",
       "      <td>125.157</td>\n",
       "      <td>...</td>\n",
       "      <td>-1.916</td>\n",
       "      <td>164.546</td>\n",
       "      <td>1</td>\n",
       "      <td>46.226</td>\n",
       "      <td>0.725</td>\n",
       "      <td>1.158</td>\n",
       "      <td>-999.000</td>\n",
       "      <td>-999.00</td>\n",
       "      <td>-999.000</td>\n",
       "      <td>46.226</td>\n",
       "    </tr>\n",
       "    <tr>\n",
       "      <th>2</th>\n",
       "      <td>-999.000</td>\n",
       "      <td>162.172</td>\n",
       "      <td>125.953</td>\n",
       "      <td>35.635</td>\n",
       "      <td>-999.00</td>\n",
       "      <td>-999.000</td>\n",
       "      <td>-999.000</td>\n",
       "      <td>3.148</td>\n",
       "      <td>9.336</td>\n",
       "      <td>197.814</td>\n",
       "      <td>...</td>\n",
       "      <td>-2.186</td>\n",
       "      <td>260.414</td>\n",
       "      <td>1</td>\n",
       "      <td>44.251</td>\n",
       "      <td>2.053</td>\n",
       "      <td>-2.028</td>\n",
       "      <td>-999.000</td>\n",
       "      <td>-999.00</td>\n",
       "      <td>-999.000</td>\n",
       "      <td>44.251</td>\n",
       "    </tr>\n",
       "    <tr>\n",
       "      <th>3</th>\n",
       "      <td>143.905</td>\n",
       "      <td>81.417</td>\n",
       "      <td>80.943</td>\n",
       "      <td>0.414</td>\n",
       "      <td>-999.00</td>\n",
       "      <td>-999.000</td>\n",
       "      <td>-999.000</td>\n",
       "      <td>3.310</td>\n",
       "      <td>0.414</td>\n",
       "      <td>75.968</td>\n",
       "      <td>...</td>\n",
       "      <td>0.060</td>\n",
       "      <td>86.062</td>\n",
       "      <td>0</td>\n",
       "      <td>-999.000</td>\n",
       "      <td>-999.000</td>\n",
       "      <td>-999.000</td>\n",
       "      <td>-999.000</td>\n",
       "      <td>-999.00</td>\n",
       "      <td>-999.000</td>\n",
       "      <td>-0.000</td>\n",
       "    </tr>\n",
       "    <tr>\n",
       "      <th>4</th>\n",
       "      <td>175.864</td>\n",
       "      <td>16.915</td>\n",
       "      <td>134.805</td>\n",
       "      <td>16.405</td>\n",
       "      <td>-999.00</td>\n",
       "      <td>-999.000</td>\n",
       "      <td>-999.000</td>\n",
       "      <td>3.891</td>\n",
       "      <td>16.405</td>\n",
       "      <td>57.983</td>\n",
       "      <td>...</td>\n",
       "      <td>-0.871</td>\n",
       "      <td>53.131</td>\n",
       "      <td>0</td>\n",
       "      <td>-999.000</td>\n",
       "      <td>-999.000</td>\n",
       "      <td>-999.000</td>\n",
       "      <td>-999.000</td>\n",
       "      <td>-999.00</td>\n",
       "      <td>-999.000</td>\n",
       "      <td>0.000</td>\n",
       "    </tr>\n",
       "  </tbody>\n",
       "</table>\n",
       "<p>5 rows × 30 columns</p>\n",
       "</div>"
      ],
      "text/plain": [
       "   DER_mass_MMC  DER_mass_transverse_met_lep  DER_mass_vis  DER_pt_h  \\\n",
       "0       138.470                       51.655        97.827    27.980   \n",
       "1       160.937                       68.768       103.235    48.146   \n",
       "2      -999.000                      162.172       125.953    35.635   \n",
       "3       143.905                       81.417        80.943     0.414   \n",
       "4       175.864                       16.915       134.805    16.405   \n",
       "\n",
       "   DER_deltaeta_jet_jet  DER_mass_jet_jet  DER_prodeta_jet_jet  \\\n",
       "0                  0.91           124.711                2.666   \n",
       "1               -999.00          -999.000             -999.000   \n",
       "2               -999.00          -999.000             -999.000   \n",
       "3               -999.00          -999.000             -999.000   \n",
       "4               -999.00          -999.000             -999.000   \n",
       "\n",
       "   DER_deltar_tau_lep  DER_pt_tot  DER_sum_pt  ...  PRI_met_phi  \\\n",
       "0               3.064      41.928     197.760  ...       -0.277   \n",
       "1               3.473       2.078     125.157  ...       -1.916   \n",
       "2               3.148       9.336     197.814  ...       -2.186   \n",
       "3               3.310       0.414      75.968  ...        0.060   \n",
       "4               3.891      16.405      57.983  ...       -0.871   \n",
       "\n",
       "   PRI_met_sumet  PRI_jet_num  PRI_jet_leading_pt  PRI_jet_leading_eta  \\\n",
       "0        258.733            2              67.435                2.150   \n",
       "1        164.546            1              46.226                0.725   \n",
       "2        260.414            1              44.251                2.053   \n",
       "3         86.062            0            -999.000             -999.000   \n",
       "4         53.131            0            -999.000             -999.000   \n",
       "\n",
       "   PRI_jet_leading_phi  PRI_jet_subleading_pt  PRI_jet_subleading_eta  \\\n",
       "0                0.444                 46.062                    1.24   \n",
       "1                1.158               -999.000                 -999.00   \n",
       "2               -2.028               -999.000                 -999.00   \n",
       "3             -999.000               -999.000                 -999.00   \n",
       "4             -999.000               -999.000                 -999.00   \n",
       "\n",
       "   PRI_jet_subleading_phi  PRI_jet_all_pt  \n",
       "0                  -2.475         113.497  \n",
       "1                -999.000          46.226  \n",
       "2                -999.000          44.251  \n",
       "3                -999.000          -0.000  \n",
       "4                -999.000           0.000  \n",
       "\n",
       "[5 rows x 30 columns]"
      ]
     },
     "execution_count": 81,
     "metadata": {},
     "output_type": "execute_result"
    }
   ],
   "source": [
    "X = train_data.iloc[:,1:-4]\n",
    "X_val = validation_data.iloc[:,1:-4]\n",
    "X.head()"
   ]
  },
  {
   "cell_type": "code",
   "execution_count": 11,
   "metadata": {},
   "outputs": [
    {
     "name": "stderr",
     "output_type": "stream",
     "text": [
      "Using TensorFlow backend.\n"
     ]
    }
   ],
   "source": [
    "from keras.models import Sequential\n",
    "from keras.layers import Dense, Activation"
   ]
  },
  {
   "cell_type": "code",
   "execution_count": 18,
   "metadata": {},
   "outputs": [
    {
     "name": "stdout",
     "output_type": "stream",
     "text": [
      "Model: \"sequential_2\"\n",
      "_________________________________________________________________\n",
      "Layer (type)                 Output Shape              Param #   \n",
      "=================================================================\n",
      "dense_8 (Dense)              (None, 128)               3968      \n",
      "_________________________________________________________________\n",
      "activation_8 (Activation)    (None, 128)               0         \n",
      "_________________________________________________________________\n",
      "dense_9 (Dense)              (None, 64)                8256      \n",
      "_________________________________________________________________\n",
      "activation_9 (Activation)    (None, 64)                0         \n",
      "_________________________________________________________________\n",
      "dense_10 (Dense)             (None, 32)                2080      \n",
      "_________________________________________________________________\n",
      "activation_10 (Activation)   (None, 32)                0         \n",
      "_________________________________________________________________\n",
      "dense_11 (Dense)             (None, 16)                528       \n",
      "_________________________________________________________________\n",
      "activation_11 (Activation)   (None, 16)                0         \n",
      "_________________________________________________________________\n",
      "dense_12 (Dense)             (None, 8)                 136       \n",
      "_________________________________________________________________\n",
      "activation_12 (Activation)   (None, 8)                 0         \n",
      "_________________________________________________________________\n",
      "dense_13 (Dense)             (None, 4)                 36        \n",
      "_________________________________________________________________\n",
      "activation_13 (Activation)   (None, 4)                 0         \n",
      "_________________________________________________________________\n",
      "dense_14 (Dense)             (None, 2)                 10        \n",
      "_________________________________________________________________\n",
      "activation_14 (Activation)   (None, 2)                 0         \n",
      "=================================================================\n",
      "Total params: 15,014\n",
      "Trainable params: 15,014\n",
      "Non-trainable params: 0\n",
      "_________________________________________________________________\n"
     ]
    }
   ],
   "source": [
    "model_2 = Sequential()\n",
    "model_2.add(Dense(128, input_dim=30))\n",
    "model_2.add(Activation('relu'))\n",
    "model_2.add(Dense(64))\n",
    "model_2.add(Activation('relu'))\n",
    "model_2.add(Dense(32))\n",
    "model_2.add(Activation('relu'))\n",
    "model_2.add(Dense(16))\n",
    "model_2.add(Activation('relu'))\n",
    "model_2.add(Dense(8))\n",
    "model_2.add(Activation('relu'))\n",
    "model_2.add(Dense(4))\n",
    "model_2.add(Activation('relu'))\n",
    "model_2.add(Dense(2))\n",
    "model_2.add(Activation('softmax'))\n",
    "\n",
    "model_2.summary()"
   ]
  },
  {
   "cell_type": "code",
   "execution_count": 19,
   "metadata": {},
   "outputs": [],
   "source": [
    "model_2.compile(optimizer='rmsprop',\n",
    "              loss='binary_crossentropy',\n",
    "              metrics=['accuracy'])"
   ]
  },
  {
   "cell_type": "code",
   "execution_count": 27,
   "metadata": {},
   "outputs": [],
   "source": [
    "from sklearn.preprocessing import MinMaxScaler"
   ]
  },
  {
   "cell_type": "code",
   "execution_count": 28,
   "metadata": {},
   "outputs": [
    {
     "name": "stderr",
     "output_type": "stream",
     "text": [
      "C:\\Users\\flori\\Anaconda3\\lib\\site-packages\\sklearn\\preprocessing\\data.py:334: DataConversionWarning: Data with input dtype int64, float64 were all converted to float64 by MinMaxScaler.\n",
      "  return self.partial_fit(X, y)\n"
     ]
    }
   ],
   "source": [
    "minmax_X = MinMaxScaler(feature_range=(-1,1))\n",
    "minmax_X.fit(X)\n",
    "X_minmax = minmax_X.transform(X)"
   ]
  },
  {
   "cell_type": "code",
   "execution_count": 23,
   "metadata": {},
   "outputs": [
    {
     "name": "stdout",
     "output_type": "stream",
     "text": [
      "Epoch 1/20\n",
      "250000/250000 [==============================] - 2s 9us/step - loss: 0.4089 - accuracy: 0.8126\n",
      "Epoch 2/20\n",
      "250000/250000 [==============================] - 3s 10us/step - loss: 0.4088 - accuracy: 0.8128\n",
      "Epoch 3/20\n",
      "250000/250000 [==============================] - 2s 9us/step - loss: 0.4074 - accuracy: 0.8132\n",
      "Epoch 4/20\n",
      "250000/250000 [==============================] - 2s 9us/step - loss: 0.4048 - accuracy: 0.8149\n",
      "Epoch 5/20\n",
      "250000/250000 [==============================] - 2s 9us/step - loss: 0.4045 - accuracy: 0.8148\n",
      "Epoch 6/20\n",
      "250000/250000 [==============================] - 2s 8us/step - loss: 0.4031 - accuracy: 0.8153\n",
      "Epoch 7/20\n",
      "250000/250000 [==============================] - 2s 9us/step - loss: 0.4021 - accuracy: 0.8162\n",
      "Epoch 8/20\n",
      "250000/250000 [==============================] - 2s 9us/step - loss: 0.4009 - accuracy: 0.8168\n",
      "Epoch 9/20\n",
      "250000/250000 [==============================] - 2s 9us/step - loss: 0.4001 - accuracy: 0.8171\n",
      "Epoch 10/20\n",
      "250000/250000 [==============================] - 2s 9us/step - loss: 0.3988 - accuracy: 0.8181\n",
      "Epoch 11/20\n",
      "250000/250000 [==============================] - 2s 9us/step - loss: 0.3990 - accuracy: 0.8174\n",
      "Epoch 12/20\n",
      "250000/250000 [==============================] - 2s 8us/step - loss: 0.3972 - accuracy: 0.8189\n",
      "Epoch 13/20\n",
      "250000/250000 [==============================] - 2s 9us/step - loss: 0.3976 - accuracy: 0.8185\n",
      "Epoch 14/20\n",
      "250000/250000 [==============================] - 2s 9us/step - loss: 0.3963 - accuracy: 0.8195\n",
      "Epoch 15/20\n",
      "250000/250000 [==============================] - 2s 9us/step - loss: 0.3950 - accuracy: 0.8199\n",
      "Epoch 16/20\n",
      "250000/250000 [==============================] - 2s 9us/step - loss: 0.3949 - accuracy: 0.8200\n",
      "Epoch 17/20\n",
      "250000/250000 [==============================] - 2s 9us/step - loss: 0.3942 - accuracy: 0.8194\n",
      "Epoch 18/20\n",
      "250000/250000 [==============================] - 2s 9us/step - loss: 0.3938 - accuracy: 0.8206\n",
      "Epoch 19/20\n",
      "250000/250000 [==============================] - 2s 9us/step - loss: 0.3930 - accuracy: 0.8209\n",
      "Epoch 20/20\n",
      "250000/250000 [==============================] - 2s 9us/step - loss: 0.3927 - accuracy: 0.8205\n"
     ]
    },
    {
     "data": {
      "text/plain": [
       "<keras.callbacks.callbacks.History at 0x1a6475334e0>"
      ]
     },
     "execution_count": 23,
     "metadata": {},
     "output_type": "execute_result"
    }
   ],
   "source": [
    "model_2.fit(X, y_train, epochs=20, batch_size=1024)"
   ]
  },
  {
   "cell_type": "code",
   "execution_count": 29,
   "metadata": {},
   "outputs": [
    {
     "name": "stdout",
     "output_type": "stream",
     "text": [
      "Epoch 1/20\n",
      "250000/250000 [==============================] - 2s 10us/step - loss: 0.5671 - accuracy: 0.6934\n",
      "Epoch 2/20\n",
      "250000/250000 [==============================] - 2s 9us/step - loss: 0.5193 - accuracy: 0.7329\n",
      "Epoch 3/20\n",
      "250000/250000 [==============================] - 2s 10us/step - loss: 0.4989 - accuracy: 0.7472\n",
      "Epoch 4/20\n",
      "250000/250000 [==============================] - 3s 13us/step - loss: 0.4835 - accuracy: 0.7584\n",
      "Epoch 5/20\n",
      "250000/250000 [==============================] - 3s 11us/step - loss: 0.4737 - accuracy: 0.7647 0s - loss: 0.4744 - accuracy\n",
      "Epoch 6/20\n",
      "250000/250000 [==============================] - 3s 11us/step - loss: 0.4627 - accuracy: 0.7735\n",
      "Epoch 7/20\n",
      "250000/250000 [==============================] - 3s 10us/step - loss: 0.4546 - accuracy: 0.7797\n",
      "Epoch 8/20\n",
      "250000/250000 [==============================] - 2s 10us/step - loss: 0.4469 - accuracy: 0.7853\n",
      "Epoch 9/20\n",
      "250000/250000 [==============================] - 3s 11us/step - loss: 0.4404 - accuracy: 0.7897\n",
      "Epoch 10/20\n",
      "250000/250000 [==============================] - 3s 11us/step - loss: 0.4346 - accuracy: 0.7943\n",
      "Epoch 11/20\n",
      "250000/250000 [==============================] - 3s 11us/step - loss: 0.4289 - accuracy: 0.7984\n",
      "Epoch 12/20\n",
      "250000/250000 [==============================] - 3s 11us/step - loss: 0.4244 - accuracy: 0.8005\n",
      "Epoch 13/20\n",
      "250000/250000 [==============================] - 3s 11us/step - loss: 0.4202 - accuracy: 0.8039\n",
      "Epoch 14/20\n",
      "250000/250000 [==============================] - 3s 11us/step - loss: 0.4157 - accuracy: 0.8061\n",
      "Epoch 15/20\n",
      "250000/250000 [==============================] - 3s 11us/step - loss: 0.4137 - accuracy: 0.8072\n",
      "Epoch 16/20\n",
      "250000/250000 [==============================] - 3s 13us/step - loss: 0.4101 - accuracy: 0.8101\n",
      "Epoch 17/20\n",
      "250000/250000 [==============================] - 3s 11us/step - loss: 0.4083 - accuracy: 0.8115\n",
      "Epoch 18/20\n",
      "250000/250000 [==============================] - 3s 11us/step - loss: 0.4055 - accuracy: 0.8129\n",
      "Epoch 19/20\n",
      "250000/250000 [==============================] - 3s 11us/step - loss: 0.4031 - accuracy: 0.8140\n",
      "Epoch 20/20\n",
      "250000/250000 [==============================] - 3s 11us/step - loss: 0.4023 - accuracy: 0.8162\n"
     ]
    },
    {
     "data": {
      "text/plain": [
       "<keras.callbacks.callbacks.History at 0x1a648f02d30>"
      ]
     },
     "execution_count": 29,
     "metadata": {},
     "output_type": "execute_result"
    }
   ],
   "source": [
    "model_2.fit(X_minmax, y_train, epochs=20, batch_size=1024)"
   ]
  },
  {
   "cell_type": "markdown",
   "metadata": {},
   "source": [
    "### Idea: I think I should separate the data set according to the number of jets, there are 8 `PRI` variables about the jets?!   Or try to separate the VBF and the other one?!"
   ]
  },
  {
   "cell_type": "markdown",
   "metadata": {},
   "source": [
    "I will just shortly try only using the events without jets:\n",
    "the following variables do not make sense here: \n",
    "+ DER_deltaeta_jet_jet\n",
    "+ DER_mass_jet_jet\n",
    "+ DER_prodeta_jet_jet\n",
    "+ DER_lep_eta_centrality\n",
    "+ PRI_jet_num\n",
    "+ PRI_jet_leading_pt\n",
    "+ PRI_jet_leading_eta \n",
    "+ PRI_jet_leading_phi\n",
    "+ PRI_jet_subleading_pt\n",
    "+ PRI_jet_subleading_eta\n",
    "+ PRI_jet_subleading_phi\n",
    "+ PRI_jet_all_pt"
   ]
  },
  {
   "cell_type": "code",
   "execution_count": 30,
   "metadata": {},
   "outputs": [
    {
     "data": {
      "text/html": [
       "<div>\n",
       "<style scoped>\n",
       "    .dataframe tbody tr th:only-of-type {\n",
       "        vertical-align: middle;\n",
       "    }\n",
       "\n",
       "    .dataframe tbody tr th {\n",
       "        vertical-align: top;\n",
       "    }\n",
       "\n",
       "    .dataframe thead th {\n",
       "        text-align: right;\n",
       "    }\n",
       "</style>\n",
       "<table border=\"1\" class=\"dataframe\">\n",
       "  <thead>\n",
       "    <tr style=\"text-align: right;\">\n",
       "      <th></th>\n",
       "      <th>DER_mass_MMC</th>\n",
       "      <th>DER_mass_transverse_met_lep</th>\n",
       "      <th>DER_mass_vis</th>\n",
       "      <th>DER_pt_h</th>\n",
       "      <th>DER_deltar_tau_lep</th>\n",
       "      <th>DER_pt_tot</th>\n",
       "      <th>DER_sum_pt</th>\n",
       "      <th>DER_pt_ratio_lep_tau</th>\n",
       "      <th>DER_met_phi_centrality</th>\n",
       "      <th>PRI_tau_pt</th>\n",
       "      <th>PRI_tau_eta</th>\n",
       "      <th>PRI_tau_phi</th>\n",
       "      <th>PRI_lep_pt</th>\n",
       "      <th>PRI_lep_eta</th>\n",
       "      <th>PRI_lep_phi</th>\n",
       "      <th>PRI_met</th>\n",
       "      <th>PRI_met_phi</th>\n",
       "      <th>PRI_met_sumet</th>\n",
       "    </tr>\n",
       "  </thead>\n",
       "  <tbody>\n",
       "    <tr>\n",
       "      <th>count</th>\n",
       "      <td>99913.000000</td>\n",
       "      <td>99913.000000</td>\n",
       "      <td>99913.000000</td>\n",
       "      <td>99913.000000</td>\n",
       "      <td>99913.000000</td>\n",
       "      <td>99913.000000</td>\n",
       "      <td>99913.000000</td>\n",
       "      <td>99913.000000</td>\n",
       "      <td>99913.000000</td>\n",
       "      <td>99913.000000</td>\n",
       "      <td>99913.000000</td>\n",
       "      <td>99913.000000</td>\n",
       "      <td>99913.000000</td>\n",
       "      <td>99913.000000</td>\n",
       "      <td>99913.000000</td>\n",
       "      <td>99913.000000</td>\n",
       "      <td>99913.000000</td>\n",
       "      <td>99913.00000</td>\n",
       "    </tr>\n",
       "    <tr>\n",
       "      <th>mean</th>\n",
       "      <td>-172.077816</td>\n",
       "      <td>58.786239</td>\n",
       "      <td>81.870309</td>\n",
       "      <td>13.823867</td>\n",
       "      <td>2.664961</td>\n",
       "      <td>13.823867</td>\n",
       "      <td>76.377011</td>\n",
       "      <td>1.392763</td>\n",
       "      <td>-0.910077</td>\n",
       "      <td>34.012723</td>\n",
       "      <td>-0.024858</td>\n",
       "      <td>-0.015657</td>\n",
       "      <td>42.364287</td>\n",
       "      <td>-0.052311</td>\n",
       "      <td>0.042352</td>\n",
       "      <td>31.536761</td>\n",
       "      <td>-0.024443</td>\n",
       "      <td>125.86081</td>\n",
       "    </tr>\n",
       "    <tr>\n",
       "      <th>std</th>\n",
       "      <td>494.022274</td>\n",
       "      <td>32.003551</td>\n",
       "      <td>38.043669</td>\n",
       "      <td>16.674707</td>\n",
       "      <td>0.693295</td>\n",
       "      <td>16.674707</td>\n",
       "      <td>23.561057</td>\n",
       "      <td>0.581596</td>\n",
       "      <td>0.936707</td>\n",
       "      <td>15.229541</td>\n",
       "      <td>1.233430</td>\n",
       "      <td>1.817351</td>\n",
       "      <td>14.585979</td>\n",
       "      <td>1.310855</td>\n",
       "      <td>1.817844</td>\n",
       "      <td>20.294541</td>\n",
       "      <td>1.811006</td>\n",
       "      <td>53.08660</td>\n",
       "    </tr>\n",
       "    <tr>\n",
       "      <th>min</th>\n",
       "      <td>-999.000000</td>\n",
       "      <td>0.002000</td>\n",
       "      <td>7.120000</td>\n",
       "      <td>0.000000</td>\n",
       "      <td>0.277000</td>\n",
       "      <td>0.000000</td>\n",
       "      <td>46.104000</td>\n",
       "      <td>0.127000</td>\n",
       "      <td>-1.414000</td>\n",
       "      <td>20.000000</td>\n",
       "      <td>-2.499000</td>\n",
       "      <td>-3.142000</td>\n",
       "      <td>26.000000</td>\n",
       "      <td>-2.505000</td>\n",
       "      <td>-3.142000</td>\n",
       "      <td>0.109000</td>\n",
       "      <td>-3.142000</td>\n",
       "      <td>13.67800</td>\n",
       "    </tr>\n",
       "    <tr>\n",
       "      <th>25%</th>\n",
       "      <td>-999.000000</td>\n",
       "      <td>35.062000</td>\n",
       "      <td>60.947000</td>\n",
       "      <td>2.275000</td>\n",
       "      <td>2.338000</td>\n",
       "      <td>2.275000</td>\n",
       "      <td>61.297000</td>\n",
       "      <td>0.968000</td>\n",
       "      <td>-1.404000</td>\n",
       "      <td>23.655000</td>\n",
       "      <td>-0.960000</td>\n",
       "      <td>-1.586000</td>\n",
       "      <td>31.863000</td>\n",
       "      <td>-1.121000</td>\n",
       "      <td>-1.526000</td>\n",
       "      <td>18.001000</td>\n",
       "      <td>-1.583000</td>\n",
       "      <td>87.95100</td>\n",
       "    </tr>\n",
       "    <tr>\n",
       "      <th>50%</th>\n",
       "      <td>96.528000</td>\n",
       "      <td>62.144000</td>\n",
       "      <td>75.533000</td>\n",
       "      <td>6.677000</td>\n",
       "      <td>2.822000</td>\n",
       "      <td>6.677000</td>\n",
       "      <td>71.586000</td>\n",
       "      <td>1.318000</td>\n",
       "      <td>-1.364000</td>\n",
       "      <td>29.329000</td>\n",
       "      <td>-0.043000</td>\n",
       "      <td>-0.049000</td>\n",
       "      <td>38.969000</td>\n",
       "      <td>-0.104000</td>\n",
       "      <td>0.085000</td>\n",
       "      <td>29.538000</td>\n",
       "      <td>-0.051000</td>\n",
       "      <td>119.47900</td>\n",
       "    </tr>\n",
       "    <tr>\n",
       "      <th>75%</th>\n",
       "      <td>126.793000</td>\n",
       "      <td>79.650000</td>\n",
       "      <td>94.135000</td>\n",
       "      <td>24.202000</td>\n",
       "      <td>3.095000</td>\n",
       "      <td>24.202000</td>\n",
       "      <td>85.242000</td>\n",
       "      <td>1.728000</td>\n",
       "      <td>-1.123000</td>\n",
       "      <td>39.808000</td>\n",
       "      <td>0.900000</td>\n",
       "      <td>1.556000</td>\n",
       "      <td>49.007000</td>\n",
       "      <td>0.989000</td>\n",
       "      <td>1.621000</td>\n",
       "      <td>42.273000</td>\n",
       "      <td>1.546000</td>\n",
       "      <td>156.41800</td>\n",
       "    </tr>\n",
       "    <tr>\n",
       "      <th>max</th>\n",
       "      <td>863.647000</td>\n",
       "      <td>570.115000</td>\n",
       "      <td>1349.351000</td>\n",
       "      <td>2834.999000</td>\n",
       "      <td>5.684000</td>\n",
       "      <td>2834.999000</td>\n",
       "      <td>1324.678000</td>\n",
       "      <td>10.571000</td>\n",
       "      <td>1.414000</td>\n",
       "      <td>764.408000</td>\n",
       "      <td>2.494000</td>\n",
       "      <td>3.142000</td>\n",
       "      <td>560.271000</td>\n",
       "      <td>2.503000</td>\n",
       "      <td>3.142000</td>\n",
       "      <td>2842.617000</td>\n",
       "      <td>3.142000</td>\n",
       "      <td>1391.52900</td>\n",
       "    </tr>\n",
       "  </tbody>\n",
       "</table>\n",
       "</div>"
      ],
      "text/plain": [
       "       DER_mass_MMC  DER_mass_transverse_met_lep  DER_mass_vis      DER_pt_h  \\\n",
       "count  99913.000000                 99913.000000  99913.000000  99913.000000   \n",
       "mean    -172.077816                    58.786239     81.870309     13.823867   \n",
       "std      494.022274                    32.003551     38.043669     16.674707   \n",
       "min     -999.000000                     0.002000      7.120000      0.000000   \n",
       "25%     -999.000000                    35.062000     60.947000      2.275000   \n",
       "50%       96.528000                    62.144000     75.533000      6.677000   \n",
       "75%      126.793000                    79.650000     94.135000     24.202000   \n",
       "max      863.647000                   570.115000   1349.351000   2834.999000   \n",
       "\n",
       "       DER_deltar_tau_lep    DER_pt_tot    DER_sum_pt  DER_pt_ratio_lep_tau  \\\n",
       "count        99913.000000  99913.000000  99913.000000          99913.000000   \n",
       "mean             2.664961     13.823867     76.377011              1.392763   \n",
       "std              0.693295     16.674707     23.561057              0.581596   \n",
       "min              0.277000      0.000000     46.104000              0.127000   \n",
       "25%              2.338000      2.275000     61.297000              0.968000   \n",
       "50%              2.822000      6.677000     71.586000              1.318000   \n",
       "75%              3.095000     24.202000     85.242000              1.728000   \n",
       "max              5.684000   2834.999000   1324.678000             10.571000   \n",
       "\n",
       "       DER_met_phi_centrality    PRI_tau_pt   PRI_tau_eta   PRI_tau_phi  \\\n",
       "count            99913.000000  99913.000000  99913.000000  99913.000000   \n",
       "mean                -0.910077     34.012723     -0.024858     -0.015657   \n",
       "std                  0.936707     15.229541      1.233430      1.817351   \n",
       "min                 -1.414000     20.000000     -2.499000     -3.142000   \n",
       "25%                 -1.404000     23.655000     -0.960000     -1.586000   \n",
       "50%                 -1.364000     29.329000     -0.043000     -0.049000   \n",
       "75%                 -1.123000     39.808000      0.900000      1.556000   \n",
       "max                  1.414000    764.408000      2.494000      3.142000   \n",
       "\n",
       "         PRI_lep_pt   PRI_lep_eta   PRI_lep_phi       PRI_met   PRI_met_phi  \\\n",
       "count  99913.000000  99913.000000  99913.000000  99913.000000  99913.000000   \n",
       "mean      42.364287     -0.052311      0.042352     31.536761     -0.024443   \n",
       "std       14.585979      1.310855      1.817844     20.294541      1.811006   \n",
       "min       26.000000     -2.505000     -3.142000      0.109000     -3.142000   \n",
       "25%       31.863000     -1.121000     -1.526000     18.001000     -1.583000   \n",
       "50%       38.969000     -0.104000      0.085000     29.538000     -0.051000   \n",
       "75%       49.007000      0.989000      1.621000     42.273000      1.546000   \n",
       "max      560.271000      2.503000      3.142000   2842.617000      3.142000   \n",
       "\n",
       "       PRI_met_sumet  \n",
       "count    99913.00000  \n",
       "mean       125.86081  \n",
       "std         53.08660  \n",
       "min         13.67800  \n",
       "25%         87.95100  \n",
       "50%        119.47900  \n",
       "75%        156.41800  \n",
       "max       1391.52900  "
      ]
     },
     "execution_count": 30,
     "metadata": {},
     "output_type": "execute_result"
    }
   ],
   "source": [
    "X_0jets = X[ X['PRI_jet_num']==0 ].drop(['DER_deltaeta_jet_jet', 'DER_mass_jet_jet', 'DER_prodeta_jet_jet', \n",
    "                                         'DER_lep_eta_centrality', 'PRI_jet_num', 'PRI_jet_leading_pt', \n",
    "                                         'PRI_jet_leading_eta', 'PRI_jet_leading_phi', 'PRI_jet_subleading_pt', \n",
    "                                         'PRI_jet_subleading_eta', 'PRI_jet_subleading_phi', 'PRI_jet_all_pt'], axis =1)\n",
    "X_0jets.describe()"
   ]
  },
  {
   "cell_type": "code",
   "execution_count": 31,
   "metadata": {},
   "outputs": [
    {
     "data": {
      "text/plain": [
       "99913"
      ]
     },
     "execution_count": 31,
     "metadata": {},
     "output_type": "execute_result"
    }
   ],
   "source": [
    "y_train_0jets = y_train[ X['PRI_jet_num']==0 ]\n",
    "len(y_train_0jets)"
   ]
  },
  {
   "cell_type": "code",
   "execution_count": 32,
   "metadata": {},
   "outputs": [],
   "source": [
    "minmax_0jets = MinMaxScaler(feature_range=(-1,1))\n",
    "minmax_0jets.fit(X_0jets)\n",
    "X_0jets_minmax = minmax_0jets.transform(X_0jets)"
   ]
  },
  {
   "cell_type": "code",
   "execution_count": 33,
   "metadata": {},
   "outputs": [
    {
     "name": "stdout",
     "output_type": "stream",
     "text": [
      "Model: \"sequential_3\"\n",
      "_________________________________________________________________\n",
      "Layer (type)                 Output Shape              Param #   \n",
      "=================================================================\n",
      "dense_15 (Dense)             (None, 128)               2432      \n",
      "_________________________________________________________________\n",
      "activation_15 (Activation)   (None, 128)               0         \n",
      "_________________________________________________________________\n",
      "dense_16 (Dense)             (None, 64)                8256      \n",
      "_________________________________________________________________\n",
      "activation_16 (Activation)   (None, 64)                0         \n",
      "_________________________________________________________________\n",
      "dense_17 (Dense)             (None, 32)                2080      \n",
      "_________________________________________________________________\n",
      "activation_17 (Activation)   (None, 32)                0         \n",
      "_________________________________________________________________\n",
      "dense_18 (Dense)             (None, 16)                528       \n",
      "_________________________________________________________________\n",
      "activation_18 (Activation)   (None, 16)                0         \n",
      "_________________________________________________________________\n",
      "dense_19 (Dense)             (None, 8)                 136       \n",
      "_________________________________________________________________\n",
      "activation_19 (Activation)   (None, 8)                 0         \n",
      "_________________________________________________________________\n",
      "dense_20 (Dense)             (None, 4)                 36        \n",
      "_________________________________________________________________\n",
      "activation_20 (Activation)   (None, 4)                 0         \n",
      "_________________________________________________________________\n",
      "dense_21 (Dense)             (None, 2)                 10        \n",
      "_________________________________________________________________\n",
      "activation_21 (Activation)   (None, 2)                 0         \n",
      "=================================================================\n",
      "Total params: 13,478\n",
      "Trainable params: 13,478\n",
      "Non-trainable params: 0\n",
      "_________________________________________________________________\n"
     ]
    }
   ],
   "source": [
    "model_2 = Sequential()\n",
    "model_2.add(Dense(128, input_dim=18))\n",
    "model_2.add(Activation('relu'))\n",
    "model_2.add(Dense(64))\n",
    "model_2.add(Activation('relu'))\n",
    "model_2.add(Dense(32))\n",
    "model_2.add(Activation('relu'))\n",
    "model_2.add(Dense(16))\n",
    "model_2.add(Activation('relu'))\n",
    "model_2.add(Dense(8))\n",
    "model_2.add(Activation('relu'))\n",
    "model_2.add(Dense(4))\n",
    "model_2.add(Activation('relu'))\n",
    "model_2.add(Dense(2))\n",
    "model_2.add(Activation('softmax'))\n",
    "\n",
    "model_2.summary()"
   ]
  },
  {
   "cell_type": "code",
   "execution_count": 34,
   "metadata": {},
   "outputs": [],
   "source": [
    "model_2.compile(optimizer='rmsprop',\n",
    "              loss='binary_crossentropy',\n",
    "              metrics=['accuracy'])"
   ]
  },
  {
   "cell_type": "code",
   "execution_count": 35,
   "metadata": {},
   "outputs": [
    {
     "name": "stdout",
     "output_type": "stream",
     "text": [
      "Epoch 1/20\n",
      "99913/99913 [==============================] - 1s 10us/step - loss: 0.5097 - accuracy: 0.7450\n",
      "Epoch 2/20\n",
      "99913/99913 [==============================] - 1s 8us/step - loss: 0.4451 - accuracy: 0.7871\n",
      "Epoch 3/20\n",
      "99913/99913 [==============================] - 1s 8us/step - loss: 0.4133 - accuracy: 0.8118\n",
      "Epoch 4/20\n",
      "99913/99913 [==============================] - 1s 8us/step - loss: 0.4025 - accuracy: 0.8158\n",
      "Epoch 5/20\n",
      "99913/99913 [==============================] - 1s 8us/step - loss: 0.3954 - accuracy: 0.8171\n",
      "Epoch 6/20\n",
      "99913/99913 [==============================] - 1s 9us/step - loss: 0.3887 - accuracy: 0.8210: 0s - loss:\n",
      "Epoch 7/20\n",
      "99913/99913 [==============================] - 1s 10us/step - loss: 0.3857 - accuracy: 0.8220\n",
      "Epoch 8/20\n",
      "99913/99913 [==============================] - 1s 9us/step - loss: 0.3827 - accuracy: 0.8231\n",
      "Epoch 9/20\n",
      "99913/99913 [==============================] - 1s 11us/step - loss: 0.3803 - accuracy: 0.8247 0s - loss: 0.3801 - accuracy: 0.\n",
      "Epoch 10/20\n",
      "99913/99913 [==============================] - 1s 12us/step - loss: 0.3759 - accuracy: 0.8282\n",
      "Epoch 11/20\n",
      "99913/99913 [==============================] - 1s 12us/step - loss: 0.3744 - accuracy: 0.8293\n",
      "Epoch 12/20\n",
      "99913/99913 [==============================] - 1s 10us/step - loss: 0.3696 - accuracy: 0.8332\n",
      "Epoch 13/20\n",
      "99913/99913 [==============================] - 1s 10us/step - loss: 0.3663 - accuracy: 0.8347\n",
      "Epoch 14/20\n",
      "99913/99913 [==============================] - 1s 10us/step - loss: 0.3639 - accuracy: 0.8356\n",
      "Epoch 15/20\n",
      "99913/99913 [==============================] - 1s 11us/step - loss: 0.3637 - accuracy: 0.8369 0s - loss: 0.3647 - accu\n",
      "Epoch 16/20\n",
      "99913/99913 [==============================] - 1s 14us/step - loss: 0.3611 - accuracy: 0.8377\n",
      "Epoch 17/20\n",
      "99913/99913 [==============================] - 1s 11us/step - loss: 0.3598 - accuracy: 0.8384 0s - loss: 0.3621 - \n",
      "Epoch 18/20\n",
      "99913/99913 [==============================] - 1s 12us/step - loss: 0.3585 - accuracy: 0.8385\n",
      "Epoch 19/20\n",
      "99913/99913 [==============================] - 1s 11us/step - loss: 0.3568 - accuracy: 0.8405\n",
      "Epoch 20/20\n",
      "99913/99913 [==============================] - 1s 11us/step - loss: 0.3560 - accuracy: 0.8410\n"
     ]
    },
    {
     "data": {
      "text/plain": [
       "<keras.callbacks.callbacks.History at 0x1a64a6f8f28>"
      ]
     },
     "execution_count": 35,
     "metadata": {},
     "output_type": "execute_result"
    }
   ],
   "source": [
    "model_2.fit(X_0jets_minmax, y_train_0jets, epochs=20, batch_size=1024)"
   ]
  },
  {
   "cell_type": "markdown",
   "metadata": {},
   "source": [
    "At least a slightly higher accuracy..."
   ]
  },
  {
   "cell_type": "code",
   "execution_count": 36,
   "metadata": {},
   "outputs": [
    {
     "data": {
      "text/plain": [
       "72543"
      ]
     },
     "execution_count": 36,
     "metadata": {},
     "output_type": "execute_result"
    }
   ],
   "source": [
    "X_2jets = X[ X['PRI_jet_num']>=2 ]\n",
    "len(X_2jets)"
   ]
  },
  {
   "cell_type": "code",
   "execution_count": 83,
   "metadata": {},
   "outputs": [
    {
     "data": {
      "text/plain": [
       "29046"
      ]
     },
     "execution_count": 83,
     "metadata": {},
     "output_type": "execute_result"
    }
   ],
   "source": [
    "X_val_2jets = X_val[ X_val['PRI_jet_num']>=2 ]\n",
    "len(X_val_2jets)"
   ]
  },
  {
   "cell_type": "code",
   "execution_count": 37,
   "metadata": {},
   "outputs": [
    {
     "data": {
      "text/html": [
       "<div>\n",
       "<style scoped>\n",
       "    .dataframe tbody tr th:only-of-type {\n",
       "        vertical-align: middle;\n",
       "    }\n",
       "\n",
       "    .dataframe tbody tr th {\n",
       "        vertical-align: top;\n",
       "    }\n",
       "\n",
       "    .dataframe thead th {\n",
       "        text-align: right;\n",
       "    }\n",
       "</style>\n",
       "<table border=\"1\" class=\"dataframe\">\n",
       "  <thead>\n",
       "    <tr style=\"text-align: right;\">\n",
       "      <th></th>\n",
       "      <th>DER_mass_MMC</th>\n",
       "      <th>DER_mass_transverse_met_lep</th>\n",
       "      <th>DER_mass_vis</th>\n",
       "      <th>DER_pt_h</th>\n",
       "      <th>DER_deltaeta_jet_jet</th>\n",
       "      <th>DER_mass_jet_jet</th>\n",
       "      <th>DER_prodeta_jet_jet</th>\n",
       "      <th>DER_deltar_tau_lep</th>\n",
       "      <th>DER_pt_tot</th>\n",
       "      <th>DER_sum_pt</th>\n",
       "      <th>...</th>\n",
       "      <th>PRI_met_phi</th>\n",
       "      <th>PRI_met_sumet</th>\n",
       "      <th>PRI_jet_num</th>\n",
       "      <th>PRI_jet_leading_pt</th>\n",
       "      <th>PRI_jet_leading_eta</th>\n",
       "      <th>PRI_jet_leading_phi</th>\n",
       "      <th>PRI_jet_subleading_pt</th>\n",
       "      <th>PRI_jet_subleading_eta</th>\n",
       "      <th>PRI_jet_subleading_phi</th>\n",
       "      <th>PRI_jet_all_pt</th>\n",
       "    </tr>\n",
       "  </thead>\n",
       "  <tbody>\n",
       "    <tr>\n",
       "      <th>0</th>\n",
       "      <td>138.470</td>\n",
       "      <td>51.655</td>\n",
       "      <td>97.827</td>\n",
       "      <td>27.980</td>\n",
       "      <td>0.910</td>\n",
       "      <td>124.711</td>\n",
       "      <td>2.666</td>\n",
       "      <td>3.064</td>\n",
       "      <td>41.928</td>\n",
       "      <td>197.760</td>\n",
       "      <td>...</td>\n",
       "      <td>-0.277</td>\n",
       "      <td>258.733</td>\n",
       "      <td>2</td>\n",
       "      <td>67.435</td>\n",
       "      <td>2.150</td>\n",
       "      <td>0.444</td>\n",
       "      <td>46.062</td>\n",
       "      <td>1.240</td>\n",
       "      <td>-2.475</td>\n",
       "      <td>113.497</td>\n",
       "    </tr>\n",
       "    <tr>\n",
       "      <th>5</th>\n",
       "      <td>89.744</td>\n",
       "      <td>13.550</td>\n",
       "      <td>59.149</td>\n",
       "      <td>116.344</td>\n",
       "      <td>2.636</td>\n",
       "      <td>284.584</td>\n",
       "      <td>-0.540</td>\n",
       "      <td>1.362</td>\n",
       "      <td>61.619</td>\n",
       "      <td>278.876</td>\n",
       "      <td>...</td>\n",
       "      <td>2.237</td>\n",
       "      <td>282.849</td>\n",
       "      <td>3</td>\n",
       "      <td>90.547</td>\n",
       "      <td>-2.412</td>\n",
       "      <td>-0.653</td>\n",
       "      <td>56.165</td>\n",
       "      <td>0.224</td>\n",
       "      <td>3.106</td>\n",
       "      <td>193.660</td>\n",
       "    </tr>\n",
       "    <tr>\n",
       "      <th>6</th>\n",
       "      <td>148.754</td>\n",
       "      <td>28.862</td>\n",
       "      <td>107.782</td>\n",
       "      <td>106.130</td>\n",
       "      <td>0.733</td>\n",
       "      <td>158.359</td>\n",
       "      <td>0.113</td>\n",
       "      <td>2.941</td>\n",
       "      <td>2.545</td>\n",
       "      <td>305.967</td>\n",
       "      <td>...</td>\n",
       "      <td>-1.443</td>\n",
       "      <td>294.074</td>\n",
       "      <td>2</td>\n",
       "      <td>123.010</td>\n",
       "      <td>0.864</td>\n",
       "      <td>1.450</td>\n",
       "      <td>56.867</td>\n",
       "      <td>0.131</td>\n",
       "      <td>-2.767</td>\n",
       "      <td>179.877</td>\n",
       "    </tr>\n",
       "    <tr>\n",
       "      <th>11</th>\n",
       "      <td>114.744</td>\n",
       "      <td>10.286</td>\n",
       "      <td>75.712</td>\n",
       "      <td>30.816</td>\n",
       "      <td>2.563</td>\n",
       "      <td>252.599</td>\n",
       "      <td>-1.401</td>\n",
       "      <td>2.888</td>\n",
       "      <td>36.745</td>\n",
       "      <td>239.804</td>\n",
       "      <td>...</td>\n",
       "      <td>2.148</td>\n",
       "      <td>290.547</td>\n",
       "      <td>3</td>\n",
       "      <td>76.773</td>\n",
       "      <td>-0.790</td>\n",
       "      <td>0.303</td>\n",
       "      <td>56.876</td>\n",
       "      <td>1.773</td>\n",
       "      <td>-2.079</td>\n",
       "      <td>165.640</td>\n",
       "    </tr>\n",
       "    <tr>\n",
       "      <th>23</th>\n",
       "      <td>141.481</td>\n",
       "      <td>0.736</td>\n",
       "      <td>111.581</td>\n",
       "      <td>174.075</td>\n",
       "      <td>1.955</td>\n",
       "      <td>364.344</td>\n",
       "      <td>-0.923</td>\n",
       "      <td>1.335</td>\n",
       "      <td>6.663</td>\n",
       "      <td>440.859</td>\n",
       "      <td>...</td>\n",
       "      <td>-0.973</td>\n",
       "      <td>454.785</td>\n",
       "      <td>2</td>\n",
       "      <td>195.533</td>\n",
       "      <td>1.156</td>\n",
       "      <td>1.416</td>\n",
       "      <td>82.477</td>\n",
       "      <td>-0.798</td>\n",
       "      <td>-2.785</td>\n",
       "      <td>278.009</td>\n",
       "    </tr>\n",
       "    <tr>\n",
       "      <th>27</th>\n",
       "      <td>111.271</td>\n",
       "      <td>27.180</td>\n",
       "      <td>70.642</td>\n",
       "      <td>144.766</td>\n",
       "      <td>4.936</td>\n",
       "      <td>1021.322</td>\n",
       "      <td>-5.834</td>\n",
       "      <td>1.795</td>\n",
       "      <td>0.367</td>\n",
       "      <td>309.992</td>\n",
       "      <td>...</td>\n",
       "      <td>-1.173</td>\n",
       "      <td>289.876</td>\n",
       "      <td>2</td>\n",
       "      <td>170.712</td>\n",
       "      <td>-1.961</td>\n",
       "      <td>2.220</td>\n",
       "      <td>43.458</td>\n",
       "      <td>2.974</td>\n",
       "      <td>-0.103</td>\n",
       "      <td>214.170</td>\n",
       "    </tr>\n",
       "    <tr>\n",
       "      <th>29</th>\n",
       "      <td>98.761</td>\n",
       "      <td>14.024</td>\n",
       "      <td>74.230</td>\n",
       "      <td>132.806</td>\n",
       "      <td>3.676</td>\n",
       "      <td>315.854</td>\n",
       "      <td>-2.665</td>\n",
       "      <td>1.261</td>\n",
       "      <td>23.290</td>\n",
       "      <td>239.330</td>\n",
       "      <td>...</td>\n",
       "      <td>1.150</td>\n",
       "      <td>357.815</td>\n",
       "      <td>2</td>\n",
       "      <td>80.627</td>\n",
       "      <td>0.993</td>\n",
       "      <td>-2.018</td>\n",
       "      <td>32.625</td>\n",
       "      <td>-2.683</td>\n",
       "      <td>-1.467</td>\n",
       "      <td>113.252</td>\n",
       "    </tr>\n",
       "    <tr>\n",
       "      <th>31</th>\n",
       "      <td>121.681</td>\n",
       "      <td>6.041</td>\n",
       "      <td>73.202</td>\n",
       "      <td>198.114</td>\n",
       "      <td>2.639</td>\n",
       "      <td>295.942</td>\n",
       "      <td>-1.738</td>\n",
       "      <td>1.148</td>\n",
       "      <td>31.017</td>\n",
       "      <td>412.518</td>\n",
       "      <td>...</td>\n",
       "      <td>-2.769</td>\n",
       "      <td>515.415</td>\n",
       "      <td>3</td>\n",
       "      <td>182.449</td>\n",
       "      <td>1.383</td>\n",
       "      <td>0.001</td>\n",
       "      <td>38.006</td>\n",
       "      <td>-1.257</td>\n",
       "      <td>-0.609</td>\n",
       "      <td>253.461</td>\n",
       "    </tr>\n",
       "    <tr>\n",
       "      <th>32</th>\n",
       "      <td>129.186</td>\n",
       "      <td>64.045</td>\n",
       "      <td>69.499</td>\n",
       "      <td>63.165</td>\n",
       "      <td>5.087</td>\n",
       "      <td>854.799</td>\n",
       "      <td>-6.159</td>\n",
       "      <td>2.745</td>\n",
       "      <td>6.580</td>\n",
       "      <td>203.080</td>\n",
       "      <td>...</td>\n",
       "      <td>1.204</td>\n",
       "      <td>199.861</td>\n",
       "      <td>2</td>\n",
       "      <td>81.170</td>\n",
       "      <td>3.102</td>\n",
       "      <td>-0.977</td>\n",
       "      <td>55.092</td>\n",
       "      <td>-1.985</td>\n",
       "      <td>3.065</td>\n",
       "      <td>136.262</td>\n",
       "    </tr>\n",
       "    <tr>\n",
       "      <th>33</th>\n",
       "      <td>123.112</td>\n",
       "      <td>62.758</td>\n",
       "      <td>86.702</td>\n",
       "      <td>39.901</td>\n",
       "      <td>3.160</td>\n",
       "      <td>244.181</td>\n",
       "      <td>-2.139</td>\n",
       "      <td>2.825</td>\n",
       "      <td>9.732</td>\n",
       "      <td>184.194</td>\n",
       "      <td>...</td>\n",
       "      <td>-1.209</td>\n",
       "      <td>309.430</td>\n",
       "      <td>2</td>\n",
       "      <td>71.127</td>\n",
       "      <td>2.177</td>\n",
       "      <td>0.558</td>\n",
       "      <td>32.515</td>\n",
       "      <td>-0.983</td>\n",
       "      <td>-2.628</td>\n",
       "      <td>103.642</td>\n",
       "    </tr>\n",
       "  </tbody>\n",
       "</table>\n",
       "<p>10 rows × 30 columns</p>\n",
       "</div>"
      ],
      "text/plain": [
       "    DER_mass_MMC  DER_mass_transverse_met_lep  DER_mass_vis  DER_pt_h  \\\n",
       "0        138.470                       51.655        97.827    27.980   \n",
       "5         89.744                       13.550        59.149   116.344   \n",
       "6        148.754                       28.862       107.782   106.130   \n",
       "11       114.744                       10.286        75.712    30.816   \n",
       "23       141.481                        0.736       111.581   174.075   \n",
       "27       111.271                       27.180        70.642   144.766   \n",
       "29        98.761                       14.024        74.230   132.806   \n",
       "31       121.681                        6.041        73.202   198.114   \n",
       "32       129.186                       64.045        69.499    63.165   \n",
       "33       123.112                       62.758        86.702    39.901   \n",
       "\n",
       "    DER_deltaeta_jet_jet  DER_mass_jet_jet  DER_prodeta_jet_jet  \\\n",
       "0                  0.910           124.711                2.666   \n",
       "5                  2.636           284.584               -0.540   \n",
       "6                  0.733           158.359                0.113   \n",
       "11                 2.563           252.599               -1.401   \n",
       "23                 1.955           364.344               -0.923   \n",
       "27                 4.936          1021.322               -5.834   \n",
       "29                 3.676           315.854               -2.665   \n",
       "31                 2.639           295.942               -1.738   \n",
       "32                 5.087           854.799               -6.159   \n",
       "33                 3.160           244.181               -2.139   \n",
       "\n",
       "    DER_deltar_tau_lep  DER_pt_tot  DER_sum_pt  ...  PRI_met_phi  \\\n",
       "0                3.064      41.928     197.760  ...       -0.277   \n",
       "5                1.362      61.619     278.876  ...        2.237   \n",
       "6                2.941       2.545     305.967  ...       -1.443   \n",
       "11               2.888      36.745     239.804  ...        2.148   \n",
       "23               1.335       6.663     440.859  ...       -0.973   \n",
       "27               1.795       0.367     309.992  ...       -1.173   \n",
       "29               1.261      23.290     239.330  ...        1.150   \n",
       "31               1.148      31.017     412.518  ...       -2.769   \n",
       "32               2.745       6.580     203.080  ...        1.204   \n",
       "33               2.825       9.732     184.194  ...       -1.209   \n",
       "\n",
       "    PRI_met_sumet  PRI_jet_num  PRI_jet_leading_pt  PRI_jet_leading_eta  \\\n",
       "0         258.733            2              67.435                2.150   \n",
       "5         282.849            3              90.547               -2.412   \n",
       "6         294.074            2             123.010                0.864   \n",
       "11        290.547            3              76.773               -0.790   \n",
       "23        454.785            2             195.533                1.156   \n",
       "27        289.876            2             170.712               -1.961   \n",
       "29        357.815            2              80.627                0.993   \n",
       "31        515.415            3             182.449                1.383   \n",
       "32        199.861            2              81.170                3.102   \n",
       "33        309.430            2              71.127                2.177   \n",
       "\n",
       "    PRI_jet_leading_phi  PRI_jet_subleading_pt  PRI_jet_subleading_eta  \\\n",
       "0                 0.444                 46.062                   1.240   \n",
       "5                -0.653                 56.165                   0.224   \n",
       "6                 1.450                 56.867                   0.131   \n",
       "11                0.303                 56.876                   1.773   \n",
       "23                1.416                 82.477                  -0.798   \n",
       "27                2.220                 43.458                   2.974   \n",
       "29               -2.018                 32.625                  -2.683   \n",
       "31                0.001                 38.006                  -1.257   \n",
       "32               -0.977                 55.092                  -1.985   \n",
       "33                0.558                 32.515                  -0.983   \n",
       "\n",
       "    PRI_jet_subleading_phi  PRI_jet_all_pt  \n",
       "0                   -2.475         113.497  \n",
       "5                    3.106         193.660  \n",
       "6                   -2.767         179.877  \n",
       "11                  -2.079         165.640  \n",
       "23                  -2.785         278.009  \n",
       "27                  -0.103         214.170  \n",
       "29                  -1.467         113.252  \n",
       "31                  -0.609         253.461  \n",
       "32                   3.065         136.262  \n",
       "33                  -2.628         103.642  \n",
       "\n",
       "[10 rows x 30 columns]"
      ]
     },
     "execution_count": 37,
     "metadata": {},
     "output_type": "execute_result"
    }
   ],
   "source": [
    "X_2jets.head(10)"
   ]
  },
  {
   "cell_type": "code",
   "execution_count": 38,
   "metadata": {},
   "outputs": [
    {
     "name": "stderr",
     "output_type": "stream",
     "text": [
      "C:\\Users\\flori\\Anaconda3\\lib\\site-packages\\sklearn\\preprocessing\\data.py:334: DataConversionWarning: Data with input dtype int64, float64 were all converted to float64 by MinMaxScaler.\n",
      "  return self.partial_fit(X, y)\n"
     ]
    }
   ],
   "source": [
    "minmax_2jets = MinMaxScaler(feature_range=(-1,1))\n",
    "minmax_2jets.fit(X_2jets)\n",
    "X_2jets_minmax = minmax_2jets.transform(X_2jets)"
   ]
  },
  {
   "cell_type": "code",
   "execution_count": 39,
   "metadata": {},
   "outputs": [
    {
     "name": "stdout",
     "output_type": "stream",
     "text": [
      "Model: \"sequential_4\"\n",
      "_________________________________________________________________\n",
      "Layer (type)                 Output Shape              Param #   \n",
      "=================================================================\n",
      "dense_22 (Dense)             (None, 128)               3968      \n",
      "_________________________________________________________________\n",
      "activation_22 (Activation)   (None, 128)               0         \n",
      "_________________________________________________________________\n",
      "dense_23 (Dense)             (None, 64)                8256      \n",
      "_________________________________________________________________\n",
      "activation_23 (Activation)   (None, 64)                0         \n",
      "_________________________________________________________________\n",
      "dense_24 (Dense)             (None, 32)                2080      \n",
      "_________________________________________________________________\n",
      "activation_24 (Activation)   (None, 32)                0         \n",
      "_________________________________________________________________\n",
      "dense_25 (Dense)             (None, 16)                528       \n",
      "_________________________________________________________________\n",
      "activation_25 (Activation)   (None, 16)                0         \n",
      "_________________________________________________________________\n",
      "dense_26 (Dense)             (None, 8)                 136       \n",
      "_________________________________________________________________\n",
      "activation_26 (Activation)   (None, 8)                 0         \n",
      "_________________________________________________________________\n",
      "dense_27 (Dense)             (None, 4)                 36        \n",
      "_________________________________________________________________\n",
      "activation_27 (Activation)   (None, 4)                 0         \n",
      "_________________________________________________________________\n",
      "dense_28 (Dense)             (None, 2)                 10        \n",
      "_________________________________________________________________\n",
      "activation_28 (Activation)   (None, 2)                 0         \n",
      "=================================================================\n",
      "Total params: 15,014\n",
      "Trainable params: 15,014\n",
      "Non-trainable params: 0\n",
      "_________________________________________________________________\n"
     ]
    }
   ],
   "source": [
    "model_3 = Sequential()\n",
    "model_3.add(Dense(128, input_dim=30))\n",
    "model_3.add(Activation('relu'))\n",
    "model_3.add(Dense(64))\n",
    "model_3.add(Activation('relu'))\n",
    "model_3.add(Dense(32))\n",
    "model_3.add(Activation('relu'))\n",
    "model_3.add(Dense(16))\n",
    "model_3.add(Activation('relu'))\n",
    "model_3.add(Dense(8))\n",
    "model_3.add(Activation('relu'))\n",
    "model_3.add(Dense(4))\n",
    "model_3.add(Activation('relu'))\n",
    "model_3.add(Dense(2))\n",
    "model_3.add(Activation('softmax'))\n",
    "\n",
    "model_3.summary()"
   ]
  },
  {
   "cell_type": "code",
   "execution_count": 40,
   "metadata": {},
   "outputs": [],
   "source": [
    "model_3.compile(optimizer='rmsprop',\n",
    "              loss='binary_crossentropy',\n",
    "              metrics=['accuracy'])"
   ]
  },
  {
   "cell_type": "code",
   "execution_count": 41,
   "metadata": {},
   "outputs": [
    {
     "data": {
      "text/plain": [
       "72543"
      ]
     },
     "execution_count": 41,
     "metadata": {},
     "output_type": "execute_result"
    }
   ],
   "source": [
    "y_train_2jets = y_train[ X['PRI_jet_num']>=2 ]\n",
    "len(y_train_2jets)"
   ]
  },
  {
   "cell_type": "code",
   "execution_count": 85,
   "metadata": {},
   "outputs": [
    {
     "data": {
      "text/plain": [
       "29046"
      ]
     },
     "execution_count": 85,
     "metadata": {},
     "output_type": "execute_result"
    }
   ],
   "source": [
    "y_val_2jets = y_val[ X_val['PRI_jet_num']>=2 ]\n",
    "len(y_val_2jets)"
   ]
  },
  {
   "cell_type": "code",
   "execution_count": 42,
   "metadata": {},
   "outputs": [
    {
     "name": "stdout",
     "output_type": "stream",
     "text": [
      "Epoch 1/20\n",
      "72543/72543 [==============================] - 1s 20us/step - loss: 0.5635 - accuracy: 0.7109\n",
      "Epoch 2/20\n",
      "72543/72543 [==============================] - 1s 18us/step - loss: 0.5157 - accuracy: 0.7412\n",
      "Epoch 3/20\n",
      "72543/72543 [==============================] - 1s 17us/step - loss: 0.4815 - accuracy: 0.7636\n",
      "Epoch 4/20\n",
      "72543/72543 [==============================] - 1s 16us/step - loss: 0.4568 - accuracy: 0.7804\n",
      "Epoch 5/20\n",
      "72543/72543 [==============================] - 1s 16us/step - loss: 0.4395 - accuracy: 0.7919\n",
      "Epoch 6/20\n",
      "72543/72543 [==============================] - 1s 16us/step - loss: 0.4242 - accuracy: 0.8012\n",
      "Epoch 7/20\n",
      "72543/72543 [==============================] - 1s 19us/step - loss: 0.4099 - accuracy: 0.8108\n",
      "Epoch 8/20\n",
      "72543/72543 [==============================] - 1s 17us/step - loss: 0.4005 - accuracy: 0.8162\n",
      "Epoch 9/20\n",
      "72543/72543 [==============================] - 1s 18us/step - loss: 0.3932 - accuracy: 0.8211\n",
      "Epoch 10/20\n",
      "72543/72543 [==============================] - 1s 19us/step - loss: 0.3897 - accuracy: 0.8229\n",
      "Epoch 11/20\n",
      "72543/72543 [==============================] - 1s 19us/step - loss: 0.3820 - accuracy: 0.8261\n",
      "Epoch 12/20\n",
      "72543/72543 [==============================] - 1s 18us/step - loss: 0.3801 - accuracy: 0.8275\n",
      "Epoch 13/20\n",
      "72543/72543 [==============================] - 1s 20us/step - loss: 0.3751 - accuracy: 0.8301\n",
      "Epoch 14/20\n",
      "72543/72543 [==============================] - 1s 19us/step - loss: 0.3702 - accuracy: 0.8336\n",
      "Epoch 15/20\n",
      "72543/72543 [==============================] - 1s 19us/step - loss: 0.3682 - accuracy: 0.8350\n",
      "Epoch 16/20\n",
      "72543/72543 [==============================] - 1s 19us/step - loss: 0.3653 - accuracy: 0.8363\n",
      "Epoch 17/20\n",
      "72543/72543 [==============================] - 1s 20us/step - loss: 0.3638 - accuracy: 0.8372\n",
      "Epoch 18/20\n",
      "72543/72543 [==============================] - 1s 20us/step - loss: 0.3601 - accuracy: 0.8397\n",
      "Epoch 19/20\n",
      "72543/72543 [==============================] - 1s 19us/step - loss: 0.3603 - accuracy: 0.8386\n",
      "Epoch 20/20\n",
      "72543/72543 [==============================] - 2s 27us/step - loss: 0.3575 - accuracy: 0.8414\n"
     ]
    },
    {
     "data": {
      "text/plain": [
       "<keras.callbacks.callbacks.History at 0x1a65a711eb8>"
      ]
     },
     "execution_count": 42,
     "metadata": {},
     "output_type": "execute_result"
    }
   ],
   "source": [
    "model_3.fit(X_2jets_minmax, y_train_2jets, epochs=20, batch_size=256)"
   ]
  },
  {
   "cell_type": "markdown",
   "metadata": {},
   "source": [
    "## Try using VBF cuts"
   ]
  },
  {
   "cell_type": "markdown",
   "metadata": {},
   "source": [
    "ATLAS said, they used only the events for the VBF category, having  \n",
    "+ At least two jets with $p_{j1,T}>50$ GeV and $p_{j2,T}$ >30 GeV\n",
    "+ $∆η(j_1, j_2)$ > 3.0\n",
    "+ $m_{vis}^{ττ}$ > 40 GeV\n",
    "\n",
    "I will now see if there are many events in the upper set with two jets that do not pass the criteria."
   ]
  },
  {
   "cell_type": "code",
   "execution_count": 43,
   "metadata": {},
   "outputs": [
    {
     "data": {
      "text/plain": [
       "21257"
      ]
     },
     "execution_count": 43,
     "metadata": {},
     "output_type": "execute_result"
    }
   ],
   "source": [
    "X_VBF = X_2jets [ (X_2jets['PRI_jet_leading_pt'] >= 50) & (X_2jets['PRI_jet_subleading_pt'] >= 30) & (X_2jets['DER_deltaeta_jet_jet'] >= 3) & (X_2jets['DER_mass_vis']>=40) ]\n",
    "\n",
    "len(X_VBF)"
   ]
  },
  {
   "cell_type": "code",
   "execution_count": 86,
   "metadata": {},
   "outputs": [
    {
     "data": {
      "text/plain": [
       "8489"
      ]
     },
     "execution_count": 86,
     "metadata": {},
     "output_type": "execute_result"
    }
   ],
   "source": [
    "X_val_VBF = X_val_2jets [ (X_val_2jets['PRI_jet_leading_pt'] >= 50) & (X_val_2jets['PRI_jet_subleading_pt'] >= 30) & (X_val_2jets['DER_deltaeta_jet_jet'] >= 3) & (X_val_2jets['DER_mass_vis']>=40) ]\n",
    "\n",
    "len(X_val_VBF)"
   ]
  },
  {
   "cell_type": "markdown",
   "metadata": {},
   "source": [
    "The events that ATLAS used for VBF category are only a small part of the 2-jets sample. I will try the same easy procedure here."
   ]
  },
  {
   "cell_type": "code",
   "execution_count": 44,
   "metadata": {},
   "outputs": [
    {
     "data": {
      "text/plain": [
       "21257"
      ]
     },
     "execution_count": 44,
     "metadata": {},
     "output_type": "execute_result"
    }
   ],
   "source": [
    "y_train_VBF = y_train_2jets [ (X_2jets['PRI_jet_leading_pt'] >= 50) & (X_2jets['PRI_jet_subleading_pt'] >= 30) & (X_2jets['DER_deltaeta_jet_jet'] >= 3) & (X_2jets['DER_mass_vis']>=40) ]\n",
    "len(y_train_VBF)"
   ]
  },
  {
   "cell_type": "code",
   "execution_count": 87,
   "metadata": {},
   "outputs": [
    {
     "data": {
      "text/plain": [
       "8489"
      ]
     },
     "execution_count": 87,
     "metadata": {},
     "output_type": "execute_result"
    }
   ],
   "source": [
    "y_val_VBF = y_val_2jets [ (X_val_2jets['PRI_jet_leading_pt'] >= 50) & (X_val_2jets['PRI_jet_subleading_pt'] >= 30) & (X_val_2jets['DER_deltaeta_jet_jet'] >= 3) & (X_val_2jets['DER_mass_vis']>=40) ]\n",
    "len(y_val_VBF)"
   ]
  },
  {
   "cell_type": "code",
   "execution_count": 88,
   "metadata": {},
   "outputs": [
    {
     "name": "stderr",
     "output_type": "stream",
     "text": [
      "C:\\Users\\flori\\Anaconda3\\lib\\site-packages\\sklearn\\preprocessing\\data.py:334: DataConversionWarning: Data with input dtype int64, float64 were all converted to float64 by MinMaxScaler.\n",
      "  return self.partial_fit(X, y)\n"
     ]
    }
   ],
   "source": [
    "minmax_VBF = MinMaxScaler(feature_range=(-1,1))\n",
    "minmax_VBF.fit(X_VBF)\n",
    "X_VBF_minmax = minmax_VBF.transform(X_VBF)\n",
    "X_val_VBF_minmax = minmax_VBF.transform(X_val_VBF)"
   ]
  },
  {
   "cell_type": "code",
   "execution_count": 46,
   "metadata": {},
   "outputs": [
    {
     "name": "stdout",
     "output_type": "stream",
     "text": [
      "Model: \"sequential_5\"\n",
      "_________________________________________________________________\n",
      "Layer (type)                 Output Shape              Param #   \n",
      "=================================================================\n",
      "dense_29 (Dense)             (None, 128)               3968      \n",
      "_________________________________________________________________\n",
      "activation_29 (Activation)   (None, 128)               0         \n",
      "_________________________________________________________________\n",
      "dense_30 (Dense)             (None, 64)                8256      \n",
      "_________________________________________________________________\n",
      "activation_30 (Activation)   (None, 64)                0         \n",
      "_________________________________________________________________\n",
      "dense_31 (Dense)             (None, 32)                2080      \n",
      "_________________________________________________________________\n",
      "activation_31 (Activation)   (None, 32)                0         \n",
      "_________________________________________________________________\n",
      "dense_32 (Dense)             (None, 16)                528       \n",
      "_________________________________________________________________\n",
      "activation_32 (Activation)   (None, 16)                0         \n",
      "_________________________________________________________________\n",
      "dense_33 (Dense)             (None, 8)                 136       \n",
      "_________________________________________________________________\n",
      "activation_33 (Activation)   (None, 8)                 0         \n",
      "_________________________________________________________________\n",
      "dense_34 (Dense)             (None, 4)                 36        \n",
      "_________________________________________________________________\n",
      "activation_34 (Activation)   (None, 4)                 0         \n",
      "_________________________________________________________________\n",
      "dense_35 (Dense)             (None, 2)                 10        \n",
      "_________________________________________________________________\n",
      "activation_35 (Activation)   (None, 2)                 0         \n",
      "=================================================================\n",
      "Total params: 15,014\n",
      "Trainable params: 15,014\n",
      "Non-trainable params: 0\n",
      "_________________________________________________________________\n"
     ]
    }
   ],
   "source": [
    "model_4 = Sequential()\n",
    "model_4.add(Dense(128, input_dim=30))\n",
    "model_4.add(Activation('relu'))\n",
    "model_4.add(Dense(64))\n",
    "model_4.add(Activation('relu'))\n",
    "model_4.add(Dense(32))\n",
    "model_4.add(Activation('relu'))\n",
    "model_4.add(Dense(16))\n",
    "model_4.add(Activation('relu'))\n",
    "model_4.add(Dense(8))\n",
    "model_4.add(Activation('relu'))\n",
    "model_4.add(Dense(4))\n",
    "model_4.add(Activation('relu'))\n",
    "model_4.add(Dense(2))\n",
    "model_4.add(Activation('softmax'))\n",
    "\n",
    "model_4.summary()"
   ]
  },
  {
   "cell_type": "code",
   "execution_count": 47,
   "metadata": {},
   "outputs": [],
   "source": [
    "model_4.compile(optimizer='rmsprop',\n",
    "              loss='binary_crossentropy',\n",
    "              metrics=['accuracy'])"
   ]
  },
  {
   "cell_type": "code",
   "execution_count": 48,
   "metadata": {},
   "outputs": [
    {
     "name": "stdout",
     "output_type": "stream",
     "text": [
      "Epoch 1/20\n",
      "21257/21257 [==============================] - 1s 27us/step - loss: 0.5515 - accuracy: 0.7502\n",
      "Epoch 2/20\n",
      "21257/21257 [==============================] - 0s 20us/step - loss: 0.4805 - accuracy: 0.7761\n",
      "Epoch 3/20\n",
      "21257/21257 [==============================] - 0s 18us/step - loss: 0.4686 - accuracy: 0.7826\n",
      "Epoch 4/20\n",
      "21257/21257 [==============================] - 0s 19us/step - loss: 0.4621 - accuracy: 0.7842\n",
      "Epoch 5/20\n",
      "21257/21257 [==============================] - 0s 20us/step - loss: 0.4554 - accuracy: 0.7889\n",
      "Epoch 6/20\n",
      "21257/21257 [==============================] - 0s 20us/step - loss: 0.4436 - accuracy: 0.7961\n",
      "Epoch 7/20\n",
      "21257/21257 [==============================] - 0s 20us/step - loss: 0.4367 - accuracy: 0.8006\n",
      "Epoch 8/20\n",
      "21257/21257 [==============================] - 0s 19us/step - loss: 0.4257 - accuracy: 0.8070\n",
      "Epoch 9/20\n",
      "21257/21257 [==============================] - 0s 19us/step - loss: 0.4134 - accuracy: 0.8113\n",
      "Epoch 10/20\n",
      "21257/21257 [==============================] - 0s 22us/step - loss: 0.4080 - accuracy: 0.8173 0s - loss: 0.4134 - \n",
      "Epoch 11/20\n",
      "21257/21257 [==============================] - 0s 20us/step - loss: 0.3975 - accuracy: 0.8231\n",
      "Epoch 12/20\n",
      "21257/21257 [==============================] - 0s 20us/step - loss: 0.3924 - accuracy: 0.8255\n",
      "Epoch 13/20\n",
      "21257/21257 [==============================] - 0s 20us/step - loss: 0.3858 - accuracy: 0.8294\n",
      "Epoch 14/20\n",
      "21257/21257 [==============================] - 0s 19us/step - loss: 0.3786 - accuracy: 0.8314\n",
      "Epoch 15/20\n",
      "21257/21257 [==============================] - 0s 23us/step - loss: 0.3727 - accuracy: 0.8354\n",
      "Epoch 16/20\n",
      "21257/21257 [==============================] - 1s 25us/step - loss: 0.3693 - accuracy: 0.8387\n",
      "Epoch 17/20\n",
      "21257/21257 [==============================] - 1s 26us/step - loss: 0.3650 - accuracy: 0.8416\n",
      "Epoch 18/20\n",
      "21257/21257 [==============================] - 0s 21us/step - loss: 0.3526 - accuracy: 0.8488\n",
      "Epoch 19/20\n",
      "21257/21257 [==============================] - 0s 19us/step - loss: 0.3543 - accuracy: 0.8471\n",
      "Epoch 20/20\n",
      "21257/21257 [==============================] - 0s 21us/step - loss: 0.3523 - accuracy: 0.8459\n"
     ]
    },
    {
     "data": {
      "text/plain": [
       "<keras.callbacks.callbacks.History at 0x1a65d8acf98>"
      ]
     },
     "execution_count": 48,
     "metadata": {},
     "output_type": "execute_result"
    }
   ],
   "source": [
    "model_4.fit(X_VBF_minmax, y_train_VBF, epochs=20, batch_size=256)"
   ]
  },
  {
   "cell_type": "markdown",
   "metadata": {},
   "source": [
    "The VBF selection by ATLAS leads to a better classification! (But I'm not sure if we should use their criteria?!)"
   ]
  },
  {
   "cell_type": "markdown",
   "metadata": {},
   "source": [
    "Just trying a deeper network:"
   ]
  },
  {
   "cell_type": "code",
   "execution_count": 75,
   "metadata": {},
   "outputs": [
    {
     "name": "stdout",
     "output_type": "stream",
     "text": [
      "Model: \"sequential_13\"\n",
      "_________________________________________________________________\n",
      "Layer (type)                 Output Shape              Param #   \n",
      "=================================================================\n",
      "dense_99 (Dense)             (None, 512)               15872     \n",
      "_________________________________________________________________\n",
      "activation_99 (Activation)   (None, 512)               0         \n",
      "_________________________________________________________________\n",
      "dense_100 (Dense)            (None, 256)               131328    \n",
      "_________________________________________________________________\n",
      "activation_100 (Activation)  (None, 256)               0         \n",
      "_________________________________________________________________\n",
      "dense_101 (Dense)            (None, 128)               32896     \n",
      "_________________________________________________________________\n",
      "activation_101 (Activation)  (None, 128)               0         \n",
      "_________________________________________________________________\n",
      "dense_102 (Dense)            (None, 64)                8256      \n",
      "_________________________________________________________________\n",
      "activation_102 (Activation)  (None, 64)                0         \n",
      "_________________________________________________________________\n",
      "dense_103 (Dense)            (None, 32)                2080      \n",
      "_________________________________________________________________\n",
      "activation_103 (Activation)  (None, 32)                0         \n",
      "_________________________________________________________________\n",
      "dense_104 (Dense)            (None, 16)                528       \n",
      "_________________________________________________________________\n",
      "activation_104 (Activation)  (None, 16)                0         \n",
      "_________________________________________________________________\n",
      "dense_105 (Dense)            (None, 8)                 136       \n",
      "_________________________________________________________________\n",
      "activation_105 (Activation)  (None, 8)                 0         \n",
      "_________________________________________________________________\n",
      "dense_106 (Dense)            (None, 4)                 36        \n",
      "_________________________________________________________________\n",
      "activation_106 (Activation)  (None, 4)                 0         \n",
      "_________________________________________________________________\n",
      "dense_107 (Dense)            (None, 2)                 10        \n",
      "_________________________________________________________________\n",
      "activation_107 (Activation)  (None, 2)                 0         \n",
      "=================================================================\n",
      "Total params: 191,142\n",
      "Trainable params: 191,142\n",
      "Non-trainable params: 0\n",
      "_________________________________________________________________\n"
     ]
    }
   ],
   "source": [
    "model_5 = Sequential()\n",
    "model_5.add(Dense(512, input_dim=30))\n",
    "model_5.add(Activation('relu'))\n",
    "model_5.add(Dense(256))\n",
    "model_5.add(Activation('relu'))\n",
    "model_5.add(Dense(128))\n",
    "model_5.add(Activation('relu'))\n",
    "model_5.add(Dense(64))\n",
    "model_5.add(Activation('relu'))\n",
    "model_5.add(Dense(32))\n",
    "model_5.add(Activation('relu'))\n",
    "model_5.add(Dense(16))\n",
    "model_5.add(Activation('relu'))\n",
    "model_5.add(Dense(8))\n",
    "model_5.add(Activation('relu'))\n",
    "model_5.add(Dense(4))\n",
    "model_5.add(Activation('relu'))\n",
    "model_5.add(Dense(2))\n",
    "model_5.add(Activation('softmax'))\n",
    "\n",
    "model_5.summary()"
   ]
  },
  {
   "cell_type": "code",
   "execution_count": 76,
   "metadata": {},
   "outputs": [],
   "source": [
    "model_5.compile(optimizer='Adam',\n",
    "              loss='binary_crossentropy',\n",
    "              metrics=['accuracy'])"
   ]
  },
  {
   "cell_type": "code",
   "execution_count": 77,
   "metadata": {},
   "outputs": [
    {
     "name": "stdout",
     "output_type": "stream",
     "text": [
      "Epoch 1/50\n",
      "21257/21257 [==============================] - 1s 48us/step - loss: 0.4886 - accuracy: 0.7649\n",
      "Epoch 2/50\n",
      "21257/21257 [==============================] - 1s 42us/step - loss: 0.4474 - accuracy: 0.7894\n",
      "Epoch 3/50\n",
      "21257/21257 [==============================] - 1s 43us/step - loss: 0.4298 - accuracy: 0.8037\n",
      "Epoch 4/50\n",
      "21257/21257 [==============================] - 1s 51us/step - loss: 0.3934 - accuracy: 0.8208\n",
      "Epoch 5/50\n",
      "21257/21257 [==============================] - 1s 49us/step - loss: 0.3684 - accuracy: 0.8384\n",
      "Epoch 6/50\n",
      "21257/21257 [==============================] - 1s 48us/step - loss: 0.3540 - accuracy: 0.8451\n",
      "Epoch 7/50\n",
      "21257/21257 [==============================] - 1s 63us/step - loss: 0.3368 - accuracy: 0.8536\n",
      "Epoch 8/50\n",
      "21257/21257 [==============================] - 1s 65us/step - loss: 0.3229 - accuracy: 0.8604\n",
      "Epoch 9/50\n",
      "21257/21257 [==============================] - 1s 43us/step - loss: 0.3183 - accuracy: 0.8644\n",
      "Epoch 10/50\n",
      "21257/21257 [==============================] - 1s 41us/step - loss: 0.3091 - accuracy: 0.8669\n",
      "Epoch 11/50\n",
      "21257/21257 [==============================] - 1s 43us/step - loss: 0.2935 - accuracy: 0.8767\n",
      "Epoch 12/50\n",
      "21257/21257 [==============================] - 1s 41us/step - loss: 0.2866 - accuracy: 0.8789\n",
      "Epoch 13/50\n",
      "21257/21257 [==============================] - 1s 41us/step - loss: 0.2864 - accuracy: 0.8796\n",
      "Epoch 14/50\n",
      "21257/21257 [==============================] - 1s 42us/step - loss: 0.2775 - accuracy: 0.8841\n",
      "Epoch 15/50\n",
      "21257/21257 [==============================] - 1s 42us/step - loss: 0.2693 - accuracy: 0.8869\n",
      "Epoch 16/50\n",
      "21257/21257 [==============================] - 1s 43us/step - loss: 0.2682 - accuracy: 0.8886\n",
      "Epoch 17/50\n",
      "21257/21257 [==============================] - 1s 42us/step - loss: 0.2815 - accuracy: 0.8768\n",
      "Epoch 18/50\n",
      "21257/21257 [==============================] - 1s 44us/step - loss: 0.2695 - accuracy: 0.8877\n",
      "Epoch 19/50\n",
      "21257/21257 [==============================] - 1s 44us/step - loss: 0.2484 - accuracy: 0.8954\n",
      "Epoch 20/50\n",
      "21257/21257 [==============================] - 1s 42us/step - loss: 0.2446 - accuracy: 0.8997\n",
      "Epoch 21/50\n",
      "21257/21257 [==============================] - 1s 43us/step - loss: 0.2521 - accuracy: 0.8943\n",
      "Epoch 22/50\n",
      "21257/21257 [==============================] - 1s 61us/step - loss: 0.2398 - accuracy: 0.9006\n",
      "Epoch 23/50\n",
      "21257/21257 [==============================] - 1s 48us/step - loss: 0.2357 - accuracy: 0.9011\n",
      "Epoch 24/50\n",
      "21257/21257 [==============================] - 1s 43us/step - loss: 0.2468 - accuracy: 0.8951\n",
      "Epoch 25/50\n",
      "21257/21257 [==============================] - 1s 44us/step - loss: 0.2307 - accuracy: 0.9035\n",
      "Epoch 26/50\n",
      "21257/21257 [==============================] - 1s 44us/step - loss: 0.2258 - accuracy: 0.9074\n",
      "Epoch 27/50\n",
      "21257/21257 [==============================] - 1s 52us/step - loss: 0.2124 - accuracy: 0.9113\n",
      "Epoch 28/50\n",
      "21257/21257 [==============================] - 1s 45us/step - loss: 0.2097 - accuracy: 0.9135\n",
      "Epoch 29/50\n",
      "21257/21257 [==============================] - 1s 43us/step - loss: 0.1983 - accuracy: 0.9179\n",
      "Epoch 30/50\n",
      "21257/21257 [==============================] - 1s 44us/step - loss: 0.2003 - accuracy: 0.9171\n",
      "Epoch 31/50\n",
      "21257/21257 [==============================] - 1s 43us/step - loss: 0.1994 - accuracy: 0.9167\n",
      "Epoch 32/50\n",
      "21257/21257 [==============================] - 1s 50us/step - loss: 0.1916 - accuracy: 0.9215\n",
      "Epoch 33/50\n",
      "21257/21257 [==============================] - 1s 43us/step - loss: 0.1875 - accuracy: 0.9229\n",
      "Epoch 34/50\n",
      "21257/21257 [==============================] - 1s 42us/step - loss: 0.1825 - accuracy: 0.9247\n",
      "Epoch 35/50\n",
      "21257/21257 [==============================] - 1s 43us/step - loss: 0.1911 - accuracy: 0.9206\n",
      "Epoch 36/50\n",
      "21257/21257 [==============================] - 1s 47us/step - loss: 0.1703 - accuracy: 0.9323\n",
      "Epoch 37/50\n",
      "21257/21257 [==============================] - 1s 43us/step - loss: 0.1728 - accuracy: 0.9279\n",
      "Epoch 38/50\n",
      "21257/21257 [==============================] - 1s 43us/step - loss: 0.1706 - accuracy: 0.9304\n",
      "Epoch 39/50\n",
      "21257/21257 [==============================] - 1s 42us/step - loss: 0.1592 - accuracy: 0.9358 0s - los\n",
      "Epoch 40/50\n",
      "21257/21257 [==============================] - 1s 43us/step - loss: 0.1432 - accuracy: 0.9417\n",
      "Epoch 41/50\n",
      "21257/21257 [==============================] - 1s 43us/step - loss: 0.1476 - accuracy: 0.9397\n",
      "Epoch 42/50\n",
      "21257/21257 [==============================] - 1s 43us/step - loss: 0.1343 - accuracy: 0.9460\n",
      "Epoch 43/50\n",
      "21257/21257 [==============================] - 1s 42us/step - loss: 0.1674 - accuracy: 0.9333\n",
      "Epoch 44/50\n",
      "21257/21257 [==============================] - 1s 45us/step - loss: 0.1316 - accuracy: 0.9461\n",
      "Epoch 45/50\n",
      "21257/21257 [==============================] - 1s 44us/step - loss: 0.1328 - accuracy: 0.9460\n",
      "Epoch 46/50\n",
      "21257/21257 [==============================] - 1s 45us/step - loss: 0.1294 - accuracy: 0.9487\n",
      "Epoch 47/50\n",
      "21257/21257 [==============================] - 1s 48us/step - loss: 0.1373 - accuracy: 0.9456\n",
      "Epoch 48/50\n",
      "21257/21257 [==============================] - 1s 43us/step - loss: 0.1917 - accuracy: 0.9235\n",
      "Epoch 49/50\n",
      "21257/21257 [==============================] - 1s 44us/step - loss: 0.1229 - accuracy: 0.9499\n",
      "Epoch 50/50\n",
      "21257/21257 [==============================] - 1s 42us/step - loss: 0.1129 - accuracy: 0.9554\n"
     ]
    },
    {
     "data": {
      "text/plain": [
       "<keras.callbacks.callbacks.History at 0x1a663e48240>"
      ]
     },
     "execution_count": 77,
     "metadata": {},
     "output_type": "execute_result"
    }
   ],
   "source": [
    "model_5.fit(X_VBF_minmax, y_train_VBF, epochs=50, batch_size=256)"
   ]
  },
  {
   "cell_type": "code",
   "execution_count": 106,
   "metadata": {},
   "outputs": [],
   "source": [
    "y_pred = model_5.predict(X_val_VBF_minmax)"
   ]
  },
  {
   "cell_type": "code",
   "execution_count": 107,
   "metadata": {},
   "outputs": [
    {
     "data": {
      "text/plain": [
       "array([[1.4524959e-01, 8.5475045e-01],\n",
       "       [4.6461681e-01, 5.3538322e-01],\n",
       "       [5.0377105e-07, 9.9999952e-01],\n",
       "       ...,\n",
       "       [5.4415882e-11, 1.0000000e+00],\n",
       "       [1.2036241e-02, 9.8796380e-01],\n",
       "       [6.1196119e-02, 9.3880391e-01]], dtype=float32)"
      ]
     },
     "execution_count": 107,
     "metadata": {},
     "output_type": "execute_result"
    }
   ],
   "source": [
    "y_pred"
   ]
  },
  {
   "cell_type": "code",
   "execution_count": 105,
   "metadata": {},
   "outputs": [
    {
     "data": {
      "text/plain": [
       "(array([ 593.,    0., 7206.,    0.,  690.]),\n",
       " array([-1. , -0.6, -0.2,  0.2,  0.6,  1. ]),\n",
       " <a list of 5 Patch objects>)"
      ]
     },
     "execution_count": 105,
     "metadata": {},
     "output_type": "execute_result"
    },
    {
     "data": {
      "image/png": "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\n",
      "text/plain": [
       "<Figure size 432x288 with 1 Axes>"
      ]
     },
     "metadata": {
      "needs_background": "light"
     },
     "output_type": "display_data"
    }
   ],
   "source": [
    "plt.hist(np.argmax(y_pred, axis=1)-np.argmax(y_val_VBF, axis=1), bins=5)"
   ]
  }
 ],
 "metadata": {
  "kernelspec": {
   "display_name": "Python 3",
   "language": "python",
   "name": "python3"
  },
  "language_info": {
   "codemirror_mode": {
    "name": "ipython",
    "version": 3
   },
   "file_extension": ".py",
   "mimetype": "text/x-python",
   "name": "python",
   "nbconvert_exporter": "python",
   "pygments_lexer": "ipython3",
   "version": "3.6.9"
  }
 },
 "nbformat": 4,
 "nbformat_minor": 2
}
