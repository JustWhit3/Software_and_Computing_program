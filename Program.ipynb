
{
 "cells": [
  {
   "cell_type": "markdown",
   "metadata": {},
   "source": [
    "# Higgs Boson Machine Learning Classification"
   ]
  },
  {
   "cell_type": "markdown",
   "metadata": {},
   "source": [
    "## Let's import the main useful libraries"
   ]
  },
  {
   "cell_type": "code",
   "execution_count": 1,
   "metadata": {},
   "outputs": [],
   "source": [
    "import pandas as pd\n",
    "pd.options.display.max_columns = None #this lets pandas show all columns instead of '...'\n",
    "\n",
    "import numpy as np\n",
    "from matplotlib import pyplot as plt"
   ]
  },
  {
   "cell_type": "markdown",
   "metadata": {},
   "source": [
    "## Now let's have a look to the dataset"
   ]
  },
  {
   "cell_type": "code",
   "execution_count": 2,
   "metadata": {},
   "outputs": [],
   "source": [
    "data_full = pd.read_csv('dataset_higgs_challenge.csv')"
   ]
  },
  {
   "cell_type": "code",
   "execution_count": 3,
   "metadata": {},
   "outputs": [
    {
     "name": "stderr",
     "output_type": "stream",
     "text": [
      "/usr/lib/python3/dist-packages/ipykernel_launcher.py:1: SettingWithCopyWarning: \n",
      "A value is trying to be set on a copy of a slice from a DataFrame\n",
      "\n",
      "See the caveats in the documentation: https://pandas.pydata.org/pandas-docs/stable/user_guide/indexing.html#returning-a-view-versus-a-copy\n",
      "  \"\"\"Entry point for launching an IPython kernel.\n"
     ]
    }
   ],
   "source": [
    "data_full['DER_mass_MMC'][data_full['DER_mass_MMC']==-999.] = np.mean(data_full['DER_mass_MMC'][data_full['DER_mass_MMC']!=-999.])\n",
    "#setting the -999 value of MMC to the mean improved classification\n",
    "#data_full.head(20)"
   ]
  },
  {
   "cell_type": "code",
   "execution_count": 4,
   "metadata": {
    "scrolled": true
   },
   "outputs": [
    {
     "data": {
      "text/html": [
       "<div>\n",
       "<style scoped>\n",
       "    .dataframe tbody tr th:only-of-type {\n",
       "        vertical-align: middle;\n",
       "    }\n",
       "\n",
       "    .dataframe tbody tr th {\n",
       "        vertical-align: top;\n",
       "    }\n",
       "\n",
       "    .dataframe thead th {\n",
       "        text-align: right;\n",
       "    }\n",
       "</style>\n",
       "<table border=\"1\" class=\"dataframe\">\n",
       "  <thead>\n",
       "    <tr style=\"text-align: right;\">\n",
       "      <th></th>\n",
       "      <th>EventId</th>\n",
       "      <th>DER_mass_MMC</th>\n",
       "      <th>DER_mass_transverse_met_lep</th>\n",
       "      <th>DER_mass_vis</th>\n",
       "      <th>DER_pt_h</th>\n",
       "      <th>DER_deltaeta_jet_jet</th>\n",
       "      <th>DER_mass_jet_jet</th>\n",
       "      <th>DER_prodeta_jet_jet</th>\n",
       "      <th>DER_deltar_tau_lep</th>\n",
       "      <th>DER_pt_tot</th>\n",
       "      <th>DER_sum_pt</th>\n",
       "      <th>DER_pt_ratio_lep_tau</th>\n",
       "      <th>DER_met_phi_centrality</th>\n",
       "      <th>DER_lep_eta_centrality</th>\n",
       "      <th>PRI_tau_pt</th>\n",
       "      <th>PRI_tau_eta</th>\n",
       "      <th>PRI_tau_phi</th>\n",
       "      <th>PRI_lep_pt</th>\n",
       "      <th>PRI_lep_eta</th>\n",
       "      <th>PRI_lep_phi</th>\n",
       "      <th>PRI_met</th>\n",
       "      <th>PRI_met_phi</th>\n",
       "      <th>PRI_met_sumet</th>\n",
       "      <th>PRI_jet_num</th>\n",
       "      <th>PRI_jet_leading_pt</th>\n",
       "      <th>PRI_jet_leading_eta</th>\n",
       "      <th>PRI_jet_leading_phi</th>\n",
       "      <th>PRI_jet_subleading_pt</th>\n",
       "      <th>PRI_jet_subleading_eta</th>\n",
       "      <th>PRI_jet_subleading_phi</th>\n",
       "      <th>PRI_jet_all_pt</th>\n",
       "      <th>Weight</th>\n",
       "      <th>Label</th>\n",
       "      <th>KaggleSet</th>\n",
       "      <th>KaggleWeight</th>\n",
       "    </tr>\n",
       "  </thead>\n",
       "  <tbody>\n",
       "    <tr>\n",
       "      <th>0</th>\n",
       "      <td>100000</td>\n",
       "      <td>138.470000</td>\n",
       "      <td>51.655</td>\n",
       "      <td>97.827</td>\n",
       "      <td>27.980</td>\n",
       "      <td>0.910</td>\n",
       "      <td>124.711</td>\n",
       "      <td>2.666</td>\n",
       "      <td>3.064</td>\n",
       "      <td>41.928</td>\n",
       "      <td>197.760</td>\n",
       "      <td>1.582</td>\n",
       "      <td>1.396</td>\n",
       "      <td>0.200</td>\n",
       "      <td>32.638</td>\n",
       "      <td>1.017</td>\n",
       "      <td>0.381</td>\n",
       "      <td>51.626</td>\n",
       "      <td>2.273</td>\n",
       "      <td>-2.414</td>\n",
       "      <td>16.824</td>\n",
       "      <td>-0.277</td>\n",
       "      <td>258.733</td>\n",
       "      <td>2</td>\n",
       "      <td>67.435</td>\n",
       "      <td>2.150</td>\n",
       "      <td>0.444</td>\n",
       "      <td>46.062</td>\n",
       "      <td>1.240</td>\n",
       "      <td>-2.475</td>\n",
       "      <td>113.497</td>\n",
       "      <td>0.000814</td>\n",
       "      <td>s</td>\n",
       "      <td>t</td>\n",
       "      <td>0.002653</td>\n",
       "    </tr>\n",
       "    <tr>\n",
       "      <th>1</th>\n",
       "      <td>100001</td>\n",
       "      <td>160.937000</td>\n",
       "      <td>68.768</td>\n",
       "      <td>103.235</td>\n",
       "      <td>48.146</td>\n",
       "      <td>-999.000</td>\n",
       "      <td>-999.000</td>\n",
       "      <td>-999.000</td>\n",
       "      <td>3.473</td>\n",
       "      <td>2.078</td>\n",
       "      <td>125.157</td>\n",
       "      <td>0.879</td>\n",
       "      <td>1.414</td>\n",
       "      <td>-999.000</td>\n",
       "      <td>42.014</td>\n",
       "      <td>2.039</td>\n",
       "      <td>-3.011</td>\n",
       "      <td>36.918</td>\n",
       "      <td>0.501</td>\n",
       "      <td>0.103</td>\n",
       "      <td>44.704</td>\n",
       "      <td>-1.916</td>\n",
       "      <td>164.546</td>\n",
       "      <td>1</td>\n",
       "      <td>46.226</td>\n",
       "      <td>0.725</td>\n",
       "      <td>1.158</td>\n",
       "      <td>-999.000</td>\n",
       "      <td>-999.000</td>\n",
       "      <td>-999.000</td>\n",
       "      <td>46.226</td>\n",
       "      <td>0.681042</td>\n",
       "      <td>b</td>\n",
       "      <td>t</td>\n",
       "      <td>2.233584</td>\n",
       "    </tr>\n",
       "    <tr>\n",
       "      <th>2</th>\n",
       "      <td>100002</td>\n",
       "      <td>121.867697</td>\n",
       "      <td>162.172</td>\n",
       "      <td>125.953</td>\n",
       "      <td>35.635</td>\n",
       "      <td>-999.000</td>\n",
       "      <td>-999.000</td>\n",
       "      <td>-999.000</td>\n",
       "      <td>3.148</td>\n",
       "      <td>9.336</td>\n",
       "      <td>197.814</td>\n",
       "      <td>3.776</td>\n",
       "      <td>1.414</td>\n",
       "      <td>-999.000</td>\n",
       "      <td>32.154</td>\n",
       "      <td>-0.705</td>\n",
       "      <td>-2.093</td>\n",
       "      <td>121.409</td>\n",
       "      <td>-0.953</td>\n",
       "      <td>1.052</td>\n",
       "      <td>54.283</td>\n",
       "      <td>-2.186</td>\n",
       "      <td>260.414</td>\n",
       "      <td>1</td>\n",
       "      <td>44.251</td>\n",
       "      <td>2.053</td>\n",
       "      <td>-2.028</td>\n",
       "      <td>-999.000</td>\n",
       "      <td>-999.000</td>\n",
       "      <td>-999.000</td>\n",
       "      <td>44.251</td>\n",
       "      <td>0.715742</td>\n",
       "      <td>b</td>\n",
       "      <td>t</td>\n",
       "      <td>2.347389</td>\n",
       "    </tr>\n",
       "    <tr>\n",
       "      <th>3</th>\n",
       "      <td>100003</td>\n",
       "      <td>143.905000</td>\n",
       "      <td>81.417</td>\n",
       "      <td>80.943</td>\n",
       "      <td>0.414</td>\n",
       "      <td>-999.000</td>\n",
       "      <td>-999.000</td>\n",
       "      <td>-999.000</td>\n",
       "      <td>3.310</td>\n",
       "      <td>0.414</td>\n",
       "      <td>75.968</td>\n",
       "      <td>2.354</td>\n",
       "      <td>-1.285</td>\n",
       "      <td>-999.000</td>\n",
       "      <td>22.647</td>\n",
       "      <td>-1.655</td>\n",
       "      <td>0.010</td>\n",
       "      <td>53.321</td>\n",
       "      <td>-0.522</td>\n",
       "      <td>-3.100</td>\n",
       "      <td>31.082</td>\n",
       "      <td>0.060</td>\n",
       "      <td>86.062</td>\n",
       "      <td>0</td>\n",
       "      <td>-999.000</td>\n",
       "      <td>-999.000</td>\n",
       "      <td>-999.000</td>\n",
       "      <td>-999.000</td>\n",
       "      <td>-999.000</td>\n",
       "      <td>-999.000</td>\n",
       "      <td>-0.000</td>\n",
       "      <td>1.660654</td>\n",
       "      <td>b</td>\n",
       "      <td>t</td>\n",
       "      <td>5.446378</td>\n",
       "    </tr>\n",
       "    <tr>\n",
       "      <th>4</th>\n",
       "      <td>100004</td>\n",
       "      <td>175.864000</td>\n",
       "      <td>16.915</td>\n",
       "      <td>134.805</td>\n",
       "      <td>16.405</td>\n",
       "      <td>-999.000</td>\n",
       "      <td>-999.000</td>\n",
       "      <td>-999.000</td>\n",
       "      <td>3.891</td>\n",
       "      <td>16.405</td>\n",
       "      <td>57.983</td>\n",
       "      <td>1.056</td>\n",
       "      <td>-1.385</td>\n",
       "      <td>-999.000</td>\n",
       "      <td>28.209</td>\n",
       "      <td>-2.197</td>\n",
       "      <td>-2.231</td>\n",
       "      <td>29.774</td>\n",
       "      <td>0.798</td>\n",
       "      <td>1.569</td>\n",
       "      <td>2.723</td>\n",
       "      <td>-0.871</td>\n",
       "      <td>53.131</td>\n",
       "      <td>0</td>\n",
       "      <td>-999.000</td>\n",
       "      <td>-999.000</td>\n",
       "      <td>-999.000</td>\n",
       "      <td>-999.000</td>\n",
       "      <td>-999.000</td>\n",
       "      <td>-999.000</td>\n",
       "      <td>0.000</td>\n",
       "      <td>1.904263</td>\n",
       "      <td>b</td>\n",
       "      <td>t</td>\n",
       "      <td>6.245333</td>\n",
       "    </tr>\n",
       "    <tr>\n",
       "      <th>5</th>\n",
       "      <td>100005</td>\n",
       "      <td>89.744000</td>\n",
       "      <td>13.550</td>\n",
       "      <td>59.149</td>\n",
       "      <td>116.344</td>\n",
       "      <td>2.636</td>\n",
       "      <td>284.584</td>\n",
       "      <td>-0.540</td>\n",
       "      <td>1.362</td>\n",
       "      <td>61.619</td>\n",
       "      <td>278.876</td>\n",
       "      <td>0.588</td>\n",
       "      <td>0.479</td>\n",
       "      <td>0.975</td>\n",
       "      <td>53.651</td>\n",
       "      <td>0.371</td>\n",
       "      <td>1.329</td>\n",
       "      <td>31.565</td>\n",
       "      <td>-0.884</td>\n",
       "      <td>1.857</td>\n",
       "      <td>40.735</td>\n",
       "      <td>2.237</td>\n",
       "      <td>282.849</td>\n",
       "      <td>3</td>\n",
       "      <td>90.547</td>\n",
       "      <td>-2.412</td>\n",
       "      <td>-0.653</td>\n",
       "      <td>56.165</td>\n",
       "      <td>0.224</td>\n",
       "      <td>3.106</td>\n",
       "      <td>193.660</td>\n",
       "      <td>0.025434</td>\n",
       "      <td>b</td>\n",
       "      <td>t</td>\n",
       "      <td>0.083414</td>\n",
       "    </tr>\n",
       "    <tr>\n",
       "      <th>6</th>\n",
       "      <td>100006</td>\n",
       "      <td>148.754000</td>\n",
       "      <td>28.862</td>\n",
       "      <td>107.782</td>\n",
       "      <td>106.130</td>\n",
       "      <td>0.733</td>\n",
       "      <td>158.359</td>\n",
       "      <td>0.113</td>\n",
       "      <td>2.941</td>\n",
       "      <td>2.545</td>\n",
       "      <td>305.967</td>\n",
       "      <td>3.371</td>\n",
       "      <td>1.393</td>\n",
       "      <td>0.791</td>\n",
       "      <td>28.850</td>\n",
       "      <td>1.113</td>\n",
       "      <td>2.409</td>\n",
       "      <td>97.240</td>\n",
       "      <td>0.675</td>\n",
       "      <td>-0.966</td>\n",
       "      <td>38.421</td>\n",
       "      <td>-1.443</td>\n",
       "      <td>294.074</td>\n",
       "      <td>2</td>\n",
       "      <td>123.010</td>\n",
       "      <td>0.864</td>\n",
       "      <td>1.450</td>\n",
       "      <td>56.867</td>\n",
       "      <td>0.131</td>\n",
       "      <td>-2.767</td>\n",
       "      <td>179.877</td>\n",
       "      <td>0.000814</td>\n",
       "      <td>s</td>\n",
       "      <td>t</td>\n",
       "      <td>0.002653</td>\n",
       "    </tr>\n",
       "    <tr>\n",
       "      <th>7</th>\n",
       "      <td>100007</td>\n",
       "      <td>154.916000</td>\n",
       "      <td>10.418</td>\n",
       "      <td>94.714</td>\n",
       "      <td>29.169</td>\n",
       "      <td>-999.000</td>\n",
       "      <td>-999.000</td>\n",
       "      <td>-999.000</td>\n",
       "      <td>2.897</td>\n",
       "      <td>1.526</td>\n",
       "      <td>138.178</td>\n",
       "      <td>0.365</td>\n",
       "      <td>-1.305</td>\n",
       "      <td>-999.000</td>\n",
       "      <td>78.800</td>\n",
       "      <td>0.654</td>\n",
       "      <td>1.547</td>\n",
       "      <td>28.740</td>\n",
       "      <td>0.506</td>\n",
       "      <td>-1.347</td>\n",
       "      <td>22.275</td>\n",
       "      <td>-1.761</td>\n",
       "      <td>187.299</td>\n",
       "      <td>1</td>\n",
       "      <td>30.638</td>\n",
       "      <td>-0.715</td>\n",
       "      <td>-1.724</td>\n",
       "      <td>-999.000</td>\n",
       "      <td>-999.000</td>\n",
       "      <td>-999.000</td>\n",
       "      <td>30.638</td>\n",
       "      <td>0.005721</td>\n",
       "      <td>s</td>\n",
       "      <td>t</td>\n",
       "      <td>0.018636</td>\n",
       "    </tr>\n",
       "    <tr>\n",
       "      <th>8</th>\n",
       "      <td>100008</td>\n",
       "      <td>105.594000</td>\n",
       "      <td>50.559</td>\n",
       "      <td>100.989</td>\n",
       "      <td>4.288</td>\n",
       "      <td>-999.000</td>\n",
       "      <td>-999.000</td>\n",
       "      <td>-999.000</td>\n",
       "      <td>2.904</td>\n",
       "      <td>4.288</td>\n",
       "      <td>65.333</td>\n",
       "      <td>0.675</td>\n",
       "      <td>-1.366</td>\n",
       "      <td>-999.000</td>\n",
       "      <td>39.008</td>\n",
       "      <td>2.433</td>\n",
       "      <td>-2.532</td>\n",
       "      <td>26.325</td>\n",
       "      <td>0.210</td>\n",
       "      <td>1.884</td>\n",
       "      <td>37.791</td>\n",
       "      <td>0.024</td>\n",
       "      <td>129.804</td>\n",
       "      <td>0</td>\n",
       "      <td>-999.000</td>\n",
       "      <td>-999.000</td>\n",
       "      <td>-999.000</td>\n",
       "      <td>-999.000</td>\n",
       "      <td>-999.000</td>\n",
       "      <td>-999.000</td>\n",
       "      <td>0.000</td>\n",
       "      <td>1.614803</td>\n",
       "      <td>b</td>\n",
       "      <td>t</td>\n",
       "      <td>5.296003</td>\n",
       "    </tr>\n",
       "    <tr>\n",
       "      <th>9</th>\n",
       "      <td>100009</td>\n",
       "      <td>128.053000</td>\n",
       "      <td>88.941</td>\n",
       "      <td>69.272</td>\n",
       "      <td>193.392</td>\n",
       "      <td>-999.000</td>\n",
       "      <td>-999.000</td>\n",
       "      <td>-999.000</td>\n",
       "      <td>1.609</td>\n",
       "      <td>28.859</td>\n",
       "      <td>255.123</td>\n",
       "      <td>0.599</td>\n",
       "      <td>0.538</td>\n",
       "      <td>-999.000</td>\n",
       "      <td>54.646</td>\n",
       "      <td>-1.533</td>\n",
       "      <td>0.416</td>\n",
       "      <td>32.742</td>\n",
       "      <td>-0.317</td>\n",
       "      <td>-0.636</td>\n",
       "      <td>132.678</td>\n",
       "      <td>0.845</td>\n",
       "      <td>294.741</td>\n",
       "      <td>1</td>\n",
       "      <td>167.735</td>\n",
       "      <td>-2.767</td>\n",
       "      <td>-2.514</td>\n",
       "      <td>-999.000</td>\n",
       "      <td>-999.000</td>\n",
       "      <td>-999.000</td>\n",
       "      <td>167.735</td>\n",
       "      <td>0.000461</td>\n",
       "      <td>s</td>\n",
       "      <td>t</td>\n",
       "      <td>0.001502</td>\n",
       "    </tr>\n",
       "  </tbody>\n",
       "</table>\n",
       "</div>"
      ],
      "text/plain": [
       "   EventId  DER_mass_MMC  DER_mass_transverse_met_lep  DER_mass_vis  DER_pt_h  \\\n",
       "0   100000    138.470000                       51.655        97.827    27.980   \n",
       "1   100001    160.937000                       68.768       103.235    48.146   \n",
       "2   100002    121.867697                      162.172       125.953    35.635   \n",
       "3   100003    143.905000                       81.417        80.943     0.414   \n",
       "4   100004    175.864000                       16.915       134.805    16.405   \n",
       "5   100005     89.744000                       13.550        59.149   116.344   \n",
       "6   100006    148.754000                       28.862       107.782   106.130   \n",
       "7   100007    154.916000                       10.418        94.714    29.169   \n",
       "8   100008    105.594000                       50.559       100.989     4.288   \n",
       "9   100009    128.053000                       88.941        69.272   193.392   \n",
       "\n",
       "   DER_deltaeta_jet_jet  DER_mass_jet_jet  DER_prodeta_jet_jet  \\\n",
       "0                 0.910           124.711                2.666   \n",
       "1              -999.000          -999.000             -999.000   \n",
       "2              -999.000          -999.000             -999.000   \n",
       "3              -999.000          -999.000             -999.000   \n",
       "4              -999.000          -999.000             -999.000   \n",
       "5                 2.636           284.584               -0.540   \n",
       "6                 0.733           158.359                0.113   \n",
       "7              -999.000          -999.000             -999.000   \n",
       "8              -999.000          -999.000             -999.000   \n",
       "9              -999.000          -999.000             -999.000   \n",
       "\n",
       "   DER_deltar_tau_lep  DER_pt_tot  DER_sum_pt  DER_pt_ratio_lep_tau  \\\n",
       "0               3.064      41.928     197.760                 1.582   \n",
       "1               3.473       2.078     125.157                 0.879   \n",
       "2               3.148       9.336     197.814                 3.776   \n",
       "3               3.310       0.414      75.968                 2.354   \n",
       "4               3.891      16.405      57.983                 1.056   \n",
       "5               1.362      61.619     278.876                 0.588   \n",
       "6               2.941       2.545     305.967                 3.371   \n",
       "7               2.897       1.526     138.178                 0.365   \n",
       "8               2.904       4.288      65.333                 0.675   \n",
       "9               1.609      28.859     255.123                 0.599   \n",
       "\n",
       "   DER_met_phi_centrality  DER_lep_eta_centrality  PRI_tau_pt  PRI_tau_eta  \\\n",
       "0                   1.396                   0.200      32.638        1.017   \n",
       "1                   1.414                -999.000      42.014        2.039   \n",
       "2                   1.414                -999.000      32.154       -0.705   \n",
       "3                  -1.285                -999.000      22.647       -1.655   \n",
       "4                  -1.385                -999.000      28.209       -2.197   \n",
       "5                   0.479                   0.975      53.651        0.371   \n",
       "6                   1.393                   0.791      28.850        1.113   \n",
       "7                  -1.305                -999.000      78.800        0.654   \n",
       "8                  -1.366                -999.000      39.008        2.433   \n",
       "9                   0.538                -999.000      54.646       -1.533   \n",
       "\n",
       "   PRI_tau_phi  PRI_lep_pt  PRI_lep_eta  PRI_lep_phi  PRI_met  PRI_met_phi  \\\n",
       "0        0.381      51.626        2.273       -2.414   16.824       -0.277   \n",
       "1       -3.011      36.918        0.501        0.103   44.704       -1.916   \n",
       "2       -2.093     121.409       -0.953        1.052   54.283       -2.186   \n",
       "3        0.010      53.321       -0.522       -3.100   31.082        0.060   \n",
       "4       -2.231      29.774        0.798        1.569    2.723       -0.871   \n",
       "5        1.329      31.565       -0.884        1.857   40.735        2.237   \n",
       "6        2.409      97.240        0.675       -0.966   38.421       -1.443   \n",
       "7        1.547      28.740        0.506       -1.347   22.275       -1.761   \n",
       "8       -2.532      26.325        0.210        1.884   37.791        0.024   \n",
       "9        0.416      32.742       -0.317       -0.636  132.678        0.845   \n",
       "\n",
       "   PRI_met_sumet  PRI_jet_num  PRI_jet_leading_pt  PRI_jet_leading_eta  \\\n",
       "0        258.733            2              67.435                2.150   \n",
       "1        164.546            1              46.226                0.725   \n",
       "2        260.414            1              44.251                2.053   \n",
       "3         86.062            0            -999.000             -999.000   \n",
       "4         53.131            0            -999.000             -999.000   \n",
       "5        282.849            3              90.547               -2.412   \n",
       "6        294.074            2             123.010                0.864   \n",
       "7        187.299            1              30.638               -0.715   \n",
       "8        129.804            0            -999.000             -999.000   \n",
       "9        294.741            1             167.735               -2.767   \n",
       "\n",
       "   PRI_jet_leading_phi  PRI_jet_subleading_pt  PRI_jet_subleading_eta  \\\n",
       "0                0.444                 46.062                   1.240   \n",
       "1                1.158               -999.000                -999.000   \n",
       "2               -2.028               -999.000                -999.000   \n",
       "3             -999.000               -999.000                -999.000   \n",
       "4             -999.000               -999.000                -999.000   \n",
       "5               -0.653                 56.165                   0.224   \n",
       "6                1.450                 56.867                   0.131   \n",
       "7               -1.724               -999.000                -999.000   \n",
       "8             -999.000               -999.000                -999.000   \n",
       "9               -2.514               -999.000                -999.000   \n",
       "\n",
       "   PRI_jet_subleading_phi  PRI_jet_all_pt    Weight Label KaggleSet  \\\n",
       "0                  -2.475         113.497  0.000814     s         t   \n",
       "1                -999.000          46.226  0.681042     b         t   \n",
       "2                -999.000          44.251  0.715742     b         t   \n",
       "3                -999.000          -0.000  1.660654     b         t   \n",
       "4                -999.000           0.000  1.904263     b         t   \n",
       "5                   3.106         193.660  0.025434     b         t   \n",
       "6                  -2.767         179.877  0.000814     s         t   \n",
       "7                -999.000          30.638  0.005721     s         t   \n",
       "8                -999.000           0.000  1.614803     b         t   \n",
       "9                -999.000         167.735  0.000461     s         t   \n",
       "\n",
       "   KaggleWeight  \n",
       "0      0.002653  \n",
       "1      2.233584  \n",
       "2      2.347389  \n",
       "3      5.446378  \n",
       "4      6.245333  \n",
       "5      0.083414  \n",
       "6      0.002653  \n",
       "7      0.018636  \n",
       "8      5.296003  \n",
       "9      0.001502  "
      ]
     },
     "execution_count": 4,
     "metadata": {},
     "output_type": "execute_result"
    }
   ],
   "source": [
    "data_full.head(10)"
   ]
  },
  {
   "cell_type": "markdown",
   "metadata": {},
   "source": [
    "This Set contains the following subsets, indexed by the `KaggleSet`variable:  \n",
    "+ `t`: Training,\n",
    "+ `b`: Public Leaderboard,\n",
    "+ `v`: Privateleaderboard,\n",
    "+ `u`: Unused. \n",
    "\n",
    "For this classification I used only yhe \"t\" (training data) and \"b\" (validation data) set of variables."
   ]
  },
  {
   "cell_type": "code",
   "execution_count": 10,
   "metadata": {},
   "outputs": [
    {
     "name": "stdout",
     "output_type": "stream",
     "text": [
      "Total number of events:  818238 \n",
      "\n",
      "Number of events in the t KaggleSet: 250000\n",
      "Number of events in the b KaggleSet: 100000\n",
      "Number of events in the v KaggleSet: 450000\n",
      "Number of events in the u KaggleSet: 18238\n"
     ]
    }
   ],
   "source": [
    "print('Total number of events: ', len(data_full), '\\n')\n",
    "for KaggleSetID in ['t', 'b', 'v', 'u']:\n",
    "    print('Number of events in the {} KaggleSet: {}'\n",
    "          .format(KaggleSetID, len(data_full['KaggleSet'][data_full['KaggleSet']==KaggleSetID])))"
   ]
  },
  {
   "cell_type": "markdown",
   "metadata": {},
   "source": [
    "## Now let's split the data into training and validation set"
   ]
  },
  {
   "cell_type": "code",
   "execution_count": 11,
   "metadata": {},
   "outputs": [
    {
     "data": {
      "text/plain": [
       "(250000, 100000)"
      ]
     },
     "execution_count": 11,
     "metadata": {},
     "output_type": "execute_result"
    }
   ],
   "source": [
    "train_data = data_full[data_full['KaggleSet']=='t']\n",
    "validation_data = data_full[data_full['KaggleSet']=='b']\n",
    "\n",
    "#I have to construct a binary array for my network.\n",
    "y_train = pd.get_dummies(train_data['Label']).values.astype(float) #signal = [0,1], background = [1,0]\n",
    "y_val = pd.get_dummies(validation_data['Label']).values.astype(float)\n",
    "\n",
    "del(data_full)  \n",
    "len(train_data), len(validation_data)"
   ]
  },
  {
   "cell_type": "code",
   "execution_count": 12,
   "metadata": {},
   "outputs": [],
   "source": [
    "X = train_data.iloc[:,1:-4]\n",
    "X_val = validation_data.iloc[:,1:-4]\n",
    "weights = validation_data['KaggleWeight']\n",
    "del train_data, validation_data"
   ]
  },
  {
   "cell_type": "markdown",
   "metadata": {},
   "source": [
    "## Feature Engineering:\n",
    "The problem is that the \"phi\" variables have a signal distribution that is very similar to the background one. So it's better to consider their linear combination (difference in this case) to make them useful in my classification.\n",
    "#### Replace Phi variables by their difference:\n",
    "+ `Delta_phi_tau_lep` = `PRI_tau_phi` - `PRI_lep_phi` (not helpful for 2 jets category)\n",
    "+ `Delta_phi_met_lep` = `PRI_met_phi` - `PRI_lep_phi`\n",
    "+ `Delta_phi_jet_jet` = `PRI_jet_leading_phi` - `PRI_jet_subleading_phi`\n",
    "    + Drop `PRI_tau_phi`,  `PRI_lep_phi`, `PRI_met_phi`, `PRI_jet_leading_phi` and `PRI_jet_subleading_phi`\n",
    "\n",
    "\n",
    "#### Add Delta eta tau lep"
   ]
  },
  {
   "cell_type": "code",
   "execution_count": 13,
   "metadata": {},
   "outputs": [],
   "source": [
    "X['Delta_phi_tau_lep'] = abs(X['PRI_tau_phi']-X['PRI_lep_phi'])\n",
    "X_val['Delta_phi_tau_lep'] = abs(X_val['PRI_tau_phi']-X_val['PRI_lep_phi'])\n",
    "\n",
    "X['Delta_phi_jet_jet'] = abs(X['PRI_jet_leading_phi']-X['PRI_jet_subleading_phi'])\n",
    "X_val['Delta_phi_jet_jet'] = abs(X_val['PRI_jet_leading_phi']-X_val['PRI_jet_subleading_phi'])\n",
    "\n",
    "X['Delta_phi_met_lep'] = abs(X['PRI_met_phi']-X['PRI_lep_phi'])\n",
    "X_val['Delta_phi_met_lep'] = abs(X_val['PRI_met_phi']-X_val['PRI_lep_phi'])\n",
    "\n",
    "X['Delta_eta_tau_lep'] = abs(X['PRI_tau_eta']-X['PRI_lep_eta'])\n",
    "X_val['Delta_eta_tau_lep'] = abs(X_val['PRI_tau_eta']-X_val['PRI_lep_eta'])\n",
    "\n",
    "#I drop my unuseful single \"phi\" variables from my dataset.\n",
    "X = X.drop(['PRI_tau_phi', 'PRI_lep_phi', 'PRI_jet_leading_phi', 'PRI_jet_subleading_phi'\n",
    "            #,'PRI_met_phi'\n",
    "            #,'PRI_tau_eta', 'PRI_lep_eta'\n",
    "            ####### dropping these makes it worse\n",
    "           ], axis=1)\n",
    "X_val = X_val.drop(['PRI_tau_phi', 'PRI_lep_phi', 'PRI_jet_leading_phi', 'PRI_jet_subleading_phi'\n",
    "                    #, 'PRI_met_phi'\n",
    "                    #,'PRI_tau_eta', 'PRI_lep_eta'\n",
    "                    ####### dropping these makes it worse\n",
    "                   ], axis=1)"
   ]
  },
  {
   "cell_type": "markdown",
   "metadata": {},
   "source": [
    "## Build subsets according to the number of jets because of the different event topologies"
   ]
  },
  {
   "cell_type": "markdown",
   "metadata": {},
   "source": [
    "Now I have to construct three subsets according to the number of jets:\n",
    "+ 0 jets.\n",
    "+ 1 jet.\n",
    "+  \\>= 2 jets.\n",
    "\n",
    "I drop the features in which I have a value equal to -999.\n"
   ]
  },
  {
   "cell_type": "code",
   "execution_count": 14,
   "metadata": {},
   "outputs": [],
   "source": [
    "##### 0 jets\n",
    "X_0jets = X[ X['PRI_jet_num']==0 ].drop(['DER_deltaeta_jet_jet', 'DER_mass_jet_jet', 'DER_prodeta_jet_jet', \n",
    "                                         'DER_lep_eta_centrality', 'PRI_jet_num', 'PRI_jet_leading_pt', \n",
    "                                         'PRI_jet_leading_eta', 'PRI_jet_subleading_pt', \n",
    "                                         'PRI_jet_subleading_eta', 'PRI_jet_all_pt', 'PRI_jet_num',\n",
    "                                         'Delta_phi_jet_jet', 'PRI_jet_leading_phi', 'PRI_jet_subleading_phi'], \n",
    "                                        axis =1, errors='ignore')\n",
    "X_val_0jets = X_val[ X_val['PRI_jet_num']==0 ].drop(['DER_deltaeta_jet_jet', 'DER_mass_jet_jet', 'DER_prodeta_jet_jet', \n",
    "                                         'DER_lep_eta_centrality', 'PRI_jet_num', 'PRI_jet_leading_pt', \n",
    "                                         'PRI_jet_leading_eta', 'PRI_jet_subleading_pt', \n",
    "                                         'PRI_jet_subleading_eta', 'PRI_jet_all_pt', 'PRI_jet_num',\n",
    "                                         'Delta_phi_jet_jet', 'PRI_jet_leading_phi', 'PRI_jet_subleading_phi'], \n",
    "                                        axis =1, errors='ignore')\n",
    "y_train_0jets = y_train[ X['PRI_jet_num']==0 ]\n",
    "y_val_0jets = y_val[ X_val['PRI_jet_num']==0 ]\n",
    "weights_0jets = weights[ X_val['PRI_jet_num']==0 ].reset_index(drop=True)\n",
    "\n",
    "\n",
    "##### 1 jet\n",
    "X_1jet = X[ X['PRI_jet_num']==1 ].drop(['DER_deltaeta_jet_jet', 'DER_mass_jet_jet', 'DER_prodeta_jet_jet', \n",
    "                                        'PRI_jet_subleading_pt', 'PRI_jet_subleading_eta', \n",
    "                                        'DER_lep_eta_centrality', 'PRI_jet_num',\n",
    "                                        'Delta_phi_jet_jet', 'PRI_jet_subleading_phi'], axis=1, errors='ignore')\n",
    "X_val_1jet = X_val[ X_val['PRI_jet_num']==1 ].drop(['DER_deltaeta_jet_jet', 'DER_mass_jet_jet', 'DER_prodeta_jet_jet', \n",
    "                                        'PRI_jet_subleading_pt', 'PRI_jet_subleading_eta', \n",
    "                                        'DER_lep_eta_centrality', 'PRI_jet_num',\n",
    "                                        'Delta_phi_jet_jet', 'PRI_jet_subleading_phi'], axis=1, errors='ignore')\n",
    "y_train_1jet = y_train[ X['PRI_jet_num']==1 ]\n",
    "y_val_1jet = y_val[ X_val['PRI_jet_num']==1 ]\n",
    "weights_1jet = weights[ X_val['PRI_jet_num']==1 ].reset_index(drop=True)\n",
    "\n",
    "\n",
    "##### 2 and 3 jets\n",
    "X_2jets = X[ X['PRI_jet_num']>=2 ].drop(['PRI_jet_num',\n",
    "                                        ], axis=1, errors='ignore')\n",
    "X_val_2jets = X_val[ X_val['PRI_jet_num']>=2 ].drop(['PRI_jet_num',\n",
    "                                                     ], axis=1, errors='ignore')\n",
    "y_train_2jets = y_train[ X['PRI_jet_num']>=2 ]\n",
    "y_val_2jets = y_val[ X_val['PRI_jet_num']>=2 ]\n",
    "weights_2jets = weights[ X_val['PRI_jet_num']>=2 ].reset_index(drop=True)\n",
    "\n",
    "del X, X_val"
   ]
  },
  {
   "cell_type": "markdown",
   "metadata": {},
   "source": [
    "Let's see an example of how is now one of the sub-datasets:"
   ]
  },
  {
   "cell_type": "code",
   "execution_count": 16,
   "metadata": {},
   "outputs": [
    {
     "data": {
      "text/html": [
       "<div>\n",
       "<style scoped>\n",
       "    .dataframe tbody tr th:only-of-type {\n",
       "        vertical-align: middle;\n",
       "    }\n",
       "\n",
       "    .dataframe tbody tr th {\n",
       "        vertical-align: top;\n",
       "    }\n",
       "\n",
       "    .dataframe thead th {\n",
       "        text-align: right;\n",
       "    }\n",
       "</style>\n",
       "<table border=\"1\" class=\"dataframe\">\n",
       "  <thead>\n",
       "    <tr style=\"text-align: right;\">\n",
       "      <th></th>\n",
       "      <th>DER_mass_MMC</th>\n",
       "      <th>DER_mass_transverse_met_lep</th>\n",
       "      <th>DER_mass_vis</th>\n",
       "      <th>DER_pt_h</th>\n",
       "      <th>DER_deltar_tau_lep</th>\n",
       "      <th>DER_pt_tot</th>\n",
       "      <th>DER_sum_pt</th>\n",
       "      <th>DER_pt_ratio_lep_tau</th>\n",
       "      <th>DER_met_phi_centrality</th>\n",
       "      <th>PRI_tau_pt</th>\n",
       "      <th>PRI_tau_eta</th>\n",
       "      <th>PRI_lep_pt</th>\n",
       "      <th>PRI_lep_eta</th>\n",
       "      <th>PRI_met</th>\n",
       "      <th>PRI_met_phi</th>\n",
       "      <th>PRI_met_sumet</th>\n",
       "      <th>PRI_jet_leading_pt</th>\n",
       "      <th>PRI_jet_leading_eta</th>\n",
       "      <th>PRI_jet_all_pt</th>\n",
       "      <th>Delta_phi_tau_lep</th>\n",
       "      <th>Delta_phi_met_lep</th>\n",
       "      <th>Delta_eta_tau_lep</th>\n",
       "    </tr>\n",
       "  </thead>\n",
       "  <tbody>\n",
       "    <tr>\n",
       "      <th>1</th>\n",
       "      <td>160.937</td>\n",
       "      <td>68.768</td>\n",
       "      <td>103.235</td>\n",
       "      <td>48.146</td>\n",
       "      <td>3.473</td>\n",
       "      <td>2.078</td>\n",
       "      <td>125.157</td>\n",
       "      <td>0.879</td>\n",
       "      <td>1.414</td>\n",
       "      <td>42.014</td>\n",
       "      <td>2.039</td>\n",
       "      <td>36.918</td>\n",
       "      <td>0.501</td>\n",
       "      <td>44.704</td>\n",
       "      <td>-1.916</td>\n",
       "      <td>164.546</td>\n",
       "      <td>46.226</td>\n",
       "      <td>0.725</td>\n",
       "      <td>46.226</td>\n",
       "      <td>3.114</td>\n",
       "      <td>2.019</td>\n",
       "      <td>1.538</td>\n",
       "    </tr>\n",
       "    <tr>\n",
       "      <th>2</th>\n",
       "      <td>-999.000</td>\n",
       "      <td>162.172</td>\n",
       "      <td>125.953</td>\n",
       "      <td>35.635</td>\n",
       "      <td>3.148</td>\n",
       "      <td>9.336</td>\n",
       "      <td>197.814</td>\n",
       "      <td>3.776</td>\n",
       "      <td>1.414</td>\n",
       "      <td>32.154</td>\n",
       "      <td>-0.705</td>\n",
       "      <td>121.409</td>\n",
       "      <td>-0.953</td>\n",
       "      <td>54.283</td>\n",
       "      <td>-2.186</td>\n",
       "      <td>260.414</td>\n",
       "      <td>44.251</td>\n",
       "      <td>2.053</td>\n",
       "      <td>44.251</td>\n",
       "      <td>3.145</td>\n",
       "      <td>3.238</td>\n",
       "      <td>0.248</td>\n",
       "    </tr>\n",
       "    <tr>\n",
       "      <th>7</th>\n",
       "      <td>154.916</td>\n",
       "      <td>10.418</td>\n",
       "      <td>94.714</td>\n",
       "      <td>29.169</td>\n",
       "      <td>2.897</td>\n",
       "      <td>1.526</td>\n",
       "      <td>138.178</td>\n",
       "      <td>0.365</td>\n",
       "      <td>-1.305</td>\n",
       "      <td>78.800</td>\n",
       "      <td>0.654</td>\n",
       "      <td>28.740</td>\n",
       "      <td>0.506</td>\n",
       "      <td>22.275</td>\n",
       "      <td>-1.761</td>\n",
       "      <td>187.299</td>\n",
       "      <td>30.638</td>\n",
       "      <td>-0.715</td>\n",
       "      <td>30.638</td>\n",
       "      <td>2.894</td>\n",
       "      <td>0.414</td>\n",
       "      <td>0.148</td>\n",
       "    </tr>\n",
       "    <tr>\n",
       "      <th>9</th>\n",
       "      <td>128.053</td>\n",
       "      <td>88.941</td>\n",
       "      <td>69.272</td>\n",
       "      <td>193.392</td>\n",
       "      <td>1.609</td>\n",
       "      <td>28.859</td>\n",
       "      <td>255.123</td>\n",
       "      <td>0.599</td>\n",
       "      <td>0.538</td>\n",
       "      <td>54.646</td>\n",
       "      <td>-1.533</td>\n",
       "      <td>32.742</td>\n",
       "      <td>-0.317</td>\n",
       "      <td>132.678</td>\n",
       "      <td>0.845</td>\n",
       "      <td>294.741</td>\n",
       "      <td>167.735</td>\n",
       "      <td>-2.767</td>\n",
       "      <td>167.735</td>\n",
       "      <td>1.052</td>\n",
       "      <td>1.481</td>\n",
       "      <td>1.216</td>\n",
       "    </tr>\n",
       "    <tr>\n",
       "      <th>12</th>\n",
       "      <td>145.297</td>\n",
       "      <td>64.234</td>\n",
       "      <td>103.565</td>\n",
       "      <td>106.999</td>\n",
       "      <td>2.183</td>\n",
       "      <td>24.660</td>\n",
       "      <td>192.245</td>\n",
       "      <td>0.576</td>\n",
       "      <td>0.689</td>\n",
       "      <td>62.890</td>\n",
       "      <td>-0.766</td>\n",
       "      <td>36.237</td>\n",
       "      <td>0.722</td>\n",
       "      <td>43.910</td>\n",
       "      <td>-1.907</td>\n",
       "      <td>232.362</td>\n",
       "      <td>93.117</td>\n",
       "      <td>-0.970</td>\n",
       "      <td>93.117</td>\n",
       "      <td>1.597</td>\n",
       "      <td>1.872</td>\n",
       "      <td>1.488</td>\n",
       "    </tr>\n",
       "  </tbody>\n",
       "</table>\n",
       "</div>"
      ],
      "text/plain": [
       "    DER_mass_MMC  DER_mass_transverse_met_lep  DER_mass_vis  DER_pt_h  \\\n",
       "1        160.937                       68.768       103.235    48.146   \n",
       "2       -999.000                      162.172       125.953    35.635   \n",
       "7        154.916                       10.418        94.714    29.169   \n",
       "9        128.053                       88.941        69.272   193.392   \n",
       "12       145.297                       64.234       103.565   106.999   \n",
       "\n",
       "    DER_deltar_tau_lep  DER_pt_tot  DER_sum_pt  DER_pt_ratio_lep_tau  \\\n",
       "1                3.473       2.078     125.157                 0.879   \n",
       "2                3.148       9.336     197.814                 3.776   \n",
       "7                2.897       1.526     138.178                 0.365   \n",
       "9                1.609      28.859     255.123                 0.599   \n",
       "12               2.183      24.660     192.245                 0.576   \n",
       "\n",
       "    DER_met_phi_centrality  PRI_tau_pt  PRI_tau_eta  PRI_lep_pt  PRI_lep_eta  \\\n",
       "1                    1.414      42.014        2.039      36.918        0.501   \n",
       "2                    1.414      32.154       -0.705     121.409       -0.953   \n",
       "7                   -1.305      78.800        0.654      28.740        0.506   \n",
       "9                    0.538      54.646       -1.533      32.742       -0.317   \n",
       "12                   0.689      62.890       -0.766      36.237        0.722   \n",
       "\n",
       "    PRI_met  PRI_met_phi  PRI_met_sumet  PRI_jet_leading_pt  \\\n",
       "1    44.704       -1.916        164.546              46.226   \n",
       "2    54.283       -2.186        260.414              44.251   \n",
       "7    22.275       -1.761        187.299              30.638   \n",
       "9   132.678        0.845        294.741             167.735   \n",
       "12   43.910       -1.907        232.362              93.117   \n",
       "\n",
       "    PRI_jet_leading_eta  PRI_jet_all_pt  Delta_phi_tau_lep  Delta_phi_met_lep  \\\n",
       "1                 0.725          46.226              3.114              2.019   \n",
       "2                 2.053          44.251              3.145              3.238   \n",
       "7                -0.715          30.638              2.894              0.414   \n",
       "9                -2.767         167.735              1.052              1.481   \n",
       "12               -0.970          93.117              1.597              1.872   \n",
       "\n",
       "    Delta_eta_tau_lep  \n",
       "1               1.538  \n",
       "2               0.248  \n",
       "7               0.148  \n",
       "9               1.216  \n",
       "12              1.488  "
      ]
     },
     "execution_count": 16,
     "metadata": {},
     "output_type": "execute_result"
    }
   ],
   "source": [
    "X_1jet.head()"
   ]
  },
  {
   "cell_type": "markdown",
   "metadata": {},
   "source": [
    "### Let's plot some of the new features"
   ]
  },
  {
   "cell_type": "markdown",
   "metadata": {},
   "source": [
    "Let's verify now if my features given by the linear combination of \"phi\" variables are good for the classification."
   ]
  },
  {
   "cell_type": "code",
   "execution_count": 17,
   "metadata": {},
   "outputs": [
    {
     "data": {
      "image/png": "[encoded data removed]",
      "text/plain": [
       "<Figure size 720x576 with 4 Axes>"
      ]
     },
     "metadata": {},
     "output_type": "display_data"
    }
   ],
   "source": [
    "a1 = X_0jets['Delta_phi_tau_lep']\n",
    "a2 = X_0jets['Delta_phi_met_lep']\n",
    "a3 = X_0jets['Delta_eta_tau_lep']\n",
    "a4 = X_2jets['Delta_phi_jet_jet']\n",
    "\n",
    "fig, ax = plt.subplots(2,2, figsize=(10,8), sharex=True)\n",
    "\n",
    "ax[0,0].hist(a1[y_train_0jets[:,0]==1], density=True, histtype='step', bins=20, label='Background')\n",
    "ax[0,0].hist(a1[y_train_0jets[:,0]==0], density=True, histtype='step', bins=20, label='Signal')\n",
    "ax[0,0].set_title('Delta phi tau lep (0 jets)', fontsize=15)\n",
    "ax[0,0].set_ylabel('Density')\n",
    "\n",
    "ax[0,1].hist(a2[y_train_0jets[:,0]==1], density=True, histtype='step', bins=20, label='Background')\n",
    "ax[0,1].hist(a2[y_train_0jets[:,0]==0], density=True, histtype='step', bins=20, label='Signal')\n",
    "ax[0,1].set_title('Delta phi met lep (0 jets)', fontsize=15)\n",
    "\n",
    "ax[1,0].hist(a3[y_train_0jets[:,0]==1], density=True, histtype='step', bins=20, label='Background')\n",
    "ax[1,0].hist(a3[y_train_0jets[:,0]==0], density=True, histtype='step', bins=20, label='Signal')\n",
    "ax[1,0].set_title('Delta eta tau lep (0 jets)', fontsize=15)\n",
    "ax[1,0].set_ylabel('Density')\n",
    "\n",
    "ax[1,1].hist(a4[y_train_2jets[:,0]==1], density=True, histtype='step', bins=20, label='Background')\n",
    "ax[1,1].hist(a4[y_train_2jets[:,0]==0], density=True, histtype='step', bins=20, label='Signal')\n",
    "ax[1,1].set_title('Delta phi jet jet (2 jets)', fontsize=15)\n",
    "\n",
    "plt.suptitle('Distributions of the new variables', fontsize=25)\n",
    "ax[0,0].legend()\n",
    "ax[0,1].legend()\n",
    "ax[1,0].legend()\n",
    "ax[1,1].legend()\n",
    "\n",
    "\n",
    "#plt.savefig('new_variables.png', dpi=300)\n",
    "\n",
    "del a1, a2, a3, a4"
   ]
  },
  {
   "cell_type": "markdown",
   "metadata": {},
   "source": [
    "Yes, they're good. The discrimination between signal and background is clear."
   ]
  },
  {
   "cell_type": "markdown",
   "metadata": {},
   "source": [
    "## Import some other functions"
   ]
  },
  {
   "cell_type": "markdown",
   "metadata": {},
   "source": [
    "I used the library \"keras\" for the construction of my DNN."
   ]
  },
  {
   "cell_type": "code",
   "execution_count": 19,
   "metadata": {},
   "outputs": [],
   "source": [
    "from sklearn.preprocessing import StandardScaler #This is the best one (I tried almost all the well known scaler).\n",
    "\n",
    "from keras.models import Sequential\n",
    "from keras.layers import Dense, Activation, Dropout\n",
    "from keras.regularizers import l1, l2\n",
    "from keras.callbacks.callbacks import EarlyStopping"
   ]
  },
  {
   "cell_type": "markdown",
   "metadata": {},
   "source": [
    "## Define our make_model function"
   ]
  },
  {
   "cell_type": "markdown",
   "metadata": {},
   "source": [
    "I defined this function in a way to avoid to repeat everytime the same code for a new DNN. Some parameters like the loss function, the accuracy and the regularizer are very similar for each network.  They have been choosen after a long selection of the ones that I thought were the best for my work."
   ]
  },
  {
   "cell_type": "code",
   "execution_count": 21,
   "metadata": {},
   "outputs": [],
   "source": [
    "def make_model(layer_sizes, activation, dropout_rate, optimizer, regularization, lambda_reg, input_dimension):\n",
    "    '''Creates model comprised of dense layers'''\n",
    "    \n",
    "    model = Sequential()\n",
    "    \n",
    "    if regularization == 'L1':\n",
    "        regularizer = l1(lambda_reg)\n",
    "    elif regularization == 'L2':\n",
    "        regularizer = l2(lambda_reg)\n",
    "    \n",
    "    model.add(Dense(units=layer_sizes[0], activation=activation, kernel_regularizer=regularizer , input_dim= input_dimension))\n",
    "    \n",
    "    for layer_size in layer_sizes[1:]:\n",
    "        model.add(Dense(layer_size, activation=activation, kernel_regularizer=regularizer ))\n",
    "        model.add(Dropout(dropout_rate))\n",
    "    model.add(Dense(2))\n",
    "    model.add(Activation('softmax'))\n",
    "\n",
    "    model.compile(loss='binary_crossentropy', optimizer=optimizer, metrics=['accuracy'])\n",
    "\n",
    "    return model"
   ]
  },
  {
   "cell_type": "markdown",
   "metadata": {},
   "source": [
    "# AMS Score"
   ]
  },
  {
   "cell_type": "markdown",
   "metadata": {},
   "source": [
    "I define the AMS as the metric for the evaluation of my network:\n",
    "\n",
    "$AMS = \\sqrt{2 \\left( (s + b + b_{reg}) ln\\left(1 + \\dfrac{s}{b + b_{reg}} \\right) -s \\right)}$\n",
    "\n",
    "where:\n",
    "+ $s = \\sum_{i} w^{s}_{i}$ that is the unormalized sum of signal weights.\n",
    "+ $b = \\sum_{i} w^{b}_{i}$ that is the unormalized sum of background weights.\n",
    "+ $b_{reg} = 10$ is a regularization therm that reduces the variance of the AMS."
   ]
  },
  {
   "cell_type": "code",
   "execution_count": 22,
   "metadata": {},
   "outputs": [],
   "source": [
    "def NN_output_to_AMS(x_cut, predictions, label_vectors, weights):\n",
    "    \n",
    "    b_reg = 10\n",
    "    \n",
    "    s = sum(weights[(predictions[:,1] > x_cut)  & (label_vectors[:,1] ==1)])\n",
    "    b = sum(weights[(predictions[:,1] > x_cut)  & (label_vectors[:,1] ==0)])\n",
    "\n",
    "    AMS = np.sqrt(      2 *( (s + b + b_reg) * np.log(1 + s/(b + b_reg)) -s )     )\n",
    "    \n",
    "    return AMS\n",
    "\n",
    "\n",
    "def plot_AMS(predictions, label_vectors, weights):\n",
    "    x = np.arange(0.5,1,1e-2)\n",
    "    AMS_list=[]\n",
    "    for x_values in x:\n",
    "        AMS_list.append(NN_output_to_AMS(x_values, predictions, label_vectors, weights))\n",
    "    y=np.array(AMS_list)\n",
    "\n",
    "    plt.plot(x, y)\n",
    "    plt.xlabel('Cut Parameter')\n",
    "    plt.ylabel('AMS Score')\n",
    "    plt.grid()\n",
    "    \n",
    "    print('The best AMS Score is {:.3f} at a Cut Parameter of {:.2f}'.format(max(y), x[np.argmax(y)]))"
   ]
  },
  {
   "cell_type": "markdown",
   "metadata": {},
   "source": [
    "# Plot distributions"
   ]
  },
  {
   "cell_type": "markdown",
   "metadata": {},
   "source": [
    "This function is useful for the plotting of the histograms of my model."
   ]
  },
  {
   "cell_type": "code",
   "execution_count": 23,
   "metadata": {},
   "outputs": [],
   "source": [
    "def plot_distributions(prediction, true, n_bins, weighted, weights):\n",
    "    \n",
    "    # Get histograms from our model\n",
    "    if weighted:\n",
    "        hist_b = np.histogram(prediction[:,1][true[:,0]==1], bins=n_bins, range=(0,1), weights=weights[true[:,0]==1])\n",
    "        hist_s = np.histogram(prediction[:,1][true[:,1]==1], bins=n_bins, range=(0,1), weights=50*weights[true[:,1]==1])\n",
    "        \n",
    "    else:\n",
    "        hist_b = np.histogram(prediction[:,1][true[:,0]==1], bins=n_bins, range=(0,1))\n",
    "        hist_s = np.histogram(prediction[:,1][true[:,1]==1], bins=n_bins, range=(0,1))\n",
    "\n",
    "    bin_edges = hist_b[1]\n",
    "    bin_centers = ( bin_edges[:-1] + bin_edges[1:]  ) /2\n",
    "    bin_widths = (bin_edges[1:] - bin_edges[:-1])\n",
    "\n",
    "    # Draw objects\n",
    "    ax = plt.subplot(111)\n",
    "    ax.bar(bin_centers, hist_b[0], width=bin_widths, alpha=.9)\n",
    "    ax.bar(bin_centers, hist_s[0], bottom=hist_b[0], width=bin_widths, alpha=.9)\n",
    "    plt.xlim(-.01,1.01)\n",
    "\n",
    "    if weighted:\n",
    "        plt.title(\"Weighted Validation Set Distribution\")\n",
    "        plt.legend(['Background', r'$50\\cdot$Signal'])\n",
    "    else:\n",
    "        plt.title(\"Validation Set Distribution (unweighted)\")\n",
    "        plt.legend(['Background', 'Signal'])\n",
    "    plt.xlabel(\"DNN Output\")\n",
    "    plt.ylabel(\"Counts\")\n",
    "    plt.yscale('log')"
   ]
  },
  {
   "cell_type": "markdown",
   "metadata": {},
   "source": [
    "## 2-jets Classification"
   ]
  },
  {
   "cell_type": "markdown",
   "metadata": {},
   "source": [
    "I first started scaling my data."
   ]
  },
  {
   "cell_type": "code",
   "execution_count": 25,
   "metadata": {},
   "outputs": [],
   "source": [
    "standard_2jets = StandardScaler()\n",
    "standard_2jets.fit(X_2jets)\n",
    "X_2jets_standard = standard_2jets.transform(X_2jets)\n",
    "X_val_2jets_standard = standard_2jets.transform(X_val_2jets)"
   ]
  },
  {
   "cell_type": "markdown",
   "metadata": {},
   "source": [
    "Now let's perform a DNN."
   ]
  },
  {
   "cell_type": "code",
   "execution_count": 26,
   "metadata": {
    "scrolled": true
   },
   "outputs": [
    {
     "name": "stdout",
     "output_type": "stream",
     "text": [
      "WARNING:tensorflow:From /home/gianluca/.local/lib/python3.6/site-packages/tensorflow/python/ops/math_grad.py:1250: add_dispatch_support.<locals>.wrapper (from tensorflow.python.ops.array_ops) is deprecated and will be removed in a future version.\n",
      "Instructions for updating:\n",
      "Use tf.where in 2.0, which has the same broadcast rule as np.where\n",
      "WARNING:tensorflow:From /home/gianluca/.local/lib/python3.6/site-packages/keras/backend/tensorflow_backend.py:422: The name tf.global_variables is deprecated. Please use tf.compat.v1.global_variables instead.\n",
      "\n",
      "Train on 72543 samples, validate on 29046 samples\n",
      "Epoch 1/50\n",
      "72543/72543 [==============================] - 2s 34us/step - loss: 0.4970 - accuracy: 0.7802 - val_loss: 0.4109 - val_accuracy: 0.8322\n",
      "Epoch 2/50\n",
      "72543/72543 [==============================] - 2s 22us/step - loss: 0.4147 - accuracy: 0.8335 - val_loss: 0.3887 - val_accuracy: 0.8423\n",
      "Epoch 3/50\n",
      "72543/72543 [==============================] - 2s 22us/step - loss: 0.3960 - accuracy: 0.8407 - val_loss: 0.3829 - val_accuracy: 0.8431\n",
      "Epoch 4/50\n",
      "72543/72543 [==============================] - 2s 23us/step - loss: 0.3868 - accuracy: 0.8447 - val_loss: 0.3787 - val_accuracy: 0.8435\n",
      "Epoch 5/50\n",
      "72543/72543 [==============================] - 2s 23us/step - loss: 0.3792 - accuracy: 0.8472 - val_loss: 0.3725 - val_accuracy: 0.8477\n",
      "Epoch 6/50\n",
      "72543/72543 [==============================] - 2s 22us/step - loss: 0.3746 - accuracy: 0.8496 - val_loss: 0.3740 - val_accuracy: 0.8471\n",
      "Epoch 7/50\n",
      "72543/72543 [==============================] - 2s 22us/step - loss: 0.3710 - accuracy: 0.8498 - val_loss: 0.3686 - val_accuracy: 0.8487\n",
      "Epoch 8/50\n",
      "72543/72543 [==============================] - 2s 22us/step - loss: 0.3649 - accuracy: 0.8517 - val_loss: 0.3687 - val_accuracy: 0.8494\n",
      "Epoch 9/50\n",
      "72543/72543 [==============================] - 2s 22us/step - loss: 0.3633 - accuracy: 0.8539 - val_loss: 0.3656 - val_accuracy: 0.8504\n",
      "Epoch 10/50\n",
      "72543/72543 [==============================] - 2s 22us/step - loss: 0.3599 - accuracy: 0.8538 - val_loss: 0.3645 - val_accuracy: 0.8493\n",
      "Epoch 11/50\n",
      "72543/72543 [==============================] - 2s 22us/step - loss: 0.3564 - accuracy: 0.8552 - val_loss: 0.3644 - val_accuracy: 0.8484\n",
      "Epoch 12/50\n",
      "72543/72543 [==============================] - 2s 22us/step - loss: 0.3552 - accuracy: 0.8554 - val_loss: 0.3619 - val_accuracy: 0.8484\n",
      "Epoch 13/50\n",
      "72543/72543 [==============================] - 2s 22us/step - loss: 0.3527 - accuracy: 0.8566 - val_loss: 0.3648 - val_accuracy: 0.8477\n",
      "Epoch 14/50\n",
      "72543/72543 [==============================] - 2s 22us/step - loss: 0.3499 - accuracy: 0.8585 - val_loss: 0.3604 - val_accuracy: 0.8503\n",
      "Epoch 15/50\n",
      "72543/72543 [==============================] - 2s 22us/step - loss: 0.3484 - accuracy: 0.8583 - val_loss: 0.3650 - val_accuracy: 0.8487\n",
      "Epoch 16/50\n",
      "72543/72543 [==============================] - 2s 22us/step - loss: 0.3470 - accuracy: 0.8591 - val_loss: 0.3610 - val_accuracy: 0.8488\n",
      "Epoch 17/50\n",
      "72543/72543 [==============================] - 2s 22us/step - loss: 0.3453 - accuracy: 0.8610 - val_loss: 0.3638 - val_accuracy: 0.8477\n",
      "Epoch 18/50\n",
      "72543/72543 [==============================] - 2s 22us/step - loss: 0.3447 - accuracy: 0.8605 - val_loss: 0.3610 - val_accuracy: 0.8511\n",
      "Epoch 19/50\n",
      "72543/72543 [==============================] - 2s 22us/step - loss: 0.3421 - accuracy: 0.8617 - val_loss: 0.3623 - val_accuracy: 0.8498\n",
      "Epoch 20/50\n",
      "72543/72543 [==============================] - 2s 22us/step - loss: 0.3415 - accuracy: 0.8627 - val_loss: 0.3634 - val_accuracy: 0.8490\n",
      "Epoch 21/50\n",
      "72543/72543 [==============================] - 2s 22us/step - loss: 0.3408 - accuracy: 0.8630 - val_loss: 0.3705 - val_accuracy: 0.8478\n",
      "Epoch 22/50\n",
      "72543/72543 [==============================] - 2s 22us/step - loss: 0.3403 - accuracy: 0.8629 - val_loss: 0.3646 - val_accuracy: 0.8504\n",
      "Epoch 23/50\n",
      "72543/72543 [==============================] - 2s 22us/step - loss: 0.3390 - accuracy: 0.8645 - val_loss: 0.3639 - val_accuracy: 0.8515\n",
      "Epoch 24/50\n",
      "72543/72543 [==============================] - 2s 22us/step - loss: 0.3361 - accuracy: 0.8658 - val_loss: 0.3672 - val_accuracy: 0.8483\n",
      "Epoch 25/50\n",
      "72543/72543 [==============================] - 2s 22us/step - loss: 0.3353 - accuracy: 0.8657 - val_loss: 0.3668 - val_accuracy: 0.8501\n",
      "Epoch 26/50\n",
      "72543/72543 [==============================] - 2s 22us/step - loss: 0.3339 - accuracy: 0.8668 - val_loss: 0.3710 - val_accuracy: 0.8488\n",
      "Epoch 27/50\n",
      "72543/72543 [==============================] - 2s 22us/step - loss: 0.3334 - accuracy: 0.8664 - val_loss: 0.3666 - val_accuracy: 0.8500\n",
      "Epoch 28/50\n",
      "72543/72543 [==============================] - 2s 22us/step - loss: 0.3314 - accuracy: 0.8683 - val_loss: 0.3704 - val_accuracy: 0.8451\n",
      "Epoch 29/50\n",
      "72543/72543 [==============================] - 2s 22us/step - loss: 0.3310 - accuracy: 0.8694 - val_loss: 0.3691 - val_accuracy: 0.8490\n",
      "Epoch 30/50\n",
      "72543/72543 [==============================] - 2s 21us/step - loss: 0.3299 - accuracy: 0.8687 - val_loss: 0.3694 - val_accuracy: 0.8502\n",
      "Epoch 31/50\n",
      "72543/72543 [==============================] - 2s 22us/step - loss: 0.3299 - accuracy: 0.8686 - val_loss: 0.3673 - val_accuracy: 0.8489\n",
      "Epoch 32/50\n",
      "72543/72543 [==============================] - 2s 22us/step - loss: 0.3273 - accuracy: 0.8705 - val_loss: 0.3737 - val_accuracy: 0.8465\n",
      "Epoch 33/50\n",
      "72543/72543 [==============================] - 1s 20us/step - loss: 0.3277 - accuracy: 0.8702 - val_loss: 0.3757 - val_accuracy: 0.8468\n"
     ]
    },
    {
     "data": {
      "image/png": "[encoded data removed]",
      "text/plain": [
       "<Figure size 432x288 with 1 Axes>"
      ]
     },
     "metadata": {},
     "output_type": "display_data"
    },
    {
     "name": "stdout",
     "output_type": "stream",
     "text": [
      "The best AMS Score is 2.353 at a Cut Parameter of 0.97\n"
     ]
    },
    {
     "data": {
      "image/png": "[encoded data removed]",
      "text/plain": [
       "<Figure size 432x288 with 1 Axes>"
      ]
     },
     "metadata": {},
     "output_type": "display_data"
    }
   ],
   "source": [
    "np.random.seed(42)\n",
    "DNN_2jets = make_model([64, 128, 64, 64, 32, 8], 'relu', 0.1, 'Adam', 'L2', 0.0001, X_2jets.shape[-1])\n",
    "\n",
    "#This command stops the network when the accuracy stop rising.\n",
    "early_stopping = EarlyStopping(monitor='val_accuracy', min_delta=0, patience=10, verbose=0, mode='auto', baseline=None, restore_best_weights=True)\n",
    "\n",
    "history = DNN_2jets.fit(X_2jets_standard, y_train_2jets, batch_size=256, epochs=50, verbose=1, \n",
    "                  validation_data=(X_val_2jets_standard, y_val_2jets), callbacks = [early_stopping], class_weight = None)\n",
    "\n",
    "plt.plot(history.history['accuracy'])\n",
    "plt.plot(history.history['val_accuracy'])\n",
    "plt.title('model accuracy')\n",
    "plt.ylabel('accuracy')\n",
    "plt.xlabel('epoch')\n",
    "plt.legend(['training', 'validation'], loc='lower right')\n",
    "plt.show()\n",
    "\n",
    "y_pred_2jets = DNN_2jets.predict(X_val_2jets_standard)\n",
    "plot_AMS(y_pred_2jets, y_val_2jets, weights_2jets)"
   ]
  },
  {
   "cell_type": "code",
   "execution_count": 27,
   "metadata": {
    "scrolled": false
   },
   "outputs": [
    {
     "data": {
      "image/png": "[encoded data removed]",
      "text/plain": [
       "<Figure size 432x288 with 1 Axes>"
      ]
     },
     "metadata": {},
     "output_type": "display_data"
    }
   ],
   "source": [
    "plot_distributions(y_pred_2jets, y_val_2jets, 50, weighted=False, weights = None)"
   ]
  },
  {
   "cell_type": "code",
   "execution_count": 28,
   "metadata": {},
   "outputs": [],
   "source": [
    "del X_2jets_standard, X_val_2jets_standard, X_2jets, X_val_2jets"
   ]
  },
  {
   "cell_type": "markdown",
   "metadata": {},
   "source": [
    "## 1 jet:"
   ]
  },
  {
   "cell_type": "markdown",
   "metadata": {},
   "source": [
    "Now let's do the same with the other subsets."
   ]
  },
  {
   "cell_type": "code",
   "execution_count": 29,
   "metadata": {},
   "outputs": [],
   "source": [
    "standard_1jet = StandardScaler()\n",
    "standard_1jet.fit(X_1jet)\n",
    "X_1jet_standard = standard_1jet.transform(X_1jet)\n",
    "X_val_1jet_standard = standard_1jet.transform(X_val_1jet)"
   ]
  },
  {
   "cell_type": "code",
   "execution_count": 30,
   "metadata": {},
   "outputs": [
    {
     "data": {
      "text/plain": [
       "(77544, 22)"
      ]
     },
     "execution_count": 30,
     "metadata": {},
     "output_type": "execute_result"
    }
   ],
   "source": [
    "X_1jet.shape"
   ]
  },
  {
   "cell_type": "code",
   "execution_count": 31,
   "metadata": {},
   "outputs": [
    {
     "name": "stdout",
     "output_type": "stream",
     "text": [
      "Train on 77544 samples, validate on 30791 samples\n",
      "Epoch 1/50\n",
      "77544/77544 [==============================] - 2s 21us/step - loss: 0.5796 - accuracy: 0.7831 - val_loss: 0.5196 - val_accuracy: 0.8081\n",
      "Epoch 2/50\n",
      "77544/77544 [==============================] - 1s 18us/step - loss: 0.5232 - accuracy: 0.8081 - val_loss: 0.5018 - val_accuracy: 0.8120\n",
      "Epoch 3/50\n",
      "77544/77544 [==============================] - 1s 18us/step - loss: 0.5094 - accuracy: 0.8116 - val_loss: 0.4927 - val_accuracy: 0.8155\n",
      "Epoch 4/50\n",
      "77544/77544 [==============================] - 1s 18us/step - loss: 0.4994 - accuracy: 0.8141 - val_loss: 0.4872 - val_accuracy: 0.8138\n",
      "Epoch 5/50\n",
      "77544/77544 [==============================] - 1s 18us/step - loss: 0.4933 - accuracy: 0.8152 - val_loss: 0.4824 - val_accuracy: 0.8147\n",
      "Epoch 6/50\n",
      "77544/77544 [==============================] - 1s 18us/step - loss: 0.4885 - accuracy: 0.8158 - val_loss: 0.4772 - val_accuracy: 0.8169\n",
      "Epoch 7/50\n",
      "77544/77544 [==============================] - 1s 18us/step - loss: 0.4830 - accuracy: 0.8173 - val_loss: 0.4735 - val_accuracy: 0.8185\n",
      "Epoch 8/50\n",
      "77544/77544 [==============================] - 1s 18us/step - loss: 0.4801 - accuracy: 0.8172 - val_loss: 0.4704 - val_accuracy: 0.8185\n",
      "Epoch 9/50\n",
      "77544/77544 [==============================] - 1s 18us/step - loss: 0.4770 - accuracy: 0.8181 - val_loss: 0.4683 - val_accuracy: 0.8186\n",
      "Epoch 10/50\n",
      "77544/77544 [==============================] - 1s 18us/step - loss: 0.4747 - accuracy: 0.8192 - val_loss: 0.4654 - val_accuracy: 0.8196\n",
      "Epoch 11/50\n",
      "77544/77544 [==============================] - 1s 18us/step - loss: 0.4718 - accuracy: 0.8187 - val_loss: 0.4635 - val_accuracy: 0.8193\n",
      "Epoch 12/50\n",
      "77544/77544 [==============================] - 1s 18us/step - loss: 0.4698 - accuracy: 0.8191 - val_loss: 0.4617 - val_accuracy: 0.8193\n",
      "Epoch 13/50\n",
      "77544/77544 [==============================] - 1s 18us/step - loss: 0.4680 - accuracy: 0.8202 - val_loss: 0.4599 - val_accuracy: 0.8197\n",
      "Epoch 14/50\n",
      "77544/77544 [==============================] - 1s 18us/step - loss: 0.4668 - accuracy: 0.8182 - val_loss: 0.4600 - val_accuracy: 0.8196\n",
      "Epoch 15/50\n",
      "77544/77544 [==============================] - 1s 18us/step - loss: 0.4650 - accuracy: 0.8206 - val_loss: 0.4582 - val_accuracy: 0.8193\n",
      "Epoch 16/50\n",
      "77544/77544 [==============================] - 1s 18us/step - loss: 0.4631 - accuracy: 0.8209 - val_loss: 0.4565 - val_accuracy: 0.8195\n",
      "Epoch 17/50\n",
      "77544/77544 [==============================] - 1s 18us/step - loss: 0.4612 - accuracy: 0.8201 - val_loss: 0.4560 - val_accuracy: 0.8189\n",
      "Epoch 18/50\n",
      "77544/77544 [==============================] - 1s 19us/step - loss: 0.4604 - accuracy: 0.8211 - val_loss: 0.4542 - val_accuracy: 0.8204\n",
      "Epoch 19/50\n",
      "77544/77544 [==============================] - 1s 19us/step - loss: 0.4583 - accuracy: 0.8218 - val_loss: 0.4538 - val_accuracy: 0.8199\n",
      "Epoch 20/50\n",
      "77544/77544 [==============================] - 1s 18us/step - loss: 0.4588 - accuracy: 0.8207 - val_loss: 0.4525 - val_accuracy: 0.8201\n",
      "Epoch 21/50\n",
      "77544/77544 [==============================] - 1s 18us/step - loss: 0.4565 - accuracy: 0.8215 - val_loss: 0.4518 - val_accuracy: 0.8199\n",
      "Epoch 22/50\n",
      "77544/77544 [==============================] - 1s 18us/step - loss: 0.4558 - accuracy: 0.8212 - val_loss: 0.4502 - val_accuracy: 0.8204\n",
      "Epoch 23/50\n",
      "77544/77544 [==============================] - 1s 18us/step - loss: 0.4551 - accuracy: 0.8219 - val_loss: 0.4496 - val_accuracy: 0.8206\n",
      "Epoch 24/50\n",
      "77544/77544 [==============================] - 1s 18us/step - loss: 0.4547 - accuracy: 0.8217 - val_loss: 0.4493 - val_accuracy: 0.8201\n",
      "Epoch 25/50\n",
      "77544/77544 [==============================] - 1s 19us/step - loss: 0.4538 - accuracy: 0.8213 - val_loss: 0.4480 - val_accuracy: 0.8198\n",
      "Epoch 26/50\n",
      "77544/77544 [==============================] - 1s 18us/step - loss: 0.4534 - accuracy: 0.8222 - val_loss: 0.4476 - val_accuracy: 0.8205\n",
      "Epoch 27/50\n",
      "77544/77544 [==============================] - 1s 18us/step - loss: 0.4521 - accuracy: 0.8219 - val_loss: 0.4473 - val_accuracy: 0.8209\n",
      "Epoch 28/50\n",
      "77544/77544 [==============================] - 1s 18us/step - loss: 0.4515 - accuracy: 0.8214 - val_loss: 0.4464 - val_accuracy: 0.8212\n",
      "Epoch 29/50\n",
      "77544/77544 [==============================] - 1s 18us/step - loss: 0.4510 - accuracy: 0.8223 - val_loss: 0.4463 - val_accuracy: 0.8207\n",
      "Epoch 30/50\n",
      "77544/77544 [==============================] - 1s 18us/step - loss: 0.4490 - accuracy: 0.8234 - val_loss: 0.4460 - val_accuracy: 0.8202\n",
      "Epoch 31/50\n",
      "77544/77544 [==============================] - 1s 18us/step - loss: 0.4496 - accuracy: 0.8227 - val_loss: 0.4448 - val_accuracy: 0.8207\n",
      "Epoch 32/50\n",
      "77544/77544 [==============================] - 1s 18us/step - loss: 0.4484 - accuracy: 0.8225 - val_loss: 0.4451 - val_accuracy: 0.8209\n",
      "Epoch 33/50\n",
      "77544/77544 [==============================] - 1s 18us/step - loss: 0.4483 - accuracy: 0.8230 - val_loss: 0.4440 - val_accuracy: 0.8210\n",
      "Epoch 34/50\n",
      "77544/77544 [==============================] - 1s 18us/step - loss: 0.4474 - accuracy: 0.8218 - val_loss: 0.4434 - val_accuracy: 0.8211\n",
      "Epoch 35/50\n",
      "77544/77544 [==============================] - 1s 18us/step - loss: 0.4470 - accuracy: 0.8228 - val_loss: 0.4438 - val_accuracy: 0.8207\n",
      "Epoch 36/50\n",
      "77544/77544 [==============================] - 1s 18us/step - loss: 0.4461 - accuracy: 0.8237 - val_loss: 0.4432 - val_accuracy: 0.8210\n",
      "Epoch 37/50\n",
      "77544/77544 [==============================] - 1s 18us/step - loss: 0.4466 - accuracy: 0.8219 - val_loss: 0.4426 - val_accuracy: 0.8219\n",
      "Epoch 38/50\n",
      "77544/77544 [==============================] - 1s 19us/step - loss: 0.4457 - accuracy: 0.8236 - val_loss: 0.4416 - val_accuracy: 0.8217\n",
      "Epoch 39/50\n",
      "77544/77544 [==============================] - 1s 18us/step - loss: 0.4447 - accuracy: 0.8222 - val_loss: 0.4416 - val_accuracy: 0.8211\n",
      "Epoch 40/50\n",
      "77544/77544 [==============================] - 1s 18us/step - loss: 0.4435 - accuracy: 0.8235 - val_loss: 0.4406 - val_accuracy: 0.8217\n",
      "Epoch 41/50\n",
      "77544/77544 [==============================] - 1s 19us/step - loss: 0.4433 - accuracy: 0.8235 - val_loss: 0.4407 - val_accuracy: 0.8221\n",
      "Epoch 42/50\n",
      "77544/77544 [==============================] - 1s 18us/step - loss: 0.4444 - accuracy: 0.8227 - val_loss: 0.4404 - val_accuracy: 0.8217\n",
      "Epoch 43/50\n",
      "77544/77544 [==============================] - 1s 18us/step - loss: 0.4438 - accuracy: 0.8227 - val_loss: 0.4402 - val_accuracy: 0.8215\n",
      "Epoch 44/50\n",
      "77544/77544 [==============================] - 1s 18us/step - loss: 0.4437 - accuracy: 0.8231 - val_loss: 0.4396 - val_accuracy: 0.8212\n",
      "Epoch 45/50\n",
      "77544/77544 [==============================] - 1s 18us/step - loss: 0.4423 - accuracy: 0.8237 - val_loss: 0.4395 - val_accuracy: 0.8215\n",
      "Epoch 46/50\n",
      "77544/77544 [==============================] - 1s 18us/step - loss: 0.4418 - accuracy: 0.8231 - val_loss: 0.4391 - val_accuracy: 0.8216\n",
      "Epoch 47/50\n",
      "77544/77544 [==============================] - 1s 18us/step - loss: 0.4426 - accuracy: 0.8231 - val_loss: 0.4386 - val_accuracy: 0.8219\n",
      "Epoch 48/50\n",
      "77544/77544 [==============================] - 1s 18us/step - loss: 0.4406 - accuracy: 0.8236 - val_loss: 0.4395 - val_accuracy: 0.8210\n",
      "Epoch 49/50\n",
      "77544/77544 [==============================] - 1s 18us/step - loss: 0.4414 - accuracy: 0.8231 - val_loss: 0.4383 - val_accuracy: 0.8212\n",
      "Epoch 50/50\n",
      "77544/77544 [==============================] - 1s 18us/step - loss: 0.4418 - accuracy: 0.8229 - val_loss: 0.4381 - val_accuracy: 0.8205\n"
     ]
    },
    {
     "data": {
      "image/png": "[encoded data removed]",
      "text/plain": [
       "<Figure size 432x288 with 1 Axes>"
      ]
     },
     "metadata": {},
     "output_type": "display_data"
    },
    {
     "name": "stdout",
     "output_type": "stream",
     "text": [
      "The best AMS Score is 1.652 at a Cut Parameter of 0.72\n"
     ]
    },
    {
     "data": {
      "image/png": "[encoded data removed]",
      "text/plain": [
       "<Figure size 432x288 with 1 Axes>"
      ]
     },
     "metadata": {},
     "output_type": "display_data"
    }
   ],
   "source": [
    "np.random.seed(42)\n",
    "DNN_1jet = make_model([64, 64, 64, 32, 8], 'relu', 0.1, 'Adagrad', 'L1', 0.0001, X_1jet.shape[-1])\n",
    "\n",
    "early_stopping = EarlyStopping(monitor='val_accuracy', min_delta=0, patience=10, verbose=0, mode='auto', baseline=None, restore_best_weights=True)\n",
    "\n",
    "history = DNN_1jet.fit(X_1jet_standard, y_train_1jet, batch_size=256, epochs=50, verbose=1, \n",
    "                  validation_data=(X_val_1jet_standard, y_val_1jet), callbacks = [early_stopping], class_weight = None)\n",
    "\n",
    "plt.plot(history.history['accuracy'])\n",
    "plt.plot(history.history['val_accuracy'])\n",
    "plt.title('model accuracy')\n",
    "plt.ylabel('accuracy')\n",
    "plt.xlabel('epoch')\n",
    "plt.legend(['training', 'validation'], loc='lower right')\n",
    "plt.show()\n",
    "\n",
    "y_pred_1jet = DNN_1jet.predict(X_val_1jet_standard)\n",
    "plot_AMS(y_pred_1jet, y_val_1jet, weights_1jet)"
   ]
  },
  {
   "cell_type": "code",
   "execution_count": 32,
   "metadata": {
    "scrolled": true
   },
   "outputs": [
    {
     "data": {
      "image/png": "[encoded data removed]",
      "text/plain": [
       "<Figure size 432x288 with 1 Axes>"
      ]
     },
     "metadata": {},
     "output_type": "display_data"
    }
   ],
   "source": [
    "plot_distributions(y_pred_1jet, y_val_1jet, 50, weighted=False, weights = None)"
   ]
  },
  {
   "cell_type": "code",
   "execution_count": 33,
   "metadata": {},
   "outputs": [],
   "source": [
    "del X_1jet_standard, X_val_1jet_standard, X_1jet, X_val_1jet"
   ]
  },
  {
   "cell_type": "markdown",
   "metadata": {},
   "source": [
    "### 0 jets"
   ]
  },
  {
   "cell_type": "code",
   "execution_count": 34,
   "metadata": {},
   "outputs": [],
   "source": [
    "standard_0jets = StandardScaler()\n",
    "standard_0jets.fit(X_0jets)\n",
    "X_0jets_standard = standard_0jets.transform(X_0jets)\n",
    "X_val_0jets_standard = standard_0jets.transform(X_val_0jets)"
   ]
  },
  {
   "cell_type": "code",
   "execution_count": 35,
   "metadata": {
    "scrolled": true
   },
   "outputs": [
    {
     "name": "stdout",
     "output_type": "stream",
     "text": [
      "Train on 99913 samples, validate on 40163 samples\n",
      "Epoch 1/50\n",
      "99913/99913 [==============================] - 3s 26us/step - loss: 0.5502 - accuracy: 0.8361 - val_loss: 0.5099 - val_accuracy: 0.8446\n",
      "Epoch 2/50\n",
      "99913/99913 [==============================] - 2s 24us/step - loss: 0.5011 - accuracy: 0.8429 - val_loss: 0.4820 - val_accuracy: 0.8451\n",
      "Epoch 3/50\n",
      "99913/99913 [==============================] - 2s 25us/step - loss: 0.4768 - accuracy: 0.8440 - val_loss: 0.4624 - val_accuracy: 0.8463\n",
      "Epoch 4/50\n",
      "99913/99913 [==============================] - 2s 24us/step - loss: 0.4597 - accuracy: 0.8454 - val_loss: 0.4503 - val_accuracy: 0.8450\n",
      "Epoch 5/50\n",
      "99913/99913 [==============================] - 2s 25us/step - loss: 0.4473 - accuracy: 0.8451 - val_loss: 0.4391 - val_accuracy: 0.8460\n",
      "Epoch 6/50\n",
      "99913/99913 [==============================] - 2s 24us/step - loss: 0.4373 - accuracy: 0.8458 - val_loss: 0.4321 - val_accuracy: 0.8446\n",
      "Epoch 7/50\n",
      "99913/99913 [==============================] - 2s 25us/step - loss: 0.4303 - accuracy: 0.8465 - val_loss: 0.4245 - val_accuracy: 0.8470\n",
      "Epoch 8/50\n",
      "99913/99913 [==============================] - 2s 24us/step - loss: 0.4244 - accuracy: 0.8468 - val_loss: 0.4192 - val_accuracy: 0.8470\n",
      "Epoch 9/50\n",
      "99913/99913 [==============================] - 2s 24us/step - loss: 0.4205 - accuracy: 0.8459 - val_loss: 0.4149 - val_accuracy: 0.8466\n",
      "Epoch 10/50\n",
      "99913/99913 [==============================] - 2s 24us/step - loss: 0.4159 - accuracy: 0.8468 - val_loss: 0.4113 - val_accuracy: 0.8467\n",
      "Epoch 11/50\n",
      "99913/99913 [==============================] - 2s 24us/step - loss: 0.4125 - accuracy: 0.8460 - val_loss: 0.4083 - val_accuracy: 0.8478\n",
      "Epoch 12/50\n",
      "99913/99913 [==============================] - 2s 24us/step - loss: 0.4088 - accuracy: 0.8473 - val_loss: 0.4072 - val_accuracy: 0.8449\n",
      "Epoch 13/50\n",
      "99913/99913 [==============================] - 2s 24us/step - loss: 0.4066 - accuracy: 0.8469 - val_loss: 0.4043 - val_accuracy: 0.8470\n",
      "Epoch 14/50\n",
      "99913/99913 [==============================] - 2s 24us/step - loss: 0.4058 - accuracy: 0.8465 - val_loss: 0.4012 - val_accuracy: 0.8480\n",
      "Epoch 15/50\n",
      "99913/99913 [==============================] - 2s 24us/step - loss: 0.4022 - accuracy: 0.8473 - val_loss: 0.3997 - val_accuracy: 0.8468\n",
      "Epoch 16/50\n",
      "99913/99913 [==============================] - 2s 24us/step - loss: 0.4010 - accuracy: 0.8476 - val_loss: 0.3980 - val_accuracy: 0.8476\n",
      "Epoch 17/50\n",
      "99913/99913 [==============================] - 2s 24us/step - loss: 0.3997 - accuracy: 0.8472 - val_loss: 0.3983 - val_accuracy: 0.8457\n",
      "Epoch 18/50\n",
      "99913/99913 [==============================] - 2s 24us/step - loss: 0.3974 - accuracy: 0.8475 - val_loss: 0.3948 - val_accuracy: 0.8478\n",
      "Epoch 19/50\n",
      "99913/99913 [==============================] - 2s 24us/step - loss: 0.3962 - accuracy: 0.8477 - val_loss: 0.3939 - val_accuracy: 0.8477\n",
      "Epoch 20/50\n",
      "99913/99913 [==============================] - 2s 25us/step - loss: 0.3954 - accuracy: 0.8475 - val_loss: 0.3932 - val_accuracy: 0.8477\n",
      "Epoch 21/50\n",
      "99913/99913 [==============================] - 2s 24us/step - loss: 0.3943 - accuracy: 0.8474 - val_loss: 0.3918 - val_accuracy: 0.8471\n",
      "Epoch 22/50\n",
      "99913/99913 [==============================] - 2s 24us/step - loss: 0.3931 - accuracy: 0.8464 - val_loss: 0.3897 - val_accuracy: 0.8483\n",
      "Epoch 23/50\n",
      "99913/99913 [==============================] - 2s 24us/step - loss: 0.3922 - accuracy: 0.8482 - val_loss: 0.3896 - val_accuracy: 0.8482\n",
      "Epoch 24/50\n",
      "99913/99913 [==============================] - 2s 23us/step - loss: 0.3918 - accuracy: 0.8469 - val_loss: 0.3886 - val_accuracy: 0.8485\n",
      "Epoch 25/50\n",
      "99913/99913 [==============================] - 2s 23us/step - loss: 0.3906 - accuracy: 0.8474 - val_loss: 0.3876 - val_accuracy: 0.8485\n",
      "Epoch 26/50\n",
      "99913/99913 [==============================] - 2s 23us/step - loss: 0.3897 - accuracy: 0.8475 - val_loss: 0.3875 - val_accuracy: 0.8482\n",
      "Epoch 27/50\n",
      "99913/99913 [==============================] - 2s 24us/step - loss: 0.3888 - accuracy: 0.8484 - val_loss: 0.3858 - val_accuracy: 0.8484\n",
      "Epoch 28/50\n",
      "99913/99913 [==============================] - 2s 23us/step - loss: 0.3883 - accuracy: 0.8473 - val_loss: 0.3854 - val_accuracy: 0.8483\n",
      "Epoch 29/50\n",
      "99913/99913 [==============================] - 2s 23us/step - loss: 0.3876 - accuracy: 0.8475 - val_loss: 0.3850 - val_accuracy: 0.8484\n",
      "Epoch 30/50\n",
      "99913/99913 [==============================] - 2s 23us/step - loss: 0.3869 - accuracy: 0.8479 - val_loss: 0.3845 - val_accuracy: 0.8483\n",
      "Epoch 31/50\n",
      "99913/99913 [==============================] - 2s 24us/step - loss: 0.3861 - accuracy: 0.8482 - val_loss: 0.3855 - val_accuracy: 0.8474\n",
      "Epoch 32/50\n",
      "99913/99913 [==============================] - 2s 24us/step - loss: 0.3858 - accuracy: 0.8476 - val_loss: 0.3830 - val_accuracy: 0.8488\n",
      "Epoch 33/50\n",
      "99913/99913 [==============================] - 2s 24us/step - loss: 0.3852 - accuracy: 0.8476 - val_loss: 0.3826 - val_accuracy: 0.8489\n",
      "Epoch 34/50\n",
      "99913/99913 [==============================] - 2s 24us/step - loss: 0.3846 - accuracy: 0.8487 - val_loss: 0.3823 - val_accuracy: 0.8489\n",
      "Epoch 35/50\n",
      "99913/99913 [==============================] - 2s 24us/step - loss: 0.3838 - accuracy: 0.8487 - val_loss: 0.3824 - val_accuracy: 0.8488\n",
      "Epoch 36/50\n",
      "99913/99913 [==============================] - 2s 24us/step - loss: 0.3833 - accuracy: 0.8487 - val_loss: 0.3811 - val_accuracy: 0.8485\n",
      "Epoch 37/50\n",
      "99913/99913 [==============================] - 2s 24us/step - loss: 0.3829 - accuracy: 0.8483 - val_loss: 0.3810 - val_accuracy: 0.8488\n",
      "Epoch 38/50\n",
      "99913/99913 [==============================] - 2s 24us/step - loss: 0.3824 - accuracy: 0.8482 - val_loss: 0.3808 - val_accuracy: 0.8486\n",
      "Epoch 39/50\n",
      "99913/99913 [==============================] - 2s 24us/step - loss: 0.3821 - accuracy: 0.8479 - val_loss: 0.3801 - val_accuracy: 0.8487\n",
      "Epoch 40/50\n",
      "99913/99913 [==============================] - 2s 24us/step - loss: 0.3818 - accuracy: 0.8480 - val_loss: 0.3798 - val_accuracy: 0.8485\n",
      "Epoch 41/50\n",
      "99913/99913 [==============================] - 2s 23us/step - loss: 0.3815 - accuracy: 0.8481 - val_loss: 0.3793 - val_accuracy: 0.8488\n",
      "Epoch 42/50\n",
      "99913/99913 [==============================] - 2s 23us/step - loss: 0.3821 - accuracy: 0.8481 - val_loss: 0.3801 - val_accuracy: 0.8486\n",
      "Epoch 43/50\n",
      "99913/99913 [==============================] - 2s 23us/step - loss: 0.3812 - accuracy: 0.8489 - val_loss: 0.3794 - val_accuracy: 0.8483\n",
      "Epoch 44/50\n",
      "99913/99913 [==============================] - 2s 23us/step - loss: 0.3804 - accuracy: 0.8484 - val_loss: 0.3785 - val_accuracy: 0.8480\n"
     ]
    },
    {
     "data": {
      "image/png": "[encoded data removed]",
      "text/plain": [
       "<Figure size 432x288 with 1 Axes>"
      ]
     },
     "metadata": {},
     "output_type": "display_data"
    },
    {
     "name": "stdout",
     "output_type": "stream",
     "text": [
      "The best AMS Score is 2.482 at a Cut Parameter of 0.78\n"
     ]
    },
    {
     "data": {
      "image/png": "[encoded data removed]",
      "text/plain": [
       "<Figure size 432x288 with 1 Axes>"
      ]
     },
     "metadata": {},
     "output_type": "display_data"
    }
   ],
   "source": [
    "np.random.seed(42)\n",
    "DNN_0jets = make_model([32, 64, 128, 64, 32, 8], 'elu', 0.1, 'Adagrad', 'L1', 0.0001, X_0jets.shape[-1])\n",
    "\n",
    "early_stopping = EarlyStopping(monitor='val_accuracy', min_delta=0, patience=10, verbose=0, mode='auto', baseline=None, restore_best_weights=True)\n",
    "\n",
    "history = DNN_0jets.fit(X_0jets_standard, y_train_0jets, batch_size=256, epochs=50, verbose=1, \n",
    "                  validation_data=(X_val_0jets_standard, y_val_0jets), callbacks = [early_stopping], class_weight = None)\n",
    "\n",
    "plt.plot(history.history['accuracy'])\n",
    "plt.plot(history.history['val_accuracy'])\n",
    "plt.title('model accuracy')\n",
    "plt.ylabel('accuracy')\n",
    "plt.xlabel('epoch')\n",
    "plt.legend(['training', 'validation'], loc='lower right')\n",
    "plt.show()\n",
    "\n",
    "y_pred_0jets = DNN_0jets.predict(X_val_0jets_standard)\n",
    "plot_AMS(y_pred_0jets, y_val_0jets, weights_0jets)"
   ]
  },
  {
   "cell_type": "code",
   "execution_count": 36,
   "metadata": {
    "scrolled": true
   },
   "outputs": [
    {
     "data": {
      "image/png": "[encoded data removed]",
      "text/plain": [
       "<Figure size 432x288 with 1 Axes>"
      ]
     },
     "metadata": {},
     "output_type": "display_data"
    }
   ],
   "source": [
    "plot_distributions(y_pred_0jets, y_val_0jets, 50, weighted=False, weights = None)"
   ]
  },
  {
   "cell_type": "code",
   "execution_count": 37,
   "metadata": {},
   "outputs": [],
   "source": [
    "del X_0jets_standard, X_val_0jets_standard, X_0jets, X_val_0jets"
   ]
  },
  {
   "cell_type": "markdown",
   "metadata": {},
   "source": [
    "# Total AMS Score from our DNNs:"
   ]
  },
  {
   "cell_type": "markdown",
   "metadata": {},
   "source": [
    "Total AMS score considering all the AMS of each subset:"
   ]
  },
  {
   "cell_type": "code",
   "execution_count": 40,
   "metadata": {},
   "outputs": [],
   "source": [
    "y_pred_total = np.concatenate((y_pred_0jets, y_pred_1jet, y_pred_2jets))\n",
    "y_val_total = np.concatenate((y_val_0jets, y_val_1jet, y_val_2jets))\n",
    "weights_total = np.concatenate((weights_0jets, weights_1jet, weights_2jets))"
   ]
  },
  {
   "cell_type": "code",
   "execution_count": 41,
   "metadata": {},
   "outputs": [
    {
     "name": "stdout",
     "output_type": "stream",
     "text": [
      "The best AMS Score is 3.485 at a Cut Parameter of 0.80\n"
     ]
    },
    {
     "data": {
      "image/png": "[encoded data removed]",
      "text/plain": [
       "<Figure size 432x288 with 1 Axes>"
      ]
     },
     "metadata": {},
     "output_type": "display_data"
    }
   ],
   "source": [
    "plot_AMS(y_pred_total, y_val_total, weights_total)\n",
    "#plt.savefig('AMS_Score.png', dpi=250)"
   ]
  },
  {
   "cell_type": "code",
   "execution_count": 42,
   "metadata": {},
   "outputs": [
    {
     "data": {
      "image/png": "[encoded data removed]",
      "text/plain": [
       "<Figure size 432x288 with 1 Axes>"
      ]
     },
     "metadata": {},
     "output_type": "display_data"
    }
   ],
   "source": [
    "plot_distributions(y_pred_total, y_val_total, 50, weighted=False, weights=None)\n",
    "plt.savefig('Distributions.png', dpi=250)"
   ]
  },
  {
   "cell_type": "code",
   "execution_count": 43,
   "metadata": {},
   "outputs": [
    {
     "data": {
      "image/png": "[encoded data removed]",
      "text/plain": [
       "<Figure size 432x288 with 1 Axes>"
      ]
     },
     "metadata": {},
     "output_type": "display_data"
    }
   ],
   "source": [
    "plot_distributions(y_pred_total, y_val_total, 50, weighted=True, weights=weights_total)\n",
    "plt.savefig('Distributions_weighted.png', dpi=250)"
   ]
  }
 ],
 "metadata": {
  "kernelspec": {
   "display_name": "Python 3",
   "language": "python",
   "name": "python3"
  },
  "language_info": {
   "codemirror_mode": {
    "name": "ipython",
    "version": 3
   },
   "file_extension": ".py",
   "mimetype": "text/x-python",
   "name": "python",
   "nbconvert_exporter": "python",
   "pygments_lexer": "ipython3",
   "version": "3.6.9"
  }
 },
 "nbformat": 4,
 "nbformat_minor": 2
}
