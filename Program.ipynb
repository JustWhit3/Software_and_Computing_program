{
 "cells": [
  {
   "cell_type": "markdown",
   "metadata": {},
   "source": [
    "# Higgs Boson Machine Learning Classification"
   ]
  },
  {
   "cell_type": "code",
   "execution_count": 1,
   "metadata": {},
   "outputs": [],
   "source": [
    "import pandas as pd\n",
    "pd.options.display.max_columns = None #this lets pandas show all columns instead of '...'\n",
    "\n",
    "import numpy as np\n",
    "from matplotlib import pyplot as plt"
   ]
  },
  {
   "cell_type": "markdown",
   "metadata": {},
   "source": [
    "## Now let's have a look at the dataset"
   ]
  },
  {
   "cell_type": "code",
   "execution_count": 2,
   "metadata": {},
   "outputs": [
    {
     "data": {
      "text/html": [
       "<div>\n",
       "<style scoped>\n",
       "    .dataframe tbody tr th:only-of-type {\n",
       "        vertical-align: middle;\n",
       "    }\n",
       "\n",
       "    .dataframe tbody tr th {\n",
       "        vertical-align: top;\n",
       "    }\n",
       "\n",
       "    .dataframe thead th {\n",
       "        text-align: right;\n",
       "    }\n",
       "</style>\n",
       "<table border=\"1\" class=\"dataframe\">\n",
       "  <thead>\n",
       "    <tr style=\"text-align: right;\">\n",
       "      <th></th>\n",
       "      <th>EventId</th>\n",
       "      <th>DER_mass_MMC</th>\n",
       "      <th>DER_mass_transverse_met_lep</th>\n",
       "      <th>DER_mass_vis</th>\n",
       "      <th>DER_pt_h</th>\n",
       "      <th>DER_deltaeta_jet_jet</th>\n",
       "      <th>DER_mass_jet_jet</th>\n",
       "      <th>DER_prodeta_jet_jet</th>\n",
       "      <th>DER_deltar_tau_lep</th>\n",
       "      <th>DER_pt_tot</th>\n",
       "      <th>DER_sum_pt</th>\n",
       "      <th>DER_pt_ratio_lep_tau</th>\n",
       "      <th>DER_met_phi_centrality</th>\n",
       "      <th>DER_lep_eta_centrality</th>\n",
       "      <th>PRI_tau_pt</th>\n",
       "      <th>PRI_tau_eta</th>\n",
       "      <th>PRI_tau_phi</th>\n",
       "      <th>PRI_lep_pt</th>\n",
       "      <th>PRI_lep_eta</th>\n",
       "      <th>PRI_lep_phi</th>\n",
       "      <th>PRI_met</th>\n",
       "      <th>PRI_met_phi</th>\n",
       "      <th>PRI_met_sumet</th>\n",
       "      <th>PRI_jet_num</th>\n",
       "      <th>PRI_jet_leading_pt</th>\n",
       "      <th>PRI_jet_leading_eta</th>\n",
       "      <th>PRI_jet_leading_phi</th>\n",
       "      <th>PRI_jet_subleading_pt</th>\n",
       "      <th>PRI_jet_subleading_eta</th>\n",
       "      <th>PRI_jet_subleading_phi</th>\n",
       "      <th>PRI_jet_all_pt</th>\n",
       "      <th>Weight</th>\n",
       "      <th>Label</th>\n",
       "      <th>KaggleSet</th>\n",
       "      <th>KaggleWeight</th>\n",
       "    </tr>\n",
       "  </thead>\n",
       "  <tbody>\n",
       "    <tr>\n",
       "      <th>0</th>\n",
       "      <td>100000</td>\n",
       "      <td>138.470</td>\n",
       "      <td>51.655</td>\n",
       "      <td>97.827</td>\n",
       "      <td>27.980</td>\n",
       "      <td>0.910</td>\n",
       "      <td>124.711</td>\n",
       "      <td>2.666</td>\n",
       "      <td>3.064</td>\n",
       "      <td>41.928</td>\n",
       "      <td>197.760</td>\n",
       "      <td>1.582</td>\n",
       "      <td>1.396</td>\n",
       "      <td>0.200</td>\n",
       "      <td>32.638</td>\n",
       "      <td>1.017</td>\n",
       "      <td>0.381</td>\n",
       "      <td>51.626</td>\n",
       "      <td>2.273</td>\n",
       "      <td>-2.414</td>\n",
       "      <td>16.824</td>\n",
       "      <td>-0.277</td>\n",
       "      <td>258.733</td>\n",
       "      <td>2</td>\n",
       "      <td>67.435</td>\n",
       "      <td>2.150</td>\n",
       "      <td>0.444</td>\n",
       "      <td>46.062</td>\n",
       "      <td>1.240</td>\n",
       "      <td>-2.475</td>\n",
       "      <td>113.497</td>\n",
       "      <td>0.000814</td>\n",
       "      <td>s</td>\n",
       "      <td>t</td>\n",
       "      <td>0.002653</td>\n",
       "    </tr>\n",
       "    <tr>\n",
       "      <th>1</th>\n",
       "      <td>100001</td>\n",
       "      <td>160.937</td>\n",
       "      <td>68.768</td>\n",
       "      <td>103.235</td>\n",
       "      <td>48.146</td>\n",
       "      <td>-999.000</td>\n",
       "      <td>-999.000</td>\n",
       "      <td>-999.000</td>\n",
       "      <td>3.473</td>\n",
       "      <td>2.078</td>\n",
       "      <td>125.157</td>\n",
       "      <td>0.879</td>\n",
       "      <td>1.414</td>\n",
       "      <td>-999.000</td>\n",
       "      <td>42.014</td>\n",
       "      <td>2.039</td>\n",
       "      <td>-3.011</td>\n",
       "      <td>36.918</td>\n",
       "      <td>0.501</td>\n",
       "      <td>0.103</td>\n",
       "      <td>44.704</td>\n",
       "      <td>-1.916</td>\n",
       "      <td>164.546</td>\n",
       "      <td>1</td>\n",
       "      <td>46.226</td>\n",
       "      <td>0.725</td>\n",
       "      <td>1.158</td>\n",
       "      <td>-999.000</td>\n",
       "      <td>-999.000</td>\n",
       "      <td>-999.000</td>\n",
       "      <td>46.226</td>\n",
       "      <td>0.681042</td>\n",
       "      <td>b</td>\n",
       "      <td>t</td>\n",
       "      <td>2.233584</td>\n",
       "    </tr>\n",
       "    <tr>\n",
       "      <th>2</th>\n",
       "      <td>100002</td>\n",
       "      <td>-999.000</td>\n",
       "      <td>162.172</td>\n",
       "      <td>125.953</td>\n",
       "      <td>35.635</td>\n",
       "      <td>-999.000</td>\n",
       "      <td>-999.000</td>\n",
       "      <td>-999.000</td>\n",
       "      <td>3.148</td>\n",
       "      <td>9.336</td>\n",
       "      <td>197.814</td>\n",
       "      <td>3.776</td>\n",
       "      <td>1.414</td>\n",
       "      <td>-999.000</td>\n",
       "      <td>32.154</td>\n",
       "      <td>-0.705</td>\n",
       "      <td>-2.093</td>\n",
       "      <td>121.409</td>\n",
       "      <td>-0.953</td>\n",
       "      <td>1.052</td>\n",
       "      <td>54.283</td>\n",
       "      <td>-2.186</td>\n",
       "      <td>260.414</td>\n",
       "      <td>1</td>\n",
       "      <td>44.251</td>\n",
       "      <td>2.053</td>\n",
       "      <td>-2.028</td>\n",
       "      <td>-999.000</td>\n",
       "      <td>-999.000</td>\n",
       "      <td>-999.000</td>\n",
       "      <td>44.251</td>\n",
       "      <td>0.715742</td>\n",
       "      <td>b</td>\n",
       "      <td>t</td>\n",
       "      <td>2.347389</td>\n",
       "    </tr>\n",
       "    <tr>\n",
       "      <th>3</th>\n",
       "      <td>100003</td>\n",
       "      <td>143.905</td>\n",
       "      <td>81.417</td>\n",
       "      <td>80.943</td>\n",
       "      <td>0.414</td>\n",
       "      <td>-999.000</td>\n",
       "      <td>-999.000</td>\n",
       "      <td>-999.000</td>\n",
       "      <td>3.310</td>\n",
       "      <td>0.414</td>\n",
       "      <td>75.968</td>\n",
       "      <td>2.354</td>\n",
       "      <td>-1.285</td>\n",
       "      <td>-999.000</td>\n",
       "      <td>22.647</td>\n",
       "      <td>-1.655</td>\n",
       "      <td>0.010</td>\n",
       "      <td>53.321</td>\n",
       "      <td>-0.522</td>\n",
       "      <td>-3.100</td>\n",
       "      <td>31.082</td>\n",
       "      <td>0.060</td>\n",
       "      <td>86.062</td>\n",
       "      <td>0</td>\n",
       "      <td>-999.000</td>\n",
       "      <td>-999.000</td>\n",
       "      <td>-999.000</td>\n",
       "      <td>-999.000</td>\n",
       "      <td>-999.000</td>\n",
       "      <td>-999.000</td>\n",
       "      <td>-0.000</td>\n",
       "      <td>1.660654</td>\n",
       "      <td>b</td>\n",
       "      <td>t</td>\n",
       "      <td>5.446378</td>\n",
       "    </tr>\n",
       "    <tr>\n",
       "      <th>4</th>\n",
       "      <td>100004</td>\n",
       "      <td>175.864</td>\n",
       "      <td>16.915</td>\n",
       "      <td>134.805</td>\n",
       "      <td>16.405</td>\n",
       "      <td>-999.000</td>\n",
       "      <td>-999.000</td>\n",
       "      <td>-999.000</td>\n",
       "      <td>3.891</td>\n",
       "      <td>16.405</td>\n",
       "      <td>57.983</td>\n",
       "      <td>1.056</td>\n",
       "      <td>-1.385</td>\n",
       "      <td>-999.000</td>\n",
       "      <td>28.209</td>\n",
       "      <td>-2.197</td>\n",
       "      <td>-2.231</td>\n",
       "      <td>29.774</td>\n",
       "      <td>0.798</td>\n",
       "      <td>1.569</td>\n",
       "      <td>2.723</td>\n",
       "      <td>-0.871</td>\n",
       "      <td>53.131</td>\n",
       "      <td>0</td>\n",
       "      <td>-999.000</td>\n",
       "      <td>-999.000</td>\n",
       "      <td>-999.000</td>\n",
       "      <td>-999.000</td>\n",
       "      <td>-999.000</td>\n",
       "      <td>-999.000</td>\n",
       "      <td>0.000</td>\n",
       "      <td>1.904263</td>\n",
       "      <td>b</td>\n",
       "      <td>t</td>\n",
       "      <td>6.245333</td>\n",
       "    </tr>\n",
       "    <tr>\n",
       "      <th>5</th>\n",
       "      <td>100005</td>\n",
       "      <td>89.744</td>\n",
       "      <td>13.550</td>\n",
       "      <td>59.149</td>\n",
       "      <td>116.344</td>\n",
       "      <td>2.636</td>\n",
       "      <td>284.584</td>\n",
       "      <td>-0.540</td>\n",
       "      <td>1.362</td>\n",
       "      <td>61.619</td>\n",
       "      <td>278.876</td>\n",
       "      <td>0.588</td>\n",
       "      <td>0.479</td>\n",
       "      <td>0.975</td>\n",
       "      <td>53.651</td>\n",
       "      <td>0.371</td>\n",
       "      <td>1.329</td>\n",
       "      <td>31.565</td>\n",
       "      <td>-0.884</td>\n",
       "      <td>1.857</td>\n",
       "      <td>40.735</td>\n",
       "      <td>2.237</td>\n",
       "      <td>282.849</td>\n",
       "      <td>3</td>\n",
       "      <td>90.547</td>\n",
       "      <td>-2.412</td>\n",
       "      <td>-0.653</td>\n",
       "      <td>56.165</td>\n",
       "      <td>0.224</td>\n",
       "      <td>3.106</td>\n",
       "      <td>193.660</td>\n",
       "      <td>0.025434</td>\n",
       "      <td>b</td>\n",
       "      <td>t</td>\n",
       "      <td>0.083414</td>\n",
       "    </tr>\n",
       "    <tr>\n",
       "      <th>6</th>\n",
       "      <td>100006</td>\n",
       "      <td>148.754</td>\n",
       "      <td>28.862</td>\n",
       "      <td>107.782</td>\n",
       "      <td>106.130</td>\n",
       "      <td>0.733</td>\n",
       "      <td>158.359</td>\n",
       "      <td>0.113</td>\n",
       "      <td>2.941</td>\n",
       "      <td>2.545</td>\n",
       "      <td>305.967</td>\n",
       "      <td>3.371</td>\n",
       "      <td>1.393</td>\n",
       "      <td>0.791</td>\n",
       "      <td>28.850</td>\n",
       "      <td>1.113</td>\n",
       "      <td>2.409</td>\n",
       "      <td>97.240</td>\n",
       "      <td>0.675</td>\n",
       "      <td>-0.966</td>\n",
       "      <td>38.421</td>\n",
       "      <td>-1.443</td>\n",
       "      <td>294.074</td>\n",
       "      <td>2</td>\n",
       "      <td>123.010</td>\n",
       "      <td>0.864</td>\n",
       "      <td>1.450</td>\n",
       "      <td>56.867</td>\n",
       "      <td>0.131</td>\n",
       "      <td>-2.767</td>\n",
       "      <td>179.877</td>\n",
       "      <td>0.000814</td>\n",
       "      <td>s</td>\n",
       "      <td>t</td>\n",
       "      <td>0.002653</td>\n",
       "    </tr>\n",
       "    <tr>\n",
       "      <th>7</th>\n",
       "      <td>100007</td>\n",
       "      <td>154.916</td>\n",
       "      <td>10.418</td>\n",
       "      <td>94.714</td>\n",
       "      <td>29.169</td>\n",
       "      <td>-999.000</td>\n",
       "      <td>-999.000</td>\n",
       "      <td>-999.000</td>\n",
       "      <td>2.897</td>\n",
       "      <td>1.526</td>\n",
       "      <td>138.178</td>\n",
       "      <td>0.365</td>\n",
       "      <td>-1.305</td>\n",
       "      <td>-999.000</td>\n",
       "      <td>78.800</td>\n",
       "      <td>0.654</td>\n",
       "      <td>1.547</td>\n",
       "      <td>28.740</td>\n",
       "      <td>0.506</td>\n",
       "      <td>-1.347</td>\n",
       "      <td>22.275</td>\n",
       "      <td>-1.761</td>\n",
       "      <td>187.299</td>\n",
       "      <td>1</td>\n",
       "      <td>30.638</td>\n",
       "      <td>-0.715</td>\n",
       "      <td>-1.724</td>\n",
       "      <td>-999.000</td>\n",
       "      <td>-999.000</td>\n",
       "      <td>-999.000</td>\n",
       "      <td>30.638</td>\n",
       "      <td>0.005721</td>\n",
       "      <td>s</td>\n",
       "      <td>t</td>\n",
       "      <td>0.018636</td>\n",
       "    </tr>\n",
       "    <tr>\n",
       "      <th>8</th>\n",
       "      <td>100008</td>\n",
       "      <td>105.594</td>\n",
       "      <td>50.559</td>\n",
       "      <td>100.989</td>\n",
       "      <td>4.288</td>\n",
       "      <td>-999.000</td>\n",
       "      <td>-999.000</td>\n",
       "      <td>-999.000</td>\n",
       "      <td>2.904</td>\n",
       "      <td>4.288</td>\n",
       "      <td>65.333</td>\n",
       "      <td>0.675</td>\n",
       "      <td>-1.366</td>\n",
       "      <td>-999.000</td>\n",
       "      <td>39.008</td>\n",
       "      <td>2.433</td>\n",
       "      <td>-2.532</td>\n",
       "      <td>26.325</td>\n",
       "      <td>0.210</td>\n",
       "      <td>1.884</td>\n",
       "      <td>37.791</td>\n",
       "      <td>0.024</td>\n",
       "      <td>129.804</td>\n",
       "      <td>0</td>\n",
       "      <td>-999.000</td>\n",
       "      <td>-999.000</td>\n",
       "      <td>-999.000</td>\n",
       "      <td>-999.000</td>\n",
       "      <td>-999.000</td>\n",
       "      <td>-999.000</td>\n",
       "      <td>0.000</td>\n",
       "      <td>1.614803</td>\n",
       "      <td>b</td>\n",
       "      <td>t</td>\n",
       "      <td>5.296003</td>\n",
       "    </tr>\n",
       "    <tr>\n",
       "      <th>9</th>\n",
       "      <td>100009</td>\n",
       "      <td>128.053</td>\n",
       "      <td>88.941</td>\n",
       "      <td>69.272</td>\n",
       "      <td>193.392</td>\n",
       "      <td>-999.000</td>\n",
       "      <td>-999.000</td>\n",
       "      <td>-999.000</td>\n",
       "      <td>1.609</td>\n",
       "      <td>28.859</td>\n",
       "      <td>255.123</td>\n",
       "      <td>0.599</td>\n",
       "      <td>0.538</td>\n",
       "      <td>-999.000</td>\n",
       "      <td>54.646</td>\n",
       "      <td>-1.533</td>\n",
       "      <td>0.416</td>\n",
       "      <td>32.742</td>\n",
       "      <td>-0.317</td>\n",
       "      <td>-0.636</td>\n",
       "      <td>132.678</td>\n",
       "      <td>0.845</td>\n",
       "      <td>294.741</td>\n",
       "      <td>1</td>\n",
       "      <td>167.735</td>\n",
       "      <td>-2.767</td>\n",
       "      <td>-2.514</td>\n",
       "      <td>-999.000</td>\n",
       "      <td>-999.000</td>\n",
       "      <td>-999.000</td>\n",
       "      <td>167.735</td>\n",
       "      <td>0.000461</td>\n",
       "      <td>s</td>\n",
       "      <td>t</td>\n",
       "      <td>0.001502</td>\n",
       "    </tr>\n",
       "  </tbody>\n",
       "</table>\n",
       "</div>"
      ],
      "text/plain": [
       "   EventId  DER_mass_MMC  DER_mass_transverse_met_lep  DER_mass_vis  DER_pt_h  \\\n",
       "0   100000       138.470                       51.655        97.827    27.980   \n",
       "1   100001       160.937                       68.768       103.235    48.146   \n",
       "2   100002      -999.000                      162.172       125.953    35.635   \n",
       "3   100003       143.905                       81.417        80.943     0.414   \n",
       "4   100004       175.864                       16.915       134.805    16.405   \n",
       "5   100005        89.744                       13.550        59.149   116.344   \n",
       "6   100006       148.754                       28.862       107.782   106.130   \n",
       "7   100007       154.916                       10.418        94.714    29.169   \n",
       "8   100008       105.594                       50.559       100.989     4.288   \n",
       "9   100009       128.053                       88.941        69.272   193.392   \n",
       "\n",
       "   DER_deltaeta_jet_jet  DER_mass_jet_jet  DER_prodeta_jet_jet  \\\n",
       "0                 0.910           124.711                2.666   \n",
       "1              -999.000          -999.000             -999.000   \n",
       "2              -999.000          -999.000             -999.000   \n",
       "3              -999.000          -999.000             -999.000   \n",
       "4              -999.000          -999.000             -999.000   \n",
       "5                 2.636           284.584               -0.540   \n",
       "6                 0.733           158.359                0.113   \n",
       "7              -999.000          -999.000             -999.000   \n",
       "8              -999.000          -999.000             -999.000   \n",
       "9              -999.000          -999.000             -999.000   \n",
       "\n",
       "   DER_deltar_tau_lep  DER_pt_tot  DER_sum_pt  DER_pt_ratio_lep_tau  \\\n",
       "0               3.064      41.928     197.760                 1.582   \n",
       "1               3.473       2.078     125.157                 0.879   \n",
       "2               3.148       9.336     197.814                 3.776   \n",
       "3               3.310       0.414      75.968                 2.354   \n",
       "4               3.891      16.405      57.983                 1.056   \n",
       "5               1.362      61.619     278.876                 0.588   \n",
       "6               2.941       2.545     305.967                 3.371   \n",
       "7               2.897       1.526     138.178                 0.365   \n",
       "8               2.904       4.288      65.333                 0.675   \n",
       "9               1.609      28.859     255.123                 0.599   \n",
       "\n",
       "   DER_met_phi_centrality  DER_lep_eta_centrality  PRI_tau_pt  PRI_tau_eta  \\\n",
       "0                   1.396                   0.200      32.638        1.017   \n",
       "1                   1.414                -999.000      42.014        2.039   \n",
       "2                   1.414                -999.000      32.154       -0.705   \n",
       "3                  -1.285                -999.000      22.647       -1.655   \n",
       "4                  -1.385                -999.000      28.209       -2.197   \n",
       "5                   0.479                   0.975      53.651        0.371   \n",
       "6                   1.393                   0.791      28.850        1.113   \n",
       "7                  -1.305                -999.000      78.800        0.654   \n",
       "8                  -1.366                -999.000      39.008        2.433   \n",
       "9                   0.538                -999.000      54.646       -1.533   \n",
       "\n",
       "   PRI_tau_phi  PRI_lep_pt  PRI_lep_eta  PRI_lep_phi  PRI_met  PRI_met_phi  \\\n",
       "0        0.381      51.626        2.273       -2.414   16.824       -0.277   \n",
       "1       -3.011      36.918        0.501        0.103   44.704       -1.916   \n",
       "2       -2.093     121.409       -0.953        1.052   54.283       -2.186   \n",
       "3        0.010      53.321       -0.522       -3.100   31.082        0.060   \n",
       "4       -2.231      29.774        0.798        1.569    2.723       -0.871   \n",
       "5        1.329      31.565       -0.884        1.857   40.735        2.237   \n",
       "6        2.409      97.240        0.675       -0.966   38.421       -1.443   \n",
       "7        1.547      28.740        0.506       -1.347   22.275       -1.761   \n",
       "8       -2.532      26.325        0.210        1.884   37.791        0.024   \n",
       "9        0.416      32.742       -0.317       -0.636  132.678        0.845   \n",
       "\n",
       "   PRI_met_sumet  PRI_jet_num  PRI_jet_leading_pt  PRI_jet_leading_eta  \\\n",
       "0        258.733            2              67.435                2.150   \n",
       "1        164.546            1              46.226                0.725   \n",
       "2        260.414            1              44.251                2.053   \n",
       "3         86.062            0            -999.000             -999.000   \n",
       "4         53.131            0            -999.000             -999.000   \n",
       "5        282.849            3              90.547               -2.412   \n",
       "6        294.074            2             123.010                0.864   \n",
       "7        187.299            1              30.638               -0.715   \n",
       "8        129.804            0            -999.000             -999.000   \n",
       "9        294.741            1             167.735               -2.767   \n",
       "\n",
       "   PRI_jet_leading_phi  PRI_jet_subleading_pt  PRI_jet_subleading_eta  \\\n",
       "0                0.444                 46.062                   1.240   \n",
       "1                1.158               -999.000                -999.000   \n",
       "2               -2.028               -999.000                -999.000   \n",
       "3             -999.000               -999.000                -999.000   \n",
       "4             -999.000               -999.000                -999.000   \n",
       "5               -0.653                 56.165                   0.224   \n",
       "6                1.450                 56.867                   0.131   \n",
       "7               -1.724               -999.000                -999.000   \n",
       "8             -999.000               -999.000                -999.000   \n",
       "9               -2.514               -999.000                -999.000   \n",
       "\n",
       "   PRI_jet_subleading_phi  PRI_jet_all_pt    Weight Label KaggleSet  \\\n",
       "0                  -2.475         113.497  0.000814     s         t   \n",
       "1                -999.000          46.226  0.681042     b         t   \n",
       "2                -999.000          44.251  0.715742     b         t   \n",
       "3                -999.000          -0.000  1.660654     b         t   \n",
       "4                -999.000           0.000  1.904263     b         t   \n",
       "5                   3.106         193.660  0.025434     b         t   \n",
       "6                  -2.767         179.877  0.000814     s         t   \n",
       "7                -999.000          30.638  0.005721     s         t   \n",
       "8                -999.000           0.000  1.614803     b         t   \n",
       "9                -999.000         167.735  0.000461     s         t   \n",
       "\n",
       "   KaggleWeight  \n",
       "0      0.002653  \n",
       "1      2.233584  \n",
       "2      2.347389  \n",
       "3      5.446378  \n",
       "4      6.245333  \n",
       "5      0.083414  \n",
       "6      0.002653  \n",
       "7      0.018636  \n",
       "8      5.296003  \n",
       "9      0.001502  "
      ]
     },
     "execution_count": 2,
     "metadata": {},
     "output_type": "execute_result"
    }
   ],
   "source": [
    "data_full = pd.read_csv('dataset_higgs_challenge.csv')\n",
    "data_full.head(10)"
   ]
  },
  {
   "cell_type": "code",
   "execution_count": 3,
   "metadata": {},
   "outputs": [
    {
     "name": "stdout",
     "output_type": "stream",
     "text": [
      "Total number of events:  818238 \n",
      "\n",
      "Number of events in the t KaggleSet: 250000\n",
      "Number of events in the b KaggleSet: 100000\n",
      "Number of events in the v KaggleSet: 450000\n",
      "Number of events in the u KaggleSet: 18238\n"
     ]
    }
   ],
   "source": [
    "print('Total number of events: ', len(data_full), '\\n')\n",
    "for KaggleSetID in ['t', 'b', 'v', 'u']:\n",
    "    print('Number of events in the {} KaggleSet: {}'\n",
    "          .format(KaggleSetID, len(data_full['KaggleSet'][data_full['KaggleSet']==KaggleSetID])))"
   ]
  },
  {
   "cell_type": "markdown",
   "metadata": {},
   "source": [
    "## Now let's split the data into training and validation set"
   ]
  },
  {
   "cell_type": "code",
   "execution_count": 4,
   "metadata": {},
   "outputs": [
    {
     "data": {
      "text/plain": [
       "(250000, 100000)"
      ]
     },
     "execution_count": 4,
     "metadata": {},
     "output_type": "execute_result"
    }
   ],
   "source": [
    "train_data = data_full[data_full['KaggleSet']=='t']\n",
    "validation_data = data_full[data_full['KaggleSet']=='b']\n",
    "\n",
    "y_train = pd.get_dummies(train_data['Label']).values.astype(float) #signal = [0,1], background = [1,0]\n",
    "y_val = pd.get_dummies(validation_data['Label']).values.astype(float)\n",
    "\n",
    "del(data_full) #delete memory because I dont need the test set at the moment \n",
    "len(train_data), len(validation_data)"
   ]
  },
  {
   "cell_type": "markdown",
   "metadata": {},
   "source": [
    "## Lets divide the dataset according to the number of jets because of the different event topologies"
   ]
  },
  {
   "cell_type": "code",
   "execution_count": 5,
   "metadata": {},
   "outputs": [],
   "source": [
    "X = train_data.iloc[:,1:-4]\n",
    "X_val = validation_data.iloc[:,1:-4]\n",
    "\n",
    "\n",
    "##### 0 jets\n",
    "X_0jets = X[ X['PRI_jet_num']==0 ].drop(['DER_deltaeta_jet_jet', 'DER_mass_jet_jet', 'DER_prodeta_jet_jet', \n",
    "                                         'DER_lep_eta_centrality', 'PRI_jet_num', 'PRI_jet_leading_pt', \n",
    "                                         'PRI_jet_leading_eta', 'PRI_jet_leading_phi', 'PRI_jet_subleading_pt', \n",
    "                                         'PRI_jet_subleading_eta', 'PRI_jet_subleading_phi', 'PRI_jet_all_pt', 'PRI_jet_num'], \n",
    "                                        axis =1)\n",
    "X_val_0jets = X_val[ X_val['PRI_jet_num']==0 ].drop(['DER_deltaeta_jet_jet', 'DER_mass_jet_jet', 'DER_prodeta_jet_jet', \n",
    "                                         'DER_lep_eta_centrality', 'PRI_jet_num', 'PRI_jet_leading_pt', \n",
    "                                         'PRI_jet_leading_eta', 'PRI_jet_leading_phi', 'PRI_jet_subleading_pt', \n",
    "                                         'PRI_jet_subleading_eta', 'PRI_jet_subleading_phi', 'PRI_jet_all_pt', 'PRI_jet_num'], \n",
    "                                        axis =1)\n",
    "y_train_0jets = y_train[ X['PRI_jet_num']==0 ]\n",
    "y_val_0jets = y_val[ X_val['PRI_jet_num']==0 ]\n",
    "\n",
    "\n",
    "##### 1 jet\n",
    "X_1jet = X[ X['PRI_jet_num']==1 ].drop(['DER_deltaeta_jet_jet', 'DER_mass_jet_jet', 'DER_prodeta_jet_jet', \n",
    "                                        'PRI_jet_subleading_pt', 'PRI_jet_subleading_eta', 'PRI_jet_subleading_phi', \n",
    "                                        'DER_lep_eta_centrality', 'PRI_jet_num'], axis=1)\n",
    "X_val_1jet = X_val[ X_val['PRI_jet_num']==1 ].drop(['DER_deltaeta_jet_jet', 'DER_mass_jet_jet', 'DER_prodeta_jet_jet', \n",
    "                                        'PRI_jet_subleading_pt', 'PRI_jet_subleading_eta', 'PRI_jet_subleading_phi', \n",
    "                                        'DER_lep_eta_centrality', 'PRI_jet_num'], axis=1)\n",
    "y_train_1jet = y_train[ X['PRI_jet_num']==1 ]\n",
    "y_val_1jet = y_val[ X_val['PRI_jet_num']==1 ]\n",
    "\n",
    "\n",
    "##### 2 or 3 jets, maybe I can also try with a separation between the 2 and 3 jets \n",
    "X_2jets = X[ X['PRI_jet_num']>=2 ]\n",
    "X_val_2jets = X_val[ X_val['PRI_jet_num']>=2 ]\n",
    "y_train_2jets = y_train[ X['PRI_jet_num']>=2 ]\n",
    "y_val_2jets = y_val[ X_val['PRI_jet_num']>=2 ]\n",
    "\n",
    "\n",
    "##### Idea: build a 2 jets category where the VBF cuts are opposite and train a new NN \n",
    "\n",
    "\n",
    "##### VBF category, not sure if I should really use this \n",
    "X_VBF = X_2jets [ (X_2jets['PRI_jet_leading_pt'] >= 50) & (X_2jets['PRI_jet_subleading_pt'] >= 30) & \n",
    "                 (X_2jets['DER_deltaeta_jet_jet'] >= 3) & (X_2jets['DER_mass_vis']>=40) ]\n",
    "X_val_VBF = X_val_2jets [ (X_val_2jets['PRI_jet_leading_pt'] >= 50) & (X_val_2jets['PRI_jet_subleading_pt'] >= 30)\n",
    "                         & (X_val_2jets['DER_deltaeta_jet_jet'] >= 3) & (X_val_2jets['DER_mass_vis']>=40) ]\n",
    "y_train_VBF = y_train_2jets [ (X_2jets['PRI_jet_leading_pt'] >= 50) & (X_2jets['PRI_jet_subleading_pt'] >= 30) &\n",
    "                             (X_2jets['DER_deltaeta_jet_jet'] >= 3) & (X_2jets['DER_mass_vis']>=40) ]\n",
    "y_val_VBF = y_val_2jets [ (X_val_2jets['PRI_jet_leading_pt'] >= 50) & (X_val_2jets['PRI_jet_subleading_pt'] >= 30) \n",
    "                         & (X_val_2jets['DER_deltaeta_jet_jet'] >= 3) & (X_val_2jets['DER_mass_vis']>=40) ]"
   ]
  },
  {
   "cell_type": "code",
   "execution_count": 60,
   "metadata": {},
   "outputs": [
    {
     "data": {
      "text/plain": [
       "(72543, 21257)"
      ]
     },
     "execution_count": 60,
     "metadata": {},
     "output_type": "execute_result"
    }
   ],
   "source": [
    "len(X_2jets), len(X_VBF)"
   ]
  },
  {
   "cell_type": "markdown",
   "metadata": {},
   "source": [
    "### Later we will also need the weights:"
   ]
  },
  {
   "cell_type": "code",
   "execution_count": 7,
   "metadata": {},
   "outputs": [],
   "source": [
    "weights = validation_data['Weight']\n",
    "\n",
    "weights_0jets = weights[ X_val['PRI_jet_num']==0 ].reset_index(drop=True)\n",
    "weights_1jet = weights[ X_val['PRI_jet_num']==1 ].reset_index(drop=True)\n",
    "weights_2jets = weights[ X_val['PRI_jet_num']>=2 ]\n",
    "weights_VBF = weights_2jets [ (X_val_2jets['PRI_jet_leading_pt'] >= 50) & (X_val_2jets['PRI_jet_subleading_pt'] >= 30) \n",
    "                         & (X_val_2jets['DER_deltaeta_jet_jet'] >= 3) & (X_val_2jets['DER_mass_vis']>=40) ].reset_index(drop=True)\n",
    "weights_2jets = weights_2jets.reset_index(drop=True)"
   ]
  },
  {
   "cell_type": "markdown",
   "metadata": {},
   "source": [
    "## Let's perform a scaling of input variables"
   ]
  },
  {
   "cell_type": "code",
   "execution_count": 8,
   "metadata": {},
   "outputs": [
    {
     "name": "stderr",
     "output_type": "stream",
     "text": [
      "C:\\Users\\flori\\Anaconda3\\lib\\site-packages\\sklearn\\preprocessing\\data.py:645: DataConversionWarning: Data with input dtype int64, float64 were all converted to float64 by StandardScaler.\n",
      "  return self.partial_fit(X, y)\n",
      "C:\\Users\\flori\\Anaconda3\\lib\\site-packages\\ipykernel_launcher.py:5: DataConversionWarning: Data with input dtype int64, float64 were all converted to float64 by StandardScaler.\n",
      "  \"\"\"\n",
      "C:\\Users\\flori\\Anaconda3\\lib\\site-packages\\ipykernel_launcher.py:6: DataConversionWarning: Data with input dtype int64, float64 were all converted to float64 by StandardScaler.\n",
      "  \n"
     ]
    }
   ],
   "source": [
    "from sklearn.preprocessing import StandardScaler #This is the best one (I tried also other of course)\n",
    "\n",
    "standard_VBF = StandardScaler()\n",
    "standard_VBF.fit(X_VBF)\n",
    "X_VBF_standard = standard_VBF.transform(X_VBF)\n",
    "X_val_VBF_standard = standard_VBF.transform(X_val_VBF)"
   ]
  },
  {
   "cell_type": "markdown",
   "metadata": {},
   "source": [
    "## Now let's use a DNN"
   ]
  },
  {
   "cell_type": "code",
   "execution_count": 9,
   "metadata": {},
   "outputs": [
    {
     "name": "stderr",
     "output_type": "stream",
     "text": [
      "Using TensorFlow backend.\n"
     ]
    },
    {
     "name": "stdout",
     "output_type": "stream",
     "text": [
      "Model: \"sequential_1\"\n",
      "_________________________________________________________________\n",
      "Layer (type)                 Output Shape              Param #   \n",
      "=================================================================\n",
      "dense_1 (Dense)              (None, 128)               3968      \n",
      "_________________________________________________________________\n",
      "dropout_1 (Dropout)          (None, 128)               0         \n",
      "_________________________________________________________________\n",
      "dense_2 (Dense)              (None, 64)                8256      \n",
      "_________________________________________________________________\n",
      "dropout_2 (Dropout)          (None, 64)                0         \n",
      "_________________________________________________________________\n",
      "dense_3 (Dense)              (None, 32)                2080      \n",
      "_________________________________________________________________\n",
      "dropout_3 (Dropout)          (None, 32)                0         \n",
      "_________________________________________________________________\n",
      "dense_4 (Dense)              (None, 16)                528       \n",
      "_________________________________________________________________\n",
      "dropout_4 (Dropout)          (None, 16)                0         \n",
      "_________________________________________________________________\n",
      "dense_5 (Dense)              (None, 8)                 136       \n",
      "_________________________________________________________________\n",
      "dropout_5 (Dropout)          (None, 8)                 0         \n",
      "_________________________________________________________________\n",
      "dense_6 (Dense)              (None, 4)                 36        \n",
      "_________________________________________________________________\n",
      "dropout_6 (Dropout)          (None, 4)                 0         \n",
      "_________________________________________________________________\n",
      "dense_7 (Dense)              (None, 2)                 10        \n",
      "=================================================================\n",
      "Total params: 15,014\n",
      "Trainable params: 15,014\n",
      "Non-trainable params: 0\n",
      "_________________________________________________________________\n"
     ]
    }
   ],
   "source": [
    "from keras.models import Sequential\n",
    "from keras.layers import Dense, Activation\n",
    "from keras import regularizers\n",
    "from keras.regularizers import l1\n",
    "from keras.layers import Dropout\n",
    "#Too much higher validation loss in data. So i added a regularizer.\n",
    "#I added also dropout to have better shape. \n",
    "\n",
    "model_1 = Sequential()\n",
    "l1_lambda = 0.0001\n",
    "dropout=0.2\n",
    "model_1.add(Dense(units=128, activation='relu', kernel_regularizer=l1(l1_lambda), input_dim=30))\n",
    "model_1.add(Dropout(dropout))\n",
    "model_1.add(Dense(units=64, activation='relu', kernel_regularizer=l1(l1_lambda)))\n",
    "model_1.add(Dropout(dropout))\n",
    "model_1.add(Dense(units=32, activation='relu', kernel_regularizer=l1(l1_lambda)))\n",
    "model_1.add(Dropout(dropout))\n",
    "model_1.add(Dense(units=16, activation='relu', kernel_regularizer=l1(l1_lambda)))\n",
    "model_1.add(Dropout(dropout))\n",
    "model_1.add(Dense(units=8, activation='relu', kernel_regularizer=l1(l1_lambda)))\n",
    "model_1.add(Dropout(dropout))\n",
    "model_1.add(Dense(units=4, activation='relu', kernel_regularizer=l1(l1_lambda)))\n",
    "model_1.add(Dropout(dropout))\n",
    "model_1.add(Dense(units=2, activation='softmax'))\n",
    "\n",
    "model_1.summary()"
   ]
  },
  {
   "cell_type": "code",
   "execution_count": 10,
   "metadata": {},
   "outputs": [],
   "source": [
    "model_1.compile(optimizer='adagrad', #adagrad is the best one for this classification.\n",
    "              loss='categorical_crossentropy', #This seems one of the best loss function.\n",
    "              metrics=['accuracy'])"
   ]
  },
  {
   "cell_type": "code",
   "execution_count": 11,
   "metadata": {},
   "outputs": [
    {
     "name": "stdout",
     "output_type": "stream",
     "text": [
      "Train on 21257 samples, validate on 8489 samples\n",
      "Epoch 1/100\n",
      "21257/21257 [==============================] - 1s 30us/step - loss: 0.6706 - accuracy: 0.6940 - val_loss: 0.5885 - val_accuracy: 0.7008\n",
      "Epoch 2/100\n",
      "21257/21257 [==============================] - 0s 15us/step - loss: 0.6015 - accuracy: 0.7121 - val_loss: 0.5494 - val_accuracy: 0.8235\n",
      "Epoch 3/100\n",
      "21257/21257 [==============================] - 0s 13us/step - loss: 0.5743 - accuracy: 0.8091 - val_loss: 0.5225 - val_accuracy: 0.8389\n",
      "Epoch 4/100\n",
      "21257/21257 [==============================] - 0s 16us/step - loss: 0.5458 - accuracy: 0.8260 - val_loss: 0.5064 - val_accuracy: 0.8510\n",
      "Epoch 5/100\n",
      "21257/21257 [==============================] - 0s 13us/step - loss: 0.5323 - accuracy: 0.8383 - val_loss: 0.4908 - val_accuracy: 0.8535\n",
      "Epoch 6/100\n",
      "21257/21257 [==============================] - 0s 15us/step - loss: 0.5183 - accuracy: 0.8458 - val_loss: 0.4801 - val_accuracy: 0.8581\n",
      "Epoch 7/100\n",
      "21257/21257 [==============================] - 0s 15us/step - loss: 0.4995 - accuracy: 0.8455 - val_loss: 0.4725 - val_accuracy: 0.8568\n",
      "Epoch 8/100\n",
      "21257/21257 [==============================] - 0s 18us/step - loss: 0.4931 - accuracy: 0.8486 - val_loss: 0.4654 - val_accuracy: 0.8592\n",
      "Epoch 9/100\n",
      "21257/21257 [==============================] - 0s 20us/step - loss: 0.4859 - accuracy: 0.8539 - val_loss: 0.4587 - val_accuracy: 0.8597\n",
      "Epoch 10/100\n",
      "21257/21257 [==============================] - 0s 20us/step - loss: 0.4786 - accuracy: 0.8559 - val_loss: 0.4553 - val_accuracy: 0.8603\n",
      "Epoch 11/100\n",
      "21257/21257 [==============================] - 0s 21us/step - loss: 0.4728 - accuracy: 0.8557 - val_loss: 0.4507 - val_accuracy: 0.8601\n",
      "Epoch 12/100\n",
      "21257/21257 [==============================] - 0s 19us/step - loss: 0.4661 - accuracy: 0.8573 - val_loss: 0.4452 - val_accuracy: 0.8655\n",
      "Epoch 13/100\n",
      "21257/21257 [==============================] - 0s 20us/step - loss: 0.4636 - accuracy: 0.8592 - val_loss: 0.4406 - val_accuracy: 0.8644\n",
      "Epoch 14/100\n",
      "21257/21257 [==============================] - 0s 19us/step - loss: 0.4583 - accuracy: 0.8612 - val_loss: 0.4372 - val_accuracy: 0.8635\n",
      "Epoch 15/100\n",
      "21257/21257 [==============================] - 0s 16us/step - loss: 0.4516 - accuracy: 0.8608 - val_loss: 0.4337 - val_accuracy: 0.8661\n",
      "Epoch 16/100\n",
      "21257/21257 [==============================] - 0s 14us/step - loss: 0.4521 - accuracy: 0.8606 - val_loss: 0.4316 - val_accuracy: 0.8655\n",
      "Epoch 17/100\n",
      "21257/21257 [==============================] - 0s 16us/step - loss: 0.4497 - accuracy: 0.8616 - val_loss: 0.4287 - val_accuracy: 0.8623\n",
      "Epoch 18/100\n",
      "21257/21257 [==============================] - 0s 13us/step - loss: 0.4468 - accuracy: 0.8610 - val_loss: 0.4241 - val_accuracy: 0.8681\n",
      "Epoch 19/100\n",
      "21257/21257 [==============================] - 0s 14us/step - loss: 0.4399 - accuracy: 0.8655 - val_loss: 0.4246 - val_accuracy: 0.8643\n",
      "Epoch 20/100\n",
      "21257/21257 [==============================] - 0s 16us/step - loss: 0.4398 - accuracy: 0.8641 - val_loss: 0.4225 - val_accuracy: 0.8677\n",
      "Epoch 21/100\n",
      "21257/21257 [==============================] - 0s 13us/step - loss: 0.4372 - accuracy: 0.8643 - val_loss: 0.4196 - val_accuracy: 0.8685\n",
      "Epoch 22/100\n",
      "21257/21257 [==============================] - 0s 15us/step - loss: 0.4327 - accuracy: 0.8663 - val_loss: 0.4185 - val_accuracy: 0.8670\n",
      "Epoch 23/100\n",
      "21257/21257 [==============================] - 0s 13us/step - loss: 0.4309 - accuracy: 0.8680 - val_loss: 0.4133 - val_accuracy: 0.8696\n",
      "Epoch 24/100\n",
      "21257/21257 [==============================] - 0s 15us/step - loss: 0.4279 - accuracy: 0.8670 - val_loss: 0.4120 - val_accuracy: 0.8685\n",
      "Epoch 25/100\n",
      "21257/21257 [==============================] - 0s 13us/step - loss: 0.4269 - accuracy: 0.8656 - val_loss: 0.4121 - val_accuracy: 0.8710\n",
      "Epoch 26/100\n",
      "21257/21257 [==============================] - 0s 16us/step - loss: 0.4263 - accuracy: 0.8663 - val_loss: 0.4097 - val_accuracy: 0.8722\n",
      "Epoch 27/100\n",
      "21257/21257 [==============================] - 0s 16us/step - loss: 0.4177 - accuracy: 0.8707 - val_loss: 0.4063 - val_accuracy: 0.8716\n",
      "Epoch 28/100\n",
      "21257/21257 [==============================] - 0s 16us/step - loss: 0.4202 - accuracy: 0.8654 - val_loss: 0.4082 - val_accuracy: 0.8679\n",
      "Epoch 29/100\n",
      "21257/21257 [==============================] - 0s 14us/step - loss: 0.4211 - accuracy: 0.8657 - val_loss: 0.4038 - val_accuracy: 0.8707\n",
      "Epoch 30/100\n",
      "21257/21257 [==============================] - 0s 16us/step - loss: 0.4165 - accuracy: 0.8711 - val_loss: 0.4023 - val_accuracy: 0.8722\n",
      "Epoch 31/100\n",
      "21257/21257 [==============================] - 0s 13us/step - loss: 0.4127 - accuracy: 0.8695 - val_loss: 0.4053 - val_accuracy: 0.8720\n",
      "Epoch 32/100\n",
      "21257/21257 [==============================] - 0s 16us/step - loss: 0.4130 - accuracy: 0.8701 - val_loss: 0.4007 - val_accuracy: 0.8721\n",
      "Epoch 33/100\n",
      "21257/21257 [==============================] - 0s 15us/step - loss: 0.4127 - accuracy: 0.8708 - val_loss: 0.3985 - val_accuracy: 0.8720\n",
      "Epoch 34/100\n",
      "21257/21257 [==============================] - 0s 13us/step - loss: 0.4098 - accuracy: 0.8687 - val_loss: 0.3980 - val_accuracy: 0.8737\n",
      "Epoch 35/100\n",
      "21257/21257 [==============================] - 0s 14us/step - loss: 0.4081 - accuracy: 0.8707 - val_loss: 0.3996 - val_accuracy: 0.8714\n",
      "Epoch 36/100\n",
      "21257/21257 [==============================] - 0s 17us/step - loss: 0.4093 - accuracy: 0.8703 - val_loss: 0.3960 - val_accuracy: 0.8729\n",
      "Epoch 37/100\n",
      "21257/21257 [==============================] - 0s 17us/step - loss: 0.4098 - accuracy: 0.8692 - val_loss: 0.3962 - val_accuracy: 0.8735\n",
      "Epoch 38/100\n",
      "21257/21257 [==============================] - 0s 17us/step - loss: 0.4033 - accuracy: 0.8710 - val_loss: 0.3946 - val_accuracy: 0.8741\n",
      "Epoch 39/100\n",
      "21257/21257 [==============================] - 0s 18us/step - loss: 0.4024 - accuracy: 0.8726 - val_loss: 0.3943 - val_accuracy: 0.8724\n",
      "Epoch 40/100\n",
      "21257/21257 [==============================] - 0s 16us/step - loss: 0.4077 - accuracy: 0.8682 - val_loss: 0.3917 - val_accuracy: 0.8736\n",
      "Epoch 41/100\n",
      "21257/21257 [==============================] - 0s 18us/step - loss: 0.4023 - accuracy: 0.8725 - val_loss: 0.3931 - val_accuracy: 0.8718\n",
      "Epoch 42/100\n",
      "21257/21257 [==============================] - 0s 16us/step - loss: 0.4006 - accuracy: 0.8732 - val_loss: 0.3908 - val_accuracy: 0.8737\n",
      "Epoch 43/100\n",
      "21257/21257 [==============================] - 0s 17us/step - loss: 0.4000 - accuracy: 0.8725 - val_loss: 0.3910 - val_accuracy: 0.8723\n",
      "Epoch 44/100\n",
      "21257/21257 [==============================] - 0s 18us/step - loss: 0.4038 - accuracy: 0.8708 - val_loss: 0.3886 - val_accuracy: 0.8741\n",
      "Epoch 45/100\n",
      "21257/21257 [==============================] - 0s 16us/step - loss: 0.3984 - accuracy: 0.8711 - val_loss: 0.3878 - val_accuracy: 0.8732\n",
      "Epoch 46/100\n",
      "21257/21257 [==============================] - 0s 16us/step - loss: 0.3981 - accuracy: 0.8725 - val_loss: 0.3900 - val_accuracy: 0.8738\n",
      "Epoch 47/100\n",
      "21257/21257 [==============================] - 0s 18us/step - loss: 0.3995 - accuracy: 0.8715 - val_loss: 0.3864 - val_accuracy: 0.8751\n",
      "Epoch 48/100\n",
      "21257/21257 [==============================] - 0s 16us/step - loss: 0.3951 - accuracy: 0.8732 - val_loss: 0.3869 - val_accuracy: 0.8736\n",
      "Epoch 49/100\n",
      "21257/21257 [==============================] - 0s 17us/step - loss: 0.3968 - accuracy: 0.8732 - val_loss: 0.3848 - val_accuracy: 0.8753\n",
      "Epoch 50/100\n",
      "21257/21257 [==============================] - 0s 18us/step - loss: 0.3961 - accuracy: 0.8720 - val_loss: 0.3858 - val_accuracy: 0.8740\n",
      "Epoch 51/100\n",
      "21257/21257 [==============================] - 0s 16us/step - loss: 0.3968 - accuracy: 0.8736 - val_loss: 0.3866 - val_accuracy: 0.8734\n",
      "Epoch 52/100\n",
      "21257/21257 [==============================] - 0s 19us/step - loss: 0.3918 - accuracy: 0.8733 - val_loss: 0.3853 - val_accuracy: 0.8742\n",
      "Epoch 53/100\n",
      "21257/21257 [==============================] - 0s 16us/step - loss: 0.3894 - accuracy: 0.8741 - val_loss: 0.3842 - val_accuracy: 0.8736\n",
      "Epoch 54/100\n",
      "21257/21257 [==============================] - 0s 17us/step - loss: 0.3944 - accuracy: 0.8721 - val_loss: 0.3843 - val_accuracy: 0.8729\n",
      "Epoch 55/100\n",
      "21257/21257 [==============================] - 0s 19us/step - loss: 0.3914 - accuracy: 0.8735 - val_loss: 0.3835 - val_accuracy: 0.8718\n"
     ]
    },
    {
     "name": "stdout",
     "output_type": "stream",
     "text": [
      "Epoch 56/100\n",
      "21257/21257 [==============================] - 0s 16us/step - loss: 0.3887 - accuracy: 0.8732 - val_loss: 0.3825 - val_accuracy: 0.8750\n",
      "Epoch 57/100\n",
      "21257/21257 [==============================] - 0s 17us/step - loss: 0.3891 - accuracy: 0.8737 - val_loss: 0.3813 - val_accuracy: 0.8745\n",
      "Epoch 58/100\n",
      "21257/21257 [==============================] - 0s 16us/step - loss: 0.3865 - accuracy: 0.8730 - val_loss: 0.3828 - val_accuracy: 0.8756\n",
      "Epoch 59/100\n",
      "21257/21257 [==============================] - 0s 16us/step - loss: 0.3909 - accuracy: 0.8728 - val_loss: 0.3807 - val_accuracy: 0.8756\n",
      "Epoch 60/100\n",
      "21257/21257 [==============================] - 0s 16us/step - loss: 0.3878 - accuracy: 0.8749 - val_loss: 0.3796 - val_accuracy: 0.8760\n",
      "Epoch 61/100\n",
      "21257/21257 [==============================] - 0s 16us/step - loss: 0.3872 - accuracy: 0.8737 - val_loss: 0.3787 - val_accuracy: 0.8753\n",
      "Epoch 62/100\n",
      "21257/21257 [==============================] - 0s 16us/step - loss: 0.3869 - accuracy: 0.8739 - val_loss: 0.3800 - val_accuracy: 0.8747\n",
      "Epoch 63/100\n",
      "21257/21257 [==============================] - 0s 16us/step - loss: 0.3830 - accuracy: 0.8739 - val_loss: 0.3796 - val_accuracy: 0.8731\n",
      "Epoch 64/100\n",
      "21257/21257 [==============================] - 0s 16us/step - loss: 0.3845 - accuracy: 0.8739 - val_loss: 0.3772 - val_accuracy: 0.8760\n",
      "Epoch 65/100\n",
      "21257/21257 [==============================] - 0s 16us/step - loss: 0.3808 - accuracy: 0.8749 - val_loss: 0.3794 - val_accuracy: 0.8768\n",
      "Epoch 66/100\n",
      "21257/21257 [==============================] - 0s 16us/step - loss: 0.3822 - accuracy: 0.8745 - val_loss: 0.3789 - val_accuracy: 0.8753\n",
      "Epoch 67/100\n",
      "21257/21257 [==============================] - 0s 16us/step - loss: 0.3824 - accuracy: 0.8753 - val_loss: 0.3766 - val_accuracy: 0.8740\n",
      "Epoch 68/100\n",
      "21257/21257 [==============================] - 0s 16us/step - loss: 0.3826 - accuracy: 0.8738 - val_loss: 0.3777 - val_accuracy: 0.8754\n",
      "Epoch 69/100\n",
      "21257/21257 [==============================] - 0s 17us/step - loss: 0.3782 - accuracy: 0.8765 - val_loss: 0.3760 - val_accuracy: 0.8745\n",
      "Epoch 70/100\n",
      "21257/21257 [==============================] - 0s 18us/step - loss: 0.3818 - accuracy: 0.8769 - val_loss: 0.3748 - val_accuracy: 0.8743\n",
      "Epoch 71/100\n",
      "21257/21257 [==============================] - 0s 16us/step - loss: 0.3851 - accuracy: 0.8736 - val_loss: 0.3746 - val_accuracy: 0.8774\n",
      "Epoch 72/100\n",
      "21257/21257 [==============================] - 0s 17us/step - loss: 0.3798 - accuracy: 0.8768 - val_loss: 0.3754 - val_accuracy: 0.8755\n",
      "Epoch 73/100\n",
      "21257/21257 [==============================] - 0s 19us/step - loss: 0.3807 - accuracy: 0.8733 - val_loss: 0.3729 - val_accuracy: 0.8767\n",
      "Epoch 74/100\n",
      "21257/21257 [==============================] - 0s 16us/step - loss: 0.3807 - accuracy: 0.8746 - val_loss: 0.3741 - val_accuracy: 0.8750\n",
      "Epoch 75/100\n",
      "21257/21257 [==============================] - 0s 16us/step - loss: 0.3750 - accuracy: 0.8760 - val_loss: 0.3778 - val_accuracy: 0.8761\n",
      "Epoch 76/100\n",
      "21257/21257 [==============================] - 0s 17us/step - loss: 0.3813 - accuracy: 0.8759 - val_loss: 0.3743 - val_accuracy: 0.8749\n",
      "Epoch 77/100\n",
      "21257/21257 [==============================] - 0s 16us/step - loss: 0.3790 - accuracy: 0.8740 - val_loss: 0.3717 - val_accuracy: 0.8758\n",
      "Epoch 78/100\n",
      "21257/21257 [==============================] - 0s 16us/step - loss: 0.3788 - accuracy: 0.8752 - val_loss: 0.3735 - val_accuracy: 0.8750\n",
      "Epoch 79/100\n",
      "21257/21257 [==============================] - 0s 17us/step - loss: 0.3739 - accuracy: 0.8772 - val_loss: 0.3740 - val_accuracy: 0.8755\n",
      "Epoch 80/100\n",
      "21257/21257 [==============================] - 0s 16us/step - loss: 0.3782 - accuracy: 0.8746 - val_loss: 0.3732 - val_accuracy: 0.8757\n",
      "Epoch 81/100\n",
      "21257/21257 [==============================] - 0s 16us/step - loss: 0.3730 - accuracy: 0.8773 - val_loss: 0.3732 - val_accuracy: 0.8760\n",
      "Epoch 82/100\n",
      "21257/21257 [==============================] - 0s 16us/step - loss: 0.3733 - accuracy: 0.8762 - val_loss: 0.3721 - val_accuracy: 0.8760\n",
      "Epoch 83/100\n",
      "21257/21257 [==============================] - 0s 16us/step - loss: 0.3750 - accuracy: 0.8773 - val_loss: 0.3719 - val_accuracy: 0.8751\n",
      "Epoch 84/100\n",
      "21257/21257 [==============================] - 0s 16us/step - loss: 0.3736 - accuracy: 0.8751 - val_loss: 0.3718 - val_accuracy: 0.8761\n",
      "Epoch 85/100\n",
      "21257/21257 [==============================] - 0s 16us/step - loss: 0.3722 - accuracy: 0.8747 - val_loss: 0.3731 - val_accuracy: 0.8760\n",
      "Epoch 86/100\n",
      "21257/21257 [==============================] - 0s 16us/step - loss: 0.3746 - accuracy: 0.8774 - val_loss: 0.3734 - val_accuracy: 0.8762\n",
      "Epoch 87/100\n",
      "21257/21257 [==============================] - 0s 18us/step - loss: 0.3731 - accuracy: 0.8764 - val_loss: 0.3725 - val_accuracy: 0.8767\n",
      "Epoch 88/100\n",
      "21257/21257 [==============================] - 0s 16us/step - loss: 0.3723 - accuracy: 0.8765 - val_loss: 0.3725 - val_accuracy: 0.8770\n",
      "Epoch 89/100\n",
      "21257/21257 [==============================] - 0s 16us/step - loss: 0.3704 - accuracy: 0.8768 - val_loss: 0.3705 - val_accuracy: 0.8745\n",
      "Epoch 90/100\n",
      "21257/21257 [==============================] - 0s 17us/step - loss: 0.3687 - accuracy: 0.8767 - val_loss: 0.3728 - val_accuracy: 0.8771\n",
      "Epoch 91/100\n",
      "21257/21257 [==============================] - 0s 16us/step - loss: 0.3714 - accuracy: 0.8749 - val_loss: 0.3730 - val_accuracy: 0.8773\n",
      "Epoch 92/100\n",
      "21257/21257 [==============================] - 0s 16us/step - loss: 0.3710 - accuracy: 0.8744 - val_loss: 0.3721 - val_accuracy: 0.8722\n",
      "Epoch 93/100\n",
      "21257/21257 [==============================] - 0s 16us/step - loss: 0.3702 - accuracy: 0.8787 - val_loss: 0.3733 - val_accuracy: 0.8767\n",
      "Epoch 94/100\n",
      "21257/21257 [==============================] - 0s 16us/step - loss: 0.3687 - accuracy: 0.8797 - val_loss: 0.3704 - val_accuracy: 0.8774\n",
      "Epoch 95/100\n",
      "21257/21257 [==============================] - 0s 16us/step - loss: 0.3717 - accuracy: 0.8772 - val_loss: 0.3695 - val_accuracy: 0.8761\n",
      "Epoch 96/100\n",
      "21257/21257 [==============================] - 0s 16us/step - loss: 0.3700 - accuracy: 0.8759 - val_loss: 0.3694 - val_accuracy: 0.8764\n",
      "Epoch 97/100\n",
      "21257/21257 [==============================] - 0s 17us/step - loss: 0.3664 - accuracy: 0.8802 - val_loss: 0.3678 - val_accuracy: 0.8764\n",
      "Epoch 98/100\n",
      "21257/21257 [==============================] - 0s 18us/step - loss: 0.3707 - accuracy: 0.8760 - val_loss: 0.3694 - val_accuracy: 0.8773\n",
      "Epoch 99/100\n",
      "21257/21257 [==============================] - 0s 18us/step - loss: 0.3662 - accuracy: 0.8796 - val_loss: 0.3697 - val_accuracy: 0.8751\n",
      "Epoch 100/100\n",
      "21257/21257 [==============================] - 0s 16us/step - loss: 0.3672 - accuracy: 0.8782 - val_loss: 0.3693 - val_accuracy: 0.8760\n"
     ]
    }
   ],
   "source": [
    "history = model_1.fit(X_VBF_standard, y_train_VBF, batch_size=512, epochs=100, verbose=1, \n",
    "                  validation_data=(X_val_VBF_standard, y_val_VBF))\n",
    "\n",
    "y_pred = model_1.predict(X_val_VBF_standard)"
   ]
  },
  {
   "cell_type": "markdown",
   "metadata": {},
   "source": [
    "We can now plot the loss evolution over the training epochs for the training and validation dataset:"
   ]
  },
  {
   "cell_type": "code",
   "execution_count": 12,
   "metadata": {},
   "outputs": [
    {
     "data": {
      "image/png": "[encoded data removed]",
      "text/plain": [
       "<Figure size 432x288 with 1 Axes>"
      ]
     },
     "metadata": {
      "needs_background": "light"
     },
     "output_type": "display_data"
    }
   ],
   "source": [
    "plt.plot(history.history['loss'])\n",
    "plt.plot(history.history['val_loss'])\n",
    "plt.title('model loss')\n",
    "plt.ylabel('loss')\n",
    "plt.xlabel('epoch')\n",
    "plt.legend(['training', 'validation'], loc='upper right')\n",
    "plt.show()"
   ]
  },
  {
   "cell_type": "markdown",
   "metadata": {},
   "source": [
    "We can plot also the accuracy:"
   ]
  },
  {
   "cell_type": "code",
   "execution_count": 13,
   "metadata": {},
   "outputs": [
    {
     "data": {
      "image/png": "[encoded data removed]",
      "text/plain": [
       "<Figure size 432x288 with 1 Axes>"
      ]
     },
     "metadata": {
      "needs_background": "light"
     },
     "output_type": "display_data"
    }
   ],
   "source": [
    "plt.plot(history.history['accuracy'])\n",
    "plt.plot(history.history['val_accuracy'])\n",
    "plt.title('model accuracy')\n",
    "plt.ylabel('accuracy')\n",
    "plt.xlabel('epoch')\n",
    "plt.legend(['training', 'validation'], loc='lower right')\n",
    "plt.show()"
   ]
  },
  {
   "cell_type": "markdown",
   "metadata": {},
   "source": [
    "# AMS Score"
   ]
  },
  {
   "cell_type": "code",
   "execution_count": 14,
   "metadata": {},
   "outputs": [],
   "source": [
    "def NN_output_to_AMS(x_cut, predictions, label_vectors, weights):\n",
    "    \n",
    "    ##### first convert NN output into 's' or 'b' labels\n",
    "    pred_labels = []\n",
    "    ##### first loop over y_pred [0,1]\n",
    "    for i in range(len(predictions)):\n",
    "        if predictions[i,1] > x_cut:\n",
    "            pred_labels.append('s')\n",
    "        else:\n",
    "            pred_labels.append('b')\n",
    "    pred_labels = pd.Series(pred_labels)\n",
    "\n",
    "    true_labels = [] \n",
    "    ##### now loop over y_true\n",
    "    for i in range(len(label_vectors)):\n",
    "        if label_vectors[i,1] > x_cut:\n",
    "            true_labels.append('s')\n",
    "        else:\n",
    "            true_labels.append('b')\n",
    "    true_labels = pd.Series(true_labels)\n",
    "    \n",
    "    \n",
    "    ##### AMS\n",
    "    b_reg = 10\n",
    "    s = sum(weights[(pred_labels == 's')  & (true_labels == 's')])\n",
    "    b = sum(weights[(pred_labels == 's')  & (true_labels == 'b')])\n",
    "\n",
    "    AMS = np.sqrt(      2 *( (s + b + b_reg) * np.log(1 + s/(b + b_reg)) -s )     )\n",
    "    \n",
    "    return AMS"
   ]
  },
  {
   "cell_type": "code",
   "execution_count": 15,
   "metadata": {},
   "outputs": [],
   "source": [
    "def plot_AMS(predictions, label_vectors, weights):\n",
    "    x = np.arange(0.5,1,1e-2)\n",
    "    AMS_list=[]\n",
    "    for x_values in x:\n",
    "        AMS_list.append(NN_output_to_AMS(x_values, predictions, label_vectors, weights))\n",
    "    y=np.array(AMS_list)\n",
    "\n",
    "    plt.plot(x, y)\n",
    "    plt.xlabel('Cut Parameter')\n",
    "    plt.ylabel('AMS Score')\n",
    "    \n",
    "    print('The best AMS Score is {:.2f} at a Cut Parameter of {:.2f}'.format(max(y), x[np.argmax(y)]))"
   ]
  },
  {
   "cell_type": "code",
   "execution_count": 69,
   "metadata": {},
   "outputs": [
    {
     "name": "stdout",
     "output_type": "stream",
     "text": [
      "The best AMS Score is 0.54 at a Cut Parameter of 0.91\n"
     ]
    },
    {
     "data": {
      "image/png": "[encoded data removed]",
      "text/plain": [
       "<Figure size 432x288 with 1 Axes>"
      ]
     },
     "metadata": {
      "needs_background": "light"
     },
     "output_type": "display_data"
    }
   ],
   "source": [
    "plot_AMS(y_pred, y_val_VBF, weights_VBF)"
   ]
  },
  {
   "cell_type": "markdown",
   "metadata": {},
   "source": [
    "### Do exactly the same but for the whole 2jets set:"
   ]
  },
  {
   "cell_type": "code",
   "execution_count": 17,
   "metadata": {},
   "outputs": [
    {
     "name": "stderr",
     "output_type": "stream",
     "text": [
      "C:\\Users\\flori\\Anaconda3\\lib\\site-packages\\sklearn\\preprocessing\\data.py:645: DataConversionWarning: Data with input dtype int64, float64 were all converted to float64 by StandardScaler.\n",
      "  return self.partial_fit(X, y)\n",
      "C:\\Users\\flori\\Anaconda3\\lib\\site-packages\\ipykernel_launcher.py:3: DataConversionWarning: Data with input dtype int64, float64 were all converted to float64 by StandardScaler.\n",
      "  This is separate from the ipykernel package so we can avoid doing imports until\n",
      "C:\\Users\\flori\\Anaconda3\\lib\\site-packages\\ipykernel_launcher.py:4: DataConversionWarning: Data with input dtype int64, float64 were all converted to float64 by StandardScaler.\n",
      "  after removing the cwd from sys.path.\n"
     ]
    }
   ],
   "source": [
    "standard_2jets = StandardScaler()\n",
    "standard_2jets.fit(X_2jets)\n",
    "X_2jets_standard = standard_2jets.transform(X_2jets)\n",
    "X_val_2jets_standard = standard_2jets.transform(X_val_2jets)"
   ]
  },
  {
   "cell_type": "code",
   "execution_count": 20,
   "metadata": {},
   "outputs": [
    {
     "data": {
      "text/plain": [
       "(72543, 21257)"
      ]
     },
     "execution_count": 20,
     "metadata": {},
     "output_type": "execute_result"
    }
   ],
   "source": [
    "len(X_2jets), len(X_VBF) #hopefully I will get a better AMS now because of the larger number of events "
   ]
  },
  {
   "cell_type": "code",
   "execution_count": 21,
   "metadata": {},
   "outputs": [
    {
     "name": "stdout",
     "output_type": "stream",
     "text": [
      "Model: \"sequential_2\"\n",
      "_________________________________________________________________\n",
      "Layer (type)                 Output Shape              Param #   \n",
      "=================================================================\n",
      "dense_8 (Dense)              (None, 128)               3968      \n",
      "_________________________________________________________________\n",
      "dropout_7 (Dropout)          (None, 128)               0         \n",
      "_________________________________________________________________\n",
      "dense_9 (Dense)              (None, 64)                8256      \n",
      "_________________________________________________________________\n",
      "dropout_8 (Dropout)          (None, 64)                0         \n",
      "_________________________________________________________________\n",
      "dense_10 (Dense)             (None, 32)                2080      \n",
      "_________________________________________________________________\n",
      "dropout_9 (Dropout)          (None, 32)                0         \n",
      "_________________________________________________________________\n",
      "dense_11 (Dense)             (None, 16)                528       \n",
      "_________________________________________________________________\n",
      "dropout_10 (Dropout)         (None, 16)                0         \n",
      "_________________________________________________________________\n",
      "dense_12 (Dense)             (None, 8)                 136       \n",
      "_________________________________________________________________\n",
      "dropout_11 (Dropout)         (None, 8)                 0         \n",
      "_________________________________________________________________\n",
      "dense_13 (Dense)             (None, 4)                 36        \n",
      "_________________________________________________________________\n",
      "dropout_12 (Dropout)         (None, 4)                 0         \n",
      "_________________________________________________________________\n",
      "dense_14 (Dense)             (None, 2)                 10        \n",
      "=================================================================\n",
      "Total params: 15,014\n",
      "Trainable params: 15,014\n",
      "Non-trainable params: 0\n",
      "_________________________________________________________________\n"
     ]
    }
   ],
   "source": [
    "model_2 = Sequential()\n",
    "l1_lambda = 0.0001\n",
    "dropout=0.2\n",
    "model_2.add(Dense(units=128, activation='relu', kernel_regularizer=l1(l1_lambda), input_dim=30))\n",
    "model_2.add(Dropout(dropout))\n",
    "model_2.add(Dense(units=64, activation='relu', kernel_regularizer=l1(l1_lambda)))\n",
    "model_2.add(Dropout(dropout))\n",
    "model_2.add(Dense(units=32, activation='relu', kernel_regularizer=l1(l1_lambda)))\n",
    "model_2.add(Dropout(dropout))\n",
    "model_2.add(Dense(units=16, activation='relu', kernel_regularizer=l1(l1_lambda)))\n",
    "model_2.add(Dropout(dropout))\n",
    "model_2.add(Dense(units=8, activation='relu', kernel_regularizer=l1(l1_lambda)))\n",
    "model_2.add(Dropout(dropout))\n",
    "model_2.add(Dense(units=4, activation='relu', kernel_regularizer=l1(l1_lambda)))\n",
    "model_2.add(Dropout(dropout))\n",
    "model_2.add(Dense(units=2, activation='softmax'))\n",
    "\n",
    "model_2.summary()"
   ]
  },
  {
   "cell_type": "code",
   "execution_count": 22,
   "metadata": {},
   "outputs": [],
   "source": [
    "model_2.compile(optimizer='adagrad', #adagrad is the best one for this classification.\n",
    "              loss='categorical_crossentropy', #This seems one of the best loss function.\n",
    "              metrics=['accuracy'])"
   ]
  },
  {
   "cell_type": "code",
   "execution_count": 23,
   "metadata": {},
   "outputs": [
    {
     "name": "stdout",
     "output_type": "stream",
     "text": [
      "Train on 72543 samples, validate on 29046 samples\n",
      "Epoch 1/100\n",
      "72543/72543 [==============================] - 1s 18us/step - loss: 0.6663 - accuracy: 0.7398 - val_loss: 0.5360 - val_accuracy: 0.8143\n",
      "Epoch 2/100\n",
      "72543/72543 [==============================] - 1s 15us/step - loss: 0.5763 - accuracy: 0.7960 - val_loss: 0.4910 - val_accuracy: 0.8326\n",
      "Epoch 3/100\n",
      "72543/72543 [==============================] - 1s 13us/step - loss: 0.5435 - accuracy: 0.8089 - val_loss: 0.4731 - val_accuracy: 0.8355\n",
      "Epoch 4/100\n",
      "72543/72543 [==============================] - 1s 13us/step - loss: 0.5289 - accuracy: 0.8125 - val_loss: 0.4606 - val_accuracy: 0.8387\n",
      "Epoch 5/100\n",
      "72543/72543 [==============================] - 1s 14us/step - loss: 0.5158 - accuracy: 0.8144 - val_loss: 0.4558 - val_accuracy: 0.8397\n",
      "Epoch 6/100\n",
      "72543/72543 [==============================] - 1s 13us/step - loss: 0.5069 - accuracy: 0.8184 - val_loss: 0.4488 - val_accuracy: 0.8413\n",
      "Epoch 7/100\n",
      "72543/72543 [==============================] - 1s 14us/step - loss: 0.4975 - accuracy: 0.8208 - val_loss: 0.4471 - val_accuracy: 0.8363\n",
      "Epoch 8/100\n",
      "72543/72543 [==============================] - 1s 16us/step - loss: 0.4945 - accuracy: 0.8216 - val_loss: 0.4387 - val_accuracy: 0.8442\n",
      "Epoch 9/100\n",
      "72543/72543 [==============================] - 1s 14us/step - loss: 0.4891 - accuracy: 0.8223 - val_loss: 0.4344 - val_accuracy: 0.8432\n",
      "Epoch 10/100\n",
      "72543/72543 [==============================] - 1s 19us/step - loss: 0.4846 - accuracy: 0.8225 - val_loss: 0.4320 - val_accuracy: 0.8445\n",
      "Epoch 11/100\n",
      "72543/72543 [==============================] - 1s 16us/step - loss: 0.4791 - accuracy: 0.8234 - val_loss: 0.4293 - val_accuracy: 0.8434\n",
      "Epoch 12/100\n",
      "72543/72543 [==============================] - 1s 17us/step - loss: 0.4758 - accuracy: 0.8250 - val_loss: 0.4267 - val_accuracy: 0.8438\n",
      "Epoch 13/100\n",
      "72543/72543 [==============================] - 1s 17us/step - loss: 0.4742 - accuracy: 0.8258 - val_loss: 0.4246 - val_accuracy: 0.8447\n",
      "Epoch 14/100\n",
      "72543/72543 [==============================] - 1s 18us/step - loss: 0.4701 - accuracy: 0.8271 - val_loss: 0.4222 - val_accuracy: 0.8457\n",
      "Epoch 15/100\n",
      "72543/72543 [==============================] - 1s 18us/step - loss: 0.4684 - accuracy: 0.8256 - val_loss: 0.4203 - val_accuracy: 0.8465\n",
      "Epoch 16/100\n",
      "72543/72543 [==============================] - ETA: 0s - loss: 0.4677 - accuracy: 0.82 - 1s 18us/step - loss: 0.4681 - accuracy: 0.8264 - val_loss: 0.4191 - val_accuracy: 0.8457\n",
      "Epoch 17/100\n",
      "72543/72543 [==============================] - 1s 17us/step - loss: 0.4635 - accuracy: 0.8282 - val_loss: 0.4180 - val_accuracy: 0.8464\n",
      "Epoch 18/100\n",
      "72543/72543 [==============================] - 1s 19us/step - loss: 0.4614 - accuracy: 0.8288 - val_loss: 0.4146 - val_accuracy: 0.8463\n",
      "Epoch 19/100\n",
      "72543/72543 [==============================] - 1s 20us/step - loss: 0.4591 - accuracy: 0.8268 - val_loss: 0.4137 - val_accuracy: 0.8476\n",
      "Epoch 20/100\n",
      "72543/72543 [==============================] - 1s 18us/step - loss: 0.4584 - accuracy: 0.8290 - val_loss: 0.4123 - val_accuracy: 0.8476\n",
      "Epoch 21/100\n",
      "72543/72543 [==============================] - 2s 21us/step - loss: 0.4555 - accuracy: 0.8290 - val_loss: 0.4117 - val_accuracy: 0.8451\n",
      "Epoch 22/100\n",
      "72543/72543 [==============================] - 2s 22us/step - loss: 0.4570 - accuracy: 0.8282 - val_loss: 0.4115 - val_accuracy: 0.8479\n",
      "Epoch 23/100\n",
      "72543/72543 [==============================] - 2s 21us/step - loss: 0.4527 - accuracy: 0.8297 - val_loss: 0.4087 - val_accuracy: 0.8481\n",
      "Epoch 24/100\n",
      "72543/72543 [==============================] - 1s 20us/step - loss: 0.4534 - accuracy: 0.8282 - val_loss: 0.4082 - val_accuracy: 0.8467\n",
      "Epoch 25/100\n",
      "72543/72543 [==============================] - 1s 17us/step - loss: 0.4499 - accuracy: 0.8296 - val_loss: 0.4074 - val_accuracy: 0.8488\n",
      "Epoch 26/100\n",
      "72543/72543 [==============================] - 1s 17us/step - loss: 0.4482 - accuracy: 0.8318 - val_loss: 0.4062 - val_accuracy: 0.8477\n",
      "Epoch 27/100\n",
      "72543/72543 [==============================] - 1s 17us/step - loss: 0.4512 - accuracy: 0.8291 - val_loss: 0.4048 - val_accuracy: 0.8488\n",
      "Epoch 28/100\n",
      "72543/72543 [==============================] - 1s 16us/step - loss: 0.4471 - accuracy: 0.8304 - val_loss: 0.4050 - val_accuracy: 0.8492\n",
      "Epoch 29/100\n",
      "72543/72543 [==============================] - 1s 17us/step - loss: 0.4457 - accuracy: 0.8305 - val_loss: 0.4040 - val_accuracy: 0.8475\n",
      "Epoch 30/100\n",
      "72543/72543 [==============================] - 1s 17us/step - loss: 0.4451 - accuracy: 0.8310 - val_loss: 0.4028 - val_accuracy: 0.8486\n",
      "Epoch 31/100\n",
      "72543/72543 [==============================] - 2s 22us/step - loss: 0.4443 - accuracy: 0.8298 - val_loss: 0.4025 - val_accuracy: 0.8475\n",
      "Epoch 32/100\n",
      "72543/72543 [==============================] - 1s 17us/step - loss: 0.4445 - accuracy: 0.8307 - val_loss: 0.4017 - val_accuracy: 0.8493\n",
      "Epoch 33/100\n",
      "72543/72543 [==============================] - 1s 17us/step - loss: 0.4434 - accuracy: 0.8315 - val_loss: 0.4008 - val_accuracy: 0.8481\n",
      "Epoch 34/100\n",
      "72543/72543 [==============================] - 1s 18us/step - loss: 0.4426 - accuracy: 0.8304 - val_loss: 0.3998 - val_accuracy: 0.8497\n",
      "Epoch 35/100\n",
      "72543/72543 [==============================] - 1s 17us/step - loss: 0.4430 - accuracy: 0.8314 - val_loss: 0.3998 - val_accuracy: 0.8500\n",
      "Epoch 36/100\n",
      "72543/72543 [==============================] - 1s 17us/step - loss: 0.4395 - accuracy: 0.8324 - val_loss: 0.3998 - val_accuracy: 0.8471\n",
      "Epoch 37/100\n",
      "72543/72543 [==============================] - 1s 17us/step - loss: 0.4406 - accuracy: 0.8307 - val_loss: 0.3989 - val_accuracy: 0.8492\n",
      "Epoch 38/100\n",
      "72543/72543 [==============================] - 1s 17us/step - loss: 0.4385 - accuracy: 0.8325 - val_loss: 0.3982 - val_accuracy: 0.8492\n",
      "Epoch 39/100\n",
      "72543/72543 [==============================] - 1s 17us/step - loss: 0.4386 - accuracy: 0.8315 - val_loss: 0.3977 - val_accuracy: 0.8495\n",
      "Epoch 40/100\n",
      "72543/72543 [==============================] - 1s 16us/step - loss: 0.4392 - accuracy: 0.8309 - val_loss: 0.3973 - val_accuracy: 0.8490\n",
      "Epoch 41/100\n",
      "72543/72543 [==============================] - 1s 17us/step - loss: 0.4381 - accuracy: 0.8318 - val_loss: 0.3975 - val_accuracy: 0.8494\n",
      "Epoch 42/100\n",
      "72543/72543 [==============================] - 1s 17us/step - loss: 0.4355 - accuracy: 0.8329 - val_loss: 0.3966 - val_accuracy: 0.8490\n",
      "Epoch 43/100\n",
      "72543/72543 [==============================] - 1s 17us/step - loss: 0.4374 - accuracy: 0.8313 - val_loss: 0.3963 - val_accuracy: 0.8481\n",
      "Epoch 44/100\n",
      "72543/72543 [==============================] - 1s 17us/step - loss: 0.4350 - accuracy: 0.8338 - val_loss: 0.3959 - val_accuracy: 0.8503\n",
      "Epoch 45/100\n",
      "72543/72543 [==============================] - 1s 17us/step - loss: 0.4353 - accuracy: 0.8328 - val_loss: 0.3956 - val_accuracy: 0.8485\n",
      "Epoch 46/100\n",
      "72543/72543 [==============================] - 1s 17us/step - loss: 0.4351 - accuracy: 0.8328 - val_loss: 0.3946 - val_accuracy: 0.8498\n",
      "Epoch 47/100\n",
      "72543/72543 [==============================] - 1s 17us/step - loss: 0.4336 - accuracy: 0.8330 - val_loss: 0.3941 - val_accuracy: 0.8508\n",
      "Epoch 48/100\n",
      "72543/72543 [==============================] - 1s 17us/step - loss: 0.4350 - accuracy: 0.8336 - val_loss: 0.3944 - val_accuracy: 0.8498\n",
      "Epoch 49/100\n",
      "72543/72543 [==============================] - 1s 18us/step - loss: 0.4326 - accuracy: 0.8323 - val_loss: 0.3942 - val_accuracy: 0.8486\n",
      "Epoch 50/100\n",
      "72543/72543 [==============================] - 1s 17us/step - loss: 0.4335 - accuracy: 0.8337 - val_loss: 0.3934 - val_accuracy: 0.8502\n",
      "Epoch 51/100\n",
      "72543/72543 [==============================] - 1s 20us/step - loss: 0.4325 - accuracy: 0.8329 - val_loss: 0.3931 - val_accuracy: 0.8500\n",
      "Epoch 52/100\n",
      "72543/72543 [==============================] - 1s 17us/step - loss: 0.4306 - accuracy: 0.8336 - val_loss: 0.3932 - val_accuracy: 0.8508\n",
      "Epoch 53/100\n",
      "72543/72543 [==============================] - 1s 17us/step - loss: 0.4308 - accuracy: 0.8349 - val_loss: 0.3927 - val_accuracy: 0.8508\n",
      "Epoch 54/100\n",
      "72543/72543 [==============================] - 1s 17us/step - loss: 0.4320 - accuracy: 0.8326 - val_loss: 0.3929 - val_accuracy: 0.8491\n",
      "Epoch 55/100\n",
      "72543/72543 [==============================] - 1s 16us/step - loss: 0.4307 - accuracy: 0.8347 - val_loss: 0.3923 - val_accuracy: 0.8499\n",
      "Epoch 56/100\n",
      "72543/72543 [==============================] - 1s 17us/step - loss: 0.4299 - accuracy: 0.8352 - val_loss: 0.3919 - val_accuracy: 0.8502\n",
      "Epoch 57/100\n",
      "72543/72543 [==============================] - 1s 17us/step - loss: 0.4281 - accuracy: 0.8359 - val_loss: 0.3914 - val_accuracy: 0.8511\n",
      "Epoch 58/100\n",
      "72543/72543 [==============================] - 1s 17us/step - loss: 0.4297 - accuracy: 0.8347 - val_loss: 0.3909 - val_accuracy: 0.8502\n",
      "Epoch 59/100\n",
      "72543/72543 [==============================] - 1s 16us/step - loss: 0.4286 - accuracy: 0.8340 - val_loss: 0.3913 - val_accuracy: 0.8507\n",
      "Epoch 60/100\n",
      "72543/72543 [==============================] - 1s 16us/step - loss: 0.4293 - accuracy: 0.8356 - val_loss: 0.3907 - val_accuracy: 0.8501\n",
      "Epoch 61/100\n",
      "72543/72543 [==============================] - 1s 16us/step - loss: 0.4270 - accuracy: 0.8355 - val_loss: 0.3908 - val_accuracy: 0.8507\n",
      "Epoch 62/100\n",
      "72543/72543 [==============================] - 1s 16us/step - loss: 0.4276 - accuracy: 0.8365 - val_loss: 0.3903 - val_accuracy: 0.8507\n",
      "Epoch 63/100\n",
      "72543/72543 [==============================] - 1s 16us/step - loss: 0.4292 - accuracy: 0.8340 - val_loss: 0.3903 - val_accuracy: 0.8509\n",
      "Epoch 64/100\n",
      "72543/72543 [==============================] - 1s 16us/step - loss: 0.4259 - accuracy: 0.8362 - val_loss: 0.3900 - val_accuracy: 0.8508\n",
      "Epoch 65/100\n",
      "72543/72543 [==============================] - 1s 16us/step - loss: 0.4280 - accuracy: 0.8338 - val_loss: 0.3897 - val_accuracy: 0.8506\n",
      "Epoch 66/100\n",
      "72543/72543 [==============================] - 1s 17us/step - loss: 0.4249 - accuracy: 0.8360 - val_loss: 0.3895 - val_accuracy: 0.8516\n",
      "Epoch 67/100\n",
      "72543/72543 [==============================] - 1s 16us/step - loss: 0.4265 - accuracy: 0.8371 - val_loss: 0.3892 - val_accuracy: 0.8516\n",
      "Epoch 68/100\n",
      "72543/72543 [==============================] - 1s 18us/step - loss: 0.4240 - accuracy: 0.8360 - val_loss: 0.3889 - val_accuracy: 0.8516\n",
      "Epoch 69/100\n",
      "72543/72543 [==============================] - 1s 17us/step - loss: 0.4265 - accuracy: 0.8353 - val_loss: 0.3889 - val_accuracy: 0.8508\n",
      "Epoch 70/100\n",
      "72543/72543 [==============================] - 1s 17us/step - loss: 0.4267 - accuracy: 0.8344 - val_loss: 0.3882 - val_accuracy: 0.8515\n",
      "Epoch 71/100\n",
      "72543/72543 [==============================] - 1s 17us/step - loss: 0.4258 - accuracy: 0.8346 - val_loss: 0.3885 - val_accuracy: 0.8513\n",
      "Epoch 72/100\n",
      "72543/72543 [==============================] - 1s 16us/step - loss: 0.4254 - accuracy: 0.8344 - val_loss: 0.3885 - val_accuracy: 0.8514\n",
      "Epoch 73/100\n",
      "72543/72543 [==============================] - 1s 16us/step - loss: 0.4257 - accuracy: 0.8347 - val_loss: 0.3882 - val_accuracy: 0.8513\n",
      "Epoch 74/100\n",
      "72543/72543 [==============================] - 1s 17us/step - loss: 0.4243 - accuracy: 0.8346 - val_loss: 0.3884 - val_accuracy: 0.8512\n",
      "Epoch 75/100\n",
      "72543/72543 [==============================] - 1s 16us/step - loss: 0.4235 - accuracy: 0.8362 - val_loss: 0.3878 - val_accuracy: 0.8513\n",
      "Epoch 76/100\n",
      "72543/72543 [==============================] - 1s 16us/step - loss: 0.4231 - accuracy: 0.8348 - val_loss: 0.3882 - val_accuracy: 0.8510\n",
      "Epoch 77/100\n",
      "72543/72543 [==============================] - 1s 17us/step - loss: 0.4243 - accuracy: 0.8357 - val_loss: 0.3873 - val_accuracy: 0.8513\n",
      "Epoch 78/100\n",
      "72543/72543 [==============================] - 1s 17us/step - loss: 0.4235 - accuracy: 0.8358 - val_loss: 0.3872 - val_accuracy: 0.8512\n",
      "Epoch 79/100\n",
      "72543/72543 [==============================] - 1s 19us/step - loss: 0.4229 - accuracy: 0.8365 - val_loss: 0.3871 - val_accuracy: 0.8510\n",
      "Epoch 80/100\n",
      "72543/72543 [==============================] - 1s 17us/step - loss: 0.4214 - accuracy: 0.8361 - val_loss: 0.3868 - val_accuracy: 0.8516\n",
      "Epoch 81/100\n",
      "72543/72543 [==============================] - 1s 17us/step - loss: 0.4228 - accuracy: 0.8357 - val_loss: 0.3875 - val_accuracy: 0.8513\n",
      "Epoch 82/100\n",
      "72543/72543 [==============================] - 1s 17us/step - loss: 0.4218 - accuracy: 0.8374 - val_loss: 0.3868 - val_accuracy: 0.8509\n",
      "Epoch 83/100\n",
      "72543/72543 [==============================] - 1s 18us/step - loss: 0.4230 - accuracy: 0.8357 - val_loss: 0.3870 - val_accuracy: 0.8516\n",
      "Epoch 84/100\n",
      "72543/72543 [==============================] - 1s 17us/step - loss: 0.4231 - accuracy: 0.8357 - val_loss: 0.3872 - val_accuracy: 0.8511\n",
      "Epoch 85/100\n",
      "72543/72543 [==============================] - 1s 17us/step - loss: 0.4218 - accuracy: 0.8353 - val_loss: 0.3871 - val_accuracy: 0.8514\n",
      "Epoch 86/100\n",
      "72543/72543 [==============================] - 1s 17us/step - loss: 0.4230 - accuracy: 0.8353 - val_loss: 0.3865 - val_accuracy: 0.8506\n",
      "Epoch 87/100\n",
      "72543/72543 [==============================] - 1s 17us/step - loss: 0.4215 - accuracy: 0.8371 - val_loss: 0.3874 - val_accuracy: 0.8505\n",
      "Epoch 88/100\n",
      "72543/72543 [==============================] - 1s 17us/step - loss: 0.4203 - accuracy: 0.8367 - val_loss: 0.3861 - val_accuracy: 0.8513\n",
      "Epoch 89/100\n",
      "72543/72543 [==============================] - 1s 17us/step - loss: 0.4203 - accuracy: 0.8380 - val_loss: 0.3863 - val_accuracy: 0.8513\n",
      "Epoch 90/100\n",
      "72543/72543 [==============================] - 1s 17us/step - loss: 0.4194 - accuracy: 0.8364 - val_loss: 0.3860 - val_accuracy: 0.8512\n",
      "Epoch 91/100\n",
      "72543/72543 [==============================] - 1s 17us/step - loss: 0.4212 - accuracy: 0.8352 - val_loss: 0.3855 - val_accuracy: 0.8516\n",
      "Epoch 92/100\n",
      "72543/72543 [==============================] - 1s 17us/step - loss: 0.4203 - accuracy: 0.8376 - val_loss: 0.3857 - val_accuracy: 0.8515\n",
      "Epoch 93/100\n",
      "72543/72543 [==============================] - 1s 17us/step - loss: 0.4204 - accuracy: 0.8373 - val_loss: 0.3854 - val_accuracy: 0.8510\n",
      "Epoch 94/100\n",
      "72543/72543 [==============================] - 1s 16us/step - loss: 0.4187 - accuracy: 0.8382 - val_loss: 0.3853 - val_accuracy: 0.8520\n",
      "Epoch 95/100\n",
      "72543/72543 [==============================] - 1s 17us/step - loss: 0.4182 - accuracy: 0.8374 - val_loss: 0.3852 - val_accuracy: 0.8520\n",
      "Epoch 96/100\n",
      "72543/72543 [==============================] - 1s 17us/step - loss: 0.4197 - accuracy: 0.8361 - val_loss: 0.3857 - val_accuracy: 0.8514\n",
      "Epoch 97/100\n",
      "72543/72543 [==============================] - 1s 17us/step - loss: 0.4182 - accuracy: 0.8378 - val_loss: 0.3853 - val_accuracy: 0.8509\n",
      "Epoch 98/100\n",
      "72543/72543 [==============================] - 1s 18us/step - loss: 0.4210 - accuracy: 0.8354 - val_loss: 0.3845 - val_accuracy: 0.8523\n",
      "Epoch 99/100\n",
      "72543/72543 [==============================] - 1s 17us/step - loss: 0.4209 - accuracy: 0.8362 - val_loss: 0.3846 - val_accuracy: 0.8526\n",
      "Epoch 100/100\n",
      "72543/72543 [==============================] - 1s 17us/step - loss: 0.4182 - accuracy: 0.8367 - val_loss: 0.3846 - val_accuracy: 0.8518\n"
     ]
    }
   ],
   "source": [
    "history_2 = model_2.fit(X_2jets_standard, y_train_2jets, batch_size=512, epochs=100, verbose=1, \n",
    "                  validation_data=(X_val_2jets_standard, y_val_2jets))\n",
    "\n",
    "y_pred_2 = model_2.predict(X_val_2jets_standard)"
   ]
  },
  {
   "cell_type": "code",
   "execution_count": 24,
   "metadata": {},
   "outputs": [
    {
     "name": "stdout",
     "output_type": "stream",
     "text": [
      "The best AMS Score is 0.69 at a Cut Parameter of 0.88\n"
     ]
    },
    {
     "data": {
      "image/png": "[encoded data removed]",
      "text/plain": [
       "<Figure size 432x288 with 1 Axes>"
      ]
     },
     "metadata": {
      "needs_background": "light"
     },
     "output_type": "display_data"
    }
   ],
   "source": [
    "plot_AMS(y_pred_2, y_val_2jets, weights_2jets)"
   ]
  },
  {
   "cell_type": "markdown",
   "metadata": {},
   "source": [
    "## 1 jet:"
   ]
  },
  {
   "cell_type": "code",
   "execution_count": 26,
   "metadata": {},
   "outputs": [],
   "source": [
    "standard_1jet = StandardScaler()\n",
    "standard_1jet.fit(X_1jet)\n",
    "X_1jet_standard = standard_1jet.transform(X_1jet)\n",
    "X_val_1jet_standard = standard_1jet.transform(X_val_1jet)"
   ]
  },
  {
   "cell_type": "code",
   "execution_count": 29,
   "metadata": {},
   "outputs": [
    {
     "data": {
      "text/plain": [
       "(77544, 22)"
      ]
     },
     "execution_count": 29,
     "metadata": {},
     "output_type": "execute_result"
    }
   ],
   "source": [
    "X_1jet.shape"
   ]
  },
  {
   "cell_type": "code",
   "execution_count": 30,
   "metadata": {},
   "outputs": [
    {
     "name": "stdout",
     "output_type": "stream",
     "text": [
      "Model: \"sequential_3\"\n",
      "_________________________________________________________________\n",
      "Layer (type)                 Output Shape              Param #   \n",
      "=================================================================\n",
      "dense_15 (Dense)             (None, 128)               2944      \n",
      "_________________________________________________________________\n",
      "dropout_13 (Dropout)         (None, 128)               0         \n",
      "_________________________________________________________________\n",
      "dense_16 (Dense)             (None, 64)                8256      \n",
      "_________________________________________________________________\n",
      "dropout_14 (Dropout)         (None, 64)                0         \n",
      "_________________________________________________________________\n",
      "dense_17 (Dense)             (None, 32)                2080      \n",
      "_________________________________________________________________\n",
      "dropout_15 (Dropout)         (None, 32)                0         \n",
      "_________________________________________________________________\n",
      "dense_18 (Dense)             (None, 16)                528       \n",
      "_________________________________________________________________\n",
      "dropout_16 (Dropout)         (None, 16)                0         \n",
      "_________________________________________________________________\n",
      "dense_19 (Dense)             (None, 8)                 136       \n",
      "_________________________________________________________________\n",
      "dropout_17 (Dropout)         (None, 8)                 0         \n",
      "_________________________________________________________________\n",
      "dense_20 (Dense)             (None, 4)                 36        \n",
      "_________________________________________________________________\n",
      "dropout_18 (Dropout)         (None, 4)                 0         \n",
      "_________________________________________________________________\n",
      "dense_21 (Dense)             (None, 2)                 10        \n",
      "=================================================================\n",
      "Total params: 13,990\n",
      "Trainable params: 13,990\n",
      "Non-trainable params: 0\n",
      "_________________________________________________________________\n"
     ]
    }
   ],
   "source": [
    "model_3 = Sequential()\n",
    "l1_lambda = 0.0001\n",
    "dropout=0.2\n",
    "model_3.add(Dense(units=128, activation='relu', kernel_regularizer=l1(l1_lambda), input_dim=22))\n",
    "model_3.add(Dropout(dropout))\n",
    "model_3.add(Dense(units=64, activation='relu', kernel_regularizer=l1(l1_lambda)))\n",
    "model_3.add(Dropout(dropout))\n",
    "model_3.add(Dense(units=32, activation='relu', kernel_regularizer=l1(l1_lambda)))\n",
    "model_3.add(Dropout(dropout))\n",
    "model_3.add(Dense(units=16, activation='relu', kernel_regularizer=l1(l1_lambda)))\n",
    "model_3.add(Dropout(dropout))\n",
    "model_3.add(Dense(units=8, activation='relu', kernel_regularizer=l1(l1_lambda)))\n",
    "model_3.add(Dropout(dropout))\n",
    "model_3.add(Dense(units=4, activation='relu', kernel_regularizer=l1(l1_lambda)))\n",
    "model_3.add(Dropout(dropout))\n",
    "model_3.add(Dense(units=2, activation='softmax'))\n",
    "\n",
    "model_3.summary()"
   ]
  },
  {
   "cell_type": "code",
   "execution_count": 31,
   "metadata": {},
   "outputs": [],
   "source": [
    "model_3.compile(optimizer='adagrad', #adagrad is the best one for this classification.\n",
    "              loss='categorical_crossentropy', #This seems one of the best loss function.\n",
    "              metrics=['accuracy'])"
   ]
  },
  {
   "cell_type": "code",
   "execution_count": 42,
   "metadata": {},
   "outputs": [],
   "source": [
    "history_3 = model_3.fit(X_1jet_standard, y_train_1jet, batch_size=512, epochs=100, verbose=1, \n",
    "                  validation_data=(X_val_1jet_standard, y_val_1jet))\n",
    "\n",
    "y_pred_3 = model_3.predict(X_val_1jet_standard)"
   ]
  },
  {
   "cell_type": "code",
   "execution_count": 33,
   "metadata": {
    "scrolled": true
   },
   "outputs": [
    {
     "name": "stdout",
     "output_type": "stream",
     "text": [
      "The best AMS Score is 0.56 at a Cut Parameter of 0.73\n"
     ]
    },
    {
     "data": {
      "image/png": "[encoded data removed]",
      "text/plain": [
       "<Figure size 432x288 with 1 Axes>"
      ]
     },
     "metadata": {
      "needs_background": "light"
     },
     "output_type": "display_data"
    }
   ],
   "source": [
    "plot_AMS(y_pred_3, y_val_1jet, weights_1jet)"
   ]
  },
  {
   "cell_type": "markdown",
   "metadata": {},
   "source": [
    "### 0 jets"
   ]
  },
  {
   "cell_type": "code",
   "execution_count": 34,
   "metadata": {},
   "outputs": [],
   "source": [
    "standard_0jets = StandardScaler()\n",
    "standard_0jets.fit(X_0jets)\n",
    "X_0jets_standard = standard_0jets.transform(X_0jets)\n",
    "X_val_0jets_standard = standard_0jets.transform(X_val_0jets)"
   ]
  },
  {
   "cell_type": "code",
   "execution_count": 35,
   "metadata": {},
   "outputs": [
    {
     "data": {
      "text/plain": [
       "(99913, 18)"
      ]
     },
     "execution_count": 35,
     "metadata": {},
     "output_type": "execute_result"
    }
   ],
   "source": [
    "X_0jets.shape"
   ]
  },
  {
   "cell_type": "code",
   "execution_count": 36,
   "metadata": {},
   "outputs": [
    {
     "name": "stdout",
     "output_type": "stream",
     "text": [
      "Model: \"sequential_4\"\n",
      "_________________________________________________________________\n",
      "Layer (type)                 Output Shape              Param #   \n",
      "=================================================================\n",
      "dense_22 (Dense)             (None, 128)               2432      \n",
      "_________________________________________________________________\n",
      "dropout_19 (Dropout)         (None, 128)               0         \n",
      "_________________________________________________________________\n",
      "dense_23 (Dense)             (None, 64)                8256      \n",
      "_________________________________________________________________\n",
      "dropout_20 (Dropout)         (None, 64)                0         \n",
      "_________________________________________________________________\n",
      "dense_24 (Dense)             (None, 32)                2080      \n",
      "_________________________________________________________________\n",
      "dropout_21 (Dropout)         (None, 32)                0         \n",
      "_________________________________________________________________\n",
      "dense_25 (Dense)             (None, 16)                528       \n",
      "_________________________________________________________________\n",
      "dropout_22 (Dropout)         (None, 16)                0         \n",
      "_________________________________________________________________\n",
      "dense_26 (Dense)             (None, 8)                 136       \n",
      "_________________________________________________________________\n",
      "dropout_23 (Dropout)         (None, 8)                 0         \n",
      "_________________________________________________________________\n",
      "dense_27 (Dense)             (None, 4)                 36        \n",
      "_________________________________________________________________\n",
      "dropout_24 (Dropout)         (None, 4)                 0         \n",
      "_________________________________________________________________\n",
      "dense_28 (Dense)             (None, 2)                 10        \n",
      "=================================================================\n",
      "Total params: 13,478\n",
      "Trainable params: 13,478\n",
      "Non-trainable params: 0\n",
      "_________________________________________________________________\n"
     ]
    }
   ],
   "source": [
    "model_4 = Sequential()\n",
    "l1_lambda = 0.0001\n",
    "dropout=0.2\n",
    "model_4.add(Dense(units=128, activation='relu', kernel_regularizer=l1(l1_lambda), input_dim=18))\n",
    "model_4.add(Dropout(dropout))\n",
    "model_4.add(Dense(units=64, activation='relu', kernel_regularizer=l1(l1_lambda)))\n",
    "model_4.add(Dropout(dropout))\n",
    "model_4.add(Dense(units=32, activation='relu', kernel_regularizer=l1(l1_lambda)))\n",
    "model_4.add(Dropout(dropout))\n",
    "model_4.add(Dense(units=16, activation='relu', kernel_regularizer=l1(l1_lambda)))\n",
    "model_4.add(Dropout(dropout))\n",
    "model_4.add(Dense(units=8, activation='relu', kernel_regularizer=l1(l1_lambda)))\n",
    "model_4.add(Dropout(dropout))\n",
    "model_4.add(Dense(units=4, activation='relu', kernel_regularizer=l1(l1_lambda)))\n",
    "model_4.add(Dropout(dropout))\n",
    "model_4.add(Dense(units=2, activation='softmax'))\n",
    "\n",
    "model_4.summary()"
   ]
  },
  {
   "cell_type": "code",
   "execution_count": 37,
   "metadata": {},
   "outputs": [],
   "source": [
    "model_4.compile(optimizer='adagrad', #adagrad is the best one for this classification.\n",
    "              loss='categorical_crossentropy', #This seems one of the best loss function.\n",
    "              metrics=['accuracy'])"
   ]
  },
  {
   "cell_type": "code",
   "execution_count": 41,
   "metadata": {},
   "outputs": [],
   "source": [
    "history_4 = model_4.fit(X_0jets_standard, y_train_0jets, batch_size=512, epochs=100, verbose=1, \n",
    "                  validation_data=(X_val_0jets_standard, y_val_0jets))\n",
    "\n",
    "y_pred_4 = model_4.predict(X_val_0jets_standard)"
   ]
  },
  {
   "cell_type": "code",
   "execution_count": 43,
   "metadata": {
    "scrolled": true
   },
   "outputs": [
    {
     "name": "stdout",
     "output_type": "stream",
     "text": [
      "The best AMS Score is 0.85 at a Cut Parameter of 0.72\n"
     ]
    },
    {
     "data": {
      "image/png": "[encoded data removed]",
      "text/plain": [
       "<Figure size 432x288 with 1 Axes>"
      ]
     },
     "metadata": {
      "needs_background": "light"
     },
     "output_type": "display_data"
    }
   ],
   "source": [
    "plot_AMS(y_pred_4, y_val_0jets, weights_0jets)"
   ]
  },
  {
   "cell_type": "markdown",
   "metadata": {},
   "source": [
    "# See our total AMS with these not optimized NNs:"
   ]
  },
  {
   "cell_type": "code",
   "execution_count": 57,
   "metadata": {},
   "outputs": [],
   "source": [
    "y_pred_total = np.concatenate((y_pred_4, y_pred_3, y_pred_2))\n",
    "y_val_total = np.concatenate((y_val_0jets, y_val_1jet, y_val_2jets))\n",
    "weights_total = np.concatenate((weights_0jets, weights_1jet, weights_2jets))"
   ]
  },
  {
   "cell_type": "code",
   "execution_count": 58,
   "metadata": {},
   "outputs": [
    {
     "name": "stdout",
     "output_type": "stream",
     "text": [
      "The best AMS Score is 1.19 at a Cut Parameter of 0.72\n"
     ]
    },
    {
     "data": {
      "image/png": "[encoded data removed]",
      "text/plain": [
       "<Figure size 432x288 with 1 Axes>"
      ]
     },
     "metadata": {
      "needs_background": "light"
     },
     "output_type": "display_data"
    }
   ],
   "source": [
    "plot_AMS(y_pred_total, y_val_total, weights_total)"
   ]
  },
  {
   "cell_type": "markdown",
   "metadata": {},
   "source": [
    "Ok this is not really good, but there should be many things I can still optimize"
   ]
  }
 ],
 "metadata": {
  "kernelspec": {
   "display_name": "Python 3",
   "language": "python",
   "name": "python3"
  },
  "language_info": {
   "codemirror_mode": {
    "name": "ipython",
    "version": 3
   },
   "file_extension": ".py",
   "mimetype": "text/x-python",
   "name": "python",
   "nbconvert_exporter": "python",
   "pygments_lexer": "ipython3",
   "version": "3.6.9"
  }
 },
 "nbformat": 4,
 "nbformat_minor": 2
}
