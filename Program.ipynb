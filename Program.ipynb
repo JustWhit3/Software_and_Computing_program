{
 "cells": [
  {
   "cell_type": "markdown",
   "metadata": {},
   "source": [
    "# Higgs Boson Machine Learning Classification"
   ]
  },
  {
   "cell_type": "markdown",
   "metadata": {},
   "source": [
    "## First let's have all the useful libraries:"
   ]
  },
  {
   "cell_type": "code",
   "execution_count": 32,
   "metadata": {},
   "outputs": [],
   "source": [
    "import pandas as pd\n",
    "from pandas.plotting import scatter_matrix\n",
    "\n",
    "import numpy as np\n",
    "\n",
    "import matplotlib as mpl\n",
    "from matplotlib import pyplot as plt\n",
    "from matplotlib import cm"
   ]
  },
  {
   "cell_type": "markdown",
   "metadata": {},
   "source": [
    "## Now let's have a look to the dataset"
   ]
  },
  {
   "cell_type": "code",
   "execution_count": 33,
   "metadata": {},
   "outputs": [
    {
     "data": {
      "text/html": [
       "<div>\n",
       "<style scoped>\n",
       "    .dataframe tbody tr th:only-of-type {\n",
       "        vertical-align: middle;\n",
       "    }\n",
       "\n",
       "    .dataframe tbody tr th {\n",
       "        vertical-align: top;\n",
       "    }\n",
       "\n",
       "    .dataframe thead th {\n",
       "        text-align: right;\n",
       "    }\n",
       "</style>\n",
       "<table border=\"1\" class=\"dataframe\">\n",
       "  <thead>\n",
       "    <tr style=\"text-align: right;\">\n",
       "      <th></th>\n",
       "      <th>EventId</th>\n",
       "      <th>DER_mass_MMC</th>\n",
       "      <th>DER_mass_transverse_met_lep</th>\n",
       "      <th>DER_mass_vis</th>\n",
       "      <th>DER_pt_h</th>\n",
       "      <th>DER_deltaeta_jet_jet</th>\n",
       "      <th>DER_mass_jet_jet</th>\n",
       "      <th>DER_prodeta_jet_jet</th>\n",
       "      <th>DER_deltar_tau_lep</th>\n",
       "      <th>DER_pt_tot</th>\n",
       "      <th>...</th>\n",
       "      <th>PRI_jet_leading_eta</th>\n",
       "      <th>PRI_jet_leading_phi</th>\n",
       "      <th>PRI_jet_subleading_pt</th>\n",
       "      <th>PRI_jet_subleading_eta</th>\n",
       "      <th>PRI_jet_subleading_phi</th>\n",
       "      <th>PRI_jet_all_pt</th>\n",
       "      <th>Weight</th>\n",
       "      <th>Label</th>\n",
       "      <th>KaggleSet</th>\n",
       "      <th>KaggleWeight</th>\n",
       "    </tr>\n",
       "  </thead>\n",
       "  <tbody>\n",
       "    <tr>\n",
       "      <th>0</th>\n",
       "      <td>100000</td>\n",
       "      <td>138.470</td>\n",
       "      <td>51.655</td>\n",
       "      <td>97.827</td>\n",
       "      <td>27.980</td>\n",
       "      <td>0.910</td>\n",
       "      <td>124.711</td>\n",
       "      <td>2.666</td>\n",
       "      <td>3.064</td>\n",
       "      <td>41.928</td>\n",
       "      <td>...</td>\n",
       "      <td>2.150</td>\n",
       "      <td>0.444</td>\n",
       "      <td>46.062</td>\n",
       "      <td>1.240</td>\n",
       "      <td>-2.475</td>\n",
       "      <td>113.497</td>\n",
       "      <td>0.000814</td>\n",
       "      <td>s</td>\n",
       "      <td>t</td>\n",
       "      <td>0.002653</td>\n",
       "    </tr>\n",
       "    <tr>\n",
       "      <th>1</th>\n",
       "      <td>100001</td>\n",
       "      <td>160.937</td>\n",
       "      <td>68.768</td>\n",
       "      <td>103.235</td>\n",
       "      <td>48.146</td>\n",
       "      <td>-999.000</td>\n",
       "      <td>-999.000</td>\n",
       "      <td>-999.000</td>\n",
       "      <td>3.473</td>\n",
       "      <td>2.078</td>\n",
       "      <td>...</td>\n",
       "      <td>0.725</td>\n",
       "      <td>1.158</td>\n",
       "      <td>-999.000</td>\n",
       "      <td>-999.000</td>\n",
       "      <td>-999.000</td>\n",
       "      <td>46.226</td>\n",
       "      <td>0.681042</td>\n",
       "      <td>b</td>\n",
       "      <td>t</td>\n",
       "      <td>2.233584</td>\n",
       "    </tr>\n",
       "    <tr>\n",
       "      <th>2</th>\n",
       "      <td>100002</td>\n",
       "      <td>-999.000</td>\n",
       "      <td>162.172</td>\n",
       "      <td>125.953</td>\n",
       "      <td>35.635</td>\n",
       "      <td>-999.000</td>\n",
       "      <td>-999.000</td>\n",
       "      <td>-999.000</td>\n",
       "      <td>3.148</td>\n",
       "      <td>9.336</td>\n",
       "      <td>...</td>\n",
       "      <td>2.053</td>\n",
       "      <td>-2.028</td>\n",
       "      <td>-999.000</td>\n",
       "      <td>-999.000</td>\n",
       "      <td>-999.000</td>\n",
       "      <td>44.251</td>\n",
       "      <td>0.715742</td>\n",
       "      <td>b</td>\n",
       "      <td>t</td>\n",
       "      <td>2.347389</td>\n",
       "    </tr>\n",
       "    <tr>\n",
       "      <th>3</th>\n",
       "      <td>100003</td>\n",
       "      <td>143.905</td>\n",
       "      <td>81.417</td>\n",
       "      <td>80.943</td>\n",
       "      <td>0.414</td>\n",
       "      <td>-999.000</td>\n",
       "      <td>-999.000</td>\n",
       "      <td>-999.000</td>\n",
       "      <td>3.310</td>\n",
       "      <td>0.414</td>\n",
       "      <td>...</td>\n",
       "      <td>-999.000</td>\n",
       "      <td>-999.000</td>\n",
       "      <td>-999.000</td>\n",
       "      <td>-999.000</td>\n",
       "      <td>-999.000</td>\n",
       "      <td>-0.000</td>\n",
       "      <td>1.660654</td>\n",
       "      <td>b</td>\n",
       "      <td>t</td>\n",
       "      <td>5.446378</td>\n",
       "    </tr>\n",
       "    <tr>\n",
       "      <th>4</th>\n",
       "      <td>100004</td>\n",
       "      <td>175.864</td>\n",
       "      <td>16.915</td>\n",
       "      <td>134.805</td>\n",
       "      <td>16.405</td>\n",
       "      <td>-999.000</td>\n",
       "      <td>-999.000</td>\n",
       "      <td>-999.000</td>\n",
       "      <td>3.891</td>\n",
       "      <td>16.405</td>\n",
       "      <td>...</td>\n",
       "      <td>-999.000</td>\n",
       "      <td>-999.000</td>\n",
       "      <td>-999.000</td>\n",
       "      <td>-999.000</td>\n",
       "      <td>-999.000</td>\n",
       "      <td>0.000</td>\n",
       "      <td>1.904263</td>\n",
       "      <td>b</td>\n",
       "      <td>t</td>\n",
       "      <td>6.245333</td>\n",
       "    </tr>\n",
       "    <tr>\n",
       "      <th>5</th>\n",
       "      <td>100005</td>\n",
       "      <td>89.744</td>\n",
       "      <td>13.550</td>\n",
       "      <td>59.149</td>\n",
       "      <td>116.344</td>\n",
       "      <td>2.636</td>\n",
       "      <td>284.584</td>\n",
       "      <td>-0.540</td>\n",
       "      <td>1.362</td>\n",
       "      <td>61.619</td>\n",
       "      <td>...</td>\n",
       "      <td>-2.412</td>\n",
       "      <td>-0.653</td>\n",
       "      <td>56.165</td>\n",
       "      <td>0.224</td>\n",
       "      <td>3.106</td>\n",
       "      <td>193.660</td>\n",
       "      <td>0.025434</td>\n",
       "      <td>b</td>\n",
       "      <td>t</td>\n",
       "      <td>0.083414</td>\n",
       "    </tr>\n",
       "    <tr>\n",
       "      <th>6</th>\n",
       "      <td>100006</td>\n",
       "      <td>148.754</td>\n",
       "      <td>28.862</td>\n",
       "      <td>107.782</td>\n",
       "      <td>106.130</td>\n",
       "      <td>0.733</td>\n",
       "      <td>158.359</td>\n",
       "      <td>0.113</td>\n",
       "      <td>2.941</td>\n",
       "      <td>2.545</td>\n",
       "      <td>...</td>\n",
       "      <td>0.864</td>\n",
       "      <td>1.450</td>\n",
       "      <td>56.867</td>\n",
       "      <td>0.131</td>\n",
       "      <td>-2.767</td>\n",
       "      <td>179.877</td>\n",
       "      <td>0.000814</td>\n",
       "      <td>s</td>\n",
       "      <td>t</td>\n",
       "      <td>0.002653</td>\n",
       "    </tr>\n",
       "    <tr>\n",
       "      <th>7</th>\n",
       "      <td>100007</td>\n",
       "      <td>154.916</td>\n",
       "      <td>10.418</td>\n",
       "      <td>94.714</td>\n",
       "      <td>29.169</td>\n",
       "      <td>-999.000</td>\n",
       "      <td>-999.000</td>\n",
       "      <td>-999.000</td>\n",
       "      <td>2.897</td>\n",
       "      <td>1.526</td>\n",
       "      <td>...</td>\n",
       "      <td>-0.715</td>\n",
       "      <td>-1.724</td>\n",
       "      <td>-999.000</td>\n",
       "      <td>-999.000</td>\n",
       "      <td>-999.000</td>\n",
       "      <td>30.638</td>\n",
       "      <td>0.005721</td>\n",
       "      <td>s</td>\n",
       "      <td>t</td>\n",
       "      <td>0.018636</td>\n",
       "    </tr>\n",
       "    <tr>\n",
       "      <th>8</th>\n",
       "      <td>100008</td>\n",
       "      <td>105.594</td>\n",
       "      <td>50.559</td>\n",
       "      <td>100.989</td>\n",
       "      <td>4.288</td>\n",
       "      <td>-999.000</td>\n",
       "      <td>-999.000</td>\n",
       "      <td>-999.000</td>\n",
       "      <td>2.904</td>\n",
       "      <td>4.288</td>\n",
       "      <td>...</td>\n",
       "      <td>-999.000</td>\n",
       "      <td>-999.000</td>\n",
       "      <td>-999.000</td>\n",
       "      <td>-999.000</td>\n",
       "      <td>-999.000</td>\n",
       "      <td>0.000</td>\n",
       "      <td>1.614803</td>\n",
       "      <td>b</td>\n",
       "      <td>t</td>\n",
       "      <td>5.296003</td>\n",
       "    </tr>\n",
       "    <tr>\n",
       "      <th>9</th>\n",
       "      <td>100009</td>\n",
       "      <td>128.053</td>\n",
       "      <td>88.941</td>\n",
       "      <td>69.272</td>\n",
       "      <td>193.392</td>\n",
       "      <td>-999.000</td>\n",
       "      <td>-999.000</td>\n",
       "      <td>-999.000</td>\n",
       "      <td>1.609</td>\n",
       "      <td>28.859</td>\n",
       "      <td>...</td>\n",
       "      <td>-2.767</td>\n",
       "      <td>-2.514</td>\n",
       "      <td>-999.000</td>\n",
       "      <td>-999.000</td>\n",
       "      <td>-999.000</td>\n",
       "      <td>167.735</td>\n",
       "      <td>0.000461</td>\n",
       "      <td>s</td>\n",
       "      <td>t</td>\n",
       "      <td>0.001502</td>\n",
       "    </tr>\n",
       "  </tbody>\n",
       "</table>\n",
       "<p>10 rows × 35 columns</p>\n",
       "</div>"
      ],
      "text/plain": [
       "   EventId  DER_mass_MMC  DER_mass_transverse_met_lep  DER_mass_vis  DER_pt_h  \\\n",
       "0   100000       138.470                       51.655        97.827    27.980   \n",
       "1   100001       160.937                       68.768       103.235    48.146   \n",
       "2   100002      -999.000                      162.172       125.953    35.635   \n",
       "3   100003       143.905                       81.417        80.943     0.414   \n",
       "4   100004       175.864                       16.915       134.805    16.405   \n",
       "5   100005        89.744                       13.550        59.149   116.344   \n",
       "6   100006       148.754                       28.862       107.782   106.130   \n",
       "7   100007       154.916                       10.418        94.714    29.169   \n",
       "8   100008       105.594                       50.559       100.989     4.288   \n",
       "9   100009       128.053                       88.941        69.272   193.392   \n",
       "\n",
       "   DER_deltaeta_jet_jet  DER_mass_jet_jet  DER_prodeta_jet_jet  \\\n",
       "0                 0.910           124.711                2.666   \n",
       "1              -999.000          -999.000             -999.000   \n",
       "2              -999.000          -999.000             -999.000   \n",
       "3              -999.000          -999.000             -999.000   \n",
       "4              -999.000          -999.000             -999.000   \n",
       "5                 2.636           284.584               -0.540   \n",
       "6                 0.733           158.359                0.113   \n",
       "7              -999.000          -999.000             -999.000   \n",
       "8              -999.000          -999.000             -999.000   \n",
       "9              -999.000          -999.000             -999.000   \n",
       "\n",
       "   DER_deltar_tau_lep  DER_pt_tot  ...  PRI_jet_leading_eta  \\\n",
       "0               3.064      41.928  ...                2.150   \n",
       "1               3.473       2.078  ...                0.725   \n",
       "2               3.148       9.336  ...                2.053   \n",
       "3               3.310       0.414  ...             -999.000   \n",
       "4               3.891      16.405  ...             -999.000   \n",
       "5               1.362      61.619  ...               -2.412   \n",
       "6               2.941       2.545  ...                0.864   \n",
       "7               2.897       1.526  ...               -0.715   \n",
       "8               2.904       4.288  ...             -999.000   \n",
       "9               1.609      28.859  ...               -2.767   \n",
       "\n",
       "   PRI_jet_leading_phi  PRI_jet_subleading_pt  PRI_jet_subleading_eta  \\\n",
       "0                0.444                 46.062                   1.240   \n",
       "1                1.158               -999.000                -999.000   \n",
       "2               -2.028               -999.000                -999.000   \n",
       "3             -999.000               -999.000                -999.000   \n",
       "4             -999.000               -999.000                -999.000   \n",
       "5               -0.653                 56.165                   0.224   \n",
       "6                1.450                 56.867                   0.131   \n",
       "7               -1.724               -999.000                -999.000   \n",
       "8             -999.000               -999.000                -999.000   \n",
       "9               -2.514               -999.000                -999.000   \n",
       "\n",
       "   PRI_jet_subleading_phi  PRI_jet_all_pt    Weight  Label  KaggleSet  \\\n",
       "0                  -2.475         113.497  0.000814      s          t   \n",
       "1                -999.000          46.226  0.681042      b          t   \n",
       "2                -999.000          44.251  0.715742      b          t   \n",
       "3                -999.000          -0.000  1.660654      b          t   \n",
       "4                -999.000           0.000  1.904263      b          t   \n",
       "5                   3.106         193.660  0.025434      b          t   \n",
       "6                  -2.767         179.877  0.000814      s          t   \n",
       "7                -999.000          30.638  0.005721      s          t   \n",
       "8                -999.000           0.000  1.614803      b          t   \n",
       "9                -999.000         167.735  0.000461      s          t   \n",
       "\n",
       "   KaggleWeight  \n",
       "0      0.002653  \n",
       "1      2.233584  \n",
       "2      2.347389  \n",
       "3      5.446378  \n",
       "4      6.245333  \n",
       "5      0.083414  \n",
       "6      0.002653  \n",
       "7      0.018636  \n",
       "8      5.296003  \n",
       "9      0.001502  \n",
       "\n",
       "[10 rows x 35 columns]"
      ]
     },
     "execution_count": 33,
     "metadata": {},
     "output_type": "execute_result"
    }
   ],
   "source": [
    "data_full = pd.read_csv('dataset_higgs_challenge.csv')\n",
    "data_full.head(10)"
   ]
  },
  {
   "cell_type": "code",
   "execution_count": 34,
   "metadata": {},
   "outputs": [
    {
     "name": "stdout",
     "output_type": "stream",
     "text": [
      "Total number of events:  818238 \n",
      "\n",
      "Number of events in the t KaggleSet: 250000\n",
      "Number of events in the b KaggleSet: 100000\n",
      "Number of events in the v KaggleSet: 450000\n",
      "Number of events in the u KaggleSet: 18238\n"
     ]
    }
   ],
   "source": [
    "print('Total number of events: ', len(data_full), '\\n')\n",
    "for KaggleSetID in ['t', 'b', 'v', 'u']:\n",
    "    print('Number of events in the {} KaggleSet: {}'\n",
    "          .format(KaggleSetID, len(data_full['KaggleSet'][data_full['KaggleSet']==KaggleSetID])))"
   ]
  },
  {
   "cell_type": "markdown",
   "metadata": {},
   "source": [
    "## Now let's split the data into training and validation set"
   ]
  },
  {
   "cell_type": "code",
   "execution_count": 35,
   "metadata": {},
   "outputs": [
    {
     "data": {
      "text/plain": [
       "(250000, 100000)"
      ]
     },
     "execution_count": 35,
     "metadata": {},
     "output_type": "execute_result"
    }
   ],
   "source": [
    "train_data = data_full[data_full['KaggleSet']=='t']\n",
    "validation_data = data_full[data_full['KaggleSet']=='b']\n",
    "\n",
    "y_train = pd.get_dummies(train_data['Label']).values.astype(float) #signal = [0,1], background = [1,0]\n",
    "y_val = pd.get_dummies(validation_data['Label']).values.astype(float)\n",
    "\n",
    "len(train_data), len(validation_data)"
   ]
  },
  {
   "cell_type": "markdown",
   "metadata": {},
   "source": [
    "## Ok first let's try to perform cuts on unuseful variables"
   ]
  },
  {
   "cell_type": "markdown",
   "metadata": {},
   "source": [
    "First I cut off all the data that have:\n",
    "\n",
    "1) Meaningless values (-999) on the jets.\n",
    "\n",
    "2) Number of jets < 2.\n",
    "\n",
    "And of course i put all the VBF cuts (for now i classify just using VBF data)."
   ]
  },
  {
   "cell_type": "code",
   "execution_count": 36,
   "metadata": {},
   "outputs": [],
   "source": [
    "X = train_data.iloc[:,1:-4]\n",
    "X_val = validation_data.iloc[:,1:-4]\n",
    "\n",
    "X_2jets = X[ X['PRI_jet_num']==0 ].drop(['DER_deltaeta_jet_jet', 'DER_mass_jet_jet', 'DER_prodeta_jet_jet', \n",
    "                                         'DER_lep_eta_centrality', 'PRI_jet_num', 'PRI_jet_leading_pt', \n",
    "                                         'PRI_jet_leading_eta', 'PRI_jet_leading_phi', 'PRI_jet_subleading_pt', \n",
    "                                         'PRI_jet_subleading_eta', 'PRI_jet_subleading_phi', 'PRI_jet_all_pt'], \n",
    "                                        axis =1)\n",
    "\n",
    "X_2jets = X[ X['PRI_jet_num']>=2 ]\n",
    "X_val_2jets = X_val[ X_val['PRI_jet_num']>=2 ]\n",
    "X_VBF = X_2jets [ (X_2jets['PRI_jet_leading_pt'] >= 50) & (X_2jets['PRI_jet_subleading_pt'] >= 30) & \n",
    "                 (X_2jets['DER_deltaeta_jet_jet'] >= 3) & (X_2jets['DER_mass_vis']>=40) ]\n",
    "X_val_VBF = X_val_2jets [ (X_val_2jets['PRI_jet_leading_pt'] >= 50) & (X_val_2jets['PRI_jet_subleading_pt'] >= 30)\n",
    "                         & (X_val_2jets['DER_deltaeta_jet_jet'] >= 3) & (X_val_2jets['DER_mass_vis']>=40) ]\n",
    "\n",
    "\n",
    "y_train_2jets = y_train[ X['PRI_jet_num']>=2 ]\n",
    "y_val_2jets = y_val[ X_val['PRI_jet_num']>=2 ]\n",
    "y_train_VBF = y_train_2jets [ (X_2jets['PRI_jet_leading_pt'] >= 50) & (X_2jets['PRI_jet_subleading_pt'] >= 30) &\n",
    "                             (X_2jets['DER_deltaeta_jet_jet'] >= 3) & (X_2jets['DER_mass_vis']>=40) ]\n",
    "y_val_VBF = y_val_2jets [ (X_val_2jets['PRI_jet_leading_pt'] >= 50) & (X_val_2jets['PRI_jet_subleading_pt'] >= 30) \n",
    "                         & (X_val_2jets['DER_deltaeta_jet_jet'] >= 3) & (X_val_2jets['DER_mass_vis']>=40) ]"
   ]
  },
  {
   "cell_type": "code",
   "execution_count": 37,
   "metadata": {
    "scrolled": true
   },
   "outputs": [
    {
     "data": {
      "text/plain": [
       "21257"
      ]
     },
     "execution_count": 37,
     "metadata": {},
     "output_type": "execute_result"
    }
   ],
   "source": [
    "len (X_VBF)"
   ]
  },
  {
   "cell_type": "code",
   "execution_count": 38,
   "metadata": {},
   "outputs": [
    {
     "data": {
      "text/plain": [
       "8489"
      ]
     },
     "execution_count": 38,
     "metadata": {},
     "output_type": "execute_result"
    }
   ],
   "source": [
    "len (X_val_VBF)"
   ]
  },
  {
   "cell_type": "code",
   "execution_count": 39,
   "metadata": {},
   "outputs": [
    {
     "data": {
      "text/plain": [
       "21257"
      ]
     },
     "execution_count": 39,
     "metadata": {},
     "output_type": "execute_result"
    }
   ],
   "source": [
    "len(y_train_VBF)"
   ]
  },
  {
   "cell_type": "code",
   "execution_count": 40,
   "metadata": {},
   "outputs": [
    {
     "data": {
      "text/plain": [
       "8489"
      ]
     },
     "execution_count": 40,
     "metadata": {},
     "output_type": "execute_result"
    }
   ],
   "source": [
    "len(y_val_VBF)"
   ]
  },
  {
   "cell_type": "markdown",
   "metadata": {},
   "source": [
    "## Let's perform a scaling of input variables\n"
   ]
  },
  {
   "cell_type": "code",
   "execution_count": 42,
   "metadata": {},
   "outputs": [],
   "source": [
    "from sklearn.preprocessing import StandardScaler #This is the best one (I tried also other of course)\n",
    "minmax_VBF = StandardScaler()\n",
    "minmax_VBF.fit(X_VBF)\n",
    "X_VBF_minmax = minmax_VBF.transform(X_VBF)\n",
    "X_val_VBF_minmax = minmax_VBF.transform(X_val_VBF)\n",
    "\n",
    "#validation set needs to be scaled right?"
   ]
  },
  {
   "cell_type": "markdown",
   "metadata": {},
   "source": [
    "## Now let's use a DNN"
   ]
  },
  {
   "cell_type": "code",
   "execution_count": 43,
   "metadata": {},
   "outputs": [
    {
     "name": "stdout",
     "output_type": "stream",
     "text": [
      "Model: \"sequential_6\"\n",
      "_________________________________________________________________\n",
      "Layer (type)                 Output Shape              Param #   \n",
      "=================================================================\n",
      "dense_36 (Dense)             (None, 128)               3968      \n",
      "_________________________________________________________________\n",
      "dropout_31 (Dropout)         (None, 128)               0         \n",
      "_________________________________________________________________\n",
      "dense_37 (Dense)             (None, 64)                8256      \n",
      "_________________________________________________________________\n",
      "dropout_32 (Dropout)         (None, 64)                0         \n",
      "_________________________________________________________________\n",
      "dense_38 (Dense)             (None, 32)                2080      \n",
      "_________________________________________________________________\n",
      "dropout_33 (Dropout)         (None, 32)                0         \n",
      "_________________________________________________________________\n",
      "dense_39 (Dense)             (None, 16)                528       \n",
      "_________________________________________________________________\n",
      "dropout_34 (Dropout)         (None, 16)                0         \n",
      "_________________________________________________________________\n",
      "dense_40 (Dense)             (None, 8)                 136       \n",
      "_________________________________________________________________\n",
      "dropout_35 (Dropout)         (None, 8)                 0         \n",
      "_________________________________________________________________\n",
      "dense_41 (Dense)             (None, 4)                 36        \n",
      "_________________________________________________________________\n",
      "dropout_36 (Dropout)         (None, 4)                 0         \n",
      "_________________________________________________________________\n",
      "dense_42 (Dense)             (None, 2)                 10        \n",
      "=================================================================\n",
      "Total params: 15,014\n",
      "Trainable params: 15,014\n",
      "Non-trainable params: 0\n",
      "_________________________________________________________________\n"
     ]
    }
   ],
   "source": [
    "from keras.models import Sequential\n",
    "from keras.layers import Dense, Activation\n",
    "from keras import regularizers\n",
    "from keras.regularizers import l1\n",
    "from keras.layers import Dropout\n",
    "#Too much higher validation loss in data. So i added a regularizer.\n",
    "#I added also dropout to have better shape. \n",
    "\n",
    "model_1 = Sequential()\n",
    "l1_lambda = 0.0001\n",
    "dropout=0.2\n",
    "model_1.add(Dense(units=128, activation='relu', kernel_regularizer=l1(l1_lambda), input_dim=30))\n",
    "model_1.add(Dropout(dropout))\n",
    "model_1.add(Dense(units=64, activation='relu', kernel_regularizer=l1(l1_lambda)))\n",
    "model_1.add(Dropout(dropout))\n",
    "model_1.add(Dense(units=32, activation='relu', kernel_regularizer=l1(l1_lambda)))\n",
    "model_1.add(Dropout(dropout))\n",
    "model_1.add(Dense(units=16, activation='relu', kernel_regularizer=l1(l1_lambda)))\n",
    "model_1.add(Dropout(dropout))\n",
    "model_1.add(Dense(units=8, activation='relu', kernel_regularizer=l1(l1_lambda)))\n",
    "model_1.add(Dropout(dropout))\n",
    "model_1.add(Dense(units=4, activation='relu', kernel_regularizer=l1(l1_lambda)))\n",
    "model_1.add(Dropout(dropout))\n",
    "model_1.add(Dense(units=2, activation='softmax'))\n",
    "\n",
    "model_1.summary()"
   ]
  },
  {
   "cell_type": "code",
   "execution_count": 44,
   "metadata": {},
   "outputs": [],
   "source": [
    "model_1.compile(optimizer='adagrad', #adagrad is the best one for this classification.\n",
    "              loss='categorical_crossentropy', #This seems one of the best loss function.\n",
    "              metrics=['accuracy'])"
   ]
  },
  {
   "cell_type": "code",
   "execution_count": 45,
   "metadata": {},
   "outputs": [
    {
     "name": "stdout",
     "output_type": "stream",
     "text": [
      "Train on 21257 samples, validate on 8489 samples\n",
      "Epoch 1/130\n",
      "21257/21257 [==============================] - 1s 25us/step - loss: 0.6739 - accuracy: 0.7341 - val_loss: 0.5423 - val_accuracy: 0.8278\n",
      "Epoch 2/130\n",
      "21257/21257 [==============================] - 0s 13us/step - loss: 0.5765 - accuracy: 0.7993 - val_loss: 0.4805 - val_accuracy: 0.8497\n",
      "Epoch 3/130\n",
      "21257/21257 [==============================] - 0s 13us/step - loss: 0.5283 - accuracy: 0.8240 - val_loss: 0.4557 - val_accuracy: 0.8588\n",
      "Epoch 4/130\n",
      "21257/21257 [==============================] - 0s 13us/step - loss: 0.5079 - accuracy: 0.8345 - val_loss: 0.4418 - val_accuracy: 0.8618\n",
      "Epoch 5/130\n",
      "21257/21257 [==============================] - 0s 13us/step - loss: 0.4935 - accuracy: 0.8396 - val_loss: 0.4345 - val_accuracy: 0.8637\n",
      "Epoch 6/130\n",
      "21257/21257 [==============================] - 0s 13us/step - loss: 0.4849 - accuracy: 0.8430 - val_loss: 0.4266 - val_accuracy: 0.8652\n",
      "Epoch 7/130\n",
      "21257/21257 [==============================] - 0s 12us/step - loss: 0.4738 - accuracy: 0.8454 - val_loss: 0.4209 - val_accuracy: 0.8656\n",
      "Epoch 8/130\n",
      "21257/21257 [==============================] - 0s 11us/step - loss: 0.4625 - accuracy: 0.8499 - val_loss: 0.4147 - val_accuracy: 0.8675\n",
      "Epoch 9/130\n",
      "21257/21257 [==============================] - 0s 13us/step - loss: 0.4570 - accuracy: 0.8531 - val_loss: 0.4135 - val_accuracy: 0.8705\n",
      "Epoch 10/130\n",
      "21257/21257 [==============================] - 0s 13us/step - loss: 0.4592 - accuracy: 0.8522 - val_loss: 0.4099 - val_accuracy: 0.8667\n",
      "Epoch 11/130\n",
      "21257/21257 [==============================] - 0s 13us/step - loss: 0.4519 - accuracy: 0.8547 - val_loss: 0.4048 - val_accuracy: 0.8677\n",
      "Epoch 12/130\n",
      "21257/21257 [==============================] - 0s 13us/step - loss: 0.4492 - accuracy: 0.8545 - val_loss: 0.4040 - val_accuracy: 0.8715\n",
      "Epoch 13/130\n",
      "21257/21257 [==============================] - 0s 13us/step - loss: 0.4459 - accuracy: 0.8544 - val_loss: 0.4028 - val_accuracy: 0.8727\n",
      "Epoch 14/130\n",
      "21257/21257 [==============================] - 0s 13us/step - loss: 0.4389 - accuracy: 0.8568 - val_loss: 0.3977 - val_accuracy: 0.8715\n",
      "Epoch 15/130\n",
      "21257/21257 [==============================] - 0s 13us/step - loss: 0.4347 - accuracy: 0.8615 - val_loss: 0.3945 - val_accuracy: 0.8721\n",
      "Epoch 16/130\n",
      "21257/21257 [==============================] - 0s 12us/step - loss: 0.4350 - accuracy: 0.8616 - val_loss: 0.3947 - val_accuracy: 0.8717\n",
      "Epoch 17/130\n",
      "21257/21257 [==============================] - 0s 12us/step - loss: 0.4280 - accuracy: 0.8657 - val_loss: 0.3926 - val_accuracy: 0.8729\n",
      "Epoch 18/130\n",
      "21257/21257 [==============================] - 0s 13us/step - loss: 0.4289 - accuracy: 0.8629 - val_loss: 0.3899 - val_accuracy: 0.8736\n",
      "Epoch 19/130\n",
      "21257/21257 [==============================] - 0s 13us/step - loss: 0.4261 - accuracy: 0.8632 - val_loss: 0.3891 - val_accuracy: 0.8735\n",
      "Epoch 20/130\n",
      "21257/21257 [==============================] - 0s 12us/step - loss: 0.4268 - accuracy: 0.8630 - val_loss: 0.3880 - val_accuracy: 0.8745\n",
      "Epoch 21/130\n",
      "21257/21257 [==============================] - 0s 13us/step - loss: 0.4255 - accuracy: 0.8629 - val_loss: 0.3870 - val_accuracy: 0.8732\n",
      "Epoch 22/130\n",
      "21257/21257 [==============================] - 0s 13us/step - loss: 0.4224 - accuracy: 0.8628 - val_loss: 0.3867 - val_accuracy: 0.8748\n",
      "Epoch 23/130\n",
      "21257/21257 [==============================] - 0s 13us/step - loss: 0.4151 - accuracy: 0.8630 - val_loss: 0.3855 - val_accuracy: 0.8751\n",
      "Epoch 24/130\n",
      "21257/21257 [==============================] - 0s 13us/step - loss: 0.4166 - accuracy: 0.8663 - val_loss: 0.3835 - val_accuracy: 0.8757\n",
      "Epoch 25/130\n",
      "21257/21257 [==============================] - 0s 13us/step - loss: 0.4140 - accuracy: 0.8656 - val_loss: 0.3811 - val_accuracy: 0.8754\n",
      "Epoch 26/130\n",
      "21257/21257 [==============================] - 0s 12us/step - loss: 0.4128 - accuracy: 0.8679 - val_loss: 0.3801 - val_accuracy: 0.8756\n",
      "Epoch 27/130\n",
      "21257/21257 [==============================] - 0s 13us/step - loss: 0.4112 - accuracy: 0.8668 - val_loss: 0.3787 - val_accuracy: 0.8762\n",
      "Epoch 28/130\n",
      "21257/21257 [==============================] - 0s 13us/step - loss: 0.4133 - accuracy: 0.8658 - val_loss: 0.3787 - val_accuracy: 0.8767\n",
      "Epoch 29/130\n",
      "21257/21257 [==============================] - 0s 12us/step - loss: 0.4096 - accuracy: 0.8658 - val_loss: 0.3777 - val_accuracy: 0.8749\n",
      "Epoch 30/130\n",
      "21257/21257 [==============================] - 0s 12us/step - loss: 0.4056 - accuracy: 0.8679 - val_loss: 0.3761 - val_accuracy: 0.8767\n",
      "Epoch 31/130\n",
      "21257/21257 [==============================] - 0s 12us/step - loss: 0.4081 - accuracy: 0.8664 - val_loss: 0.3750 - val_accuracy: 0.8754\n",
      "Epoch 32/130\n",
      "21257/21257 [==============================] - 0s 13us/step - loss: 0.4077 - accuracy: 0.8673 - val_loss: 0.3741 - val_accuracy: 0.8750\n",
      "Epoch 33/130\n",
      "21257/21257 [==============================] - 0s 13us/step - loss: 0.4054 - accuracy: 0.8667 - val_loss: 0.3741 - val_accuracy: 0.8755\n",
      "Epoch 34/130\n",
      "21257/21257 [==============================] - 0s 13us/step - loss: 0.4035 - accuracy: 0.8681 - val_loss: 0.3731 - val_accuracy: 0.8757\n",
      "Epoch 35/130\n",
      "21257/21257 [==============================] - 0s 12us/step - loss: 0.3997 - accuracy: 0.8707 - val_loss: 0.3717 - val_accuracy: 0.8742\n",
      "Epoch 36/130\n",
      "21257/21257 [==============================] - 0s 12us/step - loss: 0.4015 - accuracy: 0.8662 - val_loss: 0.3704 - val_accuracy: 0.8756\n",
      "Epoch 37/130\n",
      "21257/21257 [==============================] - 0s 13us/step - loss: 0.3956 - accuracy: 0.8696 - val_loss: 0.3699 - val_accuracy: 0.8756\n",
      "Epoch 38/130\n",
      "21257/21257 [==============================] - 0s 13us/step - loss: 0.4016 - accuracy: 0.8686 - val_loss: 0.3700 - val_accuracy: 0.8762\n",
      "Epoch 39/130\n",
      "21257/21257 [==============================] - 0s 12us/step - loss: 0.3970 - accuracy: 0.8700 - val_loss: 0.3685 - val_accuracy: 0.8763\n",
      "Epoch 40/130\n",
      "21257/21257 [==============================] - 0s 12us/step - loss: 0.3966 - accuracy: 0.8692 - val_loss: 0.3674 - val_accuracy: 0.8754\n",
      "Epoch 41/130\n",
      "21257/21257 [==============================] - 0s 13us/step - loss: 0.3938 - accuracy: 0.8711 - val_loss: 0.3673 - val_accuracy: 0.8756\n",
      "Epoch 42/130\n",
      "21257/21257 [==============================] - 0s 13us/step - loss: 0.3961 - accuracy: 0.8709 - val_loss: 0.3680 - val_accuracy: 0.8756\n",
      "Epoch 43/130\n",
      "21257/21257 [==============================] - 0s 12us/step - loss: 0.3929 - accuracy: 0.8729 - val_loss: 0.3670 - val_accuracy: 0.8763\n",
      "Epoch 44/130\n",
      "21257/21257 [==============================] - 0s 13us/step - loss: 0.3941 - accuracy: 0.8722 - val_loss: 0.3671 - val_accuracy: 0.8773\n",
      "Epoch 45/130\n",
      "21257/21257 [==============================] - 0s 13us/step - loss: 0.3857 - accuracy: 0.8738 - val_loss: 0.3641 - val_accuracy: 0.8747\n",
      "Epoch 46/130\n",
      "21257/21257 [==============================] - 0s 12us/step - loss: 0.3917 - accuracy: 0.8703 - val_loss: 0.3653 - val_accuracy: 0.8768\n",
      "Epoch 47/130\n",
      "21257/21257 [==============================] - 0s 13us/step - loss: 0.3915 - accuracy: 0.8716 - val_loss: 0.3640 - val_accuracy: 0.8770\n",
      "Epoch 48/130\n",
      "21257/21257 [==============================] - 0s 13us/step - loss: 0.3860 - accuracy: 0.8731 - val_loss: 0.3628 - val_accuracy: 0.8755\n",
      "Epoch 49/130\n",
      "21257/21257 [==============================] - 0s 13us/step - loss: 0.3897 - accuracy: 0.8710 - val_loss: 0.3633 - val_accuracy: 0.8768\n",
      "Epoch 50/130\n",
      "21257/21257 [==============================] - 0s 13us/step - loss: 0.3896 - accuracy: 0.8728 - val_loss: 0.3650 - val_accuracy: 0.8784\n",
      "Epoch 51/130\n",
      "21257/21257 [==============================] - 0s 13us/step - loss: 0.3877 - accuracy: 0.8720 - val_loss: 0.3649 - val_accuracy: 0.8787\n",
      "Epoch 52/130\n",
      "21257/21257 [==============================] - 0s 12us/step - loss: 0.3877 - accuracy: 0.8745 - val_loss: 0.3640 - val_accuracy: 0.8785\n",
      "Epoch 53/130\n",
      "21257/21257 [==============================] - 0s 11us/step - loss: 0.3879 - accuracy: 0.8737 - val_loss: 0.3606 - val_accuracy: 0.8774\n",
      "Epoch 54/130\n",
      "21257/21257 [==============================] - 0s 12us/step - loss: 0.3798 - accuracy: 0.8731 - val_loss: 0.3605 - val_accuracy: 0.8773\n",
      "Epoch 55/130\n",
      "21257/21257 [==============================] - 0s 13us/step - loss: 0.3871 - accuracy: 0.8713 - val_loss: 0.3606 - val_accuracy: 0.8784\n"
     ]
    },
    {
     "name": "stdout",
     "output_type": "stream",
     "text": [
      "Epoch 56/130\n",
      "21257/21257 [==============================] - 0s 12us/step - loss: 0.3849 - accuracy: 0.8731 - val_loss: 0.3601 - val_accuracy: 0.8764\n",
      "Epoch 57/130\n",
      "21257/21257 [==============================] - 0s 13us/step - loss: 0.3858 - accuracy: 0.8706 - val_loss: 0.3599 - val_accuracy: 0.8776\n",
      "Epoch 58/130\n",
      "21257/21257 [==============================] - 0s 13us/step - loss: 0.3807 - accuracy: 0.8753 - val_loss: 0.3591 - val_accuracy: 0.8782\n",
      "Epoch 59/130\n",
      "21257/21257 [==============================] - 0s 13us/step - loss: 0.3814 - accuracy: 0.8761 - val_loss: 0.3580 - val_accuracy: 0.8767\n",
      "Epoch 60/130\n",
      "21257/21257 [==============================] - 0s 13us/step - loss: 0.3816 - accuracy: 0.8735 - val_loss: 0.3571 - val_accuracy: 0.8769\n",
      "Epoch 61/130\n",
      "21257/21257 [==============================] - 0s 13us/step - loss: 0.3796 - accuracy: 0.8753 - val_loss: 0.3595 - val_accuracy: 0.8775\n",
      "Epoch 62/130\n",
      "21257/21257 [==============================] - 0s 13us/step - loss: 0.3764 - accuracy: 0.8742 - val_loss: 0.3571 - val_accuracy: 0.8762\n",
      "Epoch 63/130\n",
      "21257/21257 [==============================] - 0s 14us/step - loss: 0.3776 - accuracy: 0.8766 - val_loss: 0.3576 - val_accuracy: 0.8764\n",
      "Epoch 64/130\n",
      "21257/21257 [==============================] - 0s 14us/step - loss: 0.3782 - accuracy: 0.8725 - val_loss: 0.3571 - val_accuracy: 0.8765\n",
      "Epoch 65/130\n",
      "21257/21257 [==============================] - 0s 14us/step - loss: 0.3789 - accuracy: 0.8752 - val_loss: 0.3567 - val_accuracy: 0.8768\n",
      "Epoch 66/130\n",
      "21257/21257 [==============================] - 0s 12us/step - loss: 0.3756 - accuracy: 0.8739 - val_loss: 0.3573 - val_accuracy: 0.8769\n",
      "Epoch 67/130\n",
      "21257/21257 [==============================] - 0s 13us/step - loss: 0.3784 - accuracy: 0.8743 - val_loss: 0.3567 - val_accuracy: 0.8780\n",
      "Epoch 68/130\n",
      "21257/21257 [==============================] - 0s 12us/step - loss: 0.3736 - accuracy: 0.8744 - val_loss: 0.3551 - val_accuracy: 0.8768\n",
      "Epoch 69/130\n",
      "21257/21257 [==============================] - 0s 14us/step - loss: 0.3762 - accuracy: 0.8730 - val_loss: 0.3561 - val_accuracy: 0.8764\n",
      "Epoch 70/130\n",
      "21257/21257 [==============================] - 0s 12us/step - loss: 0.3753 - accuracy: 0.8757 - val_loss: 0.3550 - val_accuracy: 0.8782\n",
      "Epoch 71/130\n",
      "21257/21257 [==============================] - 0s 13us/step - loss: 0.3753 - accuracy: 0.8760 - val_loss: 0.3551 - val_accuracy: 0.8765\n",
      "Epoch 72/130\n",
      "21257/21257 [==============================] - 0s 13us/step - loss: 0.3732 - accuracy: 0.8757 - val_loss: 0.3547 - val_accuracy: 0.8767\n",
      "Epoch 73/130\n",
      "21257/21257 [==============================] - 0s 13us/step - loss: 0.3729 - accuracy: 0.8767 - val_loss: 0.3531 - val_accuracy: 0.8765\n",
      "Epoch 74/130\n",
      "21257/21257 [==============================] - 0s 13us/step - loss: 0.3714 - accuracy: 0.8742 - val_loss: 0.3546 - val_accuracy: 0.8773\n",
      "Epoch 75/130\n",
      "21257/21257 [==============================] - 0s 13us/step - loss: 0.3738 - accuracy: 0.8762 - val_loss: 0.3528 - val_accuracy: 0.8767\n",
      "Epoch 76/130\n",
      "21257/21257 [==============================] - 0s 12us/step - loss: 0.3712 - accuracy: 0.8751 - val_loss: 0.3536 - val_accuracy: 0.8769\n",
      "Epoch 77/130\n",
      "21257/21257 [==============================] - 0s 13us/step - loss: 0.3686 - accuracy: 0.8756 - val_loss: 0.3542 - val_accuracy: 0.8761\n",
      "Epoch 78/130\n",
      "21257/21257 [==============================] - 0s 13us/step - loss: 0.3700 - accuracy: 0.8751 - val_loss: 0.3546 - val_accuracy: 0.8757\n",
      "Epoch 79/130\n",
      "21257/21257 [==============================] - 0s 14us/step - loss: 0.3727 - accuracy: 0.8758 - val_loss: 0.3536 - val_accuracy: 0.8764\n",
      "Epoch 80/130\n",
      "21257/21257 [==============================] - 0s 12us/step - loss: 0.3736 - accuracy: 0.8754 - val_loss: 0.3523 - val_accuracy: 0.8767\n",
      "Epoch 81/130\n",
      "21257/21257 [==============================] - 0s 13us/step - loss: 0.3738 - accuracy: 0.8736 - val_loss: 0.3531 - val_accuracy: 0.8767\n",
      "Epoch 82/130\n",
      "21257/21257 [==============================] - 0s 12us/step - loss: 0.3708 - accuracy: 0.8759 - val_loss: 0.3530 - val_accuracy: 0.8775\n",
      "Epoch 83/130\n",
      "21257/21257 [==============================] - 0s 13us/step - loss: 0.3668 - accuracy: 0.8753 - val_loss: 0.3527 - val_accuracy: 0.8773\n",
      "Epoch 84/130\n",
      "21257/21257 [==============================] - 0s 12us/step - loss: 0.3671 - accuracy: 0.8767 - val_loss: 0.3523 - val_accuracy: 0.8770\n",
      "Epoch 85/130\n",
      "21257/21257 [==============================] - 0s 13us/step - loss: 0.3669 - accuracy: 0.8767 - val_loss: 0.3530 - val_accuracy: 0.8764\n",
      "Epoch 86/130\n",
      "21257/21257 [==============================] - 0s 13us/step - loss: 0.3651 - accuracy: 0.8779 - val_loss: 0.3525 - val_accuracy: 0.8774\n",
      "Epoch 87/130\n",
      "21257/21257 [==============================] - 0s 12us/step - loss: 0.3658 - accuracy: 0.8767 - val_loss: 0.3522 - val_accuracy: 0.8750\n",
      "Epoch 88/130\n",
      "21257/21257 [==============================] - 0s 12us/step - loss: 0.3639 - accuracy: 0.8769 - val_loss: 0.3512 - val_accuracy: 0.8768\n",
      "Epoch 89/130\n",
      "21257/21257 [==============================] - 0s 13us/step - loss: 0.3686 - accuracy: 0.8774 - val_loss: 0.3503 - val_accuracy: 0.8763\n",
      "Epoch 90/130\n",
      "21257/21257 [==============================] - 0s 12us/step - loss: 0.3650 - accuracy: 0.8769 - val_loss: 0.3510 - val_accuracy: 0.8780\n",
      "Epoch 91/130\n",
      "21257/21257 [==============================] - 0s 13us/step - loss: 0.3659 - accuracy: 0.8775 - val_loss: 0.3501 - val_accuracy: 0.8770\n",
      "Epoch 92/130\n",
      "21257/21257 [==============================] - 0s 13us/step - loss: 0.3664 - accuracy: 0.8764 - val_loss: 0.3492 - val_accuracy: 0.8774\n",
      "Epoch 93/130\n",
      "21257/21257 [==============================] - 0s 13us/step - loss: 0.3694 - accuracy: 0.8761 - val_loss: 0.3490 - val_accuracy: 0.8771\n",
      "Epoch 94/130\n",
      "21257/21257 [==============================] - 0s 13us/step - loss: 0.3657 - accuracy: 0.8767 - val_loss: 0.3487 - val_accuracy: 0.8770\n",
      "Epoch 95/130\n",
      "21257/21257 [==============================] - 0s 13us/step - loss: 0.3673 - accuracy: 0.8752 - val_loss: 0.3488 - val_accuracy: 0.8770\n",
      "Epoch 96/130\n",
      "21257/21257 [==============================] - 0s 12us/step - loss: 0.3582 - accuracy: 0.8793 - val_loss: 0.3495 - val_accuracy: 0.8756\n",
      "Epoch 97/130\n",
      "21257/21257 [==============================] - 0s 14us/step - loss: 0.3591 - accuracy: 0.8782 - val_loss: 0.3489 - val_accuracy: 0.8762\n",
      "Epoch 98/130\n",
      "21257/21257 [==============================] - 0s 11us/step - loss: 0.3655 - accuracy: 0.8788 - val_loss: 0.3486 - val_accuracy: 0.8769\n",
      "Epoch 99/130\n",
      "21257/21257 [==============================] - 0s 14us/step - loss: 0.3633 - accuracy: 0.8768 - val_loss: 0.3490 - val_accuracy: 0.8773\n",
      "Epoch 100/130\n",
      "21257/21257 [==============================] - 0s 13us/step - loss: 0.3662 - accuracy: 0.8782 - val_loss: 0.3483 - val_accuracy: 0.8776\n",
      "Epoch 101/130\n",
      "21257/21257 [==============================] - 0s 13us/step - loss: 0.3636 - accuracy: 0.8777 - val_loss: 0.3490 - val_accuracy: 0.8760\n",
      "Epoch 102/130\n",
      "21257/21257 [==============================] - 0s 13us/step - loss: 0.3607 - accuracy: 0.8809 - val_loss: 0.3498 - val_accuracy: 0.8770\n",
      "Epoch 103/130\n",
      "21257/21257 [==============================] - 0s 13us/step - loss: 0.3578 - accuracy: 0.8797 - val_loss: 0.3487 - val_accuracy: 0.8764\n",
      "Epoch 104/130\n",
      "21257/21257 [==============================] - 0s 13us/step - loss: 0.3609 - accuracy: 0.8777 - val_loss: 0.3505 - val_accuracy: 0.8777\n",
      "Epoch 105/130\n",
      "21257/21257 [==============================] - 0s 13us/step - loss: 0.3613 - accuracy: 0.8784 - val_loss: 0.3510 - val_accuracy: 0.8791\n",
      "Epoch 106/130\n",
      "21257/21257 [==============================] - 0s 13us/step - loss: 0.3606 - accuracy: 0.8799 - val_loss: 0.3489 - val_accuracy: 0.8762\n",
      "Epoch 107/130\n",
      "21257/21257 [==============================] - 0s 12us/step - loss: 0.3623 - accuracy: 0.8823 - val_loss: 0.3472 - val_accuracy: 0.8763\n",
      "Epoch 108/130\n",
      "21257/21257 [==============================] - 0s 13us/step - loss: 0.3589 - accuracy: 0.8807 - val_loss: 0.3475 - val_accuracy: 0.8770\n",
      "Epoch 109/130\n",
      "21257/21257 [==============================] - 0s 13us/step - loss: 0.3588 - accuracy: 0.8801 - val_loss: 0.3482 - val_accuracy: 0.8774\n",
      "Epoch 110/130\n",
      "21257/21257 [==============================] - 0s 13us/step - loss: 0.3587 - accuracy: 0.8807 - val_loss: 0.3474 - val_accuracy: 0.8777\n"
     ]
    },
    {
     "name": "stdout",
     "output_type": "stream",
     "text": [
      "Epoch 111/130\n",
      "21257/21257 [==============================] - 0s 14us/step - loss: 0.3618 - accuracy: 0.8777 - val_loss: 0.3474 - val_accuracy: 0.8781\n",
      "Epoch 112/130\n",
      "21257/21257 [==============================] - 0s 14us/step - loss: 0.3601 - accuracy: 0.8780 - val_loss: 0.3478 - val_accuracy: 0.8764\n",
      "Epoch 113/130\n",
      "21257/21257 [==============================] - 0s 13us/step - loss: 0.3558 - accuracy: 0.8823 - val_loss: 0.3485 - val_accuracy: 0.8773\n",
      "Epoch 114/130\n",
      "21257/21257 [==============================] - 0s 13us/step - loss: 0.3559 - accuracy: 0.8819 - val_loss: 0.3478 - val_accuracy: 0.8780\n",
      "Epoch 115/130\n",
      "21257/21257 [==============================] - 0s 13us/step - loss: 0.3594 - accuracy: 0.8807 - val_loss: 0.3460 - val_accuracy: 0.8780\n",
      "Epoch 116/130\n",
      "21257/21257 [==============================] - 0s 13us/step - loss: 0.3582 - accuracy: 0.8799 - val_loss: 0.3472 - val_accuracy: 0.8781\n",
      "Epoch 117/130\n",
      "21257/21257 [==============================] - 0s 13us/step - loss: 0.3560 - accuracy: 0.8810 - val_loss: 0.3464 - val_accuracy: 0.8770\n",
      "Epoch 118/130\n",
      "21257/21257 [==============================] - 0s 14us/step - loss: 0.3573 - accuracy: 0.8771 - val_loss: 0.3471 - val_accuracy: 0.8774\n",
      "Epoch 119/130\n",
      "21257/21257 [==============================] - 0s 13us/step - loss: 0.3559 - accuracy: 0.8788 - val_loss: 0.3462 - val_accuracy: 0.8758\n",
      "Epoch 120/130\n",
      "21257/21257 [==============================] - 0s 12us/step - loss: 0.3615 - accuracy: 0.8810 - val_loss: 0.3474 - val_accuracy: 0.8776\n",
      "Epoch 121/130\n",
      "21257/21257 [==============================] - 0s 12us/step - loss: 0.3575 - accuracy: 0.8813 - val_loss: 0.3498 - val_accuracy: 0.8774\n",
      "Epoch 122/130\n",
      "21257/21257 [==============================] - 0s 13us/step - loss: 0.3579 - accuracy: 0.8816 - val_loss: 0.3463 - val_accuracy: 0.8768\n",
      "Epoch 123/130\n",
      "21257/21257 [==============================] - 0s 13us/step - loss: 0.3546 - accuracy: 0.8823 - val_loss: 0.3471 - val_accuracy: 0.8769\n",
      "Epoch 124/130\n",
      "21257/21257 [==============================] - 0s 13us/step - loss: 0.3551 - accuracy: 0.8766 - val_loss: 0.3452 - val_accuracy: 0.8764\n",
      "Epoch 125/130\n",
      "21257/21257 [==============================] - 0s 13us/step - loss: 0.3568 - accuracy: 0.8800 - val_loss: 0.3468 - val_accuracy: 0.8780\n",
      "Epoch 126/130\n",
      "21257/21257 [==============================] - 0s 13us/step - loss: 0.3571 - accuracy: 0.8787 - val_loss: 0.3446 - val_accuracy: 0.8773\n",
      "Epoch 127/130\n",
      "21257/21257 [==============================] - 0s 13us/step - loss: 0.3538 - accuracy: 0.8804 - val_loss: 0.3465 - val_accuracy: 0.8771\n",
      "Epoch 128/130\n",
      "21257/21257 [==============================] - 0s 13us/step - loss: 0.3560 - accuracy: 0.8812 - val_loss: 0.3441 - val_accuracy: 0.8764\n",
      "Epoch 129/130\n",
      "21257/21257 [==============================] - 0s 13us/step - loss: 0.3556 - accuracy: 0.8795 - val_loss: 0.3454 - val_accuracy: 0.8770\n",
      "Epoch 130/130\n",
      "21257/21257 [==============================] - 0s 13us/step - loss: 0.3523 - accuracy: 0.8820 - val_loss: 0.3452 - val_accuracy: 0.8769\n"
     ]
    }
   ],
   "source": [
    "#I added the part of the validation set.\n",
    "\n",
    "history = model_1.fit(X_VBF_minmax, y_train_VBF, batch_size=512, epochs=130, verbose=1, \n",
    "                  validation_data=(X_val_VBF_minmax, y_val_VBF))"
   ]
  },
  {
   "cell_type": "markdown",
   "metadata": {},
   "source": [
    "I can now plot the loss evolution over the training epochs for the training and validation dataset:"
   ]
  },
  {
   "cell_type": "code",
   "execution_count": 46,
   "metadata": {},
   "outputs": [
    {
     "data": {
      "image/png": "[encoded data removed]",
      "text/plain": [
       "<Figure size 432x288 with 1 Axes>"
      ]
     },
     "metadata": {},
     "output_type": "display_data"
    }
   ],
   "source": [
    "plt.plot(history.history['loss'])\n",
    "plt.plot(history.history['val_loss'])\n",
    "plt.title('model loss')\n",
    "plt.ylabel('loss')\n",
    "plt.xlabel('epoch')\n",
    "plt.legend(['training', 'validation'], loc='upper right')\n",
    "plt.show()"
   ]
  },
  {
   "cell_type": "markdown",
   "metadata": {},
   "source": [
    "I can plot also the accuracy:"
   ]
  },
  {
   "cell_type": "code",
   "execution_count": 47,
   "metadata": {},
   "outputs": [
    {
     "data": {
      "image/png": "[encoded data removed]",
      "text/plain": [
       "<Figure size 432x288 with 1 Axes>"
      ]
     },
     "metadata": {},
     "output_type": "display_data"
    }
   ],
   "source": [
    "plt.plot(history.history['accuracy'])\n",
    "plt.plot(history.history['val_accuracy'])\n",
    "plt.title('model accuracy')\n",
    "plt.ylabel('accuracy')\n",
    "plt.xlabel('epoch')\n",
    "plt.legend(['training', 'validation'], loc='lower right')\n",
    "plt.show()"
   ]
  },
  {
   "cell_type": "markdown",
   "metadata": {},
   "source": [
    "## Let's see how has gone the classification"
   ]
  },
  {
   "cell_type": "code",
   "execution_count": 48,
   "metadata": {},
   "outputs": [
    {
     "data": {
      "text/plain": [
       "array([[5.9009243e-02, 9.4099075e-01],\n",
       "       [5.9818476e-01, 4.0181527e-01],\n",
       "       [1.7099355e-04, 9.9982893e-01],\n",
       "       ...,\n",
       "       [5.6183253e-05, 9.9994385e-01],\n",
       "       [3.3732694e-01, 6.6267300e-01],\n",
       "       [4.9982700e-02, 9.5001727e-01]], dtype=float32)"
      ]
     },
     "execution_count": 48,
     "metadata": {},
     "output_type": "execute_result"
    }
   ],
   "source": [
    "y_pred = model_1.predict(X_val_VBF_minmax)\n",
    "y_pred"
   ]
  },
  {
   "cell_type": "code",
   "execution_count": 49,
   "metadata": {
    "scrolled": true
   },
   "outputs": [
    {
     "data": {
      "text/plain": [
       "(array([ 445.,    0., 7444.,    0.,  600.]),\n",
       " array([-1. , -0.6, -0.2,  0.2,  0.6,  1. ]),\n",
       " <a list of 5 Patch objects>)"
      ]
     },
     "execution_count": 49,
     "metadata": {},
     "output_type": "execute_result"
    },
    {
     "data": {
      "image/png": "[encoded data removed]",
      "text/plain": [
       "<Figure size 432x288 with 1 Axes>"
      ]
     },
     "metadata": {},
     "output_type": "display_data"
    }
   ],
   "source": [
    "plt.hist(np.argmax(y_pred, axis=1)-np.argmax(y_val_VBF, axis=1), bins=5)"
   ]
  },
  {
   "cell_type": "markdown",
   "metadata": {},
   "source": [
    "## Evaluation of the model with different tools"
   ]
  },
  {
   "cell_type": "code",
   "execution_count": 53,
   "metadata": {},
   "outputs": [
    {
     "name": "stdout",
     "output_type": "stream",
     "text": [
      "Coefficient of determination: 0.58\n",
      "Mean squared error: 0.09\n",
      "Mean absolute error: 0.17\n"
     ]
    }
   ],
   "source": [
    "from sklearn.metrics import r2_score, mean_squared_error, mean_absolute_error\n",
    "\n",
    "# Explained variance score: 1 is perfect prediction\n",
    "print('Coefficient of determination: %.2f' % r2_score(y_val_VBF, y_pred))\n",
    "# The mean squared error\n",
    "print(\"Mean squared error: %.2f\" % mean_squared_error(y_val_VBF, y_pred))\n",
    "# The mean squared error\n",
    "print(\"Mean absolute error: %.2f\" % mean_absolute_error(y_val_VBF, y_pred))"
   ]
  }
 ],
 "metadata": {
  "kernelspec": {
   "display_name": "Python 3",
   "language": "python",
   "name": "python3"
  },
  "language_info": {
   "codemirror_mode": {
    "name": "ipython",
    "version": 3
   },
   "file_extension": ".py",
   "mimetype": "text/x-python",
   "name": "python",
   "nbconvert_exporter": "python",
   "pygments_lexer": "ipython3",
   "version": "3.6.9"
  }
 },
 "nbformat": 4,
 "nbformat_minor": 2
}

