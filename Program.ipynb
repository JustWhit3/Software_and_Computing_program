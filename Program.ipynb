{
 "cells": [
  {
   "cell_type": "markdown",
   "metadata": {},
   "source": [
    "# Higgs Boson Machine Learning Challenge"
   ]
  },
  {
   "cell_type": "code",
   "execution_count": 1,
   "metadata": {},
   "outputs": [],
   "source": [
    "import pandas as pd\n",
    "import matplotlib.pyplot as plt\n",
    "import numpy as np"
   ]
  },
  {
   "cell_type": "markdown",
   "metadata": {},
   "source": [
    "Loading the full Set:"
   ]
  },
  {
   "cell_type": "code",
   "execution_count": 2,
   "metadata": {},
   "outputs": [
    {
     "data": {
      "text/html": [
       "<div>\n",
       "<style scoped>\n",
       "    .dataframe tbody tr th:only-of-type {\n",
       "        vertical-align: middle;\n",
       "    }\n",
       "\n",
       "    .dataframe tbody tr th {\n",
       "        vertical-align: top;\n",
       "    }\n",
       "\n",
       "    .dataframe thead th {\n",
       "        text-align: right;\n",
       "    }\n",
       "</style>\n",
       "<table border=\"1\" class=\"dataframe\">\n",
       "  <thead>\n",
       "    <tr style=\"text-align: right;\">\n",
       "      <th></th>\n",
       "      <th>EventId</th>\n",
       "      <th>DER_mass_MMC</th>\n",
       "      <th>DER_mass_transverse_met_lep</th>\n",
       "      <th>DER_mass_vis</th>\n",
       "      <th>DER_pt_h</th>\n",
       "      <th>DER_deltaeta_jet_jet</th>\n",
       "      <th>DER_mass_jet_jet</th>\n",
       "      <th>DER_prodeta_jet_jet</th>\n",
       "      <th>DER_deltar_tau_lep</th>\n",
       "      <th>DER_pt_tot</th>\n",
       "      <th>...</th>\n",
       "      <th>PRI_jet_leading_eta</th>\n",
       "      <th>PRI_jet_leading_phi</th>\n",
       "      <th>PRI_jet_subleading_pt</th>\n",
       "      <th>PRI_jet_subleading_eta</th>\n",
       "      <th>PRI_jet_subleading_phi</th>\n",
       "      <th>PRI_jet_all_pt</th>\n",
       "      <th>Weight</th>\n",
       "      <th>Label</th>\n",
       "      <th>KaggleSet</th>\n",
       "      <th>KaggleWeight</th>\n",
       "    </tr>\n",
       "  </thead>\n",
       "  <tbody>\n",
       "    <tr>\n",
       "      <th>0</th>\n",
       "      <td>100000</td>\n",
       "      <td>138.470</td>\n",
       "      <td>51.655</td>\n",
       "      <td>97.827</td>\n",
       "      <td>27.980</td>\n",
       "      <td>0.910</td>\n",
       "      <td>124.711</td>\n",
       "      <td>2.666</td>\n",
       "      <td>3.064</td>\n",
       "      <td>41.928</td>\n",
       "      <td>...</td>\n",
       "      <td>2.150</td>\n",
       "      <td>0.444</td>\n",
       "      <td>46.062</td>\n",
       "      <td>1.240</td>\n",
       "      <td>-2.475</td>\n",
       "      <td>113.497</td>\n",
       "      <td>0.000814</td>\n",
       "      <td>s</td>\n",
       "      <td>t</td>\n",
       "      <td>0.002653</td>\n",
       "    </tr>\n",
       "    <tr>\n",
       "      <th>1</th>\n",
       "      <td>100001</td>\n",
       "      <td>160.937</td>\n",
       "      <td>68.768</td>\n",
       "      <td>103.235</td>\n",
       "      <td>48.146</td>\n",
       "      <td>-999.000</td>\n",
       "      <td>-999.000</td>\n",
       "      <td>-999.000</td>\n",
       "      <td>3.473</td>\n",
       "      <td>2.078</td>\n",
       "      <td>...</td>\n",
       "      <td>0.725</td>\n",
       "      <td>1.158</td>\n",
       "      <td>-999.000</td>\n",
       "      <td>-999.000</td>\n",
       "      <td>-999.000</td>\n",
       "      <td>46.226</td>\n",
       "      <td>0.681042</td>\n",
       "      <td>b</td>\n",
       "      <td>t</td>\n",
       "      <td>2.233584</td>\n",
       "    </tr>\n",
       "    <tr>\n",
       "      <th>2</th>\n",
       "      <td>100002</td>\n",
       "      <td>-999.000</td>\n",
       "      <td>162.172</td>\n",
       "      <td>125.953</td>\n",
       "      <td>35.635</td>\n",
       "      <td>-999.000</td>\n",
       "      <td>-999.000</td>\n",
       "      <td>-999.000</td>\n",
       "      <td>3.148</td>\n",
       "      <td>9.336</td>\n",
       "      <td>...</td>\n",
       "      <td>2.053</td>\n",
       "      <td>-2.028</td>\n",
       "      <td>-999.000</td>\n",
       "      <td>-999.000</td>\n",
       "      <td>-999.000</td>\n",
       "      <td>44.251</td>\n",
       "      <td>0.715742</td>\n",
       "      <td>b</td>\n",
       "      <td>t</td>\n",
       "      <td>2.347389</td>\n",
       "    </tr>\n",
       "    <tr>\n",
       "      <th>3</th>\n",
       "      <td>100003</td>\n",
       "      <td>143.905</td>\n",
       "      <td>81.417</td>\n",
       "      <td>80.943</td>\n",
       "      <td>0.414</td>\n",
       "      <td>-999.000</td>\n",
       "      <td>-999.000</td>\n",
       "      <td>-999.000</td>\n",
       "      <td>3.310</td>\n",
       "      <td>0.414</td>\n",
       "      <td>...</td>\n",
       "      <td>-999.000</td>\n",
       "      <td>-999.000</td>\n",
       "      <td>-999.000</td>\n",
       "      <td>-999.000</td>\n",
       "      <td>-999.000</td>\n",
       "      <td>-0.000</td>\n",
       "      <td>1.660654</td>\n",
       "      <td>b</td>\n",
       "      <td>t</td>\n",
       "      <td>5.446378</td>\n",
       "    </tr>\n",
       "    <tr>\n",
       "      <th>4</th>\n",
       "      <td>100004</td>\n",
       "      <td>175.864</td>\n",
       "      <td>16.915</td>\n",
       "      <td>134.805</td>\n",
       "      <td>16.405</td>\n",
       "      <td>-999.000</td>\n",
       "      <td>-999.000</td>\n",
       "      <td>-999.000</td>\n",
       "      <td>3.891</td>\n",
       "      <td>16.405</td>\n",
       "      <td>...</td>\n",
       "      <td>-999.000</td>\n",
       "      <td>-999.000</td>\n",
       "      <td>-999.000</td>\n",
       "      <td>-999.000</td>\n",
       "      <td>-999.000</td>\n",
       "      <td>0.000</td>\n",
       "      <td>1.904263</td>\n",
       "      <td>b</td>\n",
       "      <td>t</td>\n",
       "      <td>6.245333</td>\n",
       "    </tr>\n",
       "    <tr>\n",
       "      <th>5</th>\n",
       "      <td>100005</td>\n",
       "      <td>89.744</td>\n",
       "      <td>13.550</td>\n",
       "      <td>59.149</td>\n",
       "      <td>116.344</td>\n",
       "      <td>2.636</td>\n",
       "      <td>284.584</td>\n",
       "      <td>-0.540</td>\n",
       "      <td>1.362</td>\n",
       "      <td>61.619</td>\n",
       "      <td>...</td>\n",
       "      <td>-2.412</td>\n",
       "      <td>-0.653</td>\n",
       "      <td>56.165</td>\n",
       "      <td>0.224</td>\n",
       "      <td>3.106</td>\n",
       "      <td>193.660</td>\n",
       "      <td>0.025434</td>\n",
       "      <td>b</td>\n",
       "      <td>t</td>\n",
       "      <td>0.083414</td>\n",
       "    </tr>\n",
       "    <tr>\n",
       "      <th>6</th>\n",
       "      <td>100006</td>\n",
       "      <td>148.754</td>\n",
       "      <td>28.862</td>\n",
       "      <td>107.782</td>\n",
       "      <td>106.130</td>\n",
       "      <td>0.733</td>\n",
       "      <td>158.359</td>\n",
       "      <td>0.113</td>\n",
       "      <td>2.941</td>\n",
       "      <td>2.545</td>\n",
       "      <td>...</td>\n",
       "      <td>0.864</td>\n",
       "      <td>1.450</td>\n",
       "      <td>56.867</td>\n",
       "      <td>0.131</td>\n",
       "      <td>-2.767</td>\n",
       "      <td>179.877</td>\n",
       "      <td>0.000814</td>\n",
       "      <td>s</td>\n",
       "      <td>t</td>\n",
       "      <td>0.002653</td>\n",
       "    </tr>\n",
       "    <tr>\n",
       "      <th>7</th>\n",
       "      <td>100007</td>\n",
       "      <td>154.916</td>\n",
       "      <td>10.418</td>\n",
       "      <td>94.714</td>\n",
       "      <td>29.169</td>\n",
       "      <td>-999.000</td>\n",
       "      <td>-999.000</td>\n",
       "      <td>-999.000</td>\n",
       "      <td>2.897</td>\n",
       "      <td>1.526</td>\n",
       "      <td>...</td>\n",
       "      <td>-0.715</td>\n",
       "      <td>-1.724</td>\n",
       "      <td>-999.000</td>\n",
       "      <td>-999.000</td>\n",
       "      <td>-999.000</td>\n",
       "      <td>30.638</td>\n",
       "      <td>0.005721</td>\n",
       "      <td>s</td>\n",
       "      <td>t</td>\n",
       "      <td>0.018636</td>\n",
       "    </tr>\n",
       "    <tr>\n",
       "      <th>8</th>\n",
       "      <td>100008</td>\n",
       "      <td>105.594</td>\n",
       "      <td>50.559</td>\n",
       "      <td>100.989</td>\n",
       "      <td>4.288</td>\n",
       "      <td>-999.000</td>\n",
       "      <td>-999.000</td>\n",
       "      <td>-999.000</td>\n",
       "      <td>2.904</td>\n",
       "      <td>4.288</td>\n",
       "      <td>...</td>\n",
       "      <td>-999.000</td>\n",
       "      <td>-999.000</td>\n",
       "      <td>-999.000</td>\n",
       "      <td>-999.000</td>\n",
       "      <td>-999.000</td>\n",
       "      <td>0.000</td>\n",
       "      <td>1.614803</td>\n",
       "      <td>b</td>\n",
       "      <td>t</td>\n",
       "      <td>5.296003</td>\n",
       "    </tr>\n",
       "    <tr>\n",
       "      <th>9</th>\n",
       "      <td>100009</td>\n",
       "      <td>128.053</td>\n",
       "      <td>88.941</td>\n",
       "      <td>69.272</td>\n",
       "      <td>193.392</td>\n",
       "      <td>-999.000</td>\n",
       "      <td>-999.000</td>\n",
       "      <td>-999.000</td>\n",
       "      <td>1.609</td>\n",
       "      <td>28.859</td>\n",
       "      <td>...</td>\n",
       "      <td>-2.767</td>\n",
       "      <td>-2.514</td>\n",
       "      <td>-999.000</td>\n",
       "      <td>-999.000</td>\n",
       "      <td>-999.000</td>\n",
       "      <td>167.735</td>\n",
       "      <td>0.000461</td>\n",
       "      <td>s</td>\n",
       "      <td>t</td>\n",
       "      <td>0.001502</td>\n",
       "    </tr>\n",
       "  </tbody>\n",
       "</table>\n",
       "<p>10 rows × 35 columns</p>\n",
       "</div>"
      ],
      "text/plain": [
       "   EventId  DER_mass_MMC  DER_mass_transverse_met_lep  DER_mass_vis  DER_pt_h  \\\n",
       "0   100000       138.470                       51.655        97.827    27.980   \n",
       "1   100001       160.937                       68.768       103.235    48.146   \n",
       "2   100002      -999.000                      162.172       125.953    35.635   \n",
       "3   100003       143.905                       81.417        80.943     0.414   \n",
       "4   100004       175.864                       16.915       134.805    16.405   \n",
       "5   100005        89.744                       13.550        59.149   116.344   \n",
       "6   100006       148.754                       28.862       107.782   106.130   \n",
       "7   100007       154.916                       10.418        94.714    29.169   \n",
       "8   100008       105.594                       50.559       100.989     4.288   \n",
       "9   100009       128.053                       88.941        69.272   193.392   \n",
       "\n",
       "   DER_deltaeta_jet_jet  DER_mass_jet_jet  DER_prodeta_jet_jet  \\\n",
       "0                 0.910           124.711                2.666   \n",
       "1              -999.000          -999.000             -999.000   \n",
       "2              -999.000          -999.000             -999.000   \n",
       "3              -999.000          -999.000             -999.000   \n",
       "4              -999.000          -999.000             -999.000   \n",
       "5                 2.636           284.584               -0.540   \n",
       "6                 0.733           158.359                0.113   \n",
       "7              -999.000          -999.000             -999.000   \n",
       "8              -999.000          -999.000             -999.000   \n",
       "9              -999.000          -999.000             -999.000   \n",
       "\n",
       "   DER_deltar_tau_lep  DER_pt_tot  ...  PRI_jet_leading_eta  \\\n",
       "0               3.064      41.928  ...                2.150   \n",
       "1               3.473       2.078  ...                0.725   \n",
       "2               3.148       9.336  ...                2.053   \n",
       "3               3.310       0.414  ...             -999.000   \n",
       "4               3.891      16.405  ...             -999.000   \n",
       "5               1.362      61.619  ...               -2.412   \n",
       "6               2.941       2.545  ...                0.864   \n",
       "7               2.897       1.526  ...               -0.715   \n",
       "8               2.904       4.288  ...             -999.000   \n",
       "9               1.609      28.859  ...               -2.767   \n",
       "\n",
       "   PRI_jet_leading_phi  PRI_jet_subleading_pt  PRI_jet_subleading_eta  \\\n",
       "0                0.444                 46.062                   1.240   \n",
       "1                1.158               -999.000                -999.000   \n",
       "2               -2.028               -999.000                -999.000   \n",
       "3             -999.000               -999.000                -999.000   \n",
       "4             -999.000               -999.000                -999.000   \n",
       "5               -0.653                 56.165                   0.224   \n",
       "6                1.450                 56.867                   0.131   \n",
       "7               -1.724               -999.000                -999.000   \n",
       "8             -999.000               -999.000                -999.000   \n",
       "9               -2.514               -999.000                -999.000   \n",
       "\n",
       "   PRI_jet_subleading_phi  PRI_jet_all_pt    Weight  Label  KaggleSet  \\\n",
       "0                  -2.475         113.497  0.000814      s          t   \n",
       "1                -999.000          46.226  0.681042      b          t   \n",
       "2                -999.000          44.251  0.715742      b          t   \n",
       "3                -999.000          -0.000  1.660654      b          t   \n",
       "4                -999.000           0.000  1.904263      b          t   \n",
       "5                   3.106         193.660  0.025434      b          t   \n",
       "6                  -2.767         179.877  0.000814      s          t   \n",
       "7                -999.000          30.638  0.005721      s          t   \n",
       "8                -999.000           0.000  1.614803      b          t   \n",
       "9                -999.000         167.735  0.000461      s          t   \n",
       "\n",
       "   KaggleWeight  \n",
       "0      0.002653  \n",
       "1      2.233584  \n",
       "2      2.347389  \n",
       "3      5.446378  \n",
       "4      6.245333  \n",
       "5      0.083414  \n",
       "6      0.002653  \n",
       "7      0.018636  \n",
       "8      5.296003  \n",
       "9      0.001502  \n",
       "\n",
       "[10 rows x 35 columns]"
      ]
     },
     "execution_count": 2,
     "metadata": {},
     "output_type": "execute_result"
    }
   ],
   "source": [
    "data_full = pd.read_csv('atlas-higgs-challenge-2014-v2.csv')\n",
    "data_full.head(10)"
   ]
  },
  {
   "cell_type": "markdown",
   "metadata": {},
   "source": [
    "### Split the data\n",
    "This Set contains the following subsets, indexed by the `KaggleSet`variable:  \n",
    "+ `t`: Training,\n",
    "+ `b`: Public Leaderboard,\n",
    "+ `v`: Privateleaderboard,\n",
    "+ `u`: Unused."
   ]
  },
  {
   "cell_type": "code",
   "execution_count": 4,
   "metadata": {},
   "outputs": [
    {
     "name": "stdout",
     "output_type": "stream",
     "text": [
      "Total number of events:  818238 \n",
      "\n",
      "Number of events in the t KaggleSet: 250000\n",
      "Number of events in the b KaggleSet: 100000\n",
      "Number of events in the v KaggleSet: 450000\n",
      "Number of events in the u KaggleSet: 18238\n"
     ]
    }
   ],
   "source": [
    "print('Total number of events: ', len(data_full), '\\n')\n",
    "for KaggleSetID in ['t', 'b', 'v', 'u']:\n",
    "    print('Number of events in the {} KaggleSet: {}'\n",
    "          .format(KaggleSetID, len(data_full['KaggleSet'][data_full['KaggleSet']==KaggleSetID])))"
   ]
  },
  {
   "cell_type": "markdown",
   "metadata": {},
   "source": [
    "### I should here probably only use the `t` set for the training and the `b` set for validation. At the very end, I can get our score from the private leaderboard `v` set  (?!?!)"
   ]
  },
  {
   "cell_type": "code",
   "execution_count": 6,
   "metadata": {},
   "outputs": [],
   "source": [
    "train_data = data_full[data_full['KaggleSet']=='t']\n",
    "validation_data = data_full[data_full['KaggleSet']=='b']"
   ]
  },
  {
   "cell_type": "code",
   "execution_count": 84,
   "metadata": {},
   "outputs": [],
   "source": [
    "y_train = pd.get_dummies(train_data['Label']).values.astype(float) #signal = [0,1], background = [1,0]\n",
    "y_val = pd.get_dummies(validation_data['Label']).values.astype(float)"
   ]
  },
  {
   "cell_type": "code",
   "execution_count": 9,
   "metadata": {},
   "outputs": [
    {
     "data": {
      "text/plain": [
       "(250000, 100000)"
      ]
     },
     "execution_count": 9,
     "metadata": {},
     "output_type": "execute_result"
    }
   ],
   "source": [
    "len(train_data), len(validation_data)"
   ]
  },
  {
   "cell_type": "markdown",
   "metadata": {},
   "source": [
    "Of course, there will be strong correlations between the derived variables `DER`and the primitive variables`PRI`, which is shown in the following:"
   ]
  },
  {
   "cell_type": "code",
   "execution_count": 5,
   "metadata": {},
   "outputs": [],
   "source": [
    "correlations = train_data.corr()"
   ]
  },
  {
   "cell_type": "code",
   "execution_count": 35,
   "metadata": {
    "scrolled": true
   },
   "outputs": [
    {
     "data": {
      "text/plain": [
       "<matplotlib.axes._subplots.AxesSubplot at 0x1a2016fb518>"
      ]
     },
     "execution_count": 35,
     "metadata": {},
     "output_type": "execute_result"
    },
    {
     "data": {
      "image/png": "[encoded data removed]",
      "text/plain": [
       "<Figure size 1440x1440 with 2 Axes>"
      ]
     },
     "metadata": {
      "needs_background": "light"
     },
     "output_type": "display_data"
    }
   ],
   "source": [
    "import seaborn as sns\n",
    "\n",
    "plt.figure(figsize=(20,20))\n",
    "sns.heatmap(correlations)"
   ]
  },
  {
   "cell_type": "code",
   "execution_count": 10,
   "metadata": {
    "scrolled": true
   },
   "outputs": [
    {
     "data": {
      "image/png": "[encoded data removed]",
      "text/plain": [
       "<Figure size 432x288 with 1 Axes>"
      ]
     },
     "metadata": {
      "needs_background": "light"
     },
     "output_type": "display_data"
    }
   ],
   "source": [
    "plt.hist(train_data['DER_mass_MMC'][train_data['Label']=='s'], bins=100, alpha=.8)\n",
    "plt.hist(train_data['DER_mass_MMC'][train_data['Label']=='b'], bins=100, alpha=.8)\n",
    "plt.show()"
   ]
  },
  {
   "cell_type": "markdown",
   "metadata": {},
   "source": [
    "### I will now try a simple DNN on the full Set:"
   ]
  },
  {
   "cell_type": "code",
   "execution_count": 81,
   "metadata": {},
   "outputs": [
    {
     "data": {
      "text/html": [
       "<div>\n",
       "<style scoped>\n",
       "    .dataframe tbody tr th:only-of-type {\n",
       "        vertical-align: middle;\n",
       "    }\n",
       "\n",
       "    .dataframe tbody tr th {\n",
       "        vertical-align: top;\n",
       "    }\n",
       "\n",
       "    .dataframe thead th {\n",
       "        text-align: right;\n",
       "    }\n",
       "</style>\n",
       "<table border=\"1\" class=\"dataframe\">\n",
       "  <thead>\n",
       "    <tr style=\"text-align: right;\">\n",
       "      <th></th>\n",
       "      <th>DER_mass_MMC</th>\n",
       "      <th>DER_mass_transverse_met_lep</th>\n",
       "      <th>DER_mass_vis</th>\n",
       "      <th>DER_pt_h</th>\n",
       "      <th>DER_deltaeta_jet_jet</th>\n",
       "      <th>DER_mass_jet_jet</th>\n",
       "      <th>DER_prodeta_jet_jet</th>\n",
       "      <th>DER_deltar_tau_lep</th>\n",
       "      <th>DER_pt_tot</th>\n",
       "      <th>DER_sum_pt</th>\n",
       "      <th>...</th>\n",
       "      <th>PRI_met_phi</th>\n",
       "      <th>PRI_met_sumet</th>\n",
       "      <th>PRI_jet_num</th>\n",
       "      <th>PRI_jet_leading_pt</th>\n",
       "      <th>PRI_jet_leading_eta</th>\n",
       "      <th>PRI_jet_leading_phi</th>\n",
       "      <th>PRI_jet_subleading_pt</th>\n",
       "      <th>PRI_jet_subleading_eta</th>\n",
       "      <th>PRI_jet_subleading_phi</th>\n",
       "      <th>PRI_jet_all_pt</th>\n",
       "    </tr>\n",
       "  </thead>\n",
       "  <tbody>\n",
       "    <tr>\n",
       "      <th>0</th>\n",
       "      <td>138.470</td>\n",
       "      <td>51.655</td>\n",
       "      <td>97.827</td>\n",
       "      <td>27.980</td>\n",
       "      <td>0.91</td>\n",
       "      <td>124.711</td>\n",
       "      <td>2.666</td>\n",
       "      <td>3.064</td>\n",
       "      <td>41.928</td>\n",
       "      <td>197.760</td>\n",
       "      <td>...</td>\n",
       "      <td>-0.277</td>\n",
       "      <td>258.733</td>\n",
       "      <td>2</td>\n",
       "      <td>67.435</td>\n",
       "      <td>2.150</td>\n",
       "      <td>0.444</td>\n",
       "      <td>46.062</td>\n",
       "      <td>1.24</td>\n",
       "      <td>-2.475</td>\n",
       "      <td>113.497</td>\n",
       "    </tr>\n",
       "    <tr>\n",
       "      <th>1</th>\n",
       "      <td>160.937</td>\n",
       "      <td>68.768</td>\n",
       "      <td>103.235</td>\n",
       "      <td>48.146</td>\n",
       "      <td>-999.00</td>\n",
       "      <td>-999.000</td>\n",
       "      <td>-999.000</td>\n",
       "      <td>3.473</td>\n",
       "      <td>2.078</td>\n",
       "      <td>125.157</td>\n",
       "      <td>...</td>\n",
       "      <td>-1.916</td>\n",
       "      <td>164.546</td>\n",
       "      <td>1</td>\n",
       "      <td>46.226</td>\n",
       "      <td>0.725</td>\n",
       "      <td>1.158</td>\n",
       "      <td>-999.000</td>\n",
       "      <td>-999.00</td>\n",
       "      <td>-999.000</td>\n",
       "      <td>46.226</td>\n",
       "    </tr>\n",
       "    <tr>\n",
       "      <th>2</th>\n",
       "      <td>-999.000</td>\n",
       "      <td>162.172</td>\n",
       "      <td>125.953</td>\n",
       "      <td>35.635</td>\n",
       "      <td>-999.00</td>\n",
       "      <td>-999.000</td>\n",
       "      <td>-999.000</td>\n",
       "      <td>3.148</td>\n",
       "      <td>9.336</td>\n",
       "      <td>197.814</td>\n",
       "      <td>...</td>\n",
       "      <td>-2.186</td>\n",
       "      <td>260.414</td>\n",
       "      <td>1</td>\n",
       "      <td>44.251</td>\n",
       "      <td>2.053</td>\n",
       "      <td>-2.028</td>\n",
       "      <td>-999.000</td>\n",
       "      <td>-999.00</td>\n",
       "      <td>-999.000</td>\n",
       "      <td>44.251</td>\n",
       "    </tr>\n",
       "    <tr>\n",
       "      <th>3</th>\n",
       "      <td>143.905</td>\n",
       "      <td>81.417</td>\n",
       "      <td>80.943</td>\n",
       "      <td>0.414</td>\n",
       "      <td>-999.00</td>\n",
       "      <td>-999.000</td>\n",
       "      <td>-999.000</td>\n",
       "      <td>3.310</td>\n",
       "      <td>0.414</td>\n",
       "      <td>75.968</td>\n",
       "      <td>...</td>\n",
       "      <td>0.060</td>\n",
       "      <td>86.062</td>\n",
       "      <td>0</td>\n",
       "      <td>-999.000</td>\n",
       "      <td>-999.000</td>\n",
       "      <td>-999.000</td>\n",
       "      <td>-999.000</td>\n",
       "      <td>-999.00</td>\n",
       "      <td>-999.000</td>\n",
       "      <td>-0.000</td>\n",
       "    </tr>\n",
       "    <tr>\n",
       "      <th>4</th>\n",
       "      <td>175.864</td>\n",
       "      <td>16.915</td>\n",
       "      <td>134.805</td>\n",
       "      <td>16.405</td>\n",
       "      <td>-999.00</td>\n",
       "      <td>-999.000</td>\n",
       "      <td>-999.000</td>\n",
       "      <td>3.891</td>\n",
       "      <td>16.405</td>\n",
       "      <td>57.983</td>\n",
       "      <td>...</td>\n",
       "      <td>-0.871</td>\n",
       "      <td>53.131</td>\n",
       "      <td>0</td>\n",
       "      <td>-999.000</td>\n",
       "      <td>-999.000</td>\n",
       "      <td>-999.000</td>\n",
       "      <td>-999.000</td>\n",
       "      <td>-999.00</td>\n",
       "      <td>-999.000</td>\n",
       "      <td>0.000</td>\n",
       "    </tr>\n",
       "  </tbody>\n",
       "</table>\n",
       "<p>5 rows × 30 columns</p>\n",
       "</div>"
      ],
      "text/plain": [
       "   DER_mass_MMC  DER_mass_transverse_met_lep  DER_mass_vis  DER_pt_h  \\\n",
       "0       138.470                       51.655        97.827    27.980   \n",
       "1       160.937                       68.768       103.235    48.146   \n",
       "2      -999.000                      162.172       125.953    35.635   \n",
       "3       143.905                       81.417        80.943     0.414   \n",
       "4       175.864                       16.915       134.805    16.405   \n",
       "\n",
       "   DER_deltaeta_jet_jet  DER_mass_jet_jet  DER_prodeta_jet_jet  \\\n",
       "0                  0.91           124.711                2.666   \n",
       "1               -999.00          -999.000             -999.000   \n",
       "2               -999.00          -999.000             -999.000   \n",
       "3               -999.00          -999.000             -999.000   \n",
       "4               -999.00          -999.000             -999.000   \n",
       "\n",
       "   DER_deltar_tau_lep  DER_pt_tot  DER_sum_pt  ...  PRI_met_phi  \\\n",
       "0               3.064      41.928     197.760  ...       -0.277   \n",
       "1               3.473       2.078     125.157  ...       -1.916   \n",
       "2               3.148       9.336     197.814  ...       -2.186   \n",
       "3               3.310       0.414      75.968  ...        0.060   \n",
       "4               3.891      16.405      57.983  ...       -0.871   \n",
       "\n",
       "   PRI_met_sumet  PRI_jet_num  PRI_jet_leading_pt  PRI_jet_leading_eta  \\\n",
       "0        258.733            2              67.435                2.150   \n",
       "1        164.546            1              46.226                0.725   \n",
       "2        260.414            1              44.251                2.053   \n",
       "3         86.062            0            -999.000             -999.000   \n",
       "4         53.131            0            -999.000             -999.000   \n",
       "\n",
       "   PRI_jet_leading_phi  PRI_jet_subleading_pt  PRI_jet_subleading_eta  \\\n",
       "0                0.444                 46.062                    1.24   \n",
       "1                1.158               -999.000                 -999.00   \n",
       "2               -2.028               -999.000                 -999.00   \n",
       "3             -999.000               -999.000                 -999.00   \n",
       "4             -999.000               -999.000                 -999.00   \n",
       "\n",
       "   PRI_jet_subleading_phi  PRI_jet_all_pt  \n",
       "0                  -2.475         113.497  \n",
       "1                -999.000          46.226  \n",
       "2                -999.000          44.251  \n",
       "3                -999.000          -0.000  \n",
       "4                -999.000           0.000  \n",
       "\n",
       "[5 rows x 30 columns]"
      ]
     },
     "execution_count": 81,
     "metadata": {},
     "output_type": "execute_result"
    }
   ],
   "source": [
    "X = train_data.iloc[:,1:-4]\n",
    "X_val = validation_data.iloc[:,1:-4]\n",
    "X.head()"
   ]
  },
  {
   "cell_type": "code",
   "execution_count": 11,
   "metadata": {},
   "outputs": [
    {
     "name": "stderr",
     "output_type": "stream",
     "text": [
      "Using TensorFlow backend.\n"
     ]
    }
   ],
   "source": [
    "from keras.models import Sequential\n",
    "from keras.layers import Dense, Activation"
   ]
  },
  {
   "cell_type": "code",
   "execution_count": 18,
   "metadata": {},
   "outputs": [
    {
     "name": "stdout",
     "output_type": "stream",
     "text": [
      "Model: \"sequential_2\"\n",
      "_________________________________________________________________\n",
      "Layer (type)                 Output Shape              Param #   \n",
      "=================================================================\n",
      "dense_8 (Dense)              (None, 128)               3968      \n",
      "_________________________________________________________________\n",
      "activation_8 (Activation)    (None, 128)               0         \n",
      "_________________________________________________________________\n",
      "dense_9 (Dense)              (None, 64)                8256      \n",
      "_________________________________________________________________\n",
      "activation_9 (Activation)    (None, 64)                0         \n",
      "_________________________________________________________________\n",
      "dense_10 (Dense)             (None, 32)                2080      \n",
      "_________________________________________________________________\n",
      "activation_10 (Activation)   (None, 32)                0         \n",
      "_________________________________________________________________\n",
      "dense_11 (Dense)             (None, 16)                528       \n",
      "_________________________________________________________________\n",
      "activation_11 (Activation)   (None, 16)                0         \n",
      "_________________________________________________________________\n",
      "dense_12 (Dense)             (None, 8)                 136       \n",
      "_________________________________________________________________\n",
      "activation_12 (Activation)   (None, 8)                 0         \n",
      "_________________________________________________________________\n",
      "dense_13 (Dense)             (None, 4)                 36        \n",
      "_________________________________________________________________\n",
      "activation_13 (Activation)   (None, 4)                 0         \n",
      "_________________________________________________________________\n",
      "dense_14 (Dense)             (None, 2)                 10        \n",
      "_________________________________________________________________\n",
      "activation_14 (Activation)   (None, 2)                 0         \n",
      "=================================================================\n",
      "Total params: 15,014\n",
      "Trainable params: 15,014\n",
      "Non-trainable params: 0\n",
      "_________________________________________________________________\n"
     ]
    }
   ],
   "source": [
    "model_2 = Sequential()\n",
    "model_2.add(Dense(128, input_dim=30))\n",
    "model_2.add(Activation('relu'))\n",
    "model_2.add(Dense(64))\n",
    "model_2.add(Activation('relu'))\n",
    "model_2.add(Dense(32))\n",
    "model_2.add(Activation('relu'))\n",
    "model_2.add(Dense(16))\n",
    "model_2.add(Activation('relu'))\n",
    "model_2.add(Dense(8))\n",
    "model_2.add(Activation('relu'))\n",
    "model_2.add(Dense(4))\n",
    "model_2.add(Activation('relu'))\n",
    "model_2.add(Dense(2))\n",
    "model_2.add(Activation('softmax'))\n",
    "\n",
    "model_2.summary()"
   ]
  },
  {
   "cell_type": "code",
   "execution_count": 19,
   "metadata": {},
   "outputs": [],
   "source": [
    "model_2.compile(optimizer='rmsprop',\n",
    "              loss='binary_crossentropy',\n",
    "              metrics=['accuracy'])"
   ]
  },
  {
   "cell_type": "code",
   "execution_count": 27,
   "metadata": {},
   "outputs": [],
   "source": [
    "from sklearn.preprocessing import MinMaxScaler"
   ]
  },
  {
   "cell_type": "code",
   "execution_count": 28,
   "metadata": {},
   "outputs": [
    {
     "name": "stderr",
     "output_type": "stream",
     "text": [
      "C:\\Users\\flori\\Anaconda3\\lib\\site-packages\\sklearn\\preprocessing\\data.py:334: DataConversionWarning: Data with input dtype int64, float64 were all converted to float64 by MinMaxScaler.\n",
      "  return self.partial_fit(X, y)\n"
     ]
    }
   ],
   "source": [
    "minmax_X = MinMaxScaler(feature_range=(-1,1))\n",
    "minmax_X.fit(X)\n",
    "X_minmax = minmax_X.transform(X)"
   ]
  },
  {
   "cell_type": "code",
   "execution_count": 23,
   "metadata": {},
   "outputs": [
    {
     "name": "stdout",
     "output_type": "stream",
     "text": [
      "Epoch 1/20\n",
      "250000/250000 [==============================] - 2s 9us/step - loss: 0.4089 - accuracy: 0.8126\n",
      "Epoch 2/20\n",
      "250000/250000 [==============================] - 3s 10us/step - loss: 0.4088 - accuracy: 0.8128\n",
      "Epoch 3/20\n",
      "250000/250000 [==============================] - 2s 9us/step - loss: 0.4074 - accuracy: 0.8132\n",
      "Epoch 4/20\n",
      "250000/250000 [==============================] - 2s 9us/step - loss: 0.4048 - accuracy: 0.8149\n",
      "Epoch 5/20\n",
      "250000/250000 [==============================] - 2s 9us/step - loss: 0.4045 - accuracy: 0.8148\n",
      "Epoch 6/20\n",
      "250000/250000 [==============================] - 2s 8us/step - loss: 0.4031 - accuracy: 0.8153\n",
      "Epoch 7/20\n",
      "250000/250000 [==============================] - 2s 9us/step - loss: 0.4021 - accuracy: 0.8162\n",
      "Epoch 8/20\n",
      "250000/250000 [==============================] - 2s 9us/step - loss: 0.4009 - accuracy: 0.8168\n",
      "Epoch 9/20\n",
      "250000/250000 [==============================] - 2s 9us/step - loss: 0.4001 - accuracy: 0.8171\n",
      "Epoch 10/20\n",
      "250000/250000 [==============================] - 2s 9us/step - loss: 0.3988 - accuracy: 0.8181\n",
      "Epoch 11/20\n",
      "250000/250000 [==============================] - 2s 9us/step - loss: 0.3990 - accuracy: 0.8174\n",
      "Epoch 12/20\n",
      "250000/250000 [==============================] - 2s 8us/step - loss: 0.3972 - accuracy: 0.8189\n",
      "Epoch 13/20\n",
      "250000/250000 [==============================] - 2s 9us/step - loss: 0.3976 - accuracy: 0.8185\n",
      "Epoch 14/20\n",
      "250000/250000 [==============================] - 2s 9us/step - loss: 0.3963 - accuracy: 0.8195\n",
      "Epoch 15/20\n",
      "250000/250000 [==============================] - 2s 9us/step - loss: 0.3950 - accuracy: 0.8199\n",
      "Epoch 16/20\n",
      "250000/250000 [==============================] - 2s 9us/step - loss: 0.3949 - accuracy: 0.8200\n",
      "Epoch 17/20\n",
      "250000/250000 [==============================] - 2s 9us/step - loss: 0.3942 - accuracy: 0.8194\n",
      "Epoch 18/20\n",
      "250000/250000 [==============================] - 2s 9us/step - loss: 0.3938 - accuracy: 0.8206\n",
      "Epoch 19/20\n",
      "250000/250000 [==============================] - 2s 9us/step - loss: 0.3930 - accuracy: 0.8209\n",
      "Epoch 20/20\n",
      "250000/250000 [==============================] - 2s 9us/step - loss: 0.3927 - accuracy: 0.8205\n"
     ]
    },
    {
     "data": {
      "text/plain": [
       "<keras.callbacks.callbacks.History at 0x1a6475334e0>"
      ]
     },
     "execution_count": 23,
     "metadata": {},
     "output_type": "execute_result"
    }
   ],
   "source": [
    "model_2.fit(X, y_train, epochs=20, batch_size=1024)"
   ]
  },
  {
   "cell_type": "code",
   "execution_count": 29,
   "metadata": {},
   "outputs": [
    {
     "name": "stdout",
     "output_type": "stream",
     "text": [
      "Epoch 1/20\n",
      "250000/250000 [==============================] - 2s 10us/step - loss: 0.5671 - accuracy: 0.6934\n",
      "Epoch 2/20\n",
      "250000/250000 [==============================] - 2s 9us/step - loss: 0.5193 - accuracy: 0.7329\n",
      "Epoch 3/20\n",
      "250000/250000 [==============================] - 2s 10us/step - loss: 0.4989 - accuracy: 0.7472\n",
      "Epoch 4/20\n",
      "250000/250000 [==============================] - 3s 13us/step - loss: 0.4835 - accuracy: 0.7584\n",
      "Epoch 5/20\n",
      "250000/250000 [==============================] - 3s 11us/step - loss: 0.4737 - accuracy: 0.7647 0s - loss: 0.4744 - accuracy\n",
      "Epoch 6/20\n",
      "250000/250000 [==============================] - 3s 11us/step - loss: 0.4627 - accuracy: 0.7735\n",
      "Epoch 7/20\n",
      "250000/250000 [==============================] - 3s 10us/step - loss: 0.4546 - accuracy: 0.7797\n",
      "Epoch 8/20\n",
      "250000/250000 [==============================] - 2s 10us/step - loss: 0.4469 - accuracy: 0.7853\n",
      "Epoch 9/20\n",
      "250000/250000 [==============================] - 3s 11us/step - loss: 0.4404 - accuracy: 0.7897\n",
      "Epoch 10/20\n",
      "250000/250000 [==============================] - 3s 11us/step - loss: 0.4346 - accuracy: 0.7943\n",
      "Epoch 11/20\n",
      "250000/250000 [==============================] - 3s 11us/step - loss: 0.4289 - accuracy: 0.7984\n",
      "Epoch 12/20\n",
      "250000/250000 [==============================] - 3s 11us/step - loss: 0.4244 - accuracy: 0.8005\n",
      "Epoch 13/20\n",
      "250000/250000 [==============================] - 3s 11us/step - loss: 0.4202 - accuracy: 0.8039\n",
      "Epoch 14/20\n",
      "250000/250000 [==============================] - 3s 11us/step - loss: 0.4157 - accuracy: 0.8061\n",
      "Epoch 15/20\n",
      "250000/250000 [==============================] - 3s 11us/step - loss: 0.4137 - accuracy: 0.8072\n",
      "Epoch 16/20\n",
      "250000/250000 [==============================] - 3s 13us/step - loss: 0.4101 - accuracy: 0.8101\n",
      "Epoch 17/20\n",
      "250000/250000 [==============================] - 3s 11us/step - loss: 0.4083 - accuracy: 0.8115\n",
      "Epoch 18/20\n",
      "250000/250000 [==============================] - 3s 11us/step - loss: 0.4055 - accuracy: 0.8129\n",
      "Epoch 19/20\n",
      "250000/250000 [==============================] - 3s 11us/step - loss: 0.4031 - accuracy: 0.8140\n",
      "Epoch 20/20\n",
      "250000/250000 [==============================] - 3s 11us/step - loss: 0.4023 - accuracy: 0.8162\n"
     ]
    },
    {
     "data": {
      "text/plain": [
       "<keras.callbacks.callbacks.History at 0x1a648f02d30>"
      ]
     },
     "execution_count": 29,
     "metadata": {},
     "output_type": "execute_result"
    }
   ],
   "source": [
    "model_2.fit(X_minmax, y_train, epochs=20, batch_size=1024)"
   ]
  },
  {
   "cell_type": "markdown",
   "metadata": {},
   "source": [
    "### Idea: I think I should separate the data set according to the number of jets, there are 8 `PRI` variables about the jets?!   Or try to separate the VBF and the other one?!"
   ]
  },
  {
   "cell_type": "markdown",
   "metadata": {},
   "source": [
    "I will just shortly try only using the events without jets:\n",
    "the following variables do not make sense here: \n",
    "+ DER_deltaeta_jet_jet\n",
    "+ DER_mass_jet_jet\n",
    "+ DER_prodeta_jet_jet\n",
    "+ DER_lep_eta_centrality\n",
    "+ PRI_jet_num\n",
    "+ PRI_jet_leading_pt\n",
    "+ PRI_jet_leading_eta \n",
    "+ PRI_jet_leading_phi\n",
    "+ PRI_jet_subleading_pt\n",
    "+ PRI_jet_subleading_eta\n",
    "+ PRI_jet_subleading_phi\n",
    "+ PRI_jet_all_pt"
   ]
  },
  {
   "cell_type": "code",
   "execution_count": 30,
   "metadata": {},
   "outputs": [
    {
     "data": {
      "text/html": [
       "<div>\n",
       "<style scoped>\n",
       "    .dataframe tbody tr th:only-of-type {\n",
       "        vertical-align: middle;\n",
       "    }\n",
       "\n",
       "    .dataframe tbody tr th {\n",
       "        vertical-align: top;\n",
       "    }\n",
       "\n",
       "    .dataframe thead th {\n",
       "        text-align: right;\n",
       "    }\n",
       "</style>\n",
       "<table border=\"1\" class=\"dataframe\">\n",
       "  <thead>\n",
       "    <tr style=\"text-align: right;\">\n",
       "      <th></th>\n",
       "      <th>DER_mass_MMC</th>\n",
       "      <th>DER_mass_transverse_met_lep</th>\n",
       "      <th>DER_mass_vis</th>\n",
       "      <th>DER_pt_h</th>\n",
       "      <th>DER_deltar_tau_lep</th>\n",
       "      <th>DER_pt_tot</th>\n",
       "      <th>DER_sum_pt</th>\n",
       "      <th>DER_pt_ratio_lep_tau</th>\n",
       "      <th>DER_met_phi_centrality</th>\n",
       "      <th>PRI_tau_pt</th>\n",
       "      <th>PRI_tau_eta</th>\n",
       "      <th>PRI_tau_phi</th>\n",
       "      <th>PRI_lep_pt</th>\n",
       "      <th>PRI_lep_eta</th>\n",
       "      <th>PRI_lep_phi</th>\n",
       "      <th>PRI_met</th>\n",
       "      <th>PRI_met_phi</th>\n",
       "      <th>PRI_met_sumet</th>\n",
       "    </tr>\n",
       "  </thead>\n",
       "  <tbody>\n",
       "    <tr>\n",
       "      <th>count</th>\n",
       "      <td>99913.000000</td>\n",
       "      <td>99913.000000</td>\n",
       "      <td>99913.000000</td>\n",
       "      <td>99913.000000</td>\n",
       "      <td>99913.000000</td>\n",
       "      <td>99913.000000</td>\n",
       "      <td>99913.000000</td>\n",
       "      <td>99913.000000</td>\n",
       "      <td>99913.000000</td>\n",
       "      <td>99913.000000</td>\n",
       "      <td>99913.000000</td>\n",
       "      <td>99913.000000</td>\n",
       "      <td>99913.000000</td>\n",
       "      <td>99913.000000</td>\n",
       "      <td>99913.000000</td>\n",
       "      <td>99913.000000</td>\n",
       "      <td>99913.000000</td>\n",
       "      <td>99913.00000</td>\n",
       "    </tr>\n",
       "    <tr>\n",
       "      <th>mean</th>\n",
       "      <td>-172.077816</td>\n",
       "      <td>58.786239</td>\n",
       "      <td>81.870309</td>\n",
       "      <td>13.823867</td>\n",
       "      <td>2.664961</td>\n",
       "      <td>13.823867</td>\n",
       "      <td>76.377011</td>\n",
       "      <td>1.392763</td>\n",
       "      <td>-0.910077</td>\n",
       "      <td>34.012723</td>\n",
       "      <td>-0.024858</td>\n",
       "      <td>-0.015657</td>\n",
       "      <td>42.364287</td>\n",
       "      <td>-0.052311</td>\n",
       "      <td>0.042352</td>\n",
       "      <td>31.536761</td>\n",
       "      <td>-0.024443</td>\n",
       "      <td>125.86081</td>\n",
       "    </tr>\n",
       "    <tr>\n",
       "      <th>std</th>\n",
       "      <td>494.022274</td>\n",
       "      <td>32.003551</td>\n",
       "      <td>38.043669</td>\n",
       "      <td>16.674707</td>\n",
       "      <td>0.693295</td>\n",
       "      <td>16.674707</td>\n",
       "      <td>23.561057</td>\n",
       "      <td>0.581596</td>\n",
       "      <td>0.936707</td>\n",
       "      <td>15.229541</td>\n",
       "      <td>1.233430</td>\n",
       "      <td>1.817351</td>\n",
       "      <td>14.585979</td>\n",
       "      <td>1.310855</td>\n",
       "      <td>1.817844</td>\n",
       "      <td>20.294541</td>\n",
       "      <td>1.811006</td>\n",
       "      <td>53.08660</td>\n",
       "    </tr>\n",
       "    <tr>\n",
       "      <th>min</th>\n",
       "      <td>-999.000000</td>\n",
       "      <td>0.002000</td>\n",
       "      <td>7.120000</td>\n",
       "      <td>0.000000</td>\n",
       "      <td>0.277000</td>\n",
       "      <td>0.000000</td>\n",
       "      <td>46.104000</td>\n",
       "      <td>0.127000</td>\n",
       "      <td>-1.414000</td>\n",
       "      <td>20.000000</td>\n",
       "      <td>-2.499000</td>\n",
       "      <td>-3.142000</td>\n",
       "      <td>26.000000</td>\n",
       "      <td>-2.505000</td>\n",
       "      <td>-3.142000</td>\n",
       "      <td>0.109000</td>\n",
       "      <td>-3.142000</td>\n",
       "      <td>13.67800</td>\n",
       "    </tr>\n",
       "    <tr>\n",
       "      <th>25%</th>\n",
       "      <td>-999.000000</td>\n",
       "      <td>35.062000</td>\n",
       "      <td>60.947000</td>\n",
       "      <td>2.275000</td>\n",
       "      <td>2.338000</td>\n",
       "      <td>2.275000</td>\n",
       "      <td>61.297000</td>\n",
       "      <td>0.968000</td>\n",
       "      <td>-1.404000</td>\n",
       "      <td>23.655000</td>\n",
       "      <td>-0.960000</td>\n",
       "      <td>-1.586000</td>\n",
       "      <td>31.863000</td>\n",
       "      <td>-1.121000</td>\n",
       "      <td>-1.526000</td>\n",
       "      <td>18.001000</td>\n",
       "      <td>-1.583000</td>\n",
       "      <td>87.95100</td>\n",
       "    </tr>\n",
       "    <tr>\n",
       "      <th>50%</th>\n",
       "      <td>96.528000</td>\n",
       "      <td>62.144000</td>\n",
       "      <td>75.533000</td>\n",
       "      <td>6.677000</td>\n",
       "      <td>2.822000</td>\n",
       "      <td>6.677000</td>\n",
       "      <td>71.586000</td>\n",
       "      <td>1.318000</td>\n",
       "      <td>-1.364000</td>\n",
       "      <td>29.329000</td>\n",
       "      <td>-0.043000</td>\n",
       "      <td>-0.049000</td>\n",
       "      <td>38.969000</td>\n",
       "      <td>-0.104000</td>\n",
       "      <td>0.085000</td>\n",
       "      <td>29.538000</td>\n",
       "      <td>-0.051000</td>\n",
       "      <td>119.47900</td>\n",
       "    </tr>\n",
       "    <tr>\n",
       "      <th>75%</th>\n",
       "      <td>126.793000</td>\n",
       "      <td>79.650000</td>\n",
       "      <td>94.135000</td>\n",
       "      <td>24.202000</td>\n",
       "      <td>3.095000</td>\n",
       "      <td>24.202000</td>\n",
       "      <td>85.242000</td>\n",
       "      <td>1.728000</td>\n",
       "      <td>-1.123000</td>\n",
       "      <td>39.808000</td>\n",
       "      <td>0.900000</td>\n",
       "      <td>1.556000</td>\n",
       "      <td>49.007000</td>\n",
       "      <td>0.989000</td>\n",
       "      <td>1.621000</td>\n",
       "      <td>42.273000</td>\n",
       "      <td>1.546000</td>\n",
       "      <td>156.41800</td>\n",
       "    </tr>\n",
       "    <tr>\n",
       "      <th>max</th>\n",
       "      <td>863.647000</td>\n",
       "      <td>570.115000</td>\n",
       "      <td>1349.351000</td>\n",
       "      <td>2834.999000</td>\n",
       "      <td>5.684000</td>\n",
       "      <td>2834.999000</td>\n",
       "      <td>1324.678000</td>\n",
       "      <td>10.571000</td>\n",
       "      <td>1.414000</td>\n",
       "      <td>764.408000</td>\n",
       "      <td>2.494000</td>\n",
       "      <td>3.142000</td>\n",
       "      <td>560.271000</td>\n",
       "      <td>2.503000</td>\n",
       "      <td>3.142000</td>\n",
       "      <td>2842.617000</td>\n",
       "      <td>3.142000</td>\n",
       "      <td>1391.52900</td>\n",
       "    </tr>\n",
       "  </tbody>\n",
       "</table>\n",
       "</div>"
      ],
      "text/plain": [
       "       DER_mass_MMC  DER_mass_transverse_met_lep  DER_mass_vis      DER_pt_h  \\\n",
       "count  99913.000000                 99913.000000  99913.000000  99913.000000   \n",
       "mean    -172.077816                    58.786239     81.870309     13.823867   \n",
       "std      494.022274                    32.003551     38.043669     16.674707   \n",
       "min     -999.000000                     0.002000      7.120000      0.000000   \n",
       "25%     -999.000000                    35.062000     60.947000      2.275000   \n",
       "50%       96.528000                    62.144000     75.533000      6.677000   \n",
       "75%      126.793000                    79.650000     94.135000     24.202000   \n",
       "max      863.647000                   570.115000   1349.351000   2834.999000   \n",
       "\n",
       "       DER_deltar_tau_lep    DER_pt_tot    DER_sum_pt  DER_pt_ratio_lep_tau  \\\n",
       "count        99913.000000  99913.000000  99913.000000          99913.000000   \n",
       "mean             2.664961     13.823867     76.377011              1.392763   \n",
       "std              0.693295     16.674707     23.561057              0.581596   \n",
       "min              0.277000      0.000000     46.104000              0.127000   \n",
       "25%              2.338000      2.275000     61.297000              0.968000   \n",
       "50%              2.822000      6.677000     71.586000              1.318000   \n",
       "75%              3.095000     24.202000     85.242000              1.728000   \n",
       "max              5.684000   2834.999000   1324.678000             10.571000   \n",
       "\n",
       "       DER_met_phi_centrality    PRI_tau_pt   PRI_tau_eta   PRI_tau_phi  \\\n",
       "count            99913.000000  99913.000000  99913.000000  99913.000000   \n",
       "mean                -0.910077     34.012723     -0.024858     -0.015657   \n",
       "std                  0.936707     15.229541      1.233430      1.817351   \n",
       "min                 -1.414000     20.000000     -2.499000     -3.142000   \n",
       "25%                 -1.404000     23.655000     -0.960000     -1.586000   \n",
       "50%                 -1.364000     29.329000     -0.043000     -0.049000   \n",
       "75%                 -1.123000     39.808000      0.900000      1.556000   \n",
       "max                  1.414000    764.408000      2.494000      3.142000   \n",
       "\n",
       "         PRI_lep_pt   PRI_lep_eta   PRI_lep_phi       PRI_met   PRI_met_phi  \\\n",
       "count  99913.000000  99913.000000  99913.000000  99913.000000  99913.000000   \n",
       "mean      42.364287     -0.052311      0.042352     31.536761     -0.024443   \n",
       "std       14.585979      1.310855      1.817844     20.294541      1.811006   \n",
       "min       26.000000     -2.505000     -3.142000      0.109000     -3.142000   \n",
       "25%       31.863000     -1.121000     -1.526000     18.001000     -1.583000   \n",
       "50%       38.969000     -0.104000      0.085000     29.538000     -0.051000   \n",
       "75%       49.007000      0.989000      1.621000     42.273000      1.546000   \n",
       "max      560.271000      2.503000      3.142000   2842.617000      3.142000   \n",
       "\n",
       "       PRI_met_sumet  \n",
       "count    99913.00000  \n",
       "mean       125.86081  \n",
       "std         53.08660  \n",
       "min         13.67800  \n",
       "25%         87.95100  \n",
       "50%        119.47900  \n",
       "75%        156.41800  \n",
       "max       1391.52900  "
      ]
     },
     "execution_count": 30,
     "metadata": {},
     "output_type": "execute_result"
    }
   ],
   "source": [
    "X_0jets = X[ X['PRI_jet_num']==0 ].drop(['DER_deltaeta_jet_jet', 'DER_mass_jet_jet', 'DER_prodeta_jet_jet', \n",
    "                                         'DER_lep_eta_centrality', 'PRI_jet_num', 'PRI_jet_leading_pt', \n",
    "                                         'PRI_jet_leading_eta', 'PRI_jet_leading_phi', 'PRI_jet_subleading_pt', \n",
    "                                         'PRI_jet_subleading_eta', 'PRI_jet_subleading_phi', 'PRI_jet_all_pt'], axis =1)\n",
    "X_0jets.describe()"
   ]
  },
  {
   "cell_type": "code",
   "execution_count": 31,
   "metadata": {},
   "outputs": [
    {
     "data": {
      "text/plain": [
       "99913"
      ]
     },
     "execution_count": 31,
     "metadata": {},
     "output_type": "execute_result"
    }
   ],
   "source": [
    "y_train_0jets = y_train[ X['PRI_jet_num']==0 ]\n",
    "len(y_train_0jets)"
   ]
  },
  {
   "cell_type": "code",
   "execution_count": 32,
   "metadata": {},
   "outputs": [],
   "source": [
    "minmax_0jets = MinMaxScaler(feature_range=(-1,1))\n",
    "minmax_0jets.fit(X_0jets)\n",
    "X_0jets_minmax = minmax_0jets.transform(X_0jets)"
   ]
  },
  {
   "cell_type": "code",
   "execution_count": 33,
   "metadata": {},
   "outputs": [
    {
     "name": "stdout",
     "output_type": "stream",
     "text": [
      "Model: \"sequential_3\"\n",
      "_________________________________________________________________\n",
      "Layer (type)                 Output Shape              Param #   \n",
      "=================================================================\n",
      "dense_15 (Dense)             (None, 128)               2432      \n",
      "_________________________________________________________________\n",
      "activation_15 (Activation)   (None, 128)               0         \n",
      "_________________________________________________________________\n",
      "dense_16 (Dense)             (None, 64)                8256      \n",
      "_________________________________________________________________\n",
      "activation_16 (Activation)   (None, 64)                0         \n",
      "_________________________________________________________________\n",
      "dense_17 (Dense)             (None, 32)                2080      \n",
      "_________________________________________________________________\n",
      "activation_17 (Activation)   (None, 32)                0         \n",
      "_________________________________________________________________\n",
      "dense_18 (Dense)             (None, 16)                528       \n",
      "_________________________________________________________________\n",
      "activation_18 (Activation)   (None, 16)                0         \n",
      "_________________________________________________________________\n",
      "dense_19 (Dense)             (None, 8)                 136       \n",
      "_________________________________________________________________\n",
      "activation_19 (Activation)   (None, 8)                 0         \n",
      "_________________________________________________________________\n",
      "dense_20 (Dense)             (None, 4)                 36        \n",
      "_________________________________________________________________\n",
      "activation_20 (Activation)   (None, 4)                 0         \n",
      "_________________________________________________________________\n",
      "dense_21 (Dense)             (None, 2)                 10        \n",
      "_________________________________________________________________\n",
      "activation_21 (Activation)   (None, 2)                 0         \n",
      "=================================================================\n",
      "Total params: 13,478\n",
      "Trainable params: 13,478\n",
      "Non-trainable params: 0\n",
      "_________________________________________________________________\n"
     ]
    }
   ],
   "source": [
    "model_2 = Sequential()\n",
    "model_2.add(Dense(128, input_dim=18))\n",
    "model_2.add(Activation('relu'))\n",
    "model_2.add(Dense(64))\n",
    "model_2.add(Activation('relu'))\n",
    "model_2.add(Dense(32))\n",
    "model_2.add(Activation('relu'))\n",
    "model_2.add(Dense(16))\n",
    "model_2.add(Activation('relu'))\n",
    "model_2.add(Dense(8))\n",
    "model_2.add(Activation('relu'))\n",
    "model_2.add(Dense(4))\n",
    "model_2.add(Activation('relu'))\n",
    "model_2.add(Dense(2))\n",
    "model_2.add(Activation('softmax'))\n",
    "\n",
    "model_2.summary()"
   ]
  },
  {
   "cell_type": "code",
   "execution_count": 34,
   "metadata": {},
   "outputs": [],
   "source": [
    "model_2.compile(optimizer='rmsprop',\n",
    "              loss='binary_crossentropy',\n",
    "              metrics=['accuracy'])"
   ]
  },
  {
   "cell_type": "code",
   "execution_count": 35,
   "metadata": {},
   "outputs": [
    {
     "name": "stdout",
     "output_type": "stream",
     "text": [
      "Epoch 1/20\n",
      "99913/99913 [==============================] - 1s 10us/step - loss: 0.5097 - accuracy: 0.7450\n",
      "Epoch 2/20\n",
      "99913/99913 [==============================] - 1s 8us/step - loss: 0.4451 - accuracy: 0.7871\n",
      "Epoch 3/20\n",
      "99913/99913 [==============================] - 1s 8us/step - loss: 0.4133 - accuracy: 0.8118\n",
      "Epoch 4/20\n",
      "99913/99913 [==============================] - 1s 8us/step - loss: 0.4025 - accuracy: 0.8158\n",
      "Epoch 5/20\n",
      "99913/99913 [==============================] - 1s 8us/step - loss: 0.3954 - accuracy: 0.8171\n",
      "Epoch 6/20\n",
      "99913/99913 [==============================] - 1s 9us/step - loss: 0.3887 - accuracy: 0.8210: 0s - loss:\n",
      "Epoch 7/20\n",
      "99913/99913 [==============================] - 1s 10us/step - loss: 0.3857 - accuracy: 0.8220\n",
      "Epoch 8/20\n",
      "99913/99913 [==============================] - 1s 9us/step - loss: 0.3827 - accuracy: 0.8231\n",
      "Epoch 9/20\n",
      "99913/99913 [==============================] - 1s 11us/step - loss: 0.3803 - accuracy: 0.8247 0s - loss: 0.3801 - accuracy: 0.\n",
      "Epoch 10/20\n",
      "99913/99913 [==============================] - 1s 12us/step - loss: 0.3759 - accuracy: 0.8282\n",
      "Epoch 11/20\n",
      "99913/99913 [==============================] - 1s 12us/step - loss: 0.3744 - accuracy: 0.8293\n",
      "Epoch 12/20\n",
      "99913/99913 [==============================] - 1s 10us/step - loss: 0.3696 - accuracy: 0.8332\n",
      "Epoch 13/20\n",
      "99913/99913 [==============================] - 1s 10us/step - loss: 0.3663 - accuracy: 0.8347\n",
      "Epoch 14/20\n",
      "99913/99913 [==============================] - 1s 10us/step - loss: 0.3639 - accuracy: 0.8356\n",
      "Epoch 15/20\n",
      "99913/99913 [==============================] - 1s 11us/step - loss: 0.3637 - accuracy: 0.8369 0s - loss: 0.3647 - accu\n",
      "Epoch 16/20\n",
      "99913/99913 [==============================] - 1s 14us/step - loss: 0.3611 - accuracy: 0.8377\n",
      "Epoch 17/20\n",
      "99913/99913 [==============================] - 1s 11us/step - loss: 0.3598 - accuracy: 0.8384 0s - loss: 0.3621 - \n",
      "Epoch 18/20\n",
      "99913/99913 [==============================] - 1s 12us/step - loss: 0.3585 - accuracy: 0.8385\n",
      "Epoch 19/20\n",
      "99913/99913 [==============================] - 1s 11us/step - loss: 0.3568 - accuracy: 0.8405\n",
      "Epoch 20/20\n",
      "99913/99913 [==============================] - 1s 11us/step - loss: 0.3560 - accuracy: 0.8410\n"
     ]
    },
    {
     "data": {
      "text/plain": [
       "<keras.callbacks.callbacks.History at 0x1a64a6f8f28>"
      ]
     },
     "execution_count": 35,
     "metadata": {},
     "output_type": "execute_result"
    }
   ],
   "source": [
    "model_2.fit(X_0jets_minmax, y_train_0jets, epochs=20, batch_size=1024)"
   ]
  },
  {
   "cell_type": "markdown",
   "metadata": {},
   "source": [
    "At least a slightly higher accuracy..."
   ]
  },
  {
   "cell_type": "code",
   "execution_count": 36,
   "metadata": {},
   "outputs": [
    {
     "data": {
      "text/plain": [
       "72543"
      ]
     },
     "execution_count": 36,
     "metadata": {},
     "output_type": "execute_result"
    }
   ],
   "source": [
    "X_2jets = X[ X['PRI_jet_num']>=2 ]\n",
    "len(X_2jets)"
   ]
  },
  {
   "cell_type": "code",
   "execution_count": 83,
   "metadata": {},
   "outputs": [
    {
     "data": {
      "text/plain": [
       "29046"
      ]
     },
     "execution_count": 83,
     "metadata": {},
     "output_type": "execute_result"
    }
   ],
   "source": [
    "X_val_2jets = X_val[ X_val['PRI_jet_num']>=2 ]\n",
    "len(X_val_2jets)"
   ]
  },
  {
   "cell_type": "code",
   "execution_count": 37,
   "metadata": {},
   "outputs": [
    {
     "data": {
      "text/html": [
       "<div>\n",
       "<style scoped>\n",
       "    .dataframe tbody tr th:only-of-type {\n",
       "        vertical-align: middle;\n",
       "    }\n",
       "\n",
       "    .dataframe tbody tr th {\n",
       "        vertical-align: top;\n",
       "    }\n",
       "\n",
       "    .dataframe thead th {\n",
       "        text-align: right;\n",
       "    }\n",
       "</style>\n",
       "<table border=\"1\" class=\"dataframe\">\n",
       "  <thead>\n",
       "    <tr style=\"text-align: right;\">\n",
       "      <th></th>\n",
       "      <th>DER_mass_MMC</th>\n",
       "      <th>DER_mass_transverse_met_lep</th>\n",
       "      <th>DER_mass_vis</th>\n",
       "      <th>DER_pt_h</th>\n",
       "      <th>DER_deltaeta_jet_jet</th>\n",
       "      <th>DER_mass_jet_jet</th>\n",
       "      <th>DER_prodeta_jet_jet</th>\n",
       "      <th>DER_deltar_tau_lep</th>\n",
       "      <th>DER_pt_tot</th>\n",
       "      <th>DER_sum_pt</th>\n",
       "      <th>...</th>\n",
       "      <th>PRI_met_phi</th>\n",
       "      <th>PRI_met_sumet</th>\n",
       "      <th>PRI_jet_num</th>\n",
       "      <th>PRI_jet_leading_pt</th>\n",
       "      <th>PRI_jet_leading_eta</th>\n",
       "      <th>PRI_jet_leading_phi</th>\n",
       "      <th>PRI_jet_subleading_pt</th>\n",
       "      <th>PRI_jet_subleading_eta</th>\n",
       "      <th>PRI_jet_subleading_phi</th>\n",
       "      <th>PRI_jet_all_pt</th>\n",
       "    </tr>\n",
       "  </thead>\n",
       "  <tbody>\n",
       "    <tr>\n",
       "      <th>0</th>\n",
       "      <td>138.470</td>\n",
       "      <td>51.655</td>\n",
       "      <td>97.827</td>\n",
       "      <td>27.980</td>\n",
       "      <td>0.910</td>\n",
       "      <td>124.711</td>\n",
       "      <td>2.666</td>\n",
       "      <td>3.064</td>\n",
       "      <td>41.928</td>\n",
       "      <td>197.760</td>\n",
       "      <td>...</td>\n",
       "      <td>-0.277</td>\n",
       "      <td>258.733</td>\n",
       "      <td>2</td>\n",
       "      <td>67.435</td>\n",
       "      <td>2.150</td>\n",
       "      <td>0.444</td>\n",
       "      <td>46.062</td>\n",
       "      <td>1.240</td>\n",
       "      <td>-2.475</td>\n",
       "      <td>113.497</td>\n",
       "    </tr>\n",
       "    <tr>\n",
       "      <th>5</th>\n",
       "      <td>89.744</td>\n",
       "      <td>13.550</td>\n",
       "      <td>59.149</td>\n",
       "      <td>116.344</td>\n",
       "      <td>2.636</td>\n",
       "      <td>284.584</td>\n",
       "      <td>-0.540</td>\n",
       "      <td>1.362</td>\n",
       "      <td>61.619</td>\n",
       "      <td>278.876</td>\n",
       "      <td>...</td>\n",
       "      <td>2.237</td>\n",
       "      <td>282.849</td>\n",
       "      <td>3</td>\n",
       "      <td>90.547</td>\n",
       "      <td>-2.412</td>\n",
       "      <td>-0.653</td>\n",
       "      <td>56.165</td>\n",
       "      <td>0.224</td>\n",
       "      <td>3.106</td>\n",
       "      <td>193.660</td>\n",
       "    </tr>\n",
       "    <tr>\n",
       "      <th>6</th>\n",
       "      <td>148.754</td>\n",
       "      <td>28.862</td>\n",
       "      <td>107.782</td>\n",
       "      <td>106.130</td>\n",
       "      <td>0.733</td>\n",
       "      <td>158.359</td>\n",
       "      <td>0.113</td>\n",
       "      <td>2.941</td>\n",
       "      <td>2.545</td>\n",
       "      <td>305.967</td>\n",
       "      <td>...</td>\n",
       "      <td>-1.443</td>\n",
       "      <td>294.074</td>\n",
       "      <td>2</td>\n",
       "      <td>123.010</td>\n",
       "      <td>0.864</td>\n",
       "      <td>1.450</td>\n",
       "      <td>56.867</td>\n",
       "      <td>0.131</td>\n",
       "      <td>-2.767</td>\n",
       "      <td>179.877</td>\n",
       "    </tr>\n",
       "    <tr>\n",
       "      <th>11</th>\n",
       "      <td>114.744</td>\n",
       "      <td>10.286</td>\n",
       "      <td>75.712</td>\n",
       "      <td>30.816</td>\n",
       "      <td>2.563</td>\n",
       "      <td>252.599</td>\n",
       "      <td>-1.401</td>\n",
       "      <td>2.888</td>\n",
       "      <td>36.745</td>\n",
       "      <td>239.804</td>\n",
       "      <td>...</td>\n",
       "      <td>2.148</td>\n",
       "      <td>290.547</td>\n",
       "      <td>3</td>\n",
       "      <td>76.773</td>\n",
       "      <td>-0.790</td>\n",
       "      <td>0.303</td>\n",
       "      <td>56.876</td>\n",
       "      <td>1.773</td>\n",
       "      <td>-2.079</td>\n",
       "      <td>165.640</td>\n",
       "    </tr>\n",
       "    <tr>\n",
       "      <th>23</th>\n",
       "      <td>141.481</td>\n",
       "      <td>0.736</td>\n",
       "      <td>111.581</td>\n",
       "      <td>174.075</td>\n",
       "      <td>1.955</td>\n",
       "      <td>364.344</td>\n",
       "      <td>-0.923</td>\n",
       "      <td>1.335</td>\n",
       "      <td>6.663</td>\n",
       "      <td>440.859</td>\n",
       "      <td>...</td>\n",
       "      <td>-0.973</td>\n",
       "      <td>454.785</td>\n",
       "      <td>2</td>\n",
       "      <td>195.533</td>\n",
       "      <td>1.156</td>\n",
       "      <td>1.416</td>\n",
       "      <td>82.477</td>\n",
       "      <td>-0.798</td>\n",
       "      <td>-2.785</td>\n",
       "      <td>278.009</td>\n",
       "    </tr>\n",
       "    <tr>\n",
       "      <th>27</th>\n",
       "      <td>111.271</td>\n",
       "      <td>27.180</td>\n",
       "      <td>70.642</td>\n",
       "      <td>144.766</td>\n",
       "      <td>4.936</td>\n",
       "      <td>1021.322</td>\n",
       "      <td>-5.834</td>\n",
       "      <td>1.795</td>\n",
       "      <td>0.367</td>\n",
       "      <td>309.992</td>\n",
       "      <td>...</td>\n",
       "      <td>-1.173</td>\n",
       "      <td>289.876</td>\n",
       "      <td>2</td>\n",
       "      <td>170.712</td>\n",
       "      <td>-1.961</td>\n",
       "      <td>2.220</td>\n",
       "      <td>43.458</td>\n",
       "      <td>2.974</td>\n",
       "      <td>-0.103</td>\n",
       "      <td>214.170</td>\n",
       "    </tr>\n",
       "    <tr>\n",
       "      <th>29</th>\n",
       "      <td>98.761</td>\n",
       "      <td>14.024</td>\n",
       "      <td>74.230</td>\n",
       "      <td>132.806</td>\n",
       "      <td>3.676</td>\n",
       "      <td>315.854</td>\n",
       "      <td>-2.665</td>\n",
       "      <td>1.261</td>\n",
       "      <td>23.290</td>\n",
       "      <td>239.330</td>\n",
       "      <td>...</td>\n",
       "      <td>1.150</td>\n",
       "      <td>357.815</td>\n",
       "      <td>2</td>\n",
       "      <td>80.627</td>\n",
       "      <td>0.993</td>\n",
       "      <td>-2.018</td>\n",
       "      <td>32.625</td>\n",
       "      <td>-2.683</td>\n",
       "      <td>-1.467</td>\n",
       "      <td>113.252</td>\n",
       "    </tr>\n",
       "    <tr>\n",
       "      <th>31</th>\n",
       "      <td>121.681</td>\n",
       "      <td>6.041</td>\n",
       "      <td>73.202</td>\n",
       "      <td>198.114</td>\n",
       "      <td>2.639</td>\n",
       "      <td>295.942</td>\n",
       "      <td>-1.738</td>\n",
       "      <td>1.148</td>\n",
       "      <td>31.017</td>\n",
       "      <td>412.518</td>\n",
       "      <td>...</td>\n",
       "      <td>-2.769</td>\n",
       "      <td>515.415</td>\n",
       "      <td>3</td>\n",
       "      <td>182.449</td>\n",
       "      <td>1.383</td>\n",
       "      <td>0.001</td>\n",
       "      <td>38.006</td>\n",
       "      <td>-1.257</td>\n",
       "      <td>-0.609</td>\n",
       "      <td>253.461</td>\n",
       "    </tr>\n",
       "    <tr>\n",
       "      <th>32</th>\n",
       "      <td>129.186</td>\n",
       "      <td>64.045</td>\n",
       "      <td>69.499</td>\n",
       "      <td>63.165</td>\n",
       "      <td>5.087</td>\n",
       "      <td>854.799</td>\n",
       "      <td>-6.159</td>\n",
       "      <td>2.745</td>\n",
       "      <td>6.580</td>\n",
       "      <td>203.080</td>\n",
       "      <td>...</td>\n",
       "      <td>1.204</td>\n",
       "      <td>199.861</td>\n",
       "      <td>2</td>\n",
       "      <td>81.170</td>\n",
       "      <td>3.102</td>\n",
       "      <td>-0.977</td>\n",
       "      <td>55.092</td>\n",
       "      <td>-1.985</td>\n",
       "      <td>3.065</td>\n",
       "      <td>136.262</td>\n",
       "    </tr>\n",
       "    <tr>\n",
       "      <th>33</th>\n",
       "      <td>123.112</td>\n",
       "      <td>62.758</td>\n",
       "      <td>86.702</td>\n",
       "      <td>39.901</td>\n",
       "      <td>3.160</td>\n",
       "      <td>244.181</td>\n",
       "      <td>-2.139</td>\n",
       "      <td>2.825</td>\n",
       "      <td>9.732</td>\n",
       "      <td>184.194</td>\n",
       "      <td>...</td>\n",
       "      <td>-1.209</td>\n",
       "      <td>309.430</td>\n",
       "      <td>2</td>\n",
       "      <td>71.127</td>\n",
       "      <td>2.177</td>\n",
       "      <td>0.558</td>\n",
       "      <td>32.515</td>\n",
       "      <td>-0.983</td>\n",
       "      <td>-2.628</td>\n",
       "      <td>103.642</td>\n",
       "    </tr>\n",
       "  </tbody>\n",
       "</table>\n",
       "<p>10 rows × 30 columns</p>\n",
       "</div>"
      ],
      "text/plain": [
       "    DER_mass_MMC  DER_mass_transverse_met_lep  DER_mass_vis  DER_pt_h  \\\n",
       "0        138.470                       51.655        97.827    27.980   \n",
       "5         89.744                       13.550        59.149   116.344   \n",
       "6        148.754                       28.862       107.782   106.130   \n",
       "11       114.744                       10.286        75.712    30.816   \n",
       "23       141.481                        0.736       111.581   174.075   \n",
       "27       111.271                       27.180        70.642   144.766   \n",
       "29        98.761                       14.024        74.230   132.806   \n",
       "31       121.681                        6.041        73.202   198.114   \n",
       "32       129.186                       64.045        69.499    63.165   \n",
       "33       123.112                       62.758        86.702    39.901   \n",
       "\n",
       "    DER_deltaeta_jet_jet  DER_mass_jet_jet  DER_prodeta_jet_jet  \\\n",
       "0                  0.910           124.711                2.666   \n",
       "5                  2.636           284.584               -0.540   \n",
       "6                  0.733           158.359                0.113   \n",
       "11                 2.563           252.599               -1.401   \n",
       "23                 1.955           364.344               -0.923   \n",
       "27                 4.936          1021.322               -5.834   \n",
       "29                 3.676           315.854               -2.665   \n",
       "31                 2.639           295.942               -1.738   \n",
       "32                 5.087           854.799               -6.159   \n",
       "33                 3.160           244.181               -2.139   \n",
       "\n",
       "    DER_deltar_tau_lep  DER_pt_tot  DER_sum_pt  ...  PRI_met_phi  \\\n",
       "0                3.064      41.928     197.760  ...       -0.277   \n",
       "5                1.362      61.619     278.876  ...        2.237   \n",
       "6                2.941       2.545     305.967  ...       -1.443   \n",
       "11               2.888      36.745     239.804  ...        2.148   \n",
       "23               1.335       6.663     440.859  ...       -0.973   \n",
       "27               1.795       0.367     309.992  ...       -1.173   \n",
       "29               1.261      23.290     239.330  ...        1.150   \n",
       "31               1.148      31.017     412.518  ...       -2.769   \n",
       "32               2.745       6.580     203.080  ...        1.204   \n",
       "33               2.825       9.732     184.194  ...       -1.209   \n",
       "\n",
       "    PRI_met_sumet  PRI_jet_num  PRI_jet_leading_pt  PRI_jet_leading_eta  \\\n",
       "0         258.733            2              67.435                2.150   \n",
       "5         282.849            3              90.547               -2.412   \n",
       "6         294.074            2             123.010                0.864   \n",
       "11        290.547            3              76.773               -0.790   \n",
       "23        454.785            2             195.533                1.156   \n",
       "27        289.876            2             170.712               -1.961   \n",
       "29        357.815            2              80.627                0.993   \n",
       "31        515.415            3             182.449                1.383   \n",
       "32        199.861            2              81.170                3.102   \n",
       "33        309.430            2              71.127                2.177   \n",
       "\n",
       "    PRI_jet_leading_phi  PRI_jet_subleading_pt  PRI_jet_subleading_eta  \\\n",
       "0                 0.444                 46.062                   1.240   \n",
       "5                -0.653                 56.165                   0.224   \n",
       "6                 1.450                 56.867                   0.131   \n",
       "11                0.303                 56.876                   1.773   \n",
       "23                1.416                 82.477                  -0.798   \n",
       "27                2.220                 43.458                   2.974   \n",
       "29               -2.018                 32.625                  -2.683   \n",
       "31                0.001                 38.006                  -1.257   \n",
       "32               -0.977                 55.092                  -1.985   \n",
       "33                0.558                 32.515                  -0.983   \n",
       "\n",
       "    PRI_jet_subleading_phi  PRI_jet_all_pt  \n",
       "0                   -2.475         113.497  \n",
       "5                    3.106         193.660  \n",
       "6                   -2.767         179.877  \n",
       "11                  -2.079         165.640  \n",
       "23                  -2.785         278.009  \n",
       "27                  -0.103         214.170  \n",
       "29                  -1.467         113.252  \n",
       "31                  -0.609         253.461  \n",
       "32                   3.065         136.262  \n",
       "33                  -2.628         103.642  \n",
       "\n",
       "[10 rows x 30 columns]"
      ]
     },
     "execution_count": 37,
     "metadata": {},
     "output_type": "execute_result"
    }
   ],
   "source": [
    "X_2jets.head(10)"
   ]
  },
  {
   "cell_type": "code",
   "execution_count": 38,
   "metadata": {},
   "outputs": [
    {
     "name": "stderr",
     "output_type": "stream",
     "text": [
      "C:\\Users\\flori\\Anaconda3\\lib\\site-packages\\sklearn\\preprocessing\\data.py:334: DataConversionWarning: Data with input dtype int64, float64 were all converted to float64 by MinMaxScaler.\n",
      "  return self.partial_fit(X, y)\n"
     ]
    }
   ],
   "source": [
    "minmax_2jets = MinMaxScaler(feature_range=(-1,1))\n",
    "minmax_2jets.fit(X_2jets)\n",
    "X_2jets_minmax = minmax_2jets.transform(X_2jets)"
   ]
  },
  {
   "cell_type": "code",
   "execution_count": 39,
   "metadata": {},
   "outputs": [
    {
     "name": "stdout",
     "output_type": "stream",
     "text": [
      "Model: \"sequential_4\"\n",
      "_________________________________________________________________\n",
      "Layer (type)                 Output Shape              Param #   \n",
      "=================================================================\n",
      "dense_22 (Dense)             (None, 128)               3968      \n",
      "_________________________________________________________________\n",
      "activation_22 (Activation)   (None, 128)               0         \n",
      "_________________________________________________________________\n",
      "dense_23 (Dense)             (None, 64)                8256      \n",
      "_________________________________________________________________\n",
      "activation_23 (Activation)   (None, 64)                0         \n",
      "_________________________________________________________________\n",
      "dense_24 (Dense)             (None, 32)                2080      \n",
      "_________________________________________________________________\n",
      "activation_24 (Activation)   (None, 32)                0         \n",
      "_________________________________________________________________\n",
      "dense_25 (Dense)             (None, 16)                528       \n",
      "_________________________________________________________________\n",
      "activation_25 (Activation)   (None, 16)                0         \n",
      "_________________________________________________________________\n",
      "dense_26 (Dense)             (None, 8)                 136       \n",
      "_________________________________________________________________\n",
      "activation_26 (Activation)   (None, 8)                 0         \n",
      "_________________________________________________________________\n",
      "dense_27 (Dense)             (None, 4)                 36        \n",
      "_________________________________________________________________\n",
      "activation_27 (Activation)   (None, 4)                 0         \n",
      "_________________________________________________________________\n",
      "dense_28 (Dense)             (None, 2)                 10        \n",
      "_________________________________________________________________\n",
      "activation_28 (Activation)   (None, 2)                 0         \n",
      "=================================================================\n",
      "Total params: 15,014\n",
      "Trainable params: 15,014\n",
      "Non-trainable params: 0\n",
      "_________________________________________________________________\n"
     ]
    }
   ],
   "source": [
    "model_3 = Sequential()\n",
    "model_3.add(Dense(128, input_dim=30))\n",
    "model_3.add(Activation('relu'))\n",
    "model_3.add(Dense(64))\n",
    "model_3.add(Activation('relu'))\n",
    "model_3.add(Dense(32))\n",
    "model_3.add(Activation('relu'))\n",
    "model_3.add(Dense(16))\n",
    "model_3.add(Activation('relu'))\n",
    "model_3.add(Dense(8))\n",
    "model_3.add(Activation('relu'))\n",
    "model_3.add(Dense(4))\n",
    "model_3.add(Activation('relu'))\n",
    "model_3.add(Dense(2))\n",
    "model_3.add(Activation('softmax'))\n",
    "\n",
    "model_3.summary()"
   ]
  },
  {
   "cell_type": "code",
   "execution_count": 40,
   "metadata": {},
   "outputs": [],
   "source": [
    "model_3.compile(optimizer='rmsprop',\n",
    "              loss='binary_crossentropy',\n",
    "              metrics=['accuracy'])"
   ]
  },
  {
   "cell_type": "code",
   "execution_count": 41,
   "metadata": {},
   "outputs": [
    {
     "data": {
      "text/plain": [
       "72543"
      ]
     },
     "execution_count": 41,
     "metadata": {},
     "output_type": "execute_result"
    }
   ],
   "source": [
    "y_train_2jets = y_train[ X['PRI_jet_num']>=2 ]\n",
    "len(y_train_2jets)"
   ]
  },
  {
   "cell_type": "code",
   "execution_count": 85,
   "metadata": {},
   "outputs": [
    {
     "data": {
      "text/plain": [
       "29046"
      ]
     },
     "execution_count": 85,
     "metadata": {},
     "output_type": "execute_result"
    }
   ],
   "source": [
    "y_val_2jets = y_val[ X_val['PRI_jet_num']>=2 ]\n",
    "len(y_val_2jets)"
   ]
  },
  {
   "cell_type": "code",
   "execution_count": 42,
   "metadata": {},
   "outputs": [
    {
     "name": "stdout",
     "output_type": "stream",
     "text": [
      "Epoch 1/20\n",
      "72543/72543 [==============================] - 1s 20us/step - loss: 0.5635 - accuracy: 0.7109\n",
      "Epoch 2/20\n",
      "72543/72543 [==============================] - 1s 18us/step - loss: 0.5157 - accuracy: 0.7412\n",
      "Epoch 3/20\n",
      "72543/72543 [==============================] - 1s 17us/step - loss: 0.4815 - accuracy: 0.7636\n",
      "Epoch 4/20\n",
      "72543/72543 [==============================] - 1s 16us/step - loss: 0.4568 - accuracy: 0.7804\n",
      "Epoch 5/20\n",
      "72543/72543 [==============================] - 1s 16us/step - loss: 0.4395 - accuracy: 0.7919\n",
      "Epoch 6/20\n",
      "72543/72543 [==============================] - 1s 16us/step - loss: 0.4242 - accuracy: 0.8012\n",
      "Epoch 7/20\n",
      "72543/72543 [==============================] - 1s 19us/step - loss: 0.4099 - accuracy: 0.8108\n",
      "Epoch 8/20\n",
      "72543/72543 [==============================] - 1s 17us/step - loss: 0.4005 - accuracy: 0.8162\n",
      "Epoch 9/20\n",
      "72543/72543 [==============================] - 1s 18us/step - loss: 0.3932 - accuracy: 0.8211\n",
      "Epoch 10/20\n",
      "72543/72543 [==============================] - 1s 19us/step - loss: 0.3897 - accuracy: 0.8229\n",
      "Epoch 11/20\n",
      "72543/72543 [==============================] - 1s 19us/step - loss: 0.3820 - accuracy: 0.8261\n",
      "Epoch 12/20\n",
      "72543/72543 [==============================] - 1s 18us/step - loss: 0.3801 - accuracy: 0.8275\n",
      "Epoch 13/20\n",
      "72543/72543 [==============================] - 1s 20us/step - loss: 0.3751 - accuracy: 0.8301\n",
      "Epoch 14/20\n",
      "72543/72543 [==============================] - 1s 19us/step - loss: 0.3702 - accuracy: 0.8336\n",
      "Epoch 15/20\n",
      "72543/72543 [==============================] - 1s 19us/step - loss: 0.3682 - accuracy: 0.8350\n",
      "Epoch 16/20\n",
      "72543/72543 [==============================] - 1s 19us/step - loss: 0.3653 - accuracy: 0.8363\n",
      "Epoch 17/20\n",
      "72543/72543 [==============================] - 1s 20us/step - loss: 0.3638 - accuracy: 0.8372\n",
      "Epoch 18/20\n",
      "72543/72543 [==============================] - 1s 20us/step - loss: 0.3601 - accuracy: 0.8397\n",
      "Epoch 19/20\n",
      "72543/72543 [==============================] - 1s 19us/step - loss: 0.3603 - accuracy: 0.8386\n",
      "Epoch 20/20\n",
      "72543/72543 [==============================] - 2s 27us/step - loss: 0.3575 - accuracy: 0.8414\n"
     ]
    },
    {
     "data": {
      "text/plain": [
       "<keras.callbacks.callbacks.History at 0x1a65a711eb8>"
      ]
     },
     "execution_count": 42,
     "metadata": {},
     "output_type": "execute_result"
    }
   ],
   "source": [
    "model_3.fit(X_2jets_minmax, y_train_2jets, epochs=20, batch_size=256)"
   ]
  },
  {
   "cell_type": "markdown",
   "metadata": {},
   "source": [
    "## Try using VBF cuts"
   ]
  },
  {
   "cell_type": "markdown",
   "metadata": {},
   "source": [
    "ATLAS said, they used only the events for the VBF category, having  \n",
    "+ At least two jets with $p_{j1,T}>50$ GeV and $p_{j2,T}$ >30 GeV\n",
    "+ $∆η(j_1, j_2)$ > 3.0\n",
    "+ $m_{vis}^{ττ}$ > 40 GeV\n",
    "\n",
    "I will now see if there are many events in the upper set with two jets that do not pass the criteria."
   ]
  },
  {
   "cell_type": "code",
   "execution_count": 43,
   "metadata": {},
   "outputs": [
    {
     "data": {
      "text/plain": [
       "21257"
      ]
     },
     "execution_count": 43,
     "metadata": {},
     "output_type": "execute_result"
    }
   ],
   "source": [
    "X_VBF = X_2jets [ (X_2jets['PRI_jet_leading_pt'] >= 50) & (X_2jets['PRI_jet_subleading_pt'] >= 30) & (X_2jets['DER_deltaeta_jet_jet'] >= 3) & (X_2jets['DER_mass_vis']>=40) ]\n",
    "\n",
    "len(X_VBF)"
   ]
  },
  {
   "cell_type": "code",
   "execution_count": 86,
   "metadata": {},
   "outputs": [
    {
     "data": {
      "text/plain": [
       "8489"
      ]
     },
     "execution_count": 86,
     "metadata": {},
     "output_type": "execute_result"
    }
   ],
   "source": [
    "X_val_VBF = X_val_2jets [ (X_val_2jets['PRI_jet_leading_pt'] >= 50) & (X_val_2jets['PRI_jet_subleading_pt'] >= 30) & (X_val_2jets['DER_deltaeta_jet_jet'] >= 3) & (X_val_2jets['DER_mass_vis']>=40) ]\n",
    "\n",
    "len(X_val_VBF)"
   ]
  },
  {
   "cell_type": "markdown",
   "metadata": {},
   "source": [
    "The events that ATLAS used for VBF category are only a small part of the 2-jets sample. I will try the same easy procedure here."
   ]
  },
  {
   "cell_type": "code",
   "execution_count": 44,
   "metadata": {},
   "outputs": [
    {
     "data": {
      "text/plain": [
       "21257"
      ]
     },
     "execution_count": 44,
     "metadata": {},
     "output_type": "execute_result"
    }
   ],
   "source": [
    "y_train_VBF = y_train_2jets [ (X_2jets['PRI_jet_leading_pt'] >= 50) & (X_2jets['PRI_jet_subleading_pt'] >= 30) & (X_2jets['DER_deltaeta_jet_jet'] >= 3) & (X_2jets['DER_mass_vis']>=40) ]\n",
    "len(y_train_VBF)"
   ]
  },
  {
   "cell_type": "code",
   "execution_count": 87,
   "metadata": {},
   "outputs": [
    {
     "data": {
      "text/plain": [
       "8489"
      ]
     },
     "execution_count": 87,
     "metadata": {},
     "output_type": "execute_result"
    }
   ],
   "source": [
    "y_val_VBF = y_val_2jets [ (X_val_2jets['PRI_jet_leading_pt'] >= 50) & (X_val_2jets['PRI_jet_subleading_pt'] >= 30) & (X_val_2jets['DER_deltaeta_jet_jet'] >= 3) & (X_val_2jets['DER_mass_vis']>=40) ]\n",
    "len(y_val_VBF)"
   ]
  },
  {
   "cell_type": "code",
   "execution_count": 88,
   "metadata": {},
   "outputs": [
    {
     "name": "stderr",
     "output_type": "stream",
     "text": [
      "C:\\Users\\flori\\Anaconda3\\lib\\site-packages\\sklearn\\preprocessing\\data.py:334: DataConversionWarning: Data with input dtype int64, float64 were all converted to float64 by MinMaxScaler.\n",
      "  return self.partial_fit(X, y)\n"
     ]
    }
   ],
   "source": [
    "minmax_VBF = MinMaxScaler(feature_range=(-1,1))\n",
    "minmax_VBF.fit(X_VBF)\n",
    "X_VBF_minmax = minmax_VBF.transform(X_VBF)\n",
    "X_val_VBF_minmax = minmax_VBF.transform(X_val_VBF)"
   ]
  },
  {
   "cell_type": "code",
   "execution_count": 46,
   "metadata": {},
   "outputs": [
    {
     "name": "stdout",
     "output_type": "stream",
     "text": [
      "Model: \"sequential_5\"\n",
      "_________________________________________________________________\n",
      "Layer (type)                 Output Shape              Param #   \n",
      "=================================================================\n",
      "dense_29 (Dense)             (None, 128)               3968      \n",
      "_________________________________________________________________\n",
      "activation_29 (Activation)   (None, 128)               0         \n",
      "_________________________________________________________________\n",
      "dense_30 (Dense)             (None, 64)                8256      \n",
      "_________________________________________________________________\n",
      "activation_30 (Activation)   (None, 64)                0         \n",
      "_________________________________________________________________\n",
      "dense_31 (Dense)             (None, 32)                2080      \n",
      "_________________________________________________________________\n",
      "activation_31 (Activation)   (None, 32)                0         \n",
      "_________________________________________________________________\n",
      "dense_32 (Dense)             (None, 16)                528       \n",
      "_________________________________________________________________\n",
      "activation_32 (Activation)   (None, 16)                0         \n",
      "_________________________________________________________________\n",
      "dense_33 (Dense)             (None, 8)                 136       \n",
      "_________________________________________________________________\n",
      "activation_33 (Activation)   (None, 8)                 0         \n",
      "_________________________________________________________________\n",
      "dense_34 (Dense)             (None, 4)                 36        \n",
      "_________________________________________________________________\n",
      "activation_34 (Activation)   (None, 4)                 0         \n",
      "_________________________________________________________________\n",
      "dense_35 (Dense)             (None, 2)                 10        \n",
      "_________________________________________________________________\n",
      "activation_35 (Activation)   (None, 2)                 0         \n",
      "=================================================================\n",
      "Total params: 15,014\n",
      "Trainable params: 15,014\n",
      "Non-trainable params: 0\n",
      "_________________________________________________________________\n"
     ]
    }
   ],
   "source": [
    "model_4 = Sequential()\n",
    "model_4.add(Dense(128, input_dim=30))\n",
    "model_4.add(Activation('relu'))\n",
    "model_4.add(Dense(64))\n",
    "model_4.add(Activation('relu'))\n",
    "model_4.add(Dense(32))\n",
    "model_4.add(Activation('relu'))\n",
    "model_4.add(Dense(16))\n",
    "model_4.add(Activation('relu'))\n",
    "model_4.add(Dense(8))\n",
    "model_4.add(Activation('relu'))\n",
    "model_4.add(Dense(4))\n",
    "model_4.add(Activation('relu'))\n",
    "model_4.add(Dense(2))\n",
    "model_4.add(Activation('softmax'))\n",
    "\n",
    "model_4.summary()"
   ]
  },
  {
   "cell_type": "code",
   "execution_count": 47,
   "metadata": {},
   "outputs": [],
   "source": [
    "model_4.compile(optimizer='rmsprop',\n",
    "              loss='binary_crossentropy',\n",
    "              metrics=['accuracy'])"
   ]
  },
  {
   "cell_type": "code",
   "execution_count": 48,
   "metadata": {},
   "outputs": [
    {
     "name": "stdout",
     "output_type": "stream",
     "text": [
      "Epoch 1/20\n",
      "21257/21257 [==============================] - 1s 27us/step - loss: 0.5515 - accuracy: 0.7502\n",
      "Epoch 2/20\n",
      "21257/21257 [==============================] - 0s 20us/step - loss: 0.4805 - accuracy: 0.7761\n",
      "Epoch 3/20\n",
      "21257/21257 [==============================] - 0s 18us/step - loss: 0.4686 - accuracy: 0.7826\n",
      "Epoch 4/20\n",
      "21257/21257 [==============================] - 0s 19us/step - loss: 0.4621 - accuracy: 0.7842\n",
      "Epoch 5/20\n",
      "21257/21257 [==============================] - 0s 20us/step - loss: 0.4554 - accuracy: 0.7889\n",
      "Epoch 6/20\n",
      "21257/21257 [==============================] - 0s 20us/step - loss: 0.4436 - accuracy: 0.7961\n",
      "Epoch 7/20\n",
      "21257/21257 [==============================] - 0s 20us/step - loss: 0.4367 - accuracy: 0.8006\n",
      "Epoch 8/20\n",
      "21257/21257 [==============================] - 0s 19us/step - loss: 0.4257 - accuracy: 0.8070\n",
      "Epoch 9/20\n",
      "21257/21257 [==============================] - 0s 19us/step - loss: 0.4134 - accuracy: 0.8113\n",
      "Epoch 10/20\n",
      "21257/21257 [==============================] - 0s 22us/step - loss: 0.4080 - accuracy: 0.8173 0s - loss: 0.4134 - \n",
      "Epoch 11/20\n",
      "21257/21257 [==============================] - 0s 20us/step - loss: 0.3975 - accuracy: 0.8231\n",
      "Epoch 12/20\n",
      "21257/21257 [==============================] - 0s 20us/step - loss: 0.3924 - accuracy: 0.8255\n",
      "Epoch 13/20\n",
      "21257/21257 [==============================] - 0s 20us/step - loss: 0.3858 - accuracy: 0.8294\n",
      "Epoch 14/20\n",
      "21257/21257 [==============================] - 0s 19us/step - loss: 0.3786 - accuracy: 0.8314\n",
      "Epoch 15/20\n",
      "21257/21257 [==============================] - 0s 23us/step - loss: 0.3727 - accuracy: 0.8354\n",
      "Epoch 16/20\n",
      "21257/21257 [==============================] - 1s 25us/step - loss: 0.3693 - accuracy: 0.8387\n",
      "Epoch 17/20\n",
      "21257/21257 [==============================] - 1s 26us/step - loss: 0.3650 - accuracy: 0.8416\n",
      "Epoch 18/20\n",
      "21257/21257 [==============================] - 0s 21us/step - loss: 0.3526 - accuracy: 0.8488\n",
      "Epoch 19/20\n",
      "21257/21257 [==============================] - 0s 19us/step - loss: 0.3543 - accuracy: 0.8471\n",
      "Epoch 20/20\n",
      "21257/21257 [==============================] - 0s 21us/step - loss: 0.3523 - accuracy: 0.8459\n"
     ]
    },
    {
     "data": {
      "text/plain": [
       "<keras.callbacks.callbacks.History at 0x1a65d8acf98>"
      ]
     },
     "execution_count": 48,
     "metadata": {},
     "output_type": "execute_result"
    }
   ],
   "source": [
    "model_4.fit(X_VBF_minmax, y_train_VBF, epochs=20, batch_size=256)"
   ]
  },
  {
   "cell_type": "markdown",
   "metadata": {},
   "source": [
    "The VBF selection by ATLAS leads to a better classification! (But I'm not sure if we should use their criteria?!)"
   ]
  },
  {
   "cell_type": "markdown",
   "metadata": {},
   "source": [
    "Just trying a deeper network:"
   ]
  },
  {
   "cell_type": "code",
   "execution_count": 75,
   "metadata": {},
   "outputs": [
    {
     "name": "stdout",
     "output_type": "stream",
     "text": [
      "Model: \"sequential_13\"\n",
      "_________________________________________________________________\n",
      "Layer (type)                 Output Shape              Param #   \n",
      "=================================================================\n",
      "dense_99 (Dense)             (None, 512)               15872     \n",
      "_________________________________________________________________\n",
      "activation_99 (Activation)   (None, 512)               0         \n",
      "_________________________________________________________________\n",
      "dense_100 (Dense)            (None, 256)               131328    \n",
      "_________________________________________________________________\n",
      "activation_100 (Activation)  (None, 256)               0         \n",
      "_________________________________________________________________\n",
      "dense_101 (Dense)            (None, 128)               32896     \n",
      "_________________________________________________________________\n",
      "activation_101 (Activation)  (None, 128)               0         \n",
      "_________________________________________________________________\n",
      "dense_102 (Dense)            (None, 64)                8256      \n",
      "_________________________________________________________________\n",
      "activation_102 (Activation)  (None, 64)                0         \n",
      "_________________________________________________________________\n",
      "dense_103 (Dense)            (None, 32)                2080      \n",
      "_________________________________________________________________\n",
      "activation_103 (Activation)  (None, 32)                0         \n",
      "_________________________________________________________________\n",
      "dense_104 (Dense)            (None, 16)                528       \n",
      "_________________________________________________________________\n",
      "activation_104 (Activation)  (None, 16)                0         \n",
      "_________________________________________________________________\n",
      "dense_105 (Dense)            (None, 8)                 136       \n",
      "_________________________________________________________________\n",
      "activation_105 (Activation)  (None, 8)                 0         \n",
      "_________________________________________________________________\n",
      "dense_106 (Dense)            (None, 4)                 36        \n",
      "_________________________________________________________________\n",
      "activation_106 (Activation)  (None, 4)                 0         \n",
      "_________________________________________________________________\n",
      "dense_107 (Dense)            (None, 2)                 10        \n",
      "_________________________________________________________________\n",
      "activation_107 (Activation)  (None, 2)                 0         \n",
      "=================================================================\n",
      "Total params: 191,142\n",
      "Trainable params: 191,142\n",
      "Non-trainable params: 0\n",
      "_________________________________________________________________\n"
     ]
    }
   ],
   "source": [
    "model_5 = Sequential()\n",
    "model_5.add(Dense(512, input_dim=30))\n",
    "model_5.add(Activation('relu'))\n",
    "model_5.add(Dense(256))\n",
    "model_5.add(Activation('relu'))\n",
    "model_5.add(Dense(128))\n",
    "model_5.add(Activation('relu'))\n",
    "model_5.add(Dense(64))\n",
    "model_5.add(Activation('relu'))\n",
    "model_5.add(Dense(32))\n",
    "model_5.add(Activation('relu'))\n",
    "model_5.add(Dense(16))\n",
    "model_5.add(Activation('relu'))\n",
    "model_5.add(Dense(8))\n",
    "model_5.add(Activation('relu'))\n",
    "model_5.add(Dense(4))\n",
    "model_5.add(Activation('relu'))\n",
    "model_5.add(Dense(2))\n",
    "model_5.add(Activation('softmax'))\n",
    "\n",
    "model_5.summary()"
   ]
  },
  {
   "cell_type": "code",
   "execution_count": 76,
   "metadata": {},
   "outputs": [],
   "source": [
    "model_5.compile(optimizer='Adam',\n",
    "              loss='binary_crossentropy',\n",
    "              metrics=['accuracy'])"
   ]
  },
  {
   "cell_type": "code",
   "execution_count": 77,
   "metadata": {},
   "outputs": [
    {
     "name": "stdout",
     "output_type": "stream",
     "text": [
      "Epoch 1/50\n",
      "21257/21257 [==============================] - 1s 48us/step - loss: 0.4886 - accuracy: 0.7649\n",
      "Epoch 2/50\n",
      "21257/21257 [==============================] - 1s 42us/step - loss: 0.4474 - accuracy: 0.7894\n",
      "Epoch 3/50\n",
      "21257/21257 [==============================] - 1s 43us/step - loss: 0.4298 - accuracy: 0.8037\n",
      "Epoch 4/50\n",
      "21257/21257 [==============================] - 1s 51us/step - loss: 0.3934 - accuracy: 0.8208\n",
      "Epoch 5/50\n",
      "21257/21257 [==============================] - 1s 49us/step - loss: 0.3684 - accuracy: 0.8384\n",
      "Epoch 6/50\n",
      "21257/21257 [==============================] - 1s 48us/step - loss: 0.3540 - accuracy: 0.8451\n",
      "Epoch 7/50\n",
      "21257/21257 [==============================] - 1s 63us/step - loss: 0.3368 - accuracy: 0.8536\n",
      "Epoch 8/50\n",
      "21257/21257 [==============================] - 1s 65us/step - loss: 0.3229 - accuracy: 0.8604\n",
      "Epoch 9/50\n",
      "21257/21257 [==============================] - 1s 43us/step - loss: 0.3183 - accuracy: 0.8644\n",
      "Epoch 10/50\n",
      "21257/21257 [==============================] - 1s 41us/step - loss: 0.3091 - accuracy: 0.8669\n",
      "Epoch 11/50\n",
      "21257/21257 [==============================] - 1s 43us/step - loss: 0.2935 - accuracy: 0.8767\n",
      "Epoch 12/50\n",
      "21257/21257 [==============================] - 1s 41us/step - loss: 0.2866 - accuracy: 0.8789\n",
      "Epoch 13/50\n",
      "21257/21257 [==============================] - 1s 41us/step - loss: 0.2864 - accuracy: 0.8796\n",
      "Epoch 14/50\n",
      "21257/21257 [==============================] - 1s 42us/step - loss: 0.2775 - accuracy: 0.8841\n",
      "Epoch 15/50\n",
      "21257/21257 [==============================] - 1s 42us/step - loss: 0.2693 - accuracy: 0.8869\n",
      "Epoch 16/50\n",
      "21257/21257 [==============================] - 1s 43us/step - loss: 0.2682 - accuracy: 0.8886\n",
      "Epoch 17/50\n",
      "21257/21257 [==============================] - 1s 42us/step - loss: 0.2815 - accuracy: 0.8768\n",
      "Epoch 18/50\n",
      "21257/21257 [==============================] - 1s 44us/step - loss: 0.2695 - accuracy: 0.8877\n",
      "Epoch 19/50\n",
      "21257/21257 [==============================] - 1s 44us/step - loss: 0.2484 - accuracy: 0.8954\n",
      "Epoch 20/50\n",
      "21257/21257 [==============================] - 1s 42us/step - loss: 0.2446 - accuracy: 0.8997\n",
      "Epoch 21/50\n",
      "21257/21257 [==============================] - 1s 43us/step - loss: 0.2521 - accuracy: 0.8943\n",
      "Epoch 22/50\n",
      "21257/21257 [==============================] - 1s 61us/step - loss: 0.2398 - accuracy: 0.9006\n",
      "Epoch 23/50\n",
      "21257/21257 [==============================] - 1s 48us/step - loss: 0.2357 - accuracy: 0.9011\n",
      "Epoch 24/50\n",
      "21257/21257 [==============================] - 1s 43us/step - loss: 0.2468 - accuracy: 0.8951\n",
      "Epoch 25/50\n",
      "21257/21257 [==============================] - 1s 44us/step - loss: 0.2307 - accuracy: 0.9035\n",
      "Epoch 26/50\n",
      "21257/21257 [==============================] - 1s 44us/step - loss: 0.2258 - accuracy: 0.9074\n",
      "Epoch 27/50\n",
      "21257/21257 [==============================] - 1s 52us/step - loss: 0.2124 - accuracy: 0.9113\n",
      "Epoch 28/50\n",
      "21257/21257 [==============================] - 1s 45us/step - loss: 0.2097 - accuracy: 0.9135\n",
      "Epoch 29/50\n",
      "21257/21257 [==============================] - 1s 43us/step - loss: 0.1983 - accuracy: 0.9179\n",
      "Epoch 30/50\n",
      "21257/21257 [==============================] - 1s 44us/step - loss: 0.2003 - accuracy: 0.9171\n",
      "Epoch 31/50\n",
      "21257/21257 [==============================] - 1s 43us/step - loss: 0.1994 - accuracy: 0.9167\n",
      "Epoch 32/50\n",
      "21257/21257 [==============================] - 1s 50us/step - loss: 0.1916 - accuracy: 0.9215\n",
      "Epoch 33/50\n",
      "21257/21257 [==============================] - 1s 43us/step - loss: 0.1875 - accuracy: 0.9229\n",
      "Epoch 34/50\n",
      "21257/21257 [==============================] - 1s 42us/step - loss: 0.1825 - accuracy: 0.9247\n",
      "Epoch 35/50\n",
      "21257/21257 [==============================] - 1s 43us/step - loss: 0.1911 - accuracy: 0.9206\n",
      "Epoch 36/50\n",
      "21257/21257 [==============================] - 1s 47us/step - loss: 0.1703 - accuracy: 0.9323\n",
      "Epoch 37/50\n",
      "21257/21257 [==============================] - 1s 43us/step - loss: 0.1728 - accuracy: 0.9279\n",
      "Epoch 38/50\n",
      "21257/21257 [==============================] - 1s 43us/step - loss: 0.1706 - accuracy: 0.9304\n",
      "Epoch 39/50\n",
      "21257/21257 [==============================] - 1s 42us/step - loss: 0.1592 - accuracy: 0.9358 0s - los\n",
      "Epoch 40/50\n",
      "21257/21257 [==============================] - 1s 43us/step - loss: 0.1432 - accuracy: 0.9417\n",
      "Epoch 41/50\n",
      "21257/21257 [==============================] - 1s 43us/step - loss: 0.1476 - accuracy: 0.9397\n",
      "Epoch 42/50\n",
      "21257/21257 [==============================] - 1s 43us/step - loss: 0.1343 - accuracy: 0.9460\n",
      "Epoch 43/50\n",
      "21257/21257 [==============================] - 1s 42us/step - loss: 0.1674 - accuracy: 0.9333\n",
      "Epoch 44/50\n",
      "21257/21257 [==============================] - 1s 45us/step - loss: 0.1316 - accuracy: 0.9461\n",
      "Epoch 45/50\n",
      "21257/21257 [==============================] - 1s 44us/step - loss: 0.1328 - accuracy: 0.9460\n",
      "Epoch 46/50\n",
      "21257/21257 [==============================] - 1s 45us/step - loss: 0.1294 - accuracy: 0.9487\n",
      "Epoch 47/50\n",
      "21257/21257 [==============================] - 1s 48us/step - loss: 0.1373 - accuracy: 0.9456\n",
      "Epoch 48/50\n",
      "21257/21257 [==============================] - 1s 43us/step - loss: 0.1917 - accuracy: 0.9235\n",
      "Epoch 49/50\n",
      "21257/21257 [==============================] - 1s 44us/step - loss: 0.1229 - accuracy: 0.9499\n",
      "Epoch 50/50\n",
      "21257/21257 [==============================] - 1s 42us/step - loss: 0.1129 - accuracy: 0.9554\n"
     ]
    },
    {
     "data": {
      "text/plain": [
       "<keras.callbacks.callbacks.History at 0x1a663e48240>"
      ]
     },
     "execution_count": 77,
     "metadata": {},
     "output_type": "execute_result"
    }
   ],
   "source": [
    "model_5.fit(X_VBF_minmax, y_train_VBF, epochs=50, batch_size=256)"
   ]
  },
  {
   "cell_type": "code",
   "execution_count": 106,
   "metadata": {},
   "outputs": [],
   "source": [
    "y_pred = model_5.predict(X_val_VBF_minmax)"
   ]
  },
  {
   "cell_type": "code",
   "execution_count": 107,
   "metadata": {},
   "outputs": [
    {
     "data": {
      "text/plain": [
       "array([[1.4524959e-01, 8.5475045e-01],\n",
       "       [4.6461681e-01, 5.3538322e-01],\n",
       "       [5.0377105e-07, 9.9999952e-01],\n",
       "       ...,\n",
       "       [5.4415882e-11, 1.0000000e+00],\n",
       "       [1.2036241e-02, 9.8796380e-01],\n",
       "       [6.1196119e-02, 9.3880391e-01]], dtype=float32)"
      ]
     },
     "execution_count": 107,
     "metadata": {},
     "output_type": "execute_result"
    }
   ],
   "source": [
    "y_pred"
   ]
  },
  {
   "cell_type": "code",
   "execution_count": 105,
   "metadata": {},
   "outputs": [
    {
     "data": {
      "text/plain": [
       "(array([ 593.,    0., 7206.,    0.,  690.]),\n",
       " array([-1. , -0.6, -0.2,  0.2,  0.6,  1. ]),\n",
       " <a list of 5 Patch objects>)"
      ]
     },
     "execution_count": 105,
     "metadata": {},
     "output_type": "execute_result"
    },
    {
     "data": {
      "image/png": "[encoded data removed]",
      "text/plain": [
       "<Figure size 432x288 with 1 Axes>"
      ]
     },
     "metadata": {
      "needs_background": "light"
     },
     "output_type": "display_data"
    }
   ],
   "source": [
    "plt.hist(np.argmax(y_pred, axis=1)-np.argmax(y_val_VBF, axis=1), bins=5)"
   ]
  }
 ],
 "metadata": {
  "kernelspec": {
   "display_name": "Python 3",
   "language": "python",
   "name": "python3"
  },
  "language_info": {
   "codemirror_mode": {
    "name": "ipython",
    "version": 3
   },
   "file_extension": ".py",
   "mimetype": "text/x-python",
   "name": "python",
   "nbconvert_exporter": "python",
   "pygments_lexer": "ipython3",
   "version": "3.6.9"
  }
 },
 "nbformat": 4,
 "nbformat_minor": 2
}
